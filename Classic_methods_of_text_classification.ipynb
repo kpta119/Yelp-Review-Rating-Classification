{
  "cells": [
    {
      "cell_type": "markdown",
      "metadata": {
        "id": "KD8xISdCAOKI"
      },
      "source": [
        "# Classic methods of text classification"
      ]
    },
    {
      "cell_type": "markdown",
      "metadata": {
        "id": "9-z5reyCUVLN"
      },
      "source": [
        "### Yelp Review Rating Classification\n",
        "\n",
        "A machine learning project for sentiment analysis and rating prediction of Yelp reviews using TF-IDF feature extraction and neural networks.\n",
        "\n",
        "### Project Overview\n",
        "\n",
        "This project implements a multi-class classification system to predict Yelp review ratings (1-5 stars) based on review text. The solution combines traditional NLP feature extraction methods with neural network classifiers.\n",
        "\n",
        "### Dataset\n",
        "\n",
        "We use the **Yelp Review Full** dataset from Hugging Face:\n",
        "- **Dataset**: [Yelp/yelp_review_full](https://huggingface.co/datasets/Yelp/yelp_review_full)\n",
        "- **Features**:\n",
        "  - `text`: The review text content\n",
        "  - `label`: Rating label (0-4, corresponding to 1-5 stars respectively)\n",
        "\n",
        "### Technical Approach\n",
        "\n",
        "#### Data Preprocessing\n",
        "- Split the original training data to create a dedicated validation set\n",
        "- Applied dataset size constraints (training set limited to 100,000 samples)\n",
        "- Maintained proportional splits for validation and test sets\n",
        "\n",
        "#### Feature Extraction\n",
        "- **TF-IDF (Term Frequency-Inverse Document Frequency)** implementation\n",
        "- **Bag-of-Words** representation using `TfidfVectorizer` from `scikit-learn`\n",
        "- Text vectorization for neural network compatibility\n",
        "\n"
      ]
    },
    {
      "cell_type": "markdown",
      "metadata": {
        "id": "yz1EcTToUUIx"
      },
      "source": [
        "Import libraries"
      ]
    },
    {
      "cell_type": "code",
      "execution_count": 1,
      "metadata": {
        "colab": {
          "base_uri": "https://localhost:8080/"
        },
        "id": "zdGVyE77UU7l",
        "outputId": "00e8fd8d-3849-4707-e327-a8c961199ec4"
      },
      "outputs": [
        {
          "name": "stdout",
          "output_type": "stream",
          "text": [
            "PyTorch version: 2.5.1+cu121\n"
          ]
        }
      ],
      "source": [
        "import torch\n",
        "import numpy as np\n",
        "import matplotlib.pyplot as plt\n",
        "\n",
        "print(f\"PyTorch version: {torch.__version__}\")"
      ]
    },
    {
      "cell_type": "code",
      "execution_count": 2,
      "metadata": {
        "colab": {
          "base_uri": "https://localhost:8080/"
        },
        "id": "9Xfy2mWEW-Vi",
        "outputId": "d8a50d4b-72f5-4419-a538-d6fe12112d09"
      },
      "outputs": [
        {
          "name": "stderr",
          "output_type": "stream",
          "text": [
            "c:\\Users\\kacpe\\AppData\\Local\\Programs\\Python\\Python312\\Lib\\site-packages\\pydantic\\_internal\\_generate_schema.py:2249: UnsupportedFieldAttributeWarning: The 'repr' attribute with value False was provided to the `Field()` function, which has no effect in the context it was used. 'repr' is field-specific metadata, and can only be attached to a model field using `Annotated` metadata or by assignment. This may have happened because an `Annotated` type alias using the `type` statement was used, or if the `Field()` function was attached to a single member of a union type.\n",
            "  warnings.warn(\n",
            "c:\\Users\\kacpe\\AppData\\Local\\Programs\\Python\\Python312\\Lib\\site-packages\\pydantic\\_internal\\_generate_schema.py:2249: UnsupportedFieldAttributeWarning: The 'frozen' attribute with value True was provided to the `Field()` function, which has no effect in the context it was used. 'frozen' is field-specific metadata, and can only be attached to a model field using `Annotated` metadata or by assignment. This may have happened because an `Annotated` type alias using the `type` statement was used, or if the `Field()` function was attached to a single member of a union type.\n",
            "  warnings.warn(\n",
            "\u001b[34m\u001b[1mwandb\u001b[0m: Logging into wandb.ai. (Learn how to deploy a W&B server locally: https://wandb.me/wandb-server)\n",
            "\u001b[34m\u001b[1mwandb\u001b[0m: You can find your API key in your browser here: https://wandb.ai/authorize\n",
            "\u001b[34m\u001b[1mwandb\u001b[0m: Paste an API key from your profile and hit enter:\u001b[34m\u001b[1mwandb\u001b[0m: \u001b[33mWARNING\u001b[0m If you're specifying your api key in code, ensure this code is not shared publicly.\n",
            "\u001b[34m\u001b[1mwandb\u001b[0m: \u001b[33mWARNING\u001b[0m Consider setting the WANDB_API_KEY environment variable, or running `wandb login` from the command line.\n",
            "\u001b[34m\u001b[1mwandb\u001b[0m: No netrc file found, creating one.\n",
            "\u001b[34m\u001b[1mwandb\u001b[0m: Appending key for api.wandb.ai to your netrc file: C:\\Users\\kacpe\\_netrc\n",
            "\u001b[34m\u001b[1mwandb\u001b[0m: Currently logged in as: \u001b[33mkacper-pt119\u001b[0m (\u001b[33mkacper-pt119-warsaw-university-of-technology\u001b[0m) to \u001b[32mhttps://api.wandb.ai\u001b[0m. Use \u001b[1m`wandb login --relogin`\u001b[0m to force relogin\n"
          ]
        },
        {
          "data": {
            "text/plain": [
              "True"
            ]
          },
          "execution_count": 2,
          "metadata": {},
          "output_type": "execute_result"
        }
      ],
      "source": [
        "import wandb\n",
        "\n",
        "# Loging to Weights&Biases website to monitor my experiments\n",
        "wandb.login()"
      ]
    },
    {
      "cell_type": "markdown",
      "metadata": {
        "id": "sjIAG6sjW8Dw"
      },
      "source": [
        "# Load dataset"
      ]
    },
    {
      "cell_type": "code",
      "execution_count": 3,
      "metadata": {
        "colab": {
          "base_uri": "https://localhost:8080/"
        },
        "id": "mqDLYFafW9yC",
        "outputId": "f8916b40-aa87-423f-ffce-67a2f1a13bb1"
      },
      "outputs": [
        {
          "name": "stderr",
          "output_type": "stream",
          "text": [
            "c:\\Users\\kacpe\\AppData\\Local\\Programs\\Python\\Python312\\Lib\\site-packages\\tqdm\\auto.py:21: TqdmWarning: IProgress not found. Please update jupyter and ipywidgets. See https://ipywidgets.readthedocs.io/en/stable/user_install.html\n",
            "  from .autonotebook import tqdm as notebook_tqdm\n"
          ]
        },
        {
          "name": "stdout",
          "output_type": "stream",
          "text": [
            "Test set size: 20000\n",
            "Validation set size: 13000\n",
            "Training set size: 52000\n",
            "\n",
            "Example element from the dataset:\n",
            "sample['text']=\"Monta neighbors Nakamura-Ya, & Raku. With an authentic sushi place to join the strip mall, this is the spot to get some kick-butt Japanese food. Monta is a ramen-specialty restaurant that is not to be skipped!\\\\n\\\\nRAMEN: Their menu is small but mighty. What kind of ramen you like? Miso, Shoyu, or Tonkatsu? They come with thin slices of char-siu pork. Ichiza actually has my favorite char-siu.... but Monta's is a solid second. Overall, the ramen here is far superior anyway. There's also a variety of toppings you can add for an additional cost. Generally, I order the same thing every time: Miso Ramen w/ Egg & Nori. YUM! I've sampled every type of soup but Miso is my favorite. The broth is rich & flavorful and I can't find it as good anywhere else.\\\\n\\\\nAPPETIZERS: If fish eggs are your thing, Monta has the freshest Mentaiko in Las Vegas. Order a Mini Mentaiko Bowl (Rice, Mentaiko, Scallion)--throw some soy sauce & togarashi on it as a delicious starter. Gyoza here are good too but nothing to get excited over.\\\\n\\\\nOTHER: There's a board on the wall that has the other entree items. On different occasions I've seen some type of cold noodles, rice bowls, and fried rice. My memory fails to remember the rest but so far none of them interested me enough to try. A client of mine recommended to try the cold noodles.... maybe next time.\\\\n\\\\nCome for the Ramen, Stay for the Ramen, Come Back for the Ramen--good eats.\"\n",
            "sample['label']=4\n"
          ]
        }
      ],
      "source": [
        "from datasets import load_dataset\n",
        "\n",
        "ds = load_dataset(\"Yelp/yelp_review_full\")\n",
        "\n",
        "test_dataset = ds[\"test\"]\n",
        "splitted_dataset = ds[\"train\"].train_test_split(test_size=0.2)\n",
        "train_dataset = splitted_dataset[\"train\"]\n",
        "val_dataset = splitted_dataset[\"test\"]\n",
        "\n",
        "# Create smaller data subsets\n",
        "train_dataset = train_dataset.shuffle().select(range(int(len(train_dataset)*0.1)))\n",
        "val_dataset = val_dataset.shuffle().select(range(int(len(val_dataset)*0.1)))\n",
        "test_dataset = test_dataset.shuffle().select(range(int(len(test_dataset)*0.4)))\n",
        "\n",
        "print(f\"Test set size: {len(test_dataset)}\")\n",
        "print(f\"Validation set size: {len(val_dataset)}\")\n",
        "print(f\"Training set size: {len(train_dataset)}\")\n",
        "\n",
        "sample = train_dataset[123]\n",
        "print(f\"\\nExample element from the dataset:\")\n",
        "print(f\"{sample['text']=}\")\n",
        "print(f\"{sample['label']=}\")"
      ]
    },
    {
      "cell_type": "code",
      "execution_count": 4,
      "metadata": {
        "colab": {
          "base_uri": "https://localhost:8080/",
          "height": 472
        },
        "id": "fifOwsXEXGvJ",
        "outputId": "139bc12e-080e-45d8-8f71-e4dfafe49e60"
      },
      "outputs": [
        {
          "data": {
            "image/png": "[encoded data removed]",
            "text/plain": [
              "<Figure size 640x480 with 1 Axes>"
            ]
          },
          "metadata": {},
          "output_type": "display_data"
        }
      ],
      "source": [
        "unique_labels, counts = np.unique(train_dataset[\"label\"], return_counts=True)\n",
        "\n",
        "plt.bar(unique_labels, counts, color=[\"red\", \"lightcoral\", \"bisque\", \"limegreen\", \"green\"], edgecolor='black')\n",
        "plt.title('Histogram of Labels')\n",
        "plt.xlabel('Label')\n",
        "plt.ylabel('Frequency')\n",
        "plt.xticks(unique_labels)\n",
        "plt.grid(axis='y', linestyle='--', alpha=0.8)\n",
        "plt.show()"
      ]
    },
    {
      "cell_type": "code",
      "execution_count": 5,
      "metadata": {
        "colab": {
          "base_uri": "https://localhost:8080/"
        },
        "id": "yUSQNPNJNi-Z",
        "outputId": "5db16b28-75e2-4969-b302-9390fd6e9745"
      },
      "outputs": [
        {
          "name": "stdout",
          "output_type": "stream",
          "text": [
            "TF-IDF matrix size for training set: (52000, 10000)\n",
            "train_tfidf_features.dtype=dtype('float64')\n",
            "\n",
            "Number of features: 10000\n",
            "Example features: ['queens' 'surgery' 'guns' 'nserver' 'concoctions' 'aus' 'u00fcr'\n",
            " 'oriental' 'bouchon' 'worst' 'circuit' 'certainly' 'vegan' 'prices'\n",
            " 'curiosity' 'pit' 'guessing' 'detroit' 'moon' 'scene']\n",
            "\n"
          ]
        }
      ],
      "source": [
        "from sklearn.feature_extraction.text import TfidfVectorizer\n",
        "from sklearn import metrics\n",
        "from tqdm import tqdm\n",
        "\n",
        "vocab_size = 10000\n",
        "\n",
        "vectorizer = TfidfVectorizer(\n",
        "    max_features=vocab_size,\n",
        "    lowercase=True,\n",
        "    analyzer='word',\n",
        "    ngram_range=(1, 1),\n",
        "    stop_words=\"english\"\n",
        ")\n",
        "\n",
        "# Feature extraction\n",
        "train_tfidf_features = vectorizer.fit_transform(train_dataset[\"text\"])\n",
        "# On validation and test sets we use transform() function which extracts the same features as on the training set\n",
        "val_tfidf_features = vectorizer.transform(val_dataset[\"text\"])\n",
        "test_tfidf_features = vectorizer.transform(test_dataset[\"text\"])\n",
        "\n",
        "print(f\"TF-IDF matrix size for training set: {train_tfidf_features.shape}\")\n",
        "print(f\"{train_tfidf_features.dtype=}\\n\")\n",
        "\n",
        "feature_names = vectorizer.get_feature_names_out()\n",
        "print(f\"Number of features: {len(feature_names)}\")\n",
        "print(f\"Example features: {np.random.choice(feature_names, 20)}\\n\")"
      ]
    },
    {
      "cell_type": "code",
      "execution_count": 6,
      "metadata": {
        "colab": {
          "base_uri": "https://localhost:8080/",
          "height": 582
        },
        "id": "zN9cgL00Ofnq",
        "outputId": "1fd8ecde-6d3d-4649-d1e9-0f1460ec1bee"
      },
      "outputs": [
        {
          "name": "stdout",
          "output_type": "stream",
          "text": [
            "Average number of non-zero features in samples: 47.87\n"
          ]
        },
        {
          "data": {
            "image/png": "[encoded data removed]",
            "text/plain": [
              "<Figure size 800x600 with 1 Axes>"
            ]
          },
          "metadata": {},
          "output_type": "display_data"
        }
      ],
      "source": [
        "non_zero_counts = np.diff(train_tfidf_features.indptr)\n",
        "print(f\"Average number of non-zero features in samples: {non_zero_counts.mean():.2f}\")\n",
        "\n",
        "# Plot histogram\n",
        "plt.figure(figsize=(8, 6))\n",
        "plt.hist(non_zero_counts, bins=64)\n",
        "plt.title('Histogram of number of non-zero features per sample')\n",
        "plt.xlabel('Number of non-zero features')\n",
        "plt.ylabel('Number of samples')\n",
        "plt.grid(axis='y', linestyle='--', alpha=0.7)"
      ]
    },
    {
      "cell_type": "code",
      "execution_count": 7,
      "metadata": {
        "id": "cSIl0gicQ1kX"
      },
      "outputs": [],
      "source": [
        "import torch\n",
        "from torch.utils.data import TensorDataset, DataLoader\n",
        "\n",
        "# Create appropriate datasets using tfidf matrices\n",
        "def make_dataset(tfidf_matrix, labels):\n",
        "  dense_features = tfidf_matrix.astype(np.float32).todense()\n",
        "  dataset = TensorDataset(torch.tensor(dense_features), torch.tensor(labels, dtype=torch.int64))\n",
        "  return dataset\n",
        "\n",
        "datasets = {\n",
        "    \"train\": make_dataset(train_tfidf_features, train_dataset[\"label\"]),\n",
        "    \"val\": make_dataset(val_tfidf_features, val_dataset[\"label\"]),\n",
        "    \"test\": make_dataset(test_tfidf_features, test_dataset[\"label\"])\n",
        "}\n",
        "\n",
        "\n",
        "train_loader = DataLoader(datasets[\"train\"], shuffle=True, batch_size=512)\n",
        "val_loader = DataLoader(datasets[\"val\"], shuffle=False, batch_size=512)\n",
        "test_loader = DataLoader(datasets[\"test\"], shuffle=False, batch_size=512)\n",
        "\n",
        "loaders = {\"train\" : train_loader,\n",
        "           \"val\": val_loader,\n",
        "           \"test\": test_loader}"
      ]
    },
    {
      "cell_type": "code",
      "execution_count": 8,
      "metadata": {
        "id": "2CNuWbD0WdmV"
      },
      "outputs": [],
      "source": [
        "import torch.nn as nn\n",
        "\n",
        "# Different architectures\n",
        "class SimpleNet(nn.Module):\n",
        "  def __init__(self, vocab_size: int, num_classes: int):\n",
        "     super().__init__()\n",
        "     self.fc1 = nn.Linear(vocab_size, 128)\n",
        "     self.fc2 = nn.Linear(128, num_classes)\n",
        "     self.relu = nn.ReLU()\n",
        "     self.batchNorm1 = nn.BatchNorm1d(128)\n",
        "     self.dropout = nn.Dropout(0.2)\n",
        "\n",
        "  def forward(self, x):\n",
        "    x = self.dropout(self.relu(self.batchNorm1(self.fc1(x))))\n",
        "    logits = self.dropout(self.relu(self.fc2(x)))\n",
        "    return logits\n",
        "\n",
        "\n",
        "class MediumNet(nn.Module):\n",
        "  def __init__(self, vocab_size: int, num_classes: int):\n",
        "     super().__init__()\n",
        "     self.fc1 = nn.Linear(vocab_size, 256)\n",
        "     self.fc2 = nn.Linear(256, 128)\n",
        "     self.fc3 = nn.Linear(128, num_classes)\n",
        "     self.relu = nn.ReLU()\n",
        "     self.dropout = nn.Dropout(0.2)\n",
        "     self.batchNorm1 = nn.BatchNorm1d(256)\n",
        "     self.batchNorm2 = nn.BatchNorm1d(128)\n",
        "\n",
        "  def forward(self, x):\n",
        "    x = self.dropout(self.relu(self.batchNorm1(self.fc1(x))))\n",
        "    x = self.dropout(self.relu(self.batchNorm2(self.fc2(x))))\n",
        "    logits = self.fc3(x)\n",
        "    return logits\n",
        "\n",
        "class LargeNet(nn.Module):\n",
        "  def __init__(self, vocab_size: int, num_classes: int):\n",
        "    super().__init__()\n",
        "    self.fc1 = nn.Linear(vocab_size, 512)\n",
        "    self.fc2 = nn.Linear(512, 256)\n",
        "    self.fc3 = nn.Linear(256, 128)\n",
        "    self.fc4 = nn.Linear(128, num_classes)\n",
        "    self.relu = nn.ReLU()\n",
        "    self.dropout = nn.Dropout(0.2)\n",
        "    self.batchNorm1 = nn.BatchNorm1d(512)\n",
        "    self.batchNorm2 = nn.BatchNorm1d(256)\n",
        "    self.batchNorm3 = nn.BatchNorm1d(128)\n",
        "\n",
        "  def forward(self, x):\n",
        "    x = self.dropout(self.relu(self.batchNorm1(self.fc1(x))))\n",
        "    x = self.dropout(self.relu(self.batchNorm2(self.fc2(x))))\n",
        "    x = self.dropout(self.relu(self.batchNorm3(self.fc3(x))))\n",
        "    logits = self.fc4(x)\n",
        "    return logits"
      ]
    },
    {
      "cell_type": "code",
      "execution_count": 27,
      "metadata": {
        "id": "M-CeFJOMX0Vm"
      },
      "outputs": [],
      "source": [
        "import torchmetrics\n",
        "\n",
        "# Training Loop\n",
        "def train(model: nn.Module, loaders: dict[DataLoader], criterion: nn.Module,\n",
        "          optimizer: torch.optim.Optimizer, lr_scheduler, num_epochs: int, device):\n",
        "\n",
        "  metric_loss = torchmetrics.aggregation.MeanMetric().to(device)\n",
        "  metric_acc = torchmetrics.classification.Accuracy(task=\"multiclass\", num_classes=5).to(device)\n",
        "  earlyStopping = EarlyStopping(patience=5, delta=0.0001)\n",
        "\n",
        "  # Run all epochs\n",
        "  for epoch in range(1, num_epochs+1):\n",
        "    for phase in ['train', 'val']:\n",
        "        if phase == 'train':\n",
        "            model.train()\n",
        "        else:\n",
        "            model.eval()\n",
        "\n",
        "        for X_batch, target in tqdm(loaders[phase]):\n",
        "            X_batch, target = X_batch.to(device), target.to(device)\n",
        "            optimizer.zero_grad()\n",
        "\n",
        "            with torch.set_grad_enabled(phase == 'train'):\n",
        "                logits = model(X_batch)\n",
        "                _, preds = torch.max(logits, dim=1)\n",
        "                loss = criterion(logits, target)\n",
        "\n",
        "                metric_loss(loss)\n",
        "                metric_acc(preds, target)\n",
        "\n",
        "                if phase == 'train':\n",
        "                    loss.backward()\n",
        "                    optimizer.step()\n",
        "\n",
        "        accuracy = metric_acc.compute()\n",
        "        mean_loss = metric_loss.compute()\n",
        "\n",
        "        current_lr = lr_scheduler.get_last_lr()[0]\n",
        "        print(f\"(Epoch {epoch}/[{phase}]) Loss:\\t{mean_loss:.3f}   Accuracy: {accuracy:.3f}   lr: {current_lr}\")\n",
        "        metrics = {\n",
        "            f\"{phase}/loss\": mean_loss,\n",
        "            f\"{phase}/accuracy\": accuracy,\n",
        "            f\"{phase}/lr\": current_lr,\n",
        "        }\n",
        "        wandb.log(metrics, step=epoch)\n",
        "\n",
        "        metric_loss.reset()\n",
        "        metric_acc.reset()\n",
        "\n",
        "    earlyStopping(mean_loss, model)\n",
        "    if earlyStopping.early_stop:\n",
        "      print(f\"{20*'-'}Early stopping{20*'-'}\")\n",
        "      break\n",
        "    lr_scheduler.step()\n",
        "\n",
        "  earlyStopping.load_best_model(model)\n",
        "\n",
        "class EarlyStopping:\n",
        "    def __init__(self, patience=5, delta=0):\n",
        "        self.patience = patience\n",
        "        self.delta = delta\n",
        "        self.best_score = None\n",
        "        self.counter = 0\n",
        "        self.early_stop = False\n",
        "        self.best_model_state = None\n",
        "\n",
        "    def __call__(self, val_loss, model):\n",
        "        if self.best_score is None:\n",
        "            self.best_score = val_loss\n",
        "            self.best_model_state = model.state_dict()\n",
        "        elif val_loss > self.best_score + self.delta:\n",
        "            self.counter += 1\n",
        "            if self.counter >= self.patience:\n",
        "                self.early_stop = True\n",
        "        else:\n",
        "            self.best_score = val_loss\n",
        "            self.best_model_state = model.state_dict()\n",
        "            self.counter = 0\n",
        "\n",
        "    def load_best_model(self, model):\n",
        "        model.load_state_dict(self.best_model_state)\n",
        "\n",
        "\n"
      ]
    },
    {
      "cell_type": "code",
      "execution_count": 48,
      "metadata": {
        "colab": {
          "base_uri": "https://localhost:8080/",
          "height": 1000
        },
        "id": "n0_4hBwaZ2DT",
        "outputId": "349046f5-97f1-4647-abe6-b63a293c8130"
      },
      "outputs": [
        {
          "name": "stdout",
          "output_type": "stream",
          "text": [
            "Trenowanie modelu: model1\n"
          ]
        },
        {
          "data": {
            "text/html": [],
            "text/plain": [
              "<IPython.core.display.HTML object>"
            ]
          },
          "metadata": {},
          "output_type": "display_data"
        },
        {
          "data": {
            "text/html": [
              "Tracking run with wandb version 0.22.2"
            ],
            "text/plain": [
              "<IPython.core.display.HTML object>"
            ]
          },
          "metadata": {},
          "output_type": "display_data"
        },
        {
          "data": {
            "text/html": [
              "Run data is saved locally in <code>f:\\Users\\Kacper Ptaszek\\Studia-LLM\\wandb\\run-20251017_151247-qt4q7o2b</code>"
            ],
            "text/plain": [
              "<IPython.core.display.HTML object>"
            ]
          },
          "metadata": {},
          "output_type": "display_data"
        },
        {
          "data": {
            "text/html": [
              "Syncing run <strong><a href='https://wandb.ai/kacper-pt119-warsaw-university-of-technology/3DifferentNeuralNetsExperiments_v19/runs/qt4q7o2b' target=\"_blank\">model1</a></strong> to <a href='https://wandb.ai/kacper-pt119-warsaw-university-of-technology/3DifferentNeuralNetsExperiments_v19' target=\"_blank\">Weights & Biases</a> (<a href='https://wandb.me/developer-guide' target=\"_blank\">docs</a>)<br>"
            ],
            "text/plain": [
              "<IPython.core.display.HTML object>"
            ]
          },
          "metadata": {},
          "output_type": "display_data"
        },
        {
          "data": {
            "text/html": [
              " View project at <a href='https://wandb.ai/kacper-pt119-warsaw-university-of-technology/3DifferentNeuralNetsExperiments_v19' target=\"_blank\">https://wandb.ai/kacper-pt119-warsaw-university-of-technology/3DifferentNeuralNetsExperiments_v19</a>"
            ],
            "text/plain": [
              "<IPython.core.display.HTML object>"
            ]
          },
          "metadata": {},
          "output_type": "display_data"
        },
        {
          "data": {
            "text/html": [
              " View run at <a href='https://wandb.ai/kacper-pt119-warsaw-university-of-technology/3DifferentNeuralNetsExperiments_v19/runs/qt4q7o2b' target=\"_blank\">https://wandb.ai/kacper-pt119-warsaw-university-of-technology/3DifferentNeuralNetsExperiments_v19/runs/qt4q7o2b</a>"
            ],
            "text/plain": [
              "<IPython.core.display.HTML object>"
            ]
          },
          "metadata": {},
          "output_type": "display_data"
        },
        {
          "name": "stderr",
          "output_type": "stream",
          "text": [
            "100%|██████████| 102/102 [00:02<00:00, 47.82it/s]\n"
          ]
        },
        {
          "name": "stdout",
          "output_type": "stream",
          "text": [
            "(Epoch 1/[train]) Loss:\t1.601   Accuracy: 0.243   lr: 0.003\n"
          ]
        },
        {
          "name": "stderr",
          "output_type": "stream",
          "text": [
            "100%|██████████| 26/26 [00:00<00:00, 58.19it/s]\n"
          ]
        },
        {
          "name": "stdout",
          "output_type": "stream",
          "text": [
            "(Epoch 1/[val]) Loss:\t1.568   Accuracy: 0.317   lr: 0.003\n"
          ]
        },
        {
          "name": "stderr",
          "output_type": "stream",
          "text": [
            "100%|██████████| 102/102 [00:01<00:00, 52.06it/s]\n"
          ]
        },
        {
          "name": "stdout",
          "output_type": "stream",
          "text": [
            "(Epoch 2/[train]) Loss:\t1.534   Accuracy: 0.329   lr: 0.003\n"
          ]
        },
        {
          "name": "stderr",
          "output_type": "stream",
          "text": [
            "100%|██████████| 26/26 [00:00<00:00, 58.16it/s]\n"
          ]
        },
        {
          "name": "stdout",
          "output_type": "stream",
          "text": [
            "(Epoch 2/[val]) Loss:\t1.483   Accuracy: 0.408   lr: 0.003\n"
          ]
        },
        {
          "name": "stderr",
          "output_type": "stream",
          "text": [
            "100%|██████████| 102/102 [00:01<00:00, 52.69it/s]\n"
          ]
        },
        {
          "name": "stdout",
          "output_type": "stream",
          "text": [
            "(Epoch 3/[train]) Loss:\t1.466   Accuracy: 0.384   lr: 0.003\n"
          ]
        },
        {
          "name": "stderr",
          "output_type": "stream",
          "text": [
            "100%|██████████| 26/26 [00:00<00:00, 57.94it/s]\n"
          ]
        },
        {
          "name": "stdout",
          "output_type": "stream",
          "text": [
            "(Epoch 3/[val]) Loss:\t1.412   Accuracy: 0.447   lr: 0.003\n"
          ]
        },
        {
          "name": "stderr",
          "output_type": "stream",
          "text": [
            "100%|██████████| 102/102 [00:02<00:00, 48.98it/s]\n"
          ]
        },
        {
          "name": "stdout",
          "output_type": "stream",
          "text": [
            "(Epoch 4/[train]) Loss:\t1.408   Accuracy: 0.419   lr: 0.003\n"
          ]
        },
        {
          "name": "stderr",
          "output_type": "stream",
          "text": [
            "100%|██████████| 26/26 [00:00<00:00, 60.89it/s]\n"
          ]
        },
        {
          "name": "stdout",
          "output_type": "stream",
          "text": [
            "(Epoch 4/[val]) Loss:\t1.356   Accuracy: 0.474   lr: 0.003\n"
          ]
        },
        {
          "name": "stderr",
          "output_type": "stream",
          "text": [
            "100%|██████████| 102/102 [00:01<00:00, 53.04it/s]\n"
          ]
        },
        {
          "name": "stdout",
          "output_type": "stream",
          "text": [
            "(Epoch 5/[train]) Loss:\t1.365   Accuracy: 0.440   lr: 0.003\n"
          ]
        },
        {
          "name": "stderr",
          "output_type": "stream",
          "text": [
            "100%|██████████| 26/26 [00:00<00:00, 53.91it/s]\n"
          ]
        },
        {
          "name": "stdout",
          "output_type": "stream",
          "text": [
            "(Epoch 5/[val]) Loss:\t1.312   Accuracy: 0.491   lr: 0.003\n"
          ]
        },
        {
          "name": "stderr",
          "output_type": "stream",
          "text": [
            "100%|██████████| 102/102 [00:01<00:00, 52.87it/s]\n"
          ]
        },
        {
          "name": "stdout",
          "output_type": "stream",
          "text": [
            "(Epoch 6/[train]) Loss:\t1.331   Accuracy: 0.459   lr: 0.003\n"
          ]
        },
        {
          "name": "stderr",
          "output_type": "stream",
          "text": [
            "100%|██████████| 26/26 [00:00<00:00, 56.35it/s]\n"
          ]
        },
        {
          "name": "stdout",
          "output_type": "stream",
          "text": [
            "(Epoch 6/[val]) Loss:\t1.279   Accuracy: 0.501   lr: 0.003\n"
          ]
        },
        {
          "name": "stderr",
          "output_type": "stream",
          "text": [
            "100%|██████████| 102/102 [00:01<00:00, 52.98it/s]\n"
          ]
        },
        {
          "name": "stdout",
          "output_type": "stream",
          "text": [
            "(Epoch 7/[train]) Loss:\t1.307   Accuracy: 0.471   lr: 0.003\n"
          ]
        },
        {
          "name": "stderr",
          "output_type": "stream",
          "text": [
            "100%|██████████| 26/26 [00:00<00:00, 58.72it/s]\n"
          ]
        },
        {
          "name": "stdout",
          "output_type": "stream",
          "text": [
            "(Epoch 7/[val]) Loss:\t1.254   Accuracy: 0.509   lr: 0.003\n"
          ]
        },
        {
          "name": "stderr",
          "output_type": "stream",
          "text": [
            "100%|██████████| 102/102 [00:01<00:00, 53.18it/s]\n"
          ]
        },
        {
          "name": "stdout",
          "output_type": "stream",
          "text": [
            "(Epoch 8/[train]) Loss:\t1.280   Accuracy: 0.488   lr: 0.003\n"
          ]
        },
        {
          "name": "stderr",
          "output_type": "stream",
          "text": [
            "100%|██████████| 26/26 [00:00<00:00, 58.24it/s]\n"
          ]
        },
        {
          "name": "stdout",
          "output_type": "stream",
          "text": [
            "(Epoch 8/[val]) Loss:\t1.234   Accuracy: 0.517   lr: 0.003\n"
          ]
        },
        {
          "name": "stderr",
          "output_type": "stream",
          "text": [
            "100%|██████████| 102/102 [00:01<00:00, 53.50it/s]\n"
          ]
        },
        {
          "name": "stdout",
          "output_type": "stream",
          "text": [
            "(Epoch 9/[train]) Loss:\t1.260   Accuracy: 0.498   lr: 0.003\n"
          ]
        },
        {
          "name": "stderr",
          "output_type": "stream",
          "text": [
            "100%|██████████| 26/26 [00:00<00:00, 56.57it/s]\n"
          ]
        },
        {
          "name": "stdout",
          "output_type": "stream",
          "text": [
            "(Epoch 9/[val]) Loss:\t1.217   Accuracy: 0.524   lr: 0.003\n"
          ]
        },
        {
          "name": "stderr",
          "output_type": "stream",
          "text": [
            "100%|██████████| 102/102 [00:02<00:00, 48.74it/s]\n"
          ]
        },
        {
          "name": "stdout",
          "output_type": "stream",
          "text": [
            "(Epoch 10/[train]) Loss:\t1.244   Accuracy: 0.504   lr: 0.003\n"
          ]
        },
        {
          "name": "stderr",
          "output_type": "stream",
          "text": [
            "100%|██████████| 26/26 [00:00<00:00, 55.71it/s]\n"
          ]
        },
        {
          "name": "stdout",
          "output_type": "stream",
          "text": [
            "(Epoch 10/[val]) Loss:\t1.204   Accuracy: 0.528   lr: 0.003\n"
          ]
        },
        {
          "name": "stderr",
          "output_type": "stream",
          "text": [
            "100%|██████████| 102/102 [00:01<00:00, 52.99it/s]\n"
          ]
        },
        {
          "name": "stdout",
          "output_type": "stream",
          "text": [
            "(Epoch 11/[train]) Loss:\t1.231   Accuracy: 0.513   lr: 0.003\n"
          ]
        },
        {
          "name": "stderr",
          "output_type": "stream",
          "text": [
            "100%|██████████| 26/26 [00:00<00:00, 58.27it/s]\n"
          ]
        },
        {
          "name": "stdout",
          "output_type": "stream",
          "text": [
            "(Epoch 11/[val]) Loss:\t1.193   Accuracy: 0.531   lr: 0.003\n"
          ]
        },
        {
          "name": "stderr",
          "output_type": "stream",
          "text": [
            "100%|██████████| 102/102 [00:01<00:00, 53.12it/s]\n"
          ]
        },
        {
          "name": "stdout",
          "output_type": "stream",
          "text": [
            "(Epoch 12/[train]) Loss:\t1.216   Accuracy: 0.518   lr: 0.003\n"
          ]
        },
        {
          "name": "stderr",
          "output_type": "stream",
          "text": [
            "100%|██████████| 26/26 [00:00<00:00, 58.12it/s]\n"
          ]
        },
        {
          "name": "stdout",
          "output_type": "stream",
          "text": [
            "(Epoch 12/[val]) Loss:\t1.184   Accuracy: 0.533   lr: 0.003\n"
          ]
        },
        {
          "name": "stderr",
          "output_type": "stream",
          "text": [
            "100%|██████████| 102/102 [00:01<00:00, 52.96it/s]\n"
          ]
        },
        {
          "name": "stdout",
          "output_type": "stream",
          "text": [
            "(Epoch 13/[train]) Loss:\t1.200   Accuracy: 0.532   lr: 0.003\n"
          ]
        },
        {
          "name": "stderr",
          "output_type": "stream",
          "text": [
            "100%|██████████| 26/26 [00:00<00:00, 55.92it/s]\n"
          ]
        },
        {
          "name": "stdout",
          "output_type": "stream",
          "text": [
            "(Epoch 13/[val]) Loss:\t1.176   Accuracy: 0.536   lr: 0.003\n"
          ]
        },
        {
          "name": "stderr",
          "output_type": "stream",
          "text": [
            "100%|██████████| 102/102 [00:01<00:00, 52.16it/s]\n"
          ]
        },
        {
          "name": "stdout",
          "output_type": "stream",
          "text": [
            "(Epoch 14/[train]) Loss:\t1.193   Accuracy: 0.536   lr: 0.003\n"
          ]
        },
        {
          "name": "stderr",
          "output_type": "stream",
          "text": [
            "100%|██████████| 26/26 [00:00<00:00, 55.37it/s]\n"
          ]
        },
        {
          "name": "stdout",
          "output_type": "stream",
          "text": [
            "(Epoch 14/[val]) Loss:\t1.170   Accuracy: 0.538   lr: 0.003\n"
          ]
        },
        {
          "name": "stderr",
          "output_type": "stream",
          "text": [
            "100%|██████████| 102/102 [00:01<00:00, 52.78it/s]\n"
          ]
        },
        {
          "name": "stdout",
          "output_type": "stream",
          "text": [
            "(Epoch 15/[train]) Loss:\t1.181   Accuracy: 0.541   lr: 0.003\n"
          ]
        },
        {
          "name": "stderr",
          "output_type": "stream",
          "text": [
            "100%|██████████| 26/26 [00:00<00:00, 57.53it/s]\n"
          ]
        },
        {
          "name": "stdout",
          "output_type": "stream",
          "text": [
            "(Epoch 15/[val]) Loss:\t1.165   Accuracy: 0.538   lr: 0.003\n"
          ]
        },
        {
          "name": "stderr",
          "output_type": "stream",
          "text": [
            "100%|██████████| 102/102 [00:01<00:00, 53.84it/s]\n"
          ]
        },
        {
          "name": "stdout",
          "output_type": "stream",
          "text": [
            "(Epoch 16/[train]) Loss:\t1.170   Accuracy: 0.545   lr: 0.0027\n"
          ]
        },
        {
          "name": "stderr",
          "output_type": "stream",
          "text": [
            "100%|██████████| 26/26 [00:00<00:00, 58.84it/s]\n"
          ]
        },
        {
          "name": "stdout",
          "output_type": "stream",
          "text": [
            "(Epoch 16/[val]) Loss:\t1.159   Accuracy: 0.539   lr: 0.0027\n"
          ]
        },
        {
          "name": "stderr",
          "output_type": "stream",
          "text": [
            "100%|██████████| 102/102 [00:02<00:00, 48.98it/s]\n"
          ]
        },
        {
          "name": "stdout",
          "output_type": "stream",
          "text": [
            "(Epoch 17/[train]) Loss:\t1.159   Accuracy: 0.553   lr: 0.0027\n"
          ]
        },
        {
          "name": "stderr",
          "output_type": "stream",
          "text": [
            "100%|██████████| 26/26 [00:00<00:00, 57.99it/s]\n"
          ]
        },
        {
          "name": "stdout",
          "output_type": "stream",
          "text": [
            "(Epoch 17/[val]) Loss:\t1.157   Accuracy: 0.540   lr: 0.0027\n"
          ]
        },
        {
          "name": "stderr",
          "output_type": "stream",
          "text": [
            "100%|██████████| 102/102 [00:01<00:00, 53.15it/s]\n"
          ]
        },
        {
          "name": "stdout",
          "output_type": "stream",
          "text": [
            "(Epoch 18/[train]) Loss:\t1.151   Accuracy: 0.557   lr: 0.0027\n"
          ]
        },
        {
          "name": "stderr",
          "output_type": "stream",
          "text": [
            "100%|██████████| 26/26 [00:00<00:00, 53.67it/s]\n"
          ]
        },
        {
          "name": "stdout",
          "output_type": "stream",
          "text": [
            "(Epoch 18/[val]) Loss:\t1.153   Accuracy: 0.540   lr: 0.0027\n"
          ]
        },
        {
          "name": "stderr",
          "output_type": "stream",
          "text": [
            "100%|██████████| 102/102 [00:01<00:00, 52.92it/s]\n"
          ]
        },
        {
          "name": "stdout",
          "output_type": "stream",
          "text": [
            "(Epoch 19/[train]) Loss:\t1.140   Accuracy: 0.562   lr: 0.0027\n"
          ]
        },
        {
          "name": "stderr",
          "output_type": "stream",
          "text": [
            "100%|██████████| 26/26 [00:00<00:00, 55.45it/s]\n"
          ]
        },
        {
          "name": "stdout",
          "output_type": "stream",
          "text": [
            "(Epoch 19/[val]) Loss:\t1.150   Accuracy: 0.542   lr: 0.0027\n"
          ]
        },
        {
          "name": "stderr",
          "output_type": "stream",
          "text": [
            "100%|██████████| 102/102 [00:01<00:00, 52.45it/s]\n"
          ]
        },
        {
          "name": "stdout",
          "output_type": "stream",
          "text": [
            "(Epoch 20/[train]) Loss:\t1.135   Accuracy: 0.563   lr: 0.0027\n"
          ]
        },
        {
          "name": "stderr",
          "output_type": "stream",
          "text": [
            "100%|██████████| 26/26 [00:00<00:00, 57.24it/s]\n"
          ]
        },
        {
          "name": "stdout",
          "output_type": "stream",
          "text": [
            "(Epoch 20/[val]) Loss:\t1.148   Accuracy: 0.543   lr: 0.0027\n"
          ]
        },
        {
          "name": "stderr",
          "output_type": "stream",
          "text": [
            "100%|██████████| 102/102 [00:01<00:00, 53.49it/s]\n"
          ]
        },
        {
          "name": "stdout",
          "output_type": "stream",
          "text": [
            "(Epoch 21/[train]) Loss:\t1.130   Accuracy: 0.567   lr: 0.0027\n"
          ]
        },
        {
          "name": "stderr",
          "output_type": "stream",
          "text": [
            "100%|██████████| 26/26 [00:00<00:00, 57.23it/s]\n"
          ]
        },
        {
          "name": "stdout",
          "output_type": "stream",
          "text": [
            "(Epoch 21/[val]) Loss:\t1.145   Accuracy: 0.543   lr: 0.0027\n"
          ]
        },
        {
          "name": "stderr",
          "output_type": "stream",
          "text": [
            "100%|██████████| 102/102 [00:02<00:00, 49.53it/s]\n"
          ]
        },
        {
          "name": "stdout",
          "output_type": "stream",
          "text": [
            "(Epoch 22/[train]) Loss:\t1.118   Accuracy: 0.574   lr: 0.0027\n"
          ]
        },
        {
          "name": "stderr",
          "output_type": "stream",
          "text": [
            "100%|██████████| 26/26 [00:00<00:00, 57.72it/s]\n"
          ]
        },
        {
          "name": "stdout",
          "output_type": "stream",
          "text": [
            "(Epoch 22/[val]) Loss:\t1.144   Accuracy: 0.544   lr: 0.0027\n"
          ]
        },
        {
          "name": "stderr",
          "output_type": "stream",
          "text": [
            "100%|██████████| 102/102 [00:01<00:00, 52.07it/s]\n"
          ]
        },
        {
          "name": "stdout",
          "output_type": "stream",
          "text": [
            "(Epoch 23/[train]) Loss:\t1.105   Accuracy: 0.582   lr: 0.0027\n"
          ]
        },
        {
          "name": "stderr",
          "output_type": "stream",
          "text": [
            "100%|██████████| 26/26 [00:00<00:00, 56.89it/s]\n"
          ]
        },
        {
          "name": "stdout",
          "output_type": "stream",
          "text": [
            "(Epoch 23/[val]) Loss:\t1.142   Accuracy: 0.545   lr: 0.0027\n"
          ]
        },
        {
          "name": "stderr",
          "output_type": "stream",
          "text": [
            "100%|██████████| 102/102 [00:01<00:00, 53.23it/s]\n"
          ]
        },
        {
          "name": "stdout",
          "output_type": "stream",
          "text": [
            "(Epoch 24/[train]) Loss:\t1.093   Accuracy: 0.587   lr: 0.0027\n"
          ]
        },
        {
          "name": "stderr",
          "output_type": "stream",
          "text": [
            "100%|██████████| 26/26 [00:00<00:00, 56.28it/s]\n"
          ]
        },
        {
          "name": "stdout",
          "output_type": "stream",
          "text": [
            "(Epoch 24/[val]) Loss:\t1.139   Accuracy: 0.544   lr: 0.0027\n"
          ]
        },
        {
          "name": "stderr",
          "output_type": "stream",
          "text": [
            "100%|██████████| 102/102 [00:01<00:00, 53.52it/s]\n"
          ]
        },
        {
          "name": "stdout",
          "output_type": "stream",
          "text": [
            "(Epoch 25/[train]) Loss:\t1.086   Accuracy: 0.589   lr: 0.0027\n"
          ]
        },
        {
          "name": "stderr",
          "output_type": "stream",
          "text": [
            "100%|██████████| 26/26 [00:00<00:00, 58.10it/s]\n"
          ]
        },
        {
          "name": "stdout",
          "output_type": "stream",
          "text": [
            "(Epoch 25/[val]) Loss:\t1.138   Accuracy: 0.544   lr: 0.0027\n"
          ]
        },
        {
          "name": "stderr",
          "output_type": "stream",
          "text": [
            "100%|██████████| 102/102 [00:01<00:00, 53.33it/s]\n"
          ]
        },
        {
          "name": "stdout",
          "output_type": "stream",
          "text": [
            "(Epoch 26/[train]) Loss:\t1.083   Accuracy: 0.593   lr: 0.0027\n"
          ]
        },
        {
          "name": "stderr",
          "output_type": "stream",
          "text": [
            "100%|██████████| 26/26 [00:00<00:00, 56.80it/s]\n"
          ]
        },
        {
          "name": "stdout",
          "output_type": "stream",
          "text": [
            "(Epoch 26/[val]) Loss:\t1.137   Accuracy: 0.543   lr: 0.0027\n"
          ]
        },
        {
          "name": "stderr",
          "output_type": "stream",
          "text": [
            "100%|██████████| 102/102 [00:01<00:00, 52.66it/s]\n"
          ]
        },
        {
          "name": "stdout",
          "output_type": "stream",
          "text": [
            "(Epoch 27/[train]) Loss:\t1.073   Accuracy: 0.596   lr: 0.0027\n"
          ]
        },
        {
          "name": "stderr",
          "output_type": "stream",
          "text": [
            "100%|██████████| 26/26 [00:00<00:00, 57.43it/s]\n"
          ]
        },
        {
          "name": "stdout",
          "output_type": "stream",
          "text": [
            "(Epoch 27/[val]) Loss:\t1.136   Accuracy: 0.542   lr: 0.0027\n"
          ]
        },
        {
          "name": "stderr",
          "output_type": "stream",
          "text": [
            "100%|██████████| 102/102 [00:01<00:00, 52.23it/s]\n"
          ]
        },
        {
          "name": "stdout",
          "output_type": "stream",
          "text": [
            "(Epoch 28/[train]) Loss:\t1.066   Accuracy: 0.599   lr: 0.0027\n"
          ]
        },
        {
          "name": "stderr",
          "output_type": "stream",
          "text": [
            "100%|██████████| 26/26 [00:00<00:00, 43.10it/s]\n"
          ]
        },
        {
          "name": "stdout",
          "output_type": "stream",
          "text": [
            "(Epoch 28/[val]) Loss:\t1.135   Accuracy: 0.543   lr: 0.0027\n"
          ]
        },
        {
          "name": "stderr",
          "output_type": "stream",
          "text": [
            "100%|██████████| 102/102 [00:01<00:00, 52.74it/s]\n"
          ]
        },
        {
          "name": "stdout",
          "output_type": "stream",
          "text": [
            "(Epoch 29/[train]) Loss:\t1.061   Accuracy: 0.600   lr: 0.0027\n"
          ]
        },
        {
          "name": "stderr",
          "output_type": "stream",
          "text": [
            "100%|██████████| 26/26 [00:00<00:00, 56.79it/s]\n"
          ]
        },
        {
          "name": "stdout",
          "output_type": "stream",
          "text": [
            "(Epoch 29/[val]) Loss:\t1.134   Accuracy: 0.542   lr: 0.0027\n"
          ]
        },
        {
          "name": "stderr",
          "output_type": "stream",
          "text": [
            "100%|██████████| 102/102 [00:01<00:00, 52.58it/s]\n"
          ]
        },
        {
          "name": "stdout",
          "output_type": "stream",
          "text": [
            "(Epoch 30/[train]) Loss:\t1.058   Accuracy: 0.605   lr: 0.0027\n"
          ]
        },
        {
          "name": "stderr",
          "output_type": "stream",
          "text": [
            "100%|██████████| 26/26 [00:00<00:00, 57.84it/s]\n"
          ]
        },
        {
          "name": "stdout",
          "output_type": "stream",
          "text": [
            "(Epoch 30/[val]) Loss:\t1.134   Accuracy: 0.543   lr: 0.0027\n"
          ]
        },
        {
          "name": "stderr",
          "output_type": "stream",
          "text": [
            "100%|██████████| 102/102 [00:01<00:00, 52.79it/s]\n"
          ]
        },
        {
          "name": "stdout",
          "output_type": "stream",
          "text": [
            "(Epoch 31/[train]) Loss:\t1.041   Accuracy: 0.611   lr: 0.0024300000000000003\n"
          ]
        },
        {
          "name": "stderr",
          "output_type": "stream",
          "text": [
            "100%|██████████| 26/26 [00:00<00:00, 58.70it/s]\n"
          ]
        },
        {
          "name": "stdout",
          "output_type": "stream",
          "text": [
            "(Epoch 31/[val]) Loss:\t1.134   Accuracy: 0.543   lr: 0.0024300000000000003\n"
          ]
        },
        {
          "name": "stderr",
          "output_type": "stream",
          "text": [
            "100%|██████████| 102/102 [00:01<00:00, 51.23it/s]\n"
          ]
        },
        {
          "name": "stdout",
          "output_type": "stream",
          "text": [
            "(Epoch 32/[train]) Loss:\t1.034   Accuracy: 0.617   lr: 0.0024300000000000003\n"
          ]
        },
        {
          "name": "stderr",
          "output_type": "stream",
          "text": [
            "100%|██████████| 26/26 [00:00<00:00, 57.54it/s]\n"
          ]
        },
        {
          "name": "stdout",
          "output_type": "stream",
          "text": [
            "(Epoch 32/[val]) Loss:\t1.134   Accuracy: 0.543   lr: 0.0024300000000000003\n"
          ]
        },
        {
          "name": "stderr",
          "output_type": "stream",
          "text": [
            "100%|██████████| 102/102 [00:01<00:00, 53.97it/s]\n"
          ]
        },
        {
          "name": "stdout",
          "output_type": "stream",
          "text": [
            "(Epoch 33/[train]) Loss:\t1.025   Accuracy: 0.620   lr: 0.0024300000000000003\n"
          ]
        },
        {
          "name": "stderr",
          "output_type": "stream",
          "text": [
            "100%|██████████| 26/26 [00:00<00:00, 56.89it/s]\n"
          ]
        },
        {
          "name": "stdout",
          "output_type": "stream",
          "text": [
            "(Epoch 33/[val]) Loss:\t1.134   Accuracy: 0.541   lr: 0.0024300000000000003\n"
          ]
        },
        {
          "name": "stderr",
          "output_type": "stream",
          "text": [
            "100%|██████████| 102/102 [00:01<00:00, 53.73it/s]\n"
          ]
        },
        {
          "name": "stdout",
          "output_type": "stream",
          "text": [
            "(Epoch 34/[train]) Loss:\t1.022   Accuracy: 0.622   lr: 0.0024300000000000003\n"
          ]
        },
        {
          "name": "stderr",
          "output_type": "stream",
          "text": [
            "100%|██████████| 26/26 [00:00<00:00, 56.41it/s]\n"
          ]
        },
        {
          "name": "stdout",
          "output_type": "stream",
          "text": [
            "(Epoch 34/[val]) Loss:\t1.134   Accuracy: 0.541   lr: 0.0024300000000000003\n"
          ]
        },
        {
          "name": "stderr",
          "output_type": "stream",
          "text": [
            "100%|██████████| 102/102 [00:02<00:00, 48.18it/s]\n"
          ]
        },
        {
          "name": "stdout",
          "output_type": "stream",
          "text": [
            "(Epoch 35/[train]) Loss:\t1.015   Accuracy: 0.626   lr: 0.0024300000000000003\n"
          ]
        },
        {
          "name": "stderr",
          "output_type": "stream",
          "text": [
            "100%|██████████| 26/26 [00:00<00:00, 57.49it/s]\n"
          ]
        },
        {
          "name": "stdout",
          "output_type": "stream",
          "text": [
            "(Epoch 35/[val]) Loss:\t1.134   Accuracy: 0.540   lr: 0.0024300000000000003\n"
          ]
        },
        {
          "name": "stderr",
          "output_type": "stream",
          "text": [
            "100%|██████████| 102/102 [00:01<00:00, 53.82it/s]\n"
          ]
        },
        {
          "name": "stdout",
          "output_type": "stream",
          "text": [
            "(Epoch 36/[train]) Loss:\t1.005   Accuracy: 0.631   lr: 0.0024300000000000003\n"
          ]
        },
        {
          "name": "stderr",
          "output_type": "stream",
          "text": [
            "100%|██████████| 26/26 [00:00<00:00, 55.64it/s]\n"
          ]
        },
        {
          "name": "stdout",
          "output_type": "stream",
          "text": [
            "(Epoch 36/[val]) Loss:\t1.134   Accuracy: 0.540   lr: 0.0024300000000000003\n"
          ]
        },
        {
          "name": "stderr",
          "output_type": "stream",
          "text": [
            "100%|██████████| 102/102 [00:01<00:00, 53.65it/s]\n"
          ]
        },
        {
          "name": "stdout",
          "output_type": "stream",
          "text": [
            "(Epoch 37/[train]) Loss:\t0.999   Accuracy: 0.634   lr: 0.0024300000000000003\n"
          ]
        },
        {
          "name": "stderr",
          "output_type": "stream",
          "text": [
            "100%|██████████| 26/26 [00:00<00:00, 56.87it/s]\n"
          ]
        },
        {
          "name": "stdout",
          "output_type": "stream",
          "text": [
            "(Epoch 37/[val]) Loss:\t1.134   Accuracy: 0.540   lr: 0.0024300000000000003\n"
          ]
        },
        {
          "name": "stderr",
          "output_type": "stream",
          "text": [
            "100%|██████████| 102/102 [00:01<00:00, 52.54it/s]\n"
          ]
        },
        {
          "name": "stdout",
          "output_type": "stream",
          "text": [
            "(Epoch 38/[train]) Loss:\t1.001   Accuracy: 0.632   lr: 0.0024300000000000003\n"
          ]
        },
        {
          "name": "stderr",
          "output_type": "stream",
          "text": [
            "100%|██████████| 26/26 [00:00<00:00, 56.33it/s]\n"
          ]
        },
        {
          "name": "stdout",
          "output_type": "stream",
          "text": [
            "(Epoch 38/[val]) Loss:\t1.135   Accuracy: 0.539   lr: 0.0024300000000000003\n"
          ]
        },
        {
          "name": "stderr",
          "output_type": "stream",
          "text": [
            "100%|██████████| 102/102 [00:01<00:00, 53.23it/s]\n"
          ]
        },
        {
          "name": "stdout",
          "output_type": "stream",
          "text": [
            "(Epoch 39/[train]) Loss:\t0.987   Accuracy: 0.637   lr: 0.0024300000000000003\n"
          ]
        },
        {
          "name": "stderr",
          "output_type": "stream",
          "text": [
            "100%|██████████| 26/26 [00:00<00:00, 56.18it/s]\n"
          ]
        },
        {
          "name": "stdout",
          "output_type": "stream",
          "text": [
            "(Epoch 39/[val]) Loss:\t1.135   Accuracy: 0.538   lr: 0.0024300000000000003\n"
          ]
        },
        {
          "name": "stderr",
          "output_type": "stream",
          "text": [
            "100%|██████████| 102/102 [00:01<00:00, 53.09it/s]\n"
          ]
        },
        {
          "name": "stdout",
          "output_type": "stream",
          "text": [
            "(Epoch 40/[train]) Loss:\t0.980   Accuracy: 0.641   lr: 0.0024300000000000003\n"
          ]
        },
        {
          "name": "stderr",
          "output_type": "stream",
          "text": [
            "100%|██████████| 26/26 [00:00<00:00, 57.89it/s]\n"
          ]
        },
        {
          "name": "stdout",
          "output_type": "stream",
          "text": [
            "(Epoch 40/[val]) Loss:\t1.135   Accuracy: 0.538   lr: 0.0024300000000000003\n"
          ]
        },
        {
          "name": "stderr",
          "output_type": "stream",
          "text": [
            "100%|██████████| 102/102 [00:01<00:00, 53.29it/s]\n"
          ]
        },
        {
          "name": "stdout",
          "output_type": "stream",
          "text": [
            "(Epoch 41/[train]) Loss:\t0.973   Accuracy: 0.645   lr: 0.0024300000000000003\n"
          ]
        },
        {
          "name": "stderr",
          "output_type": "stream",
          "text": [
            "100%|██████████| 26/26 [00:00<00:00, 43.41it/s]"
          ]
        },
        {
          "name": "stdout",
          "output_type": "stream",
          "text": [
            "(Epoch 41/[val]) Loss:\t1.135   Accuracy: 0.538   lr: 0.0024300000000000003\n",
            "--------------------Early stopping--------------------\n"
          ]
        },
        {
          "name": "stderr",
          "output_type": "stream",
          "text": [
            "\n"
          ]
        },
        {
          "data": {
            "text/html": [],
            "text/plain": [
              "<IPython.core.display.HTML object>"
            ]
          },
          "metadata": {},
          "output_type": "display_data"
        },
        {
          "data": {
            "text/html": [
              "<br>    <style><br>        .wandb-row {<br>            display: flex;<br>            flex-direction: row;<br>            flex-wrap: wrap;<br>            justify-content: flex-start;<br>            width: 100%;<br>        }<br>        .wandb-col {<br>            display: flex;<br>            flex-direction: column;<br>            flex-basis: 100%;<br>            flex: 1;<br>            padding: 10px;<br>        }<br>    </style><br><div class=\"wandb-row\"><div class=\"wandb-col\"><h3>Run history:</h3><br/><table class=\"wandb\"><tr><td>train/accuracy</td><td>▁▃▃▄▄▅▅▅▅▆▆▆▆▆▆▆▆▆▇▇▇▇▇▇▇▇▇▇▇▇▇█████████</td></tr><tr><td>train/loss</td><td>█▇▆▆▅▅▅▄▄▄▄▄▄▃▃▃▃▃▃▃▃▃▂▂▂▂▂▂▂▂▂▂▂▂▁▁▁▁▁▁</td></tr><tr><td>train/lr</td><td>███████████████▄▄▄▄▄▄▄▄▄▄▄▄▄▄▄▁▁▁▁▁▁▁▁▁▁</td></tr><tr><td>val/accuracy</td><td>▁▄▅▆▆▇▇▇▇▇██████████████████████████████</td></tr><tr><td>val/loss</td><td>█▇▅▅▄▃▃▃▂▂▂▂▂▂▂▁▁▁▁▁▁▁▁▁▁▁▁▁▁▁▁▁▁▁▁▁▁▁▁▁</td></tr><tr><td>val/lr</td><td>███████████████▄▄▄▄▄▄▄▄▄▄▄▄▄▄▄▁▁▁▁▁▁▁▁▁▁</td></tr></table><br/></div><div class=\"wandb-col\"><h3>Run summary:</h3><br/><table class=\"wandb\"><tr><td>train/accuracy</td><td>0.64506</td></tr><tr><td>train/loss</td><td>0.97287</td></tr><tr><td>train/lr</td><td>0.00243</td></tr><tr><td>val/accuracy</td><td>0.53808</td></tr><tr><td>val/loss</td><td>1.13492</td></tr><tr><td>val/lr</td><td>0.00243</td></tr></table><br/></div></div>"
            ],
            "text/plain": [
              "<IPython.core.display.HTML object>"
            ]
          },
          "metadata": {},
          "output_type": "display_data"
        },
        {
          "data": {
            "text/html": [
              " View run <strong style=\"color:#cdcd00\">model1</strong> at: <a href='https://wandb.ai/kacper-pt119-warsaw-university-of-technology/3DifferentNeuralNetsExperiments_v19/runs/qt4q7o2b' target=\"_blank\">https://wandb.ai/kacper-pt119-warsaw-university-of-technology/3DifferentNeuralNetsExperiments_v19/runs/qt4q7o2b</a><br> View project at: <a href='https://wandb.ai/kacper-pt119-warsaw-university-of-technology/3DifferentNeuralNetsExperiments_v19' target=\"_blank\">https://wandb.ai/kacper-pt119-warsaw-university-of-technology/3DifferentNeuralNetsExperiments_v19</a><br>Synced 5 W&B file(s), 0 media file(s), 0 artifact file(s) and 0 other file(s)"
            ],
            "text/plain": [
              "<IPython.core.display.HTML object>"
            ]
          },
          "metadata": {},
          "output_type": "display_data"
        },
        {
          "data": {
            "text/html": [
              "Find logs at: <code>.\\wandb\\run-20251017_151247-qt4q7o2b\\logs</code>"
            ],
            "text/plain": [
              "<IPython.core.display.HTML object>"
            ]
          },
          "metadata": {},
          "output_type": "display_data"
        },
        {
          "name": "stdout",
          "output_type": "stream",
          "text": [
            "Trenowanie modelu: model2\n"
          ]
        },
        {
          "data": {
            "text/html": [],
            "text/plain": [
              "<IPython.core.display.HTML object>"
            ]
          },
          "metadata": {},
          "output_type": "display_data"
        },
        {
          "data": {
            "text/html": [
              "Tracking run with wandb version 0.22.2"
            ],
            "text/plain": [
              "<IPython.core.display.HTML object>"
            ]
          },
          "metadata": {},
          "output_type": "display_data"
        },
        {
          "data": {
            "text/html": [
              "Run data is saved locally in <code>f:\\Users\\Kacper Ptaszek\\Studia-LLM\\wandb\\run-20251017_151428-rd7xbzh5</code>"
            ],
            "text/plain": [
              "<IPython.core.display.HTML object>"
            ]
          },
          "metadata": {},
          "output_type": "display_data"
        },
        {
          "data": {
            "text/html": [
              "Syncing run <strong><a href='https://wandb.ai/kacper-pt119-warsaw-university-of-technology/3DifferentNeuralNetsExperiments_v19/runs/rd7xbzh5' target=\"_blank\">model2</a></strong> to <a href='https://wandb.ai/kacper-pt119-warsaw-university-of-technology/3DifferentNeuralNetsExperiments_v19' target=\"_blank\">Weights & Biases</a> (<a href='https://wandb.me/developer-guide' target=\"_blank\">docs</a>)<br>"
            ],
            "text/plain": [
              "<IPython.core.display.HTML object>"
            ]
          },
          "metadata": {},
          "output_type": "display_data"
        },
        {
          "data": {
            "text/html": [
              " View project at <a href='https://wandb.ai/kacper-pt119-warsaw-university-of-technology/3DifferentNeuralNetsExperiments_v19' target=\"_blank\">https://wandb.ai/kacper-pt119-warsaw-university-of-technology/3DifferentNeuralNetsExperiments_v19</a>"
            ],
            "text/plain": [
              "<IPython.core.display.HTML object>"
            ]
          },
          "metadata": {},
          "output_type": "display_data"
        },
        {
          "data": {
            "text/html": [
              " View run at <a href='https://wandb.ai/kacper-pt119-warsaw-university-of-technology/3DifferentNeuralNetsExperiments_v19/runs/rd7xbzh5' target=\"_blank\">https://wandb.ai/kacper-pt119-warsaw-university-of-technology/3DifferentNeuralNetsExperiments_v19/runs/rd7xbzh5</a>"
            ],
            "text/plain": [
              "<IPython.core.display.HTML object>"
            ]
          },
          "metadata": {},
          "output_type": "display_data"
        },
        {
          "name": "stderr",
          "output_type": "stream",
          "text": [
            "100%|██████████| 102/102 [00:02<00:00, 43.46it/s]\n"
          ]
        },
        {
          "name": "stdout",
          "output_type": "stream",
          "text": [
            "(Epoch 1/[train]) Loss:\t1.583   Accuracy: 0.271   lr: 0.003\n"
          ]
        },
        {
          "name": "stderr",
          "output_type": "stream",
          "text": [
            "100%|██████████| 26/26 [00:00<00:00, 53.05it/s]\n"
          ]
        },
        {
          "name": "stdout",
          "output_type": "stream",
          "text": [
            "(Epoch 1/[val]) Loss:\t1.485   Accuracy: 0.373   lr: 0.003\n"
          ]
        },
        {
          "name": "stderr",
          "output_type": "stream",
          "text": [
            "100%|██████████| 102/102 [00:02<00:00, 44.12it/s]\n"
          ]
        },
        {
          "name": "stdout",
          "output_type": "stream",
          "text": [
            "(Epoch 2/[train]) Loss:\t1.426   Accuracy: 0.391   lr: 0.003\n"
          ]
        },
        {
          "name": "stderr",
          "output_type": "stream",
          "text": [
            "100%|██████████| 26/26 [00:00<00:00, 52.32it/s]\n"
          ]
        },
        {
          "name": "stdout",
          "output_type": "stream",
          "text": [
            "(Epoch 2/[val]) Loss:\t1.357   Accuracy: 0.436   lr: 0.003\n"
          ]
        },
        {
          "name": "stderr",
          "output_type": "stream",
          "text": [
            "100%|██████████| 102/102 [00:02<00:00, 43.96it/s]\n"
          ]
        },
        {
          "name": "stdout",
          "output_type": "stream",
          "text": [
            "(Epoch 3/[train]) Loss:\t1.326   Accuracy: 0.444   lr: 0.003\n"
          ]
        },
        {
          "name": "stderr",
          "output_type": "stream",
          "text": [
            "100%|██████████| 26/26 [00:00<00:00, 52.26it/s]\n"
          ]
        },
        {
          "name": "stdout",
          "output_type": "stream",
          "text": [
            "(Epoch 3/[val]) Loss:\t1.283   Accuracy: 0.467   lr: 0.003\n"
          ]
        },
        {
          "name": "stderr",
          "output_type": "stream",
          "text": [
            "100%|██████████| 102/102 [00:02<00:00, 44.11it/s]\n"
          ]
        },
        {
          "name": "stdout",
          "output_type": "stream",
          "text": [
            "(Epoch 4/[train]) Loss:\t1.248   Accuracy: 0.486   lr: 0.003\n"
          ]
        },
        {
          "name": "stderr",
          "output_type": "stream",
          "text": [
            "100%|██████████| 26/26 [00:00<00:00, 52.88it/s]\n"
          ]
        },
        {
          "name": "stdout",
          "output_type": "stream",
          "text": [
            "(Epoch 4/[val]) Loss:\t1.230   Accuracy: 0.486   lr: 0.003\n"
          ]
        },
        {
          "name": "stderr",
          "output_type": "stream",
          "text": [
            "100%|██████████| 102/102 [00:02<00:00, 44.05it/s]\n"
          ]
        },
        {
          "name": "stdout",
          "output_type": "stream",
          "text": [
            "(Epoch 5/[train]) Loss:\t1.192   Accuracy: 0.510   lr: 0.003\n"
          ]
        },
        {
          "name": "stderr",
          "output_type": "stream",
          "text": [
            "100%|██████████| 26/26 [00:00<00:00, 53.23it/s]\n"
          ]
        },
        {
          "name": "stdout",
          "output_type": "stream",
          "text": [
            "(Epoch 5/[val]) Loss:\t1.189   Accuracy: 0.499   lr: 0.003\n"
          ]
        },
        {
          "name": "stderr",
          "output_type": "stream",
          "text": [
            "100%|██████████| 102/102 [00:02<00:00, 43.95it/s]\n"
          ]
        },
        {
          "name": "stdout",
          "output_type": "stream",
          "text": [
            "(Epoch 6/[train]) Loss:\t1.145   Accuracy: 0.530   lr: 0.003\n"
          ]
        },
        {
          "name": "stderr",
          "output_type": "stream",
          "text": [
            "100%|██████████| 26/26 [00:00<00:00, 51.36it/s]\n"
          ]
        },
        {
          "name": "stdout",
          "output_type": "stream",
          "text": [
            "(Epoch 6/[val]) Loss:\t1.157   Accuracy: 0.513   lr: 0.003\n"
          ]
        },
        {
          "name": "stderr",
          "output_type": "stream",
          "text": [
            "100%|██████████| 102/102 [00:02<00:00, 44.43it/s]\n"
          ]
        },
        {
          "name": "stdout",
          "output_type": "stream",
          "text": [
            "(Epoch 7/[train]) Loss:\t1.106   Accuracy: 0.548   lr: 0.003\n"
          ]
        },
        {
          "name": "stderr",
          "output_type": "stream",
          "text": [
            "100%|██████████| 26/26 [00:00<00:00, 53.74it/s]\n"
          ]
        },
        {
          "name": "stdout",
          "output_type": "stream",
          "text": [
            "(Epoch 7/[val]) Loss:\t1.132   Accuracy: 0.520   lr: 0.003\n"
          ]
        },
        {
          "name": "stderr",
          "output_type": "stream",
          "text": [
            "100%|██████████| 102/102 [00:02<00:00, 41.17it/s]\n"
          ]
        },
        {
          "name": "stdout",
          "output_type": "stream",
          "text": [
            "(Epoch 8/[train]) Loss:\t1.076   Accuracy: 0.559   lr: 0.003\n"
          ]
        },
        {
          "name": "stderr",
          "output_type": "stream",
          "text": [
            "100%|██████████| 26/26 [00:00<00:00, 51.99it/s]\n"
          ]
        },
        {
          "name": "stdout",
          "output_type": "stream",
          "text": [
            "(Epoch 8/[val]) Loss:\t1.114   Accuracy: 0.525   lr: 0.003\n"
          ]
        },
        {
          "name": "stderr",
          "output_type": "stream",
          "text": [
            "100%|██████████| 102/102 [00:02<00:00, 44.20it/s]\n"
          ]
        },
        {
          "name": "stdout",
          "output_type": "stream",
          "text": [
            "(Epoch 9/[train]) Loss:\t1.042   Accuracy: 0.576   lr: 0.003\n"
          ]
        },
        {
          "name": "stderr",
          "output_type": "stream",
          "text": [
            "100%|██████████| 26/26 [00:00<00:00, 53.45it/s]\n"
          ]
        },
        {
          "name": "stdout",
          "output_type": "stream",
          "text": [
            "(Epoch 9/[val]) Loss:\t1.097   Accuracy: 0.528   lr: 0.003\n"
          ]
        },
        {
          "name": "stderr",
          "output_type": "stream",
          "text": [
            "100%|██████████| 102/102 [00:02<00:00, 44.07it/s]\n"
          ]
        },
        {
          "name": "stdout",
          "output_type": "stream",
          "text": [
            "(Epoch 10/[train]) Loss:\t1.017   Accuracy: 0.586   lr: 0.003\n"
          ]
        },
        {
          "name": "stderr",
          "output_type": "stream",
          "text": [
            "100%|██████████| 26/26 [00:00<00:00, 52.77it/s]\n"
          ]
        },
        {
          "name": "stdout",
          "output_type": "stream",
          "text": [
            "(Epoch 10/[val]) Loss:\t1.084   Accuracy: 0.533   lr: 0.003\n"
          ]
        },
        {
          "name": "stderr",
          "output_type": "stream",
          "text": [
            "100%|██████████| 102/102 [00:02<00:00, 43.77it/s]\n"
          ]
        },
        {
          "name": "stdout",
          "output_type": "stream",
          "text": [
            "(Epoch 11/[train]) Loss:\t0.994   Accuracy: 0.599   lr: 0.003\n"
          ]
        },
        {
          "name": "stderr",
          "output_type": "stream",
          "text": [
            "100%|██████████| 26/26 [00:00<00:00, 52.48it/s]\n"
          ]
        },
        {
          "name": "stdout",
          "output_type": "stream",
          "text": [
            "(Epoch 11/[val]) Loss:\t1.073   Accuracy: 0.536   lr: 0.003\n"
          ]
        },
        {
          "name": "stderr",
          "output_type": "stream",
          "text": [
            "100%|██████████| 102/102 [00:02<00:00, 43.66it/s]\n"
          ]
        },
        {
          "name": "stdout",
          "output_type": "stream",
          "text": [
            "(Epoch 12/[train]) Loss:\t0.971   Accuracy: 0.606   lr: 0.003\n"
          ]
        },
        {
          "name": "stderr",
          "output_type": "stream",
          "text": [
            "100%|██████████| 26/26 [00:00<00:00, 52.64it/s]\n"
          ]
        },
        {
          "name": "stdout",
          "output_type": "stream",
          "text": [
            "(Epoch 12/[val]) Loss:\t1.065   Accuracy: 0.538   lr: 0.003\n"
          ]
        },
        {
          "name": "stderr",
          "output_type": "stream",
          "text": [
            "100%|██████████| 102/102 [00:02<00:00, 43.93it/s]\n"
          ]
        },
        {
          "name": "stdout",
          "output_type": "stream",
          "text": [
            "(Epoch 13/[train]) Loss:\t0.948   Accuracy: 0.619   lr: 0.003\n"
          ]
        },
        {
          "name": "stderr",
          "output_type": "stream",
          "text": [
            "100%|██████████| 26/26 [00:00<00:00, 53.85it/s]\n"
          ]
        },
        {
          "name": "stdout",
          "output_type": "stream",
          "text": [
            "(Epoch 13/[val]) Loss:\t1.058   Accuracy: 0.542   lr: 0.003\n"
          ]
        },
        {
          "name": "stderr",
          "output_type": "stream",
          "text": [
            "100%|██████████| 102/102 [00:02<00:00, 43.69it/s]\n"
          ]
        },
        {
          "name": "stdout",
          "output_type": "stream",
          "text": [
            "(Epoch 14/[train]) Loss:\t0.928   Accuracy: 0.626   lr: 0.003\n"
          ]
        },
        {
          "name": "stderr",
          "output_type": "stream",
          "text": [
            "100%|██████████| 26/26 [00:00<00:00, 52.43it/s]\n"
          ]
        },
        {
          "name": "stdout",
          "output_type": "stream",
          "text": [
            "(Epoch 14/[val]) Loss:\t1.053   Accuracy: 0.543   lr: 0.003\n"
          ]
        },
        {
          "name": "stderr",
          "output_type": "stream",
          "text": [
            "100%|██████████| 102/102 [00:02<00:00, 44.01it/s]\n"
          ]
        },
        {
          "name": "stdout",
          "output_type": "stream",
          "text": [
            "(Epoch 15/[train]) Loss:\t0.910   Accuracy: 0.635   lr: 0.003\n"
          ]
        },
        {
          "name": "stderr",
          "output_type": "stream",
          "text": [
            "100%|██████████| 26/26 [00:00<00:00, 53.11it/s]\n"
          ]
        },
        {
          "name": "stdout",
          "output_type": "stream",
          "text": [
            "(Epoch 15/[val]) Loss:\t1.048   Accuracy: 0.544   lr: 0.003\n"
          ]
        },
        {
          "name": "stderr",
          "output_type": "stream",
          "text": [
            "100%|██████████| 102/102 [00:02<00:00, 41.36it/s]\n"
          ]
        },
        {
          "name": "stdout",
          "output_type": "stream",
          "text": [
            "(Epoch 16/[train]) Loss:\t0.889   Accuracy: 0.644   lr: 0.0027\n"
          ]
        },
        {
          "name": "stderr",
          "output_type": "stream",
          "text": [
            "100%|██████████| 26/26 [00:00<00:00, 52.68it/s]\n"
          ]
        },
        {
          "name": "stdout",
          "output_type": "stream",
          "text": [
            "(Epoch 16/[val]) Loss:\t1.045   Accuracy: 0.546   lr: 0.0027\n"
          ]
        },
        {
          "name": "stderr",
          "output_type": "stream",
          "text": [
            "100%|██████████| 102/102 [00:02<00:00, 44.06it/s]\n"
          ]
        },
        {
          "name": "stdout",
          "output_type": "stream",
          "text": [
            "(Epoch 17/[train]) Loss:\t0.872   Accuracy: 0.657   lr: 0.0027\n"
          ]
        },
        {
          "name": "stderr",
          "output_type": "stream",
          "text": [
            "100%|██████████| 26/26 [00:00<00:00, 51.86it/s]\n"
          ]
        },
        {
          "name": "stdout",
          "output_type": "stream",
          "text": [
            "(Epoch 17/[val]) Loss:\t1.043   Accuracy: 0.547   lr: 0.0027\n"
          ]
        },
        {
          "name": "stderr",
          "output_type": "stream",
          "text": [
            "100%|██████████| 102/102 [00:02<00:00, 43.29it/s]\n"
          ]
        },
        {
          "name": "stdout",
          "output_type": "stream",
          "text": [
            "(Epoch 18/[train]) Loss:\t0.856   Accuracy: 0.661   lr: 0.0027\n"
          ]
        },
        {
          "name": "stderr",
          "output_type": "stream",
          "text": [
            "100%|██████████| 26/26 [00:00<00:00, 52.33it/s]\n"
          ]
        },
        {
          "name": "stdout",
          "output_type": "stream",
          "text": [
            "(Epoch 18/[val]) Loss:\t1.041   Accuracy: 0.548   lr: 0.0027\n"
          ]
        },
        {
          "name": "stderr",
          "output_type": "stream",
          "text": [
            "100%|██████████| 102/102 [00:02<00:00, 44.32it/s]\n"
          ]
        },
        {
          "name": "stdout",
          "output_type": "stream",
          "text": [
            "(Epoch 19/[train]) Loss:\t0.840   Accuracy: 0.668   lr: 0.0027\n"
          ]
        },
        {
          "name": "stderr",
          "output_type": "stream",
          "text": [
            "100%|██████████| 26/26 [00:00<00:00, 53.62it/s]\n"
          ]
        },
        {
          "name": "stdout",
          "output_type": "stream",
          "text": [
            "(Epoch 19/[val]) Loss:\t1.040   Accuracy: 0.545   lr: 0.0027\n"
          ]
        },
        {
          "name": "stderr",
          "output_type": "stream",
          "text": [
            "100%|██████████| 102/102 [00:02<00:00, 43.81it/s]\n"
          ]
        },
        {
          "name": "stdout",
          "output_type": "stream",
          "text": [
            "(Epoch 20/[train]) Loss:\t0.820   Accuracy: 0.678   lr: 0.0027\n"
          ]
        },
        {
          "name": "stderr",
          "output_type": "stream",
          "text": [
            "100%|██████████| 26/26 [00:00<00:00, 52.46it/s]\n"
          ]
        },
        {
          "name": "stdout",
          "output_type": "stream",
          "text": [
            "(Epoch 20/[val]) Loss:\t1.039   Accuracy: 0.548   lr: 0.0027\n"
          ]
        },
        {
          "name": "stderr",
          "output_type": "stream",
          "text": [
            "100%|██████████| 102/102 [00:02<00:00, 43.63it/s]\n"
          ]
        },
        {
          "name": "stdout",
          "output_type": "stream",
          "text": [
            "(Epoch 21/[train]) Loss:\t0.804   Accuracy: 0.685   lr: 0.0027\n"
          ]
        },
        {
          "name": "stderr",
          "output_type": "stream",
          "text": [
            "100%|██████████| 26/26 [00:00<00:00, 49.81it/s]\n"
          ]
        },
        {
          "name": "stdout",
          "output_type": "stream",
          "text": [
            "(Epoch 21/[val]) Loss:\t1.040   Accuracy: 0.548   lr: 0.0027\n"
          ]
        },
        {
          "name": "stderr",
          "output_type": "stream",
          "text": [
            "100%|██████████| 102/102 [00:02<00:00, 43.66it/s]\n"
          ]
        },
        {
          "name": "stdout",
          "output_type": "stream",
          "text": [
            "(Epoch 22/[train]) Loss:\t0.791   Accuracy: 0.692   lr: 0.0027\n"
          ]
        },
        {
          "name": "stderr",
          "output_type": "stream",
          "text": [
            "100%|██████████| 26/26 [00:00<00:00, 39.54it/s]\n"
          ]
        },
        {
          "name": "stdout",
          "output_type": "stream",
          "text": [
            "(Epoch 22/[val]) Loss:\t1.040   Accuracy: 0.547   lr: 0.0027\n"
          ]
        },
        {
          "name": "stderr",
          "output_type": "stream",
          "text": [
            "100%|██████████| 102/102 [00:02<00:00, 43.78it/s]\n"
          ]
        },
        {
          "name": "stdout",
          "output_type": "stream",
          "text": [
            "(Epoch 23/[train]) Loss:\t0.773   Accuracy: 0.705   lr: 0.0027\n"
          ]
        },
        {
          "name": "stderr",
          "output_type": "stream",
          "text": [
            "100%|██████████| 26/26 [00:00<00:00, 51.65it/s]\n"
          ]
        },
        {
          "name": "stdout",
          "output_type": "stream",
          "text": [
            "(Epoch 23/[val]) Loss:\t1.041   Accuracy: 0.548   lr: 0.0027\n"
          ]
        },
        {
          "name": "stderr",
          "output_type": "stream",
          "text": [
            "100%|██████████| 102/102 [00:02<00:00, 43.83it/s]\n"
          ]
        },
        {
          "name": "stdout",
          "output_type": "stream",
          "text": [
            "(Epoch 24/[train]) Loss:\t0.753   Accuracy: 0.712   lr: 0.0027\n"
          ]
        },
        {
          "name": "stderr",
          "output_type": "stream",
          "text": [
            "100%|██████████| 26/26 [00:00<00:00, 53.53it/s]\n"
          ]
        },
        {
          "name": "stdout",
          "output_type": "stream",
          "text": [
            "(Epoch 24/[val]) Loss:\t1.042   Accuracy: 0.547   lr: 0.0027\n"
          ]
        },
        {
          "name": "stderr",
          "output_type": "stream",
          "text": [
            "100%|██████████| 102/102 [00:02<00:00, 43.65it/s]\n"
          ]
        },
        {
          "name": "stdout",
          "output_type": "stream",
          "text": [
            "(Epoch 25/[train]) Loss:\t0.739   Accuracy: 0.717   lr: 0.0027\n"
          ]
        },
        {
          "name": "stderr",
          "output_type": "stream",
          "text": [
            "100%|██████████| 26/26 [00:00<00:00, 53.42it/s]"
          ]
        },
        {
          "name": "stdout",
          "output_type": "stream",
          "text": [
            "(Epoch 25/[val]) Loss:\t1.044   Accuracy: 0.547   lr: 0.0027\n",
            "--------------------Early stopping--------------------\n"
          ]
        },
        {
          "name": "stderr",
          "output_type": "stream",
          "text": [
            "\n"
          ]
        },
        {
          "data": {
            "text/html": [],
            "text/plain": [
              "<IPython.core.display.HTML object>"
            ]
          },
          "metadata": {},
          "output_type": "display_data"
        },
        {
          "data": {
            "text/html": [
              "<br>    <style><br>        .wandb-row {<br>            display: flex;<br>            flex-direction: row;<br>            flex-wrap: wrap;<br>            justify-content: flex-start;<br>            width: 100%;<br>        }<br>        .wandb-col {<br>            display: flex;<br>            flex-direction: column;<br>            flex-basis: 100%;<br>            flex: 1;<br>            padding: 10px;<br>        }<br>    </style><br><div class=\"wandb-row\"><div class=\"wandb-col\"><h3>Run history:</h3><br/><table class=\"wandb\"><tr><td>train/accuracy</td><td>▁▃▄▄▅▅▅▆▆▆▆▆▆▇▇▇▇▇▇▇▇████</td></tr><tr><td>train/loss</td><td>█▇▆▅▅▄▄▄▄▃▃▃▃▃▂▂▂▂▂▂▂▁▁▁▁</td></tr><tr><td>train/lr</td><td>███████████████▁▁▁▁▁▁▁▁▁▁</td></tr><tr><td>val/accuracy</td><td>▁▄▅▆▆▇▇▇▇▇███████████████</td></tr><tr><td>val/loss</td><td>█▆▅▄▃▃▂▂▂▂▂▁▁▁▁▁▁▁▁▁▁▁▁▁▁</td></tr><tr><td>val/lr</td><td>███████████████▁▁▁▁▁▁▁▁▁▁</td></tr></table><br/></div><div class=\"wandb-col\"><h3>Run summary:</h3><br/><table class=\"wandb\"><tr><td>train/accuracy</td><td>0.7175</td></tr><tr><td>train/loss</td><td>0.73899</td></tr><tr><td>train/lr</td><td>0.0027</td></tr><tr><td>val/accuracy</td><td>0.54654</td></tr><tr><td>val/loss</td><td>1.04379</td></tr><tr><td>val/lr</td><td>0.0027</td></tr></table><br/></div></div>"
            ],
            "text/plain": [
              "<IPython.core.display.HTML object>"
            ]
          },
          "metadata": {},
          "output_type": "display_data"
        },
        {
          "data": {
            "text/html": [
              " View run <strong style=\"color:#cdcd00\">model2</strong> at: <a href='https://wandb.ai/kacper-pt119-warsaw-university-of-technology/3DifferentNeuralNetsExperiments_v19/runs/rd7xbzh5' target=\"_blank\">https://wandb.ai/kacper-pt119-warsaw-university-of-technology/3DifferentNeuralNetsExperiments_v19/runs/rd7xbzh5</a><br> View project at: <a href='https://wandb.ai/kacper-pt119-warsaw-university-of-technology/3DifferentNeuralNetsExperiments_v19' target=\"_blank\">https://wandb.ai/kacper-pt119-warsaw-university-of-technology/3DifferentNeuralNetsExperiments_v19</a><br>Synced 5 W&B file(s), 0 media file(s), 0 artifact file(s) and 0 other file(s)"
            ],
            "text/plain": [
              "<IPython.core.display.HTML object>"
            ]
          },
          "metadata": {},
          "output_type": "display_data"
        },
        {
          "data": {
            "text/html": [
              "Find logs at: <code>.\\wandb\\run-20251017_151428-rd7xbzh5\\logs</code>"
            ],
            "text/plain": [
              "<IPython.core.display.HTML object>"
            ]
          },
          "metadata": {},
          "output_type": "display_data"
        },
        {
          "name": "stdout",
          "output_type": "stream",
          "text": [
            "Trenowanie modelu: model3\n"
          ]
        },
        {
          "data": {
            "text/html": [],
            "text/plain": [
              "<IPython.core.display.HTML object>"
            ]
          },
          "metadata": {},
          "output_type": "display_data"
        },
        {
          "data": {
            "text/html": [
              "Tracking run with wandb version 0.22.2"
            ],
            "text/plain": [
              "<IPython.core.display.HTML object>"
            ]
          },
          "metadata": {},
          "output_type": "display_data"
        },
        {
          "data": {
            "text/html": [
              "Run data is saved locally in <code>f:\\Users\\Kacper Ptaszek\\Studia-LLM\\wandb\\run-20251017_151541-qetm4nny</code>"
            ],
            "text/plain": [
              "<IPython.core.display.HTML object>"
            ]
          },
          "metadata": {},
          "output_type": "display_data"
        },
        {
          "data": {
            "text/html": [
              "Syncing run <strong><a href='https://wandb.ai/kacper-pt119-warsaw-university-of-technology/3DifferentNeuralNetsExperiments_v19/runs/qetm4nny' target=\"_blank\">model3</a></strong> to <a href='https://wandb.ai/kacper-pt119-warsaw-university-of-technology/3DifferentNeuralNetsExperiments_v19' target=\"_blank\">Weights & Biases</a> (<a href='https://wandb.me/developer-guide' target=\"_blank\">docs</a>)<br>"
            ],
            "text/plain": [
              "<IPython.core.display.HTML object>"
            ]
          },
          "metadata": {},
          "output_type": "display_data"
        },
        {
          "data": {
            "text/html": [
              " View project at <a href='https://wandb.ai/kacper-pt119-warsaw-university-of-technology/3DifferentNeuralNetsExperiments_v19' target=\"_blank\">https://wandb.ai/kacper-pt119-warsaw-university-of-technology/3DifferentNeuralNetsExperiments_v19</a>"
            ],
            "text/plain": [
              "<IPython.core.display.HTML object>"
            ]
          },
          "metadata": {},
          "output_type": "display_data"
        },
        {
          "data": {
            "text/html": [
              " View run at <a href='https://wandb.ai/kacper-pt119-warsaw-university-of-technology/3DifferentNeuralNetsExperiments_v19/runs/qetm4nny' target=\"_blank\">https://wandb.ai/kacper-pt119-warsaw-university-of-technology/3DifferentNeuralNetsExperiments_v19/runs/qetm4nny</a>"
            ],
            "text/plain": [
              "<IPython.core.display.HTML object>"
            ]
          },
          "metadata": {},
          "output_type": "display_data"
        },
        {
          "name": "stderr",
          "output_type": "stream",
          "text": [
            "100%|██████████| 102/102 [00:03<00:00, 27.76it/s]\n"
          ]
        },
        {
          "name": "stdout",
          "output_type": "stream",
          "text": [
            "(Epoch 1/[train]) Loss:\t1.616   Accuracy: 0.245   lr: 0.003\n"
          ]
        },
        {
          "name": "stderr",
          "output_type": "stream",
          "text": [
            "100%|██████████| 26/26 [00:00<00:00, 43.72it/s]\n"
          ]
        },
        {
          "name": "stdout",
          "output_type": "stream",
          "text": [
            "(Epoch 1/[val]) Loss:\t1.533   Accuracy: 0.336   lr: 0.003\n"
          ]
        },
        {
          "name": "stderr",
          "output_type": "stream",
          "text": [
            "100%|██████████| 102/102 [00:03<00:00, 27.79it/s]\n"
          ]
        },
        {
          "name": "stdout",
          "output_type": "stream",
          "text": [
            "(Epoch 2/[train]) Loss:\t1.497   Accuracy: 0.338   lr: 0.003\n"
          ]
        },
        {
          "name": "stderr",
          "output_type": "stream",
          "text": [
            "100%|██████████| 26/26 [00:00<00:00, 43.53it/s]\n"
          ]
        },
        {
          "name": "stdout",
          "output_type": "stream",
          "text": [
            "(Epoch 2/[val]) Loss:\t1.423   Accuracy: 0.412   lr: 0.003\n"
          ]
        },
        {
          "name": "stderr",
          "output_type": "stream",
          "text": [
            "100%|██████████| 102/102 [00:03<00:00, 26.72it/s]\n"
          ]
        },
        {
          "name": "stdout",
          "output_type": "stream",
          "text": [
            "(Epoch 3/[train]) Loss:\t1.399   Accuracy: 0.406   lr: 0.003\n"
          ]
        },
        {
          "name": "stderr",
          "output_type": "stream",
          "text": [
            "100%|██████████| 26/26 [00:00<00:00, 41.49it/s]\n"
          ]
        },
        {
          "name": "stdout",
          "output_type": "stream",
          "text": [
            "(Epoch 3/[val]) Loss:\t1.342   Accuracy: 0.449   lr: 0.003\n"
          ]
        },
        {
          "name": "stderr",
          "output_type": "stream",
          "text": [
            "100%|██████████| 102/102 [00:03<00:00, 27.88it/s]\n"
          ]
        },
        {
          "name": "stdout",
          "output_type": "stream",
          "text": [
            "(Epoch 4/[train]) Loss:\t1.319   Accuracy: 0.445   lr: 0.003\n"
          ]
        },
        {
          "name": "stderr",
          "output_type": "stream",
          "text": [
            "100%|██████████| 26/26 [00:00<00:00, 42.79it/s]\n"
          ]
        },
        {
          "name": "stdout",
          "output_type": "stream",
          "text": [
            "(Epoch 4/[val]) Loss:\t1.279   Accuracy: 0.469   lr: 0.003\n"
          ]
        },
        {
          "name": "stderr",
          "output_type": "stream",
          "text": [
            "100%|██████████| 102/102 [00:03<00:00, 27.26it/s]\n"
          ]
        },
        {
          "name": "stdout",
          "output_type": "stream",
          "text": [
            "(Epoch 5/[train]) Loss:\t1.255   Accuracy: 0.477   lr: 0.003\n"
          ]
        },
        {
          "name": "stderr",
          "output_type": "stream",
          "text": [
            "100%|██████████| 26/26 [00:00<00:00, 43.52it/s]\n"
          ]
        },
        {
          "name": "stdout",
          "output_type": "stream",
          "text": [
            "(Epoch 5/[val]) Loss:\t1.226   Accuracy: 0.486   lr: 0.003\n"
          ]
        },
        {
          "name": "stderr",
          "output_type": "stream",
          "text": [
            "100%|██████████| 102/102 [00:03<00:00, 27.77it/s]\n"
          ]
        },
        {
          "name": "stdout",
          "output_type": "stream",
          "text": [
            "(Epoch 6/[train]) Loss:\t1.199   Accuracy: 0.500   lr: 0.003\n"
          ]
        },
        {
          "name": "stderr",
          "output_type": "stream",
          "text": [
            "100%|██████████| 26/26 [00:00<00:00, 42.90it/s]\n"
          ]
        },
        {
          "name": "stdout",
          "output_type": "stream",
          "text": [
            "(Epoch 6/[val]) Loss:\t1.185   Accuracy: 0.499   lr: 0.003\n"
          ]
        },
        {
          "name": "stderr",
          "output_type": "stream",
          "text": [
            "100%|██████████| 102/102 [00:03<00:00, 27.71it/s]\n"
          ]
        },
        {
          "name": "stdout",
          "output_type": "stream",
          "text": [
            "(Epoch 7/[train]) Loss:\t1.155   Accuracy: 0.523   lr: 0.003\n"
          ]
        },
        {
          "name": "stderr",
          "output_type": "stream",
          "text": [
            "100%|██████████| 26/26 [00:00<00:00, 42.73it/s]\n"
          ]
        },
        {
          "name": "stdout",
          "output_type": "stream",
          "text": [
            "(Epoch 7/[val]) Loss:\t1.154   Accuracy: 0.511   lr: 0.003\n"
          ]
        },
        {
          "name": "stderr",
          "output_type": "stream",
          "text": [
            "100%|██████████| 102/102 [00:03<00:00, 27.81it/s]\n"
          ]
        },
        {
          "name": "stdout",
          "output_type": "stream",
          "text": [
            "(Epoch 8/[train]) Loss:\t1.114   Accuracy: 0.538   lr: 0.003\n"
          ]
        },
        {
          "name": "stderr",
          "output_type": "stream",
          "text": [
            "100%|██████████| 26/26 [00:00<00:00, 42.57it/s]\n"
          ]
        },
        {
          "name": "stdout",
          "output_type": "stream",
          "text": [
            "(Epoch 8/[val]) Loss:\t1.128   Accuracy: 0.519   lr: 0.003\n"
          ]
        },
        {
          "name": "stderr",
          "output_type": "stream",
          "text": [
            "100%|██████████| 102/102 [00:03<00:00, 26.71it/s]\n"
          ]
        },
        {
          "name": "stdout",
          "output_type": "stream",
          "text": [
            "(Epoch 9/[train]) Loss:\t1.082   Accuracy: 0.553   lr: 0.003\n"
          ]
        },
        {
          "name": "stderr",
          "output_type": "stream",
          "text": [
            "100%|██████████| 26/26 [00:00<00:00, 42.27it/s]\n"
          ]
        },
        {
          "name": "stdout",
          "output_type": "stream",
          "text": [
            "(Epoch 9/[val]) Loss:\t1.107   Accuracy: 0.525   lr: 0.003\n"
          ]
        },
        {
          "name": "stderr",
          "output_type": "stream",
          "text": [
            "100%|██████████| 102/102 [00:03<00:00, 27.86it/s]\n"
          ]
        },
        {
          "name": "stdout",
          "output_type": "stream",
          "text": [
            "(Epoch 10/[train]) Loss:\t1.050   Accuracy: 0.565   lr: 0.003\n"
          ]
        },
        {
          "name": "stderr",
          "output_type": "stream",
          "text": [
            "100%|██████████| 26/26 [00:00<00:00, 43.95it/s]\n"
          ]
        },
        {
          "name": "stdout",
          "output_type": "stream",
          "text": [
            "(Epoch 10/[val]) Loss:\t1.090   Accuracy: 0.528   lr: 0.003\n"
          ]
        },
        {
          "name": "stderr",
          "output_type": "stream",
          "text": [
            "100%|██████████| 102/102 [00:03<00:00, 28.01it/s]\n"
          ]
        },
        {
          "name": "stdout",
          "output_type": "stream",
          "text": [
            "(Epoch 11/[train]) Loss:\t1.024   Accuracy: 0.578   lr: 0.003\n"
          ]
        },
        {
          "name": "stderr",
          "output_type": "stream",
          "text": [
            "100%|██████████| 26/26 [00:00<00:00, 41.92it/s]\n"
          ]
        },
        {
          "name": "stdout",
          "output_type": "stream",
          "text": [
            "(Epoch 11/[val]) Loss:\t1.077   Accuracy: 0.532   lr: 0.003\n"
          ]
        },
        {
          "name": "stderr",
          "output_type": "stream",
          "text": [
            "100%|██████████| 102/102 [00:03<00:00, 27.92it/s]\n"
          ]
        },
        {
          "name": "stdout",
          "output_type": "stream",
          "text": [
            "(Epoch 12/[train]) Loss:\t1.001   Accuracy: 0.584   lr: 0.003\n"
          ]
        },
        {
          "name": "stderr",
          "output_type": "stream",
          "text": [
            "100%|██████████| 26/26 [00:00<00:00, 43.87it/s]\n"
          ]
        },
        {
          "name": "stdout",
          "output_type": "stream",
          "text": [
            "(Epoch 12/[val]) Loss:\t1.066   Accuracy: 0.537   lr: 0.003\n"
          ]
        },
        {
          "name": "stderr",
          "output_type": "stream",
          "text": [
            "100%|██████████| 102/102 [00:03<00:00, 27.73it/s]\n"
          ]
        },
        {
          "name": "stdout",
          "output_type": "stream",
          "text": [
            "(Epoch 13/[train]) Loss:\t0.975   Accuracy: 0.598   lr: 0.003\n"
          ]
        },
        {
          "name": "stderr",
          "output_type": "stream",
          "text": [
            "100%|██████████| 26/26 [00:00<00:00, 43.72it/s]\n"
          ]
        },
        {
          "name": "stdout",
          "output_type": "stream",
          "text": [
            "(Epoch 13/[val]) Loss:\t1.057   Accuracy: 0.539   lr: 0.003\n"
          ]
        },
        {
          "name": "stderr",
          "output_type": "stream",
          "text": [
            "100%|██████████| 102/102 [00:03<00:00, 28.04it/s]\n"
          ]
        },
        {
          "name": "stdout",
          "output_type": "stream",
          "text": [
            "(Epoch 14/[train]) Loss:\t0.952   Accuracy: 0.611   lr: 0.003\n"
          ]
        },
        {
          "name": "stderr",
          "output_type": "stream",
          "text": [
            "100%|██████████| 26/26 [00:00<00:00, 41.71it/s]\n"
          ]
        },
        {
          "name": "stdout",
          "output_type": "stream",
          "text": [
            "(Epoch 14/[val]) Loss:\t1.050   Accuracy: 0.542   lr: 0.003\n"
          ]
        },
        {
          "name": "stderr",
          "output_type": "stream",
          "text": [
            "100%|██████████| 102/102 [00:03<00:00, 27.07it/s]\n"
          ]
        },
        {
          "name": "stdout",
          "output_type": "stream",
          "text": [
            "(Epoch 15/[train]) Loss:\t0.931   Accuracy: 0.621   lr: 0.003\n"
          ]
        },
        {
          "name": "stderr",
          "output_type": "stream",
          "text": [
            "100%|██████████| 26/26 [00:00<00:00, 31.59it/s]\n"
          ]
        },
        {
          "name": "stdout",
          "output_type": "stream",
          "text": [
            "(Epoch 15/[val]) Loss:\t1.045   Accuracy: 0.546   lr: 0.003\n"
          ]
        },
        {
          "name": "stderr",
          "output_type": "stream",
          "text": [
            "100%|██████████| 102/102 [00:04<00:00, 23.80it/s]\n"
          ]
        },
        {
          "name": "stdout",
          "output_type": "stream",
          "text": [
            "(Epoch 16/[train]) Loss:\t0.909   Accuracy: 0.629   lr: 0.0027\n"
          ]
        },
        {
          "name": "stderr",
          "output_type": "stream",
          "text": [
            "100%|██████████| 26/26 [00:00<00:00, 38.71it/s]\n"
          ]
        },
        {
          "name": "stdout",
          "output_type": "stream",
          "text": [
            "(Epoch 16/[val]) Loss:\t1.041   Accuracy: 0.547   lr: 0.0027\n"
          ]
        },
        {
          "name": "stderr",
          "output_type": "stream",
          "text": [
            "100%|██████████| 102/102 [00:04<00:00, 22.60it/s]\n"
          ]
        },
        {
          "name": "stdout",
          "output_type": "stream",
          "text": [
            "(Epoch 17/[train]) Loss:\t0.891   Accuracy: 0.638   lr: 0.0027\n"
          ]
        },
        {
          "name": "stderr",
          "output_type": "stream",
          "text": [
            "100%|██████████| 26/26 [00:00<00:00, 30.15it/s]\n"
          ]
        },
        {
          "name": "stdout",
          "output_type": "stream",
          "text": [
            "(Epoch 17/[val]) Loss:\t1.038   Accuracy: 0.547   lr: 0.0027\n"
          ]
        },
        {
          "name": "stderr",
          "output_type": "stream",
          "text": [
            "100%|██████████| 102/102 [00:04<00:00, 22.53it/s]\n"
          ]
        },
        {
          "name": "stdout",
          "output_type": "stream",
          "text": [
            "(Epoch 18/[train]) Loss:\t0.871   Accuracy: 0.648   lr: 0.0027\n"
          ]
        },
        {
          "name": "stderr",
          "output_type": "stream",
          "text": [
            "100%|██████████| 26/26 [00:00<00:00, 34.30it/s]\n"
          ]
        },
        {
          "name": "stdout",
          "output_type": "stream",
          "text": [
            "(Epoch 18/[val]) Loss:\t1.036   Accuracy: 0.548   lr: 0.0027\n"
          ]
        },
        {
          "name": "stderr",
          "output_type": "stream",
          "text": [
            "100%|██████████| 102/102 [00:04<00:00, 23.61it/s]\n"
          ]
        },
        {
          "name": "stdout",
          "output_type": "stream",
          "text": [
            "(Epoch 19/[train]) Loss:\t0.853   Accuracy: 0.656   lr: 0.0027\n"
          ]
        },
        {
          "name": "stderr",
          "output_type": "stream",
          "text": [
            "100%|██████████| 26/26 [00:00<00:00, 39.55it/s]\n"
          ]
        },
        {
          "name": "stdout",
          "output_type": "stream",
          "text": [
            "(Epoch 19/[val]) Loss:\t1.034   Accuracy: 0.549   lr: 0.0027\n"
          ]
        },
        {
          "name": "stderr",
          "output_type": "stream",
          "text": [
            "100%|██████████| 102/102 [00:04<00:00, 24.57it/s]\n"
          ]
        },
        {
          "name": "stdout",
          "output_type": "stream",
          "text": [
            "(Epoch 20/[train]) Loss:\t0.836   Accuracy: 0.664   lr: 0.0027\n"
          ]
        },
        {
          "name": "stderr",
          "output_type": "stream",
          "text": [
            "100%|██████████| 26/26 [00:00<00:00, 35.78it/s]\n"
          ]
        },
        {
          "name": "stdout",
          "output_type": "stream",
          "text": [
            "(Epoch 20/[val]) Loss:\t1.034   Accuracy: 0.549   lr: 0.0027\n"
          ]
        },
        {
          "name": "stderr",
          "output_type": "stream",
          "text": [
            "100%|██████████| 102/102 [00:04<00:00, 23.90it/s]\n"
          ]
        },
        {
          "name": "stdout",
          "output_type": "stream",
          "text": [
            "(Epoch 21/[train]) Loss:\t0.817   Accuracy: 0.673   lr: 0.0027\n"
          ]
        },
        {
          "name": "stderr",
          "output_type": "stream",
          "text": [
            "100%|██████████| 26/26 [00:00<00:00, 38.95it/s]\n"
          ]
        },
        {
          "name": "stdout",
          "output_type": "stream",
          "text": [
            "(Epoch 21/[val]) Loss:\t1.034   Accuracy: 0.548   lr: 0.0027\n"
          ]
        },
        {
          "name": "stderr",
          "output_type": "stream",
          "text": [
            "100%|██████████| 102/102 [00:04<00:00, 24.57it/s]\n"
          ]
        },
        {
          "name": "stdout",
          "output_type": "stream",
          "text": [
            "(Epoch 22/[train]) Loss:\t0.797   Accuracy: 0.683   lr: 0.0027\n"
          ]
        },
        {
          "name": "stderr",
          "output_type": "stream",
          "text": [
            "100%|██████████| 26/26 [00:00<00:00, 37.54it/s]\n"
          ]
        },
        {
          "name": "stdout",
          "output_type": "stream",
          "text": [
            "(Epoch 22/[val]) Loss:\t1.035   Accuracy: 0.548   lr: 0.0027\n"
          ]
        },
        {
          "name": "stderr",
          "output_type": "stream",
          "text": [
            "100%|██████████| 102/102 [00:04<00:00, 25.49it/s]\n"
          ]
        },
        {
          "name": "stdout",
          "output_type": "stream",
          "text": [
            "(Epoch 23/[train]) Loss:\t0.780   Accuracy: 0.691   lr: 0.0027\n"
          ]
        },
        {
          "name": "stderr",
          "output_type": "stream",
          "text": [
            "100%|██████████| 26/26 [00:00<00:00, 39.67it/s]\n"
          ]
        },
        {
          "name": "stdout",
          "output_type": "stream",
          "text": [
            "(Epoch 23/[val]) Loss:\t1.037   Accuracy: 0.549   lr: 0.0027\n"
          ]
        },
        {
          "name": "stderr",
          "output_type": "stream",
          "text": [
            "100%|██████████| 102/102 [00:03<00:00, 25.61it/s]\n"
          ]
        },
        {
          "name": "stdout",
          "output_type": "stream",
          "text": [
            "(Epoch 24/[train]) Loss:\t0.762   Accuracy: 0.700   lr: 0.0027\n"
          ]
        },
        {
          "name": "stderr",
          "output_type": "stream",
          "text": [
            "100%|██████████| 26/26 [00:00<00:00, 41.00it/s]\n"
          ]
        },
        {
          "name": "stdout",
          "output_type": "stream",
          "text": [
            "(Epoch 24/[val]) Loss:\t1.039   Accuracy: 0.548   lr: 0.0027\n"
          ]
        },
        {
          "name": "stderr",
          "output_type": "stream",
          "text": [
            "100%|██████████| 102/102 [00:03<00:00, 26.45it/s]\n"
          ]
        },
        {
          "name": "stdout",
          "output_type": "stream",
          "text": [
            "(Epoch 25/[train]) Loss:\t0.743   Accuracy: 0.708   lr: 0.0027\n"
          ]
        },
        {
          "name": "stderr",
          "output_type": "stream",
          "text": [
            "100%|██████████| 26/26 [00:00<00:00, 42.99it/s]"
          ]
        },
        {
          "name": "stdout",
          "output_type": "stream",
          "text": [
            "(Epoch 25/[val]) Loss:\t1.043   Accuracy: 0.546   lr: 0.0027\n",
            "--------------------Early stopping--------------------\n"
          ]
        },
        {
          "name": "stderr",
          "output_type": "stream",
          "text": [
            "\n"
          ]
        },
        {
          "data": {
            "text/html": [],
            "text/plain": [
              "<IPython.core.display.HTML object>"
            ]
          },
          "metadata": {},
          "output_type": "display_data"
        },
        {
          "data": {
            "text/html": [
              "<br>    <style><br>        .wandb-row {<br>            display: flex;<br>            flex-direction: row;<br>            flex-wrap: wrap;<br>            justify-content: flex-start;<br>            width: 100%;<br>        }<br>        .wandb-col {<br>            display: flex;<br>            flex-direction: column;<br>            flex-basis: 100%;<br>            flex: 1;<br>            padding: 10px;<br>        }<br>    </style><br><div class=\"wandb-row\"><div class=\"wandb-col\"><h3>Run history:</h3><br/><table class=\"wandb\"><tr><td>train/accuracy</td><td>▁▂▃▄▅▅▅▅▆▆▆▆▆▇▇▇▇▇▇▇▇████</td></tr><tr><td>train/loss</td><td>█▇▆▆▅▅▄▄▄▃▃▃▃▃▃▂▂▂▂▂▂▁▁▁▁</td></tr><tr><td>train/lr</td><td>███████████████▁▁▁▁▁▁▁▁▁▁</td></tr><tr><td>val/accuracy</td><td>▁▃▅▅▆▆▇▇▇▇▇██████████████</td></tr><tr><td>val/loss</td><td>█▆▅▄▄▃▃▂▂▂▂▁▁▁▁▁▁▁▁▁▁▁▁▁▁</td></tr><tr><td>val/lr</td><td>███████████████▁▁▁▁▁▁▁▁▁▁</td></tr></table><br/></div><div class=\"wandb-col\"><h3>Run summary:</h3><br/><table class=\"wandb\"><tr><td>train/accuracy</td><td>0.70842</td></tr><tr><td>train/loss</td><td>0.74346</td></tr><tr><td>train/lr</td><td>0.0027</td></tr><tr><td>val/accuracy</td><td>0.54592</td></tr><tr><td>val/loss</td><td>1.04288</td></tr><tr><td>val/lr</td><td>0.0027</td></tr></table><br/></div></div>"
            ],
            "text/plain": [
              "<IPython.core.display.HTML object>"
            ]
          },
          "metadata": {},
          "output_type": "display_data"
        },
        {
          "data": {
            "text/html": [
              " View run <strong style=\"color:#cdcd00\">model3</strong> at: <a href='https://wandb.ai/kacper-pt119-warsaw-university-of-technology/3DifferentNeuralNetsExperiments_v19/runs/qetm4nny' target=\"_blank\">https://wandb.ai/kacper-pt119-warsaw-university-of-technology/3DifferentNeuralNetsExperiments_v19/runs/qetm4nny</a><br> View project at: <a href='https://wandb.ai/kacper-pt119-warsaw-university-of-technology/3DifferentNeuralNetsExperiments_v19' target=\"_blank\">https://wandb.ai/kacper-pt119-warsaw-university-of-technology/3DifferentNeuralNetsExperiments_v19</a><br>Synced 5 W&B file(s), 0 media file(s), 0 artifact file(s) and 0 other file(s)"
            ],
            "text/plain": [
              "<IPython.core.display.HTML object>"
            ]
          },
          "metadata": {},
          "output_type": "display_data"
        },
        {
          "data": {
            "text/html": [
              "Find logs at: <code>.\\wandb\\run-20251017_151541-qetm4nny\\logs</code>"
            ],
            "text/plain": [
              "<IPython.core.display.HTML object>"
            ]
          },
          "metadata": {},
          "output_type": "display_data"
        }
      ],
      "source": [
        "# Setting methods and parameters for training\n",
        "\n",
        "device = torch.device(\"cuda:0\" if torch.cuda.is_available else \"cpu\")\n",
        "\n",
        "num_epochs = 50\n",
        "criterion = nn.CrossEntropyLoss()\n",
        "classifiers = {\"model1\" : SimpleNet(vocab_size, 5),\n",
        "               \"model2\" : MediumNet(vocab_size, 5),\n",
        "               \"model3\" : LargeNet(vocab_size, 5)}\n",
        "\n",
        "\n",
        "for name, model in classifiers.items():\n",
        "  print(f\"Trenowanie modelu: {name}\")\n",
        "  model = model.to(device)\n",
        "  optimizer = torch.optim.SGD(model.parameters(), lr=3e-3, weight_decay=1e-4)\n",
        "  lr_scheduler = torch.optim.lr_scheduler.StepLR(optimizer, step_size=15, gamma=0.9)\n",
        "  run = wandb.init(\n",
        "    project=\"3DifferentNeuralNetsExperiments_v19\",\n",
        "    name=name,\n",
        "    config={\n",
        "        \"model\": name,\n",
        "        \"vocab_size\": vocab_size,\n",
        "        \"num_classes\": 5,\n",
        "        \"optimizer\": \"SGD\",\n",
        "        \"lr\": 3e-3,\n",
        "        \"weight_decay\": 1e-4,\n",
        "        \"scheduler\": \"StepLRR\",\n",
        "        \"step\": 15,\n",
        "        \"gamma\": 0.9,\n",
        "        \"num_epochs\": num_epochs\n",
        "    }\n",
        "  )\n",
        "  train(model, loaders, criterion, optimizer, lr_scheduler, num_epochs, device)\n",
        "  run.finish()\n"
      ]
    },
    {
      "cell_type": "code",
      "execution_count": 49,
      "metadata": {
        "colab": {
          "base_uri": "https://localhost:8080/",
          "height": 599
        },
        "id": "BwdNg2IeagDO",
        "outputId": "5b6f28d7-8748-4623-93d7-98693754d8ec"
      },
      "outputs": [
        {
          "data": {
            "image/png": "[encoded data removed]",
            "text/plain": [
              "<Figure size 1500x600 with 2 Axes>"
            ]
          },
          "metadata": {},
          "output_type": "display_data"
        },
        {
          "data": {
            "image/png": "[encoded data removed]",
            "text/plain": [
              "<Figure size 1500x600 with 2 Axes>"
            ]
          },
          "metadata": {},
          "output_type": "display_data"
        },
        {
          "data": {
            "image/png": "[encoded data removed]",
            "text/plain": [
              "<Figure size 1500x600 with 2 Axes>"
            ]
          },
          "metadata": {},
          "output_type": "display_data"
        },
        {
          "name": "stdout",
          "output_type": "stream",
          "text": [
            "The best model is: model3\n"
          ]
        }
      ],
      "source": [
        "# Results viasualization\n",
        "def create_loss_plot(train_losses,\n",
        "                     val_losses,\n",
        "                     train_accuracies,\n",
        "                     val_accuracies):\n",
        "\n",
        "  epochs = range(1, len(train_losses) + 1)\n",
        "  fig, (ax1, ax2) = plt.subplots(1, 2, figsize=(15, 6))\n",
        "\n",
        "\n",
        "  # Loss plot\n",
        "  ax1.plot(epochs, train_losses, 'b-', label='Training Loss', linewidth=1, marker='o', markersize=2)\n",
        "  ax1.plot(epochs, val_losses, 'r-', label='Validation Loss', linewidth=1, marker='s', markersize=2)\n",
        "\n",
        "  ax1.set_xlabel('Epoch')\n",
        "  ax1.set_ylabel('Loss')\n",
        "  ax1.set_title('Training loss vs validation loss')\n",
        "  ax1.legend()\n",
        "  ax1.grid(True, alpha=0.3)\n",
        "\n",
        "  # Accuracy plot\n",
        "  ax2.plot(epochs, train_accuracies, 'g-', label='Training Accuracy', linewidth=1, marker='o', markersize=2)\n",
        "  ax2.plot(epochs, val_accuracies, 'm-', label='Validation Accuracy', linewidth=1, marker='s', markersize=2)\n",
        "\n",
        "  ax2.set_xlabel('Epoch')\n",
        "  ax2.set_ylabel('Accuracy (%)')\n",
        "  ax2.set_title('Training accuracy vs validation accuracy')\n",
        "  ax2.legend()\n",
        "  ax2.grid(True, alpha=0.3)\n",
        "\n",
        "  plt.tight_layout()\n",
        "  plt.show()\n",
        "\n",
        "api = wandb.Api()\n",
        "runs = api.runs(\"kacper-pt119-warsaw-university-of-technology/3DifferentNeuralNetsExperiments_v19\")\n",
        "\n",
        "metrics = [\"train/loss\", \"val/loss\", \"train/accuracy\", \"val/accuracy\"]\n",
        "\n",
        "all_histories = {}\n",
        "\n",
        "for run in runs:\n",
        "  history = run.history(keys=metrics)\n",
        "  all_histories[run.name] = history\n",
        "\n",
        "the_best_val_loss_model = None\n",
        "the_best_val_loss = float(\"inf\")\n",
        "for name, history in all_histories.items():\n",
        "  if the_best_val_loss_model is None:\n",
        "    the_best_val_loss_model = name\n",
        "    the_best_val_loss = np.min(history[\"val/loss\"].to_list())\n",
        "  else:\n",
        "    if np.min(history[\"val/loss\"].to_list()) < the_best_val_loss:\n",
        "      the_best_val_loss_model = name\n",
        "      the_best_val_loss = np.min(history[\"val/loss\"].to_list())\n",
        "\n",
        "  train_losses = history[\"train/loss\"].to_list()\n",
        "  val_losses   = history[\"val/loss\"].to_list()\n",
        "  train_acc    = history[\"train/accuracy\"].to_list()\n",
        "  val_acc      = history[\"val/accuracy\"].to_list()\n",
        "  create_loss_plot(train_losses, val_losses, train_acc, val_acc)\n",
        "\n",
        "print(f\"The best model is: {the_best_val_loss_model}\")\n",
        "\n"
      ]
    },
    {
      "cell_type": "code",
      "execution_count": 50,
      "metadata": {
        "colab": {
          "base_uri": "https://localhost:8080/",
          "height": 618
        },
        "id": "hMlskiOUhmmO",
        "outputId": "6bef1989-6dee-4c83-c617-2988c7a12d1a"
      },
      "outputs": [
        {
          "name": "stdout",
          "output_type": "stream",
          "text": [
            "              precision    recall  f1-score   support\n",
            "\n",
            "           0       0.64      0.74      0.69      3989\n",
            "           1       0.50      0.38      0.43      4091\n",
            "           2       0.44      0.48      0.46      3925\n",
            "           3       0.46      0.48      0.47      4061\n",
            "           4       0.63      0.61      0.62      3934\n",
            "\n",
            "    accuracy                           0.54     20000\n",
            "   macro avg       0.53      0.54      0.53     20000\n",
            "weighted avg       0.53      0.54      0.53     20000\n",
            "\n"
          ]
        },
        {
          "data": {
            "image/png": "[encoded data removed]",
            "text/plain": [
              "<Figure size 500x400 with 2 Axes>"
            ]
          },
          "metadata": {},
          "output_type": "display_data"
        }
      ],
      "source": [
        "from sklearn.metrics import classification_report\n",
        "import seaborn as sns\n",
        "from sklearn.metrics import confusion_matrix\n",
        "\n",
        "# Model evaluation\n",
        "def get_data_to_eval(model, data_loader):\n",
        "  model.eval()\n",
        "  preds_l = []\n",
        "  targets_l = []\n",
        "  with torch.inference_mode():\n",
        "      for inputs, targets in data_loader:\n",
        "          device = next(model.parameters()).device\n",
        "          inputs, targets = inputs.to(device), targets.to(device)\n",
        "          outputs = model(inputs)\n",
        "          _, predicted = torch.max(outputs, 1)\n",
        "          preds_l.extend(predicted.cpu().numpy())\n",
        "          targets_l.extend(targets.cpu().numpy())\n",
        "  return preds_l, targets_l\n",
        "\n",
        "the_best_model = classifiers[the_best_val_loss_model]\n",
        "preds, targets = get_data_to_eval(the_best_model, loaders[\"test\"])\n",
        "labels = [str(i) for i in range(0,5)]\n",
        "\n",
        "report = classification_report(targets, preds, target_names = labels)\n",
        "print(report)\n",
        "\n",
        "# Confusion matrix\n",
        "cm = confusion_matrix(targets, preds)\n",
        "plt.figure(figsize=(5, 4))\n",
        "sns.heatmap(cm, annot=True, fmt='d', cmap='Blues', xticklabels=labels, yticklabels=labels)\n",
        "plt.title(f'Confusion matrix for model: {the_best_val_loss_model}')\n",
        "plt.xlabel('Predicted class')\n",
        "plt.ylabel('True class')\n",
        "plt.show()"
      ]
    },
    {
      "cell_type": "markdown",
      "metadata": {},
      "source": [
        "A function that finds and displays $k$ elements of the test set for which the model is most wrong, i.e., predicts the smallest probabilities of the true class. Softmax is a strictly increasing function, so it is enough to find elements with the smallest value of unnormalized output from the network (logit) for the true class."
      ]
    },
    {
      "cell_type": "code",
      "execution_count": null,
      "metadata": {
        "colab": {
          "base_uri": "https://localhost:8080/"
        },
        "id": "uDlo7t7i2KkS",
        "outputId": "9ad6cd90-bca9-4bc9-cf5a-88ab97877fe4"
      },
      "outputs": [
        {
          "name": "stdout",
          "output_type": "stream",
          "text": [
            "\n",
            "Model: model2\n",
            "Top 10 the most wrong predicted elements:\n",
            "1. True class: 0, Predicted class: 2, Logit for true class: -3.2173\n",
            "2. True class: 4, Predicted class: 1, Logit for true class: -3.0492\n",
            "3. True class: 0, Predicted class: 4, Logit for true class: -2.8106\n",
            "4. True class: 0, Predicted class: 4, Logit for true class: -2.8047\n",
            "5. True class: 3, Predicted class: 0, Logit for true class: -2.8032\n",
            "6. True class: 4, Predicted class: 1, Logit for true class: -2.8019\n",
            "7. True class: 4, Predicted class: 0, Logit for true class: -2.7780\n",
            "8. True class: 4, Predicted class: 2, Logit for true class: -2.7193\n",
            "9. True class: 0, Predicted class: 4, Logit for true class: -2.5667\n",
            "10. True class: 0, Predicted class: 3, Logit for true class: -2.5342\n"
          ]
        }
      ],
      "source": [
        "def show_worst_predictions(model, data_loader, k=10):\n",
        "    model.eval()\n",
        "    device = next(model.parameters()).device\n",
        "    mistakes = []\n",
        "\n",
        "    with torch.inference_mode():\n",
        "        for inputs, targets in data_loader:\n",
        "            inputs, targets = inputs.to(device), targets.to(device)\n",
        "            logits = model(inputs)\n",
        "            preds = torch.argmax(logits, dim=1)\n",
        "\n",
        "            # Get logits for True class\n",
        "            true_class_logits = logits.gather(1, targets.unsqueeze(1)).squeeze(1)\n",
        "\n",
        "            for i in range(targets.size(0)):\n",
        "                mistakes.append((true_class_logits[i].item(), inputs[i].cpu(), targets[i].item(), preds[i].item()))\n",
        "\n",
        "    mistakes.sort(key=lambda x: x[0])\n",
        "\n",
        "    print(f\"Top {k} the most wrong predicted elements:\")\n",
        "    for i in range(k):\n",
        "        logit, x, target, pred = mistakes[i]\n",
        "        print(f\"{i+1}. True class: {target}, Predicted class: {pred}, Logit for true class: {logit:.4f}\")\n",
        "\n",
        "    return mistakes[:k]\n",
        "\n",
        "for name, model in classifiers.items():\n",
        "  print(f\"\\nModel: {name}\")\n",
        "  show_worst_predictions(model, loaders[\"test\"])"
      ]
    }
  ],
  "metadata": {
    "accelerator": "GPU",
    "colab": {
      "gpuType": "T4",
      "provenance": [],
      "toc_visible": true
    },
    "kernelspec": {
      "display_name": "Python 3",
      "name": "python3"
    },
    "language_info": {
      "codemirror_mode": {
        "name": "ipython",
        "version": 3
      },
      "file_extension": ".py",
      "mimetype": "text/x-python",
      "name": "python",
      "nbconvert_exporter": "python",
      "pygments_lexer": "ipython3",
      "version": "3.12.8"
    }
  },
  "nbformat": 4,
  "nbformat_minor": 0
}
