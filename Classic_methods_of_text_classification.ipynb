{
  "cells": [
    {
      "cell_type": "markdown",
      "metadata": {
        "id": "KD8xISdCAOKI"
      },
      "source": [
        "# Classic methods of text classification"
      ]
    },
    {
      "cell_type": "markdown",
      "metadata": {
        "id": "9-z5reyCUVLN"
      },
      "source": [
        "### Yelp Review Rating Classification\n",
        "\n",
        "A machine learning project for sentiment analysis and rating prediction of Yelp reviews using TF-IDF feature extraction and neural networks.\n",
        "\n",
        "### Project Overview\n",
        "\n",
        "This project implements a multi-class classification system to predict Yelp review ratings (1-5 stars) based on review text. The solution combines traditional NLP feature extraction methods with neural network classifiers.\n",
        "\n",
        "### Dataset\n",
        "\n",
        "We use the **Yelp Review Full** dataset from Hugging Face:\n",
        "- **Dataset**: [Yelp/yelp_review_full](https://huggingface.co/datasets/Yelp/yelp_review_full)\n",
        "- **Features**:\n",
        "  - `text`: The review text content\n",
        "  - `label`: Rating label (0-4, corresponding to 1-5 stars respectively)\n",
        "\n",
        "### Technical Approach\n",
        "\n",
        "#### Data Preprocessing\n",
        "- Split the original training data to create a dedicated validation set\n",
        "- Applied dataset size constraints (training set limited to 100,000 samples)\n",
        "- Maintained proportional splits for validation and test sets\n",
        "\n",
        "#### Feature Extraction\n",
        "- **TF-IDF (Term Frequency-Inverse Document Frequency)** implementation\n",
        "- **Bag-of-Words** representation using `TfidfVectorizer` from `scikit-learn`\n",
        "- Text vectorization for neural network compatibility\n",
        "\n"
      ]
    },
    {
      "cell_type": "markdown",
      "metadata": {
        "id": "yz1EcTToUUIx"
      },
      "source": [
        "Import libraries"
      ]
    },
    {
      "cell_type": "code",
      "execution_count": 1,
      "metadata": {
        "colab": {
          "base_uri": "https://localhost:8080/"
        },
        "id": "zdGVyE77UU7l",
        "outputId": "00e8fd8d-3849-4707-e327-a8c961199ec4"
      },
      "outputs": [
        {
          "name": "stdout",
          "output_type": "stream",
          "text": [
            "PyTorch version: 2.5.1+cu121\n"
          ]
        }
      ],
      "source": [
        "import torch\n",
        "import numpy as np\n",
        "import matplotlib.pyplot as plt\n",
        "\n",
        "print(f\"PyTorch version: {torch.__version__}\")"
      ]
    },
    {
      "cell_type": "code",
      "execution_count": 2,
      "metadata": {
        "colab": {
          "base_uri": "https://localhost:8080/"
        },
        "id": "9Xfy2mWEW-Vi",
        "outputId": "d8a50d4b-72f5-4419-a538-d6fe12112d09"
      },
      "outputs": [
        {
          "name": "stderr",
          "output_type": "stream",
          "text": [
            "c:\\Users\\kacpe\\AppData\\Local\\Programs\\Python\\Python312\\Lib\\site-packages\\pydantic\\_internal\\_generate_schema.py:2249: UnsupportedFieldAttributeWarning: The 'repr' attribute with value False was provided to the `Field()` function, which has no effect in the context it was used. 'repr' is field-specific metadata, and can only be attached to a model field using `Annotated` metadata or by assignment. This may have happened because an `Annotated` type alias using the `type` statement was used, or if the `Field()` function was attached to a single member of a union type.\n",
            "  warnings.warn(\n",
            "c:\\Users\\kacpe\\AppData\\Local\\Programs\\Python\\Python312\\Lib\\site-packages\\pydantic\\_internal\\_generate_schema.py:2249: UnsupportedFieldAttributeWarning: The 'frozen' attribute with value True was provided to the `Field()` function, which has no effect in the context it was used. 'frozen' is field-specific metadata, and can only be attached to a model field using `Annotated` metadata or by assignment. This may have happened because an `Annotated` type alias using the `type` statement was used, or if the `Field()` function was attached to a single member of a union type.\n",
            "  warnings.warn(\n",
            "\u001b[34m\u001b[1mwandb\u001b[0m: Logging into wandb.ai. (Learn how to deploy a W&B server locally: https://wandb.me/wandb-server)\n",
            "\u001b[34m\u001b[1mwandb\u001b[0m: You can find your API key in your browser here: https://wandb.ai/authorize\n",
            "\u001b[34m\u001b[1mwandb\u001b[0m: Paste an API key from your profile and hit enter:\u001b[34m\u001b[1mwandb\u001b[0m: \u001b[33mWARNING\u001b[0m If you're specifying your api key in code, ensure this code is not shared publicly.\n",
            "\u001b[34m\u001b[1mwandb\u001b[0m: \u001b[33mWARNING\u001b[0m Consider setting the WANDB_API_KEY environment variable, or running `wandb login` from the command line.\n",
            "\u001b[34m\u001b[1mwandb\u001b[0m: No netrc file found, creating one.\n",
            "\u001b[34m\u001b[1mwandb\u001b[0m: Appending key for api.wandb.ai to your netrc file: C:\\Users\\kacpe\\_netrc\n",
            "\u001b[34m\u001b[1mwandb\u001b[0m: Currently logged in as: \u001b[33mkacper-pt119\u001b[0m (\u001b[33mkacper-pt119-warsaw-university-of-technology\u001b[0m) to \u001b[32mhttps://api.wandb.ai\u001b[0m. Use \u001b[1m`wandb login --relogin`\u001b[0m to force relogin\n"
          ]
        },
        {
          "data": {
            "text/plain": [
              "True"
            ]
          },
          "execution_count": 2,
          "metadata": {},
          "output_type": "execute_result"
        }
      ],
      "source": [
        "import wandb\n",
        "\n",
        "# Loging to Weights&Biases website to monitor my experiments\n",
        "wandb.login()"
      ]
    },
    {
      "cell_type": "markdown",
      "metadata": {
        "id": "sjIAG6sjW8Dw"
      },
      "source": [
        "# Load dataset"
      ]
    },
    {
      "cell_type": "code",
      "execution_count": 3,
      "metadata": {
        "colab": {
          "base_uri": "https://localhost:8080/"
        },
        "id": "mqDLYFafW9yC",
        "outputId": "f8916b40-aa87-423f-ffce-67a2f1a13bb1"
      },
      "outputs": [
        {
          "name": "stderr",
          "output_type": "stream",
          "text": [
            "c:\\Users\\kacpe\\AppData\\Local\\Programs\\Python\\Python312\\Lib\\site-packages\\tqdm\\auto.py:21: TqdmWarning: IProgress not found. Please update jupyter and ipywidgets. See https://ipywidgets.readthedocs.io/en/stable/user_install.html\n",
            "  from .autonotebook import tqdm as notebook_tqdm\n"
          ]
        },
        {
          "name": "stdout",
          "output_type": "stream",
          "text": [
            "Test set size: 20000\n",
            "Validation set size: 13000\n",
            "Training set size: 52000\n",
            "\n",
            "Example element from the dataset:\n",
            "sample['text']=\"Monta neighbors Nakamura-Ya, & Raku. With an authentic sushi place to join the strip mall, this is the spot to get some kick-butt Japanese food. Monta is a ramen-specialty restaurant that is not to be skipped!\\\\n\\\\nRAMEN: Their menu is small but mighty. What kind of ramen you like? Miso, Shoyu, or Tonkatsu? They come with thin slices of char-siu pork. Ichiza actually has my favorite char-siu.... but Monta's is a solid second. Overall, the ramen here is far superior anyway. There's also a variety of toppings you can add for an additional cost. Generally, I order the same thing every time: Miso Ramen w/ Egg & Nori. YUM! I've sampled every type of soup but Miso is my favorite. The broth is rich & flavorful and I can't find it as good anywhere else.\\\\n\\\\nAPPETIZERS: If fish eggs are your thing, Monta has the freshest Mentaiko in Las Vegas. Order a Mini Mentaiko Bowl (Rice, Mentaiko, Scallion)--throw some soy sauce & togarashi on it as a delicious starter. Gyoza here are good too but nothing to get excited over.\\\\n\\\\nOTHER: There's a board on the wall that has the other entree items. On different occasions I've seen some type of cold noodles, rice bowls, and fried rice. My memory fails to remember the rest but so far none of them interested me enough to try. A client of mine recommended to try the cold noodles.... maybe next time.\\\\n\\\\nCome for the Ramen, Stay for the Ramen, Come Back for the Ramen--good eats.\"\n",
            "sample['label']=4\n"
          ]
        }
      ],
      "source": [
        "from datasets import load_dataset\n",
        "\n",
        "ds = load_dataset(\"Yelp/yelp_review_full\")\n",
        "\n",
        "test_dataset = ds[\"test\"]\n",
        "splitted_dataset = ds[\"train\"].train_test_split(test_size=0.2)\n",
        "train_dataset = splitted_dataset[\"train\"]\n",
        "val_dataset = splitted_dataset[\"test\"]\n",
        "\n",
        "# Create smaller data subsets\n",
        "train_dataset = train_dataset.shuffle().select(range(int(len(train_dataset)*0.1)))\n",
        "val_dataset = val_dataset.shuffle().select(range(int(len(val_dataset)*0.1)))\n",
        "test_dataset = test_dataset.shuffle().select(range(int(len(test_dataset)*0.4)))\n",
        "\n",
        "print(f\"Test set size: {len(test_dataset)}\")\n",
        "print(f\"Validation set size: {len(val_dataset)}\")\n",
        "print(f\"Training set size: {len(train_dataset)}\")\n",
        "\n",
        "sample = train_dataset[123]\n",
        "print(f\"\\nExample element from the dataset:\")\n",
        "print(f\"{sample['text']=}\")\n",
        "print(f\"{sample['label']=}\")"
      ]
    },
    {
      "cell_type": "code",
      "execution_count": 4,
      "metadata": {
        "colab": {
          "base_uri": "https://localhost:8080/",
          "height": 472
        },
        "id": "fifOwsXEXGvJ",
        "outputId": "139bc12e-080e-45d8-8f71-e4dfafe49e60"
      },
      "outputs": [
        {
          "data": {
            "image/png": "[encoded data removed]",
            "text/plain": [
              "<Figure size 640x480 with 1 Axes>"
            ]
          },
          "metadata": {},
          "output_type": "display_data"
        }
      ],
      "source": [
        "unique_labels, counts = np.unique(train_dataset[\"label\"], return_counts=True)\n",
        "\n",
        "plt.bar(unique_labels, counts, color=[\"red\", \"lightcoral\", \"bisque\", \"limegreen\", \"green\"], edgecolor='black')\n",
        "plt.title('Histogram of Labels')\n",
        "plt.xlabel('Label')\n",
        "plt.ylabel('Frequency')\n",
        "plt.xticks(unique_labels)\n",
        "plt.grid(axis='y', linestyle='--', alpha=0.8)\n",
        "plt.show()"
      ]
    },
    {
      "cell_type": "code",
      "execution_count": 5,
      "metadata": {
        "colab": {
          "base_uri": "https://localhost:8080/"
        },
        "id": "yUSQNPNJNi-Z",
        "outputId": "5db16b28-75e2-4969-b302-9390fd6e9745"
      },
      "outputs": [
        {
          "name": "stdout",
          "output_type": "stream",
          "text": [
            "TF-IDF matrix size for training set: (52000, 10000)\n",
            "train_tfidf_features.dtype=dtype('float64')\n",
            "\n",
            "Number of features: 10000\n",
            "Example features: ['queens' 'surgery' 'guns' 'nserver' 'concoctions' 'aus' 'u00fcr'\n",
            " 'oriental' 'bouchon' 'worst' 'circuit' 'certainly' 'vegan' 'prices'\n",
            " 'curiosity' 'pit' 'guessing' 'detroit' 'moon' 'scene']\n",
            "\n"
          ]
        }
      ],
      "source": [
        "from sklearn.feature_extraction.text import TfidfVectorizer\n",
        "from sklearn import metrics\n",
        "from tqdm import tqdm\n",
        "\n",
        "vocab_size = 10000\n",
        "\n",
        "vectorizer = TfidfVectorizer(\n",
        "    max_features=vocab_size,\n",
        "    lowercase=True,\n",
        "    analyzer='word',\n",
        "    ngram_range=(1, 1),\n",
        "    stop_words=\"english\"\n",
        ")\n",
        "\n",
        "# Feature extraction\n",
        "train_tfidf_features = vectorizer.fit_transform(train_dataset[\"text\"])\n",
        "# On validation and test sets we use transform() function which extracts the same features as on the training set\n",
        "val_tfidf_features = vectorizer.transform(val_dataset[\"text\"])\n",
        "test_tfidf_features = vectorizer.transform(test_dataset[\"text\"])\n",
        "\n",
        "print(f\"TF-IDF matrix size for training set: {train_tfidf_features.shape}\")\n",
        "print(f\"{train_tfidf_features.dtype=}\\n\")\n",
        "\n",
        "feature_names = vectorizer.get_feature_names_out()\n",
        "print(f\"Number of features: {len(feature_names)}\")\n",
        "print(f\"Example features: {np.random.choice(feature_names, 20)}\\n\")"
      ]
    },
    {
      "cell_type": "code",
      "execution_count": 6,
      "metadata": {
        "colab": {
          "base_uri": "https://localhost:8080/",
          "height": 582
        },
        "id": "zN9cgL00Ofnq",
        "outputId": "1fd8ecde-6d3d-4649-d1e9-0f1460ec1bee"
      },
      "outputs": [
        {
          "name": "stdout",
          "output_type": "stream",
          "text": [
            "Average number of non-zero features in samples: 47.87\n"
          ]
        },
        {
          "data": {
            "image/png": "[encoded data removed]",
            "text/plain": [
              "<Figure size 800x600 with 1 Axes>"
            ]
          },
          "metadata": {},
          "output_type": "display_data"
        }
      ],
      "source": [
        "non_zero_counts = np.diff(train_tfidf_features.indptr)\n",
        "print(f\"Average number of non-zero features in samples: {non_zero_counts.mean():.2f}\")\n",
        "\n",
        "# Plot histogram\n",
        "plt.figure(figsize=(8, 6))\n",
        "plt.hist(non_zero_counts, bins=64)\n",
        "plt.title('Histogram of number of non-zero features per sample')\n",
        "plt.xlabel('Number of non-zero features')\n",
        "plt.ylabel('Number of samples')\n",
        "plt.grid(axis='y', linestyle='--', alpha=0.7)"
      ]
    },
    {
      "cell_type": "code",
      "execution_count": 7,
      "metadata": {
        "id": "cSIl0gicQ1kX"
      },
      "outputs": [],
      "source": [
        "import torch\n",
        "from torch.utils.data import TensorDataset, DataLoader\n",
        "\n",
        "# Create appropriate datasets using tfidf matrices\n",
        "def make_dataset(tfidf_matrix, labels):\n",
        "  dense_features = tfidf_matrix.astype(np.float32).todense()\n",
        "  dataset = TensorDataset(torch.tensor(dense_features), torch.tensor(labels, dtype=torch.int64))\n",
        "  return dataset\n",
        "\n",
        "datasets = {\n",
        "    \"train\": make_dataset(train_tfidf_features, train_dataset[\"label\"]),\n",
        "    \"val\": make_dataset(val_tfidf_features, val_dataset[\"label\"]),\n",
        "    \"test\": make_dataset(test_tfidf_features, test_dataset[\"label\"])\n",
        "}\n",
        "\n",
        "\n",
        "train_loader = DataLoader(datasets[\"train\"], shuffle=True, batch_size=512)\n",
        "val_loader = DataLoader(datasets[\"val\"], shuffle=False, batch_size=512)\n",
        "test_loader = DataLoader(datasets[\"test\"], shuffle=False, batch_size=512)\n",
        "\n",
        "loaders = {\"train\" : train_loader,\n",
        "           \"val\": val_loader,\n",
        "           \"test\": test_loader}"
      ]
    },
    {
      "cell_type": "code",
      "execution_count": 8,
      "metadata": {
        "id": "2CNuWbD0WdmV"
      },
      "outputs": [],
      "source": [
        "import torch.nn as nn\n",
        "\n",
        "# Different architectures\n",
        "class SimpleNet(nn.Module):\n",
        "  def __init__(self, vocab_size: int, num_classes: int):\n",
        "     super().__init__()\n",
        "     self.fc1 = nn.Linear(vocab_size, 128)\n",
        "     self.fc2 = nn.Linear(128, num_classes)\n",
        "     self.relu = nn.ReLU()\n",
        "     self.batchNorm1 = nn.BatchNorm1d(128)\n",
        "     self.dropout = nn.Dropout(0.2)\n",
        "\n",
        "  def forward(self, x):\n",
        "    x = self.dropout(self.relu(self.batchNorm1(self.fc1(x))))\n",
        "    logits = self.dropout(self.relu(self.fc2(x)))\n",
        "    return logits\n",
        "\n",
        "\n",
        "class MediumNet(nn.Module):\n",
        "  def __init__(self, vocab_size: int, num_classes: int):\n",
        "     super().__init__()\n",
        "     self.fc1 = nn.Linear(vocab_size, 256)\n",
        "     self.fc2 = nn.Linear(256, 128)\n",
        "     self.fc3 = nn.Linear(128, num_classes)\n",
        "     self.relu = nn.ReLU()\n",
        "     self.dropout = nn.Dropout(0.2)\n",
        "     self.batchNorm1 = nn.BatchNorm1d(256)\n",
        "     self.batchNorm2 = nn.BatchNorm1d(128)\n",
        "\n",
        "  def forward(self, x):\n",
        "    x = self.dropout(self.relu(self.batchNorm1(self.fc1(x))))\n",
        "    x = self.dropout(self.relu(self.batchNorm2(self.fc2(x))))\n",
        "    logits = self.fc3(x)\n",
        "    return logits\n",
        "\n",
        "class LargeNet(nn.Module):\n",
        "  def __init__(self, vocab_size: int, num_classes: int):\n",
        "    super().__init__()\n",
        "    self.fc1 = nn.Linear(vocab_size, 512)\n",
        "    self.fc2 = nn.Linear(512, 256)\n",
        "    self.fc3 = nn.Linear(256, 128)\n",
        "    self.fc4 = nn.Linear(128, num_classes)\n",
        "    self.relu = nn.ReLU()\n",
        "    self.dropout = nn.Dropout(0.2)\n",
        "    self.batchNorm1 = nn.BatchNorm1d(512)\n",
        "    self.batchNorm2 = nn.BatchNorm1d(256)\n",
        "    self.batchNorm3 = nn.BatchNorm1d(128)\n",
        "\n",
        "  def forward(self, x):\n",
        "    x = self.dropout(self.relu(self.batchNorm1(self.fc1(x))))\n",
        "    x = self.dropout(self.relu(self.batchNorm2(self.fc2(x))))\n",
        "    x = self.dropout(self.relu(self.batchNorm3(self.fc3(x))))\n",
        "    logits = self.fc4(x)\n",
        "    return logits"
      ]
    },
    {
      "cell_type": "code",
      "execution_count": 18,
      "metadata": {
        "id": "M-CeFJOMX0Vm"
      },
      "outputs": [],
      "source": [
        "import torchmetrics\n",
        "\n",
        "# Training Loop\n",
        "def train(model: nn.Module, loaders: dict[DataLoader], criterion: nn.Module,\n",
        "          optimizer: torch.optim.Optimizer, lr_scheduler, num_epochs: int, device):\n",
        "\n",
        "  metric_loss = torchmetrics.aggregation.MeanMetric().to(device)\n",
        "  metric_acc = torchmetrics.classification.Accuracy(task=\"multiclass\", num_classes=5).to(device)\n",
        "  earlyStopping = EarlyStopping(patience=5, delta=0.0001)\n",
        "\n",
        "  # Run all epochs\n",
        "  for epoch in range(1, num_epochs+1):\n",
        "    for phase in ['train', 'val']:\n",
        "        if phase == 'train':\n",
        "            model.train()\n",
        "        else:\n",
        "            model.eval()\n",
        "\n",
        "        for X_batch, target in tqdm(loaders[phase]):\n",
        "            X_batch, target = X_batch.to(device), target.to(device)\n",
        "            optimizer.zero_grad()\n",
        "\n",
        "            with torch.set_grad_enabled(phase == 'train'):\n",
        "                logits = model(X_batch)\n",
        "                _, preds = torch.max(logits, dim=1)\n",
        "                loss = criterion(logits, target)\n",
        "\n",
        "                metric_loss(loss)\n",
        "                metric_acc(preds, target)\n",
        "\n",
        "                if phase == 'train':\n",
        "                    loss.backward()\n",
        "                    optimizer.step()\n",
        "                    lr_scheduler.step()\n",
        "\n",
        "        accuracy = metric_acc.compute()\n",
        "        mean_loss = metric_loss.compute()\n",
        "\n",
        "        current_lr = lr_scheduler.get_last_lr()[0]\n",
        "        print(f\"(Epoch {epoch}/[{phase}]) Loss:\\t{mean_loss:.3f}   Accuracy: {accuracy:.3f}   lr: {current_lr}\")\n",
        "        metrics = {\n",
        "            f\"{phase}/loss\": mean_loss,\n",
        "            f\"{phase}/accuracy\": accuracy,\n",
        "            f\"{phase}/lr\": current_lr,\n",
        "        }\n",
        "        wandb.log(metrics, step=epoch)\n",
        "\n",
        "        metric_loss.reset()\n",
        "        metric_acc.reset()\n",
        "\n",
        "    earlyStopping(mean_loss, model)\n",
        "    if earlyStopping.early_stop:\n",
        "      print(f\"{20*'-'}Early stopping{20*'-'}\")\n",
        "      break\n",
        "    #lr_scheduler.step()\n",
        "\n",
        "  earlyStopping.load_best_model(model)\n",
        "\n",
        "class EarlyStopping:\n",
        "    def __init__(self, patience=5, delta=0):\n",
        "        self.patience = patience\n",
        "        self.delta = delta\n",
        "        self.best_score = None\n",
        "        self.counter = 0\n",
        "        self.early_stop = False\n",
        "        self.best_model_state = None\n",
        "\n",
        "    def __call__(self, val_loss, model):\n",
        "        if self.best_score is None:\n",
        "            self.best_score = val_loss\n",
        "            self.best_model_state = model.state_dict()\n",
        "        elif val_loss > self.best_score + self.delta:\n",
        "            self.counter += 1\n",
        "            if self.counter >= self.patience:\n",
        "                self.early_stop = True\n",
        "        else:\n",
        "            self.best_score = val_loss\n",
        "            self.best_model_state = model.state_dict()\n",
        "            self.counter = 0\n",
        "\n",
        "    def load_best_model(self, model):\n",
        "        model.load_state_dict(self.best_model_state)\n",
        "\n",
        "\n"
      ]
    },
    {
      "cell_type": "code",
      "execution_count": 24,
      "metadata": {
        "colab": {
          "base_uri": "https://localhost:8080/",
          "height": 1000
        },
        "id": "n0_4hBwaZ2DT",
        "outputId": "349046f5-97f1-4647-abe6-b63a293c8130"
      },
      "outputs": [
        {
          "name": "stdout",
          "output_type": "stream",
          "text": [
            "Trenowanie modelu: model1\n"
          ]
        },
        {
          "data": {
            "text/html": [],
            "text/plain": [
              "<IPython.core.display.HTML object>"
            ]
          },
          "metadata": {},
          "output_type": "display_data"
        },
        {
          "data": {
            "text/html": [
              "Tracking run with wandb version 0.22.2"
            ],
            "text/plain": [
              "<IPython.core.display.HTML object>"
            ]
          },
          "metadata": {},
          "output_type": "display_data"
        },
        {
          "data": {
            "text/html": [
              "Run data is saved locally in <code>f:\\Users\\Kacper Ptaszek\\Studia-LLM\\wandb\\run-20251017_141627-udtwztup</code>"
            ],
            "text/plain": [
              "<IPython.core.display.HTML object>"
            ]
          },
          "metadata": {},
          "output_type": "display_data"
        },
        {
          "data": {
            "text/html": [
              "Syncing run <strong><a href='https://wandb.ai/kacper-pt119-warsaw-university-of-technology/3DifferentNeuralNetsExperiments_v13/runs/udtwztup' target=\"_blank\">model1</a></strong> to <a href='https://wandb.ai/kacper-pt119-warsaw-university-of-technology/3DifferentNeuralNetsExperiments_v13' target=\"_blank\">Weights & Biases</a> (<a href='https://wandb.me/developer-guide' target=\"_blank\">docs</a>)<br>"
            ],
            "text/plain": [
              "<IPython.core.display.HTML object>"
            ]
          },
          "metadata": {},
          "output_type": "display_data"
        },
        {
          "data": {
            "text/html": [
              " View project at <a href='https://wandb.ai/kacper-pt119-warsaw-university-of-technology/3DifferentNeuralNetsExperiments_v13' target=\"_blank\">https://wandb.ai/kacper-pt119-warsaw-university-of-technology/3DifferentNeuralNetsExperiments_v13</a>"
            ],
            "text/plain": [
              "<IPython.core.display.HTML object>"
            ]
          },
          "metadata": {},
          "output_type": "display_data"
        },
        {
          "data": {
            "text/html": [
              " View run at <a href='https://wandb.ai/kacper-pt119-warsaw-university-of-technology/3DifferentNeuralNetsExperiments_v13/runs/udtwztup' target=\"_blank\">https://wandb.ai/kacper-pt119-warsaw-university-of-technology/3DifferentNeuralNetsExperiments_v13/runs/udtwztup</a>"
            ],
            "text/plain": [
              "<IPython.core.display.HTML object>"
            ]
          },
          "metadata": {},
          "output_type": "display_data"
        },
        {
          "name": "stderr",
          "output_type": "stream",
          "text": [
            "100%|██████████| 102/102 [00:02<00:00, 44.47it/s]\n"
          ]
        },
        {
          "name": "stdout",
          "output_type": "stream",
          "text": [
            "(Epoch 1/[train]) Loss:\t1.635   Accuracy: 0.204   lr: 5.050282613936265e-07\n"
          ]
        },
        {
          "name": "stderr",
          "output_type": "stream",
          "text": [
            "100%|██████████| 26/26 [00:00<00:00, 56.36it/s]\n"
          ]
        },
        {
          "name": "stdout",
          "output_type": "stream",
          "text": [
            "(Epoch 1/[val]) Loss:\t1.618   Accuracy: 0.206   lr: 5.050282613936265e-07\n"
          ]
        },
        {
          "name": "stderr",
          "output_type": "stream",
          "text": [
            "100%|██████████| 102/102 [00:02<00:00, 45.05it/s]\n"
          ]
        },
        {
          "name": "stdout",
          "output_type": "stream",
          "text": [
            "(Epoch 2/[train]) Loss:\t1.632   Accuracy: 0.206   lr: 8.155168223697683e-07\n"
          ]
        },
        {
          "name": "stderr",
          "output_type": "stream",
          "text": [
            "100%|██████████| 26/26 [00:00<00:00, 55.28it/s]\n"
          ]
        },
        {
          "name": "stdout",
          "output_type": "stream",
          "text": [
            "(Epoch 2/[val]) Loss:\t1.619   Accuracy: 0.210   lr: 8.155168223697683e-07\n"
          ]
        },
        {
          "name": "stderr",
          "output_type": "stream",
          "text": [
            "100%|██████████| 102/102 [00:02<00:00, 44.53it/s]\n"
          ]
        },
        {
          "name": "stdout",
          "output_type": "stream",
          "text": [
            "(Epoch 3/[train]) Loss:\t1.628   Accuracy: 0.212   lr: 1.3178781522026197e-06\n"
          ]
        },
        {
          "name": "stderr",
          "output_type": "stream",
          "text": [
            "100%|██████████| 26/26 [00:00<00:00, 57.30it/s]\n"
          ]
        },
        {
          "name": "stdout",
          "output_type": "stream",
          "text": [
            "(Epoch 3/[val]) Loss:\t1.615   Accuracy: 0.217   lr: 1.3178781522026197e-06\n"
          ]
        },
        {
          "name": "stderr",
          "output_type": "stream",
          "text": [
            "100%|██████████| 102/102 [00:02<00:00, 44.46it/s]\n"
          ]
        },
        {
          "name": "stdout",
          "output_type": "stream",
          "text": [
            "(Epoch 4/[train]) Loss:\t1.621   Accuracy: 0.222   lr: 1.990128027115625e-06\n"
          ]
        },
        {
          "name": "stderr",
          "output_type": "stream",
          "text": [
            "100%|██████████| 26/26 [00:00<00:00, 57.70it/s]\n"
          ]
        },
        {
          "name": "stdout",
          "output_type": "stream",
          "text": [
            "(Epoch 4/[val]) Loss:\t1.608   Accuracy: 0.229   lr: 1.990128027115625e-06\n"
          ]
        },
        {
          "name": "stderr",
          "output_type": "stream",
          "text": [
            "100%|██████████| 102/102 [00:02<00:00, 42.80it/s]\n"
          ]
        },
        {
          "name": "stdout",
          "output_type": "stream",
          "text": [
            "(Epoch 5/[train]) Loss:\t1.612   Accuracy: 0.234   lr: 2.8028475989487054e-06\n"
          ]
        },
        {
          "name": "stderr",
          "output_type": "stream",
          "text": [
            "100%|██████████| 26/26 [00:00<00:00, 54.03it/s]\n"
          ]
        },
        {
          "name": "stdout",
          "output_type": "stream",
          "text": [
            "(Epoch 5/[val]) Loss:\t1.597   Accuracy: 0.247   lr: 2.8028475989487054e-06\n"
          ]
        },
        {
          "name": "stderr",
          "output_type": "stream",
          "text": [
            "100%|██████████| 102/102 [00:02<00:00, 46.07it/s]\n"
          ]
        },
        {
          "name": "stdout",
          "output_type": "stream",
          "text": [
            "(Epoch 6/[train]) Loss:\t1.596   Accuracy: 0.255   lr: 3.720470816189275e-06\n"
          ]
        },
        {
          "name": "stderr",
          "output_type": "stream",
          "text": [
            "100%|██████████| 26/26 [00:00<00:00, 54.22it/s]\n"
          ]
        },
        {
          "name": "stdout",
          "output_type": "stream",
          "text": [
            "(Epoch 6/[val]) Loss:\t1.583   Accuracy: 0.275   lr: 3.720470816189275e-06\n"
          ]
        },
        {
          "name": "stderr",
          "output_type": "stream",
          "text": [
            "100%|██████████| 102/102 [00:02<00:00, 45.47it/s]\n"
          ]
        },
        {
          "name": "stdout",
          "output_type": "stream",
          "text": [
            "(Epoch 7/[train]) Loss:\t1.577   Accuracy: 0.278   lr: 4.70284085753683e-06\n"
          ]
        },
        {
          "name": "stderr",
          "output_type": "stream",
          "text": [
            "100%|██████████| 26/26 [00:00<00:00, 56.81it/s]\n"
          ]
        },
        {
          "name": "stdout",
          "output_type": "stream",
          "text": [
            "(Epoch 7/[val]) Loss:\t1.562   Accuracy: 0.309   lr: 4.70284085753683e-06\n"
          ]
        },
        {
          "name": "stderr",
          "output_type": "stream",
          "text": [
            "100%|██████████| 102/102 [00:02<00:00, 47.14it/s]\n"
          ]
        },
        {
          "name": "stdout",
          "output_type": "stream",
          "text": [
            "(Epoch 8/[train]) Loss:\t1.552   Accuracy: 0.311   lr: 5.706967465704742e-06\n"
          ]
        },
        {
          "name": "stderr",
          "output_type": "stream",
          "text": [
            "100%|██████████| 26/26 [00:00<00:00, 57.11it/s]\n"
          ]
        },
        {
          "name": "stdout",
          "output_type": "stream",
          "text": [
            "(Epoch 8/[val]) Loss:\t1.536   Accuracy: 0.347   lr: 5.706967465704742e-06\n"
          ]
        },
        {
          "name": "stderr",
          "output_type": "stream",
          "text": [
            "100%|██████████| 102/102 [00:02<00:00, 46.96it/s]\n"
          ]
        },
        {
          "name": "stdout",
          "output_type": "stream",
          "text": [
            "(Epoch 9/[train]) Loss:\t1.519   Accuracy: 0.346   lr: 6.688908277411779e-06\n"
          ]
        },
        {
          "name": "stderr",
          "output_type": "stream",
          "text": [
            "100%|██████████| 26/26 [00:00<00:00, 57.55it/s]\n"
          ]
        },
        {
          "name": "stdout",
          "output_type": "stream",
          "text": [
            "(Epoch 9/[val]) Loss:\t1.504   Accuracy: 0.382   lr: 6.688908277411779e-06\n"
          ]
        },
        {
          "name": "stderr",
          "output_type": "stream",
          "text": [
            "100%|██████████| 102/102 [00:02<00:00, 47.31it/s]\n"
          ]
        },
        {
          "name": "stdout",
          "output_type": "stream",
          "text": [
            "(Epoch 10/[train]) Loss:\t1.484   Accuracy: 0.379   lr: 7.605691819222507e-06\n"
          ]
        },
        {
          "name": "stderr",
          "output_type": "stream",
          "text": [
            "100%|██████████| 26/26 [00:00<00:00, 54.73it/s]\n"
          ]
        },
        {
          "name": "stdout",
          "output_type": "stream",
          "text": [
            "(Epoch 10/[val]) Loss:\t1.469   Accuracy: 0.413   lr: 7.605691819222507e-06\n"
          ]
        },
        {
          "name": "stderr",
          "output_type": "stream",
          "text": [
            "100%|██████████| 102/102 [00:02<00:00, 44.19it/s]\n"
          ]
        },
        {
          "name": "stdout",
          "output_type": "stream",
          "text": [
            "(Epoch 11/[train]) Loss:\t1.447   Accuracy: 0.404   lr: 8.417198015524148e-06\n"
          ]
        },
        {
          "name": "stderr",
          "output_type": "stream",
          "text": [
            "100%|██████████| 26/26 [00:00<00:00, 59.15it/s]\n"
          ]
        },
        {
          "name": "stdout",
          "output_type": "stream",
          "text": [
            "(Epoch 11/[val]) Loss:\t1.434   Accuracy: 0.437   lr: 8.417198015524148e-06\n"
          ]
        },
        {
          "name": "stderr",
          "output_type": "stream",
          "text": [
            "100%|██████████| 102/102 [00:02<00:00, 47.08it/s]\n"
          ]
        },
        {
          "name": "stdout",
          "output_type": "stream",
          "text": [
            "(Epoch 12/[train]) Loss:\t1.410   Accuracy: 0.434   lr: 9.08791391427182e-06\n"
          ]
        },
        {
          "name": "stderr",
          "output_type": "stream",
          "text": [
            "100%|██████████| 26/26 [00:00<00:00, 58.52it/s]\n"
          ]
        },
        {
          "name": "stdout",
          "output_type": "stream",
          "text": [
            "(Epoch 12/[val]) Loss:\t1.402   Accuracy: 0.453   lr: 9.08791391427182e-06\n"
          ]
        },
        {
          "name": "stderr",
          "output_type": "stream",
          "text": [
            "100%|██████████| 102/102 [00:02<00:00, 47.32it/s]\n"
          ]
        },
        {
          "name": "stdout",
          "output_type": "stream",
          "text": [
            "(Epoch 13/[train]) Loss:\t1.375   Accuracy: 0.454   lr: 9.588487796826136e-06\n"
          ]
        },
        {
          "name": "stderr",
          "output_type": "stream",
          "text": [
            "100%|██████████| 26/26 [00:00<00:00, 58.29it/s]\n"
          ]
        },
        {
          "name": "stdout",
          "output_type": "stream",
          "text": [
            "(Epoch 13/[val]) Loss:\t1.372   Accuracy: 0.467   lr: 9.588487796826136e-06\n"
          ]
        },
        {
          "name": "stderr",
          "output_type": "stream",
          "text": [
            "100%|██████████| 102/102 [00:02<00:00, 46.35it/s]\n"
          ]
        },
        {
          "name": "stdout",
          "output_type": "stream",
          "text": [
            "(Epoch 14/[train]) Loss:\t1.343   Accuracy: 0.470   lr: 9.897013661277203e-06\n"
          ]
        },
        {
          "name": "stderr",
          "output_type": "stream",
          "text": [
            "100%|██████████| 26/26 [00:00<00:00, 57.14it/s]\n"
          ]
        },
        {
          "name": "stdout",
          "output_type": "stream",
          "text": [
            "(Epoch 14/[val]) Loss:\t1.344   Accuracy: 0.477   lr: 9.897013661277203e-06\n"
          ]
        },
        {
          "name": "stderr",
          "output_type": "stream",
          "text": [
            "100%|██████████| 102/102 [00:02<00:00, 47.00it/s]\n"
          ]
        },
        {
          "name": "stdout",
          "output_type": "stream",
          "text": [
            "(Epoch 15/[train]) Loss:\t1.316   Accuracy: 0.487   lr: 9.999998064016924e-06\n"
          ]
        },
        {
          "name": "stderr",
          "output_type": "stream",
          "text": [
            "100%|██████████| 26/26 [00:00<00:00, 56.34it/s]\n"
          ]
        },
        {
          "name": "stdout",
          "output_type": "stream",
          "text": [
            "(Epoch 15/[val]) Loss:\t1.322   Accuracy: 0.487   lr: 9.999998064016924e-06\n"
          ]
        },
        {
          "name": "stderr",
          "output_type": "stream",
          "text": [
            "100%|██████████| 102/102 [00:02<00:00, 44.84it/s]\n"
          ]
        },
        {
          "name": "stdout",
          "output_type": "stream",
          "text": [
            "(Epoch 16/[train]) Loss:\t1.287   Accuracy: 0.504   lr: 9.979475211892622e-06\n"
          ]
        },
        {
          "name": "stderr",
          "output_type": "stream",
          "text": [
            "100%|██████████| 26/26 [00:00<00:00, 49.47it/s]\n"
          ]
        },
        {
          "name": "stdout",
          "output_type": "stream",
          "text": [
            "(Epoch 16/[val]) Loss:\t1.301   Accuracy: 0.495   lr: 9.979475211892622e-06\n"
          ]
        },
        {
          "name": "stderr",
          "output_type": "stream",
          "text": [
            "100%|██████████| 102/102 [00:02<00:00, 38.43it/s]\n"
          ]
        },
        {
          "name": "stdout",
          "output_type": "stream",
          "text": [
            "(Epoch 17/[train]) Loss:\t1.262   Accuracy: 0.519   lr: 9.918860714274414e-06\n"
          ]
        },
        {
          "name": "stderr",
          "output_type": "stream",
          "text": [
            "100%|██████████| 26/26 [00:00<00:00, 36.92it/s]\n"
          ]
        },
        {
          "name": "stdout",
          "output_type": "stream",
          "text": [
            "(Epoch 17/[val]) Loss:\t1.283   Accuracy: 0.500   lr: 9.918860714274414e-06\n"
          ]
        },
        {
          "name": "stderr",
          "output_type": "stream",
          "text": [
            "100%|██████████| 102/102 [00:02<00:00, 40.74it/s]\n"
          ]
        },
        {
          "name": "stdout",
          "output_type": "stream",
          "text": [
            "(Epoch 18/[train]) Loss:\t1.242   Accuracy: 0.527   lr: 9.818642603456368e-06\n"
          ]
        },
        {
          "name": "stderr",
          "output_type": "stream",
          "text": [
            "100%|██████████| 26/26 [00:00<00:00, 50.04it/s]\n"
          ]
        },
        {
          "name": "stdout",
          "output_type": "stream",
          "text": [
            "(Epoch 18/[val]) Loss:\t1.268   Accuracy: 0.506   lr: 9.818642603456368e-06\n"
          ]
        },
        {
          "name": "stderr",
          "output_type": "stream",
          "text": [
            "100%|██████████| 102/102 [00:02<00:00, 41.41it/s]\n"
          ]
        },
        {
          "name": "stdout",
          "output_type": "stream",
          "text": [
            "(Epoch 19/[train]) Loss:\t1.222   Accuracy: 0.539   lr: 9.6796277767395e-06\n"
          ]
        },
        {
          "name": "stderr",
          "output_type": "stream",
          "text": [
            "100%|██████████| 26/26 [00:00<00:00, 53.96it/s]\n"
          ]
        },
        {
          "name": "stdout",
          "output_type": "stream",
          "text": [
            "(Epoch 19/[val]) Loss:\t1.255   Accuracy: 0.511   lr: 9.6796277767395e-06\n"
          ]
        },
        {
          "name": "stderr",
          "output_type": "stream",
          "text": [
            "100%|██████████| 102/102 [00:02<00:00, 42.18it/s]\n"
          ]
        },
        {
          "name": "stdout",
          "output_type": "stream",
          "text": [
            "(Epoch 20/[train]) Loss:\t1.206   Accuracy: 0.546   lr: 9.502935499769142e-06\n"
          ]
        },
        {
          "name": "stderr",
          "output_type": "stream",
          "text": [
            "100%|██████████| 26/26 [00:00<00:00, 44.92it/s]\n"
          ]
        },
        {
          "name": "stdout",
          "output_type": "stream",
          "text": [
            "(Epoch 20/[val]) Loss:\t1.243   Accuracy: 0.516   lr: 9.502935499769142e-06\n"
          ]
        },
        {
          "name": "stderr",
          "output_type": "stream",
          "text": [
            "100%|██████████| 102/102 [00:02<00:00, 46.83it/s]\n"
          ]
        },
        {
          "name": "stdout",
          "output_type": "stream",
          "text": [
            "(Epoch 21/[train]) Loss:\t1.190   Accuracy: 0.554   lr: 9.289988394866079e-06\n"
          ]
        },
        {
          "name": "stderr",
          "output_type": "stream",
          "text": [
            "100%|██████████| 26/26 [00:00<00:00, 55.93it/s]\n"
          ]
        },
        {
          "name": "stdout",
          "output_type": "stream",
          "text": [
            "(Epoch 21/[val]) Loss:\t1.233   Accuracy: 0.518   lr: 9.289988394866079e-06\n"
          ]
        },
        {
          "name": "stderr",
          "output_type": "stream",
          "text": [
            "100%|██████████| 102/102 [00:02<00:00, 45.55it/s]\n"
          ]
        },
        {
          "name": "stdout",
          "output_type": "stream",
          "text": [
            "(Epoch 22/[train]) Loss:\t1.174   Accuracy: 0.562   lr: 9.04250098690812e-06\n"
          ]
        },
        {
          "name": "stderr",
          "output_type": "stream",
          "text": [
            "100%|██████████| 26/26 [00:00<00:00, 54.56it/s]\n"
          ]
        },
        {
          "name": "stdout",
          "output_type": "stream",
          "text": [
            "(Epoch 22/[val]) Loss:\t1.224   Accuracy: 0.520   lr: 9.04250098690812e-06\n"
          ]
        },
        {
          "name": "stderr",
          "output_type": "stream",
          "text": [
            "100%|██████████| 102/102 [00:02<00:00, 44.40it/s]\n"
          ]
        },
        {
          "name": "stdout",
          "output_type": "stream",
          "text": [
            "(Epoch 23/[train]) Loss:\t1.162   Accuracy: 0.568   lr: 8.762465898983908e-06\n"
          ]
        },
        {
          "name": "stderr",
          "output_type": "stream",
          "text": [
            "100%|██████████| 26/26 [00:00<00:00, 57.94it/s]\n"
          ]
        },
        {
          "name": "stdout",
          "output_type": "stream",
          "text": [
            "(Epoch 23/[val]) Loss:\t1.217   Accuracy: 0.523   lr: 8.762465898983908e-06\n"
          ]
        },
        {
          "name": "stderr",
          "output_type": "stream",
          "text": [
            "100%|██████████| 102/102 [00:02<00:00, 44.67it/s]\n"
          ]
        },
        {
          "name": "stdout",
          "output_type": "stream",
          "text": [
            "(Epoch 24/[train]) Loss:\t1.147   Accuracy: 0.575   lr: 8.452137808963437e-06\n"
          ]
        },
        {
          "name": "stderr",
          "output_type": "stream",
          "text": [
            "100%|██████████| 26/26 [00:00<00:00, 43.03it/s]\n"
          ]
        },
        {
          "name": "stdout",
          "output_type": "stream",
          "text": [
            "(Epoch 24/[val]) Loss:\t1.210   Accuracy: 0.524   lr: 8.452137808963437e-06\n"
          ]
        },
        {
          "name": "stderr",
          "output_type": "stream",
          "text": [
            "100%|██████████| 102/102 [00:02<00:00, 46.43it/s]\n"
          ]
        },
        {
          "name": "stdout",
          "output_type": "stream",
          "text": [
            "(Epoch 25/[train]) Loss:\t1.136   Accuracy: 0.581   lr: 8.114015296157596e-06\n"
          ]
        },
        {
          "name": "stderr",
          "output_type": "stream",
          "text": [
            "100%|██████████| 26/26 [00:00<00:00, 54.52it/s]\n"
          ]
        },
        {
          "name": "stdout",
          "output_type": "stream",
          "text": [
            "(Epoch 25/[val]) Loss:\t1.203   Accuracy: 0.526   lr: 8.114015296157596e-06\n"
          ]
        },
        {
          "name": "stderr",
          "output_type": "stream",
          "text": [
            "100%|██████████| 102/102 [00:02<00:00, 45.75it/s]\n"
          ]
        },
        {
          "name": "stdout",
          "output_type": "stream",
          "text": [
            "(Epoch 26/[train]) Loss:\t1.125   Accuracy: 0.586   lr: 7.750820724226675e-06\n"
          ]
        },
        {
          "name": "stderr",
          "output_type": "stream",
          "text": [
            "100%|██████████| 26/26 [00:00<00:00, 55.88it/s]\n"
          ]
        },
        {
          "name": "stdout",
          "output_type": "stream",
          "text": [
            "(Epoch 26/[val]) Loss:\t1.199   Accuracy: 0.528   lr: 7.750820724226675e-06\n"
          ]
        },
        {
          "name": "stderr",
          "output_type": "stream",
          "text": [
            "100%|██████████| 102/102 [00:02<00:00, 45.04it/s]\n"
          ]
        },
        {
          "name": "stdout",
          "output_type": "stream",
          "text": [
            "(Epoch 27/[train]) Loss:\t1.118   Accuracy: 0.590   lr: 7.365478322308915e-06\n"
          ]
        },
        {
          "name": "stderr",
          "output_type": "stream",
          "text": [
            "100%|██████████| 26/26 [00:00<00:00, 51.17it/s]\n"
          ]
        },
        {
          "name": "stdout",
          "output_type": "stream",
          "text": [
            "(Epoch 27/[val]) Loss:\t1.194   Accuracy: 0.529   lr: 7.365478322308915e-06\n"
          ]
        },
        {
          "name": "stderr",
          "output_type": "stream",
          "text": [
            "100%|██████████| 102/102 [00:02<00:00, 39.35it/s]\n"
          ]
        },
        {
          "name": "stdout",
          "output_type": "stream",
          "text": [
            "(Epoch 28/[train]) Loss:\t1.111   Accuracy: 0.593   lr: 6.961090640846892e-06\n"
          ]
        },
        {
          "name": "stderr",
          "output_type": "stream",
          "text": [
            "100%|██████████| 26/26 [00:00<00:00, 52.04it/s]\n"
          ]
        },
        {
          "name": "stdout",
          "output_type": "stream",
          "text": [
            "(Epoch 28/[val]) Loss:\t1.189   Accuracy: 0.529   lr: 6.961090640846892e-06\n"
          ]
        },
        {
          "name": "stderr",
          "output_type": "stream",
          "text": [
            "100%|██████████| 102/102 [00:02<00:00, 46.85it/s]\n"
          ]
        },
        {
          "name": "stdout",
          "output_type": "stream",
          "text": [
            "(Epoch 29/[train]) Loss:\t1.102   Accuracy: 0.597   lr: 6.540913571675635e-06\n"
          ]
        },
        {
          "name": "stderr",
          "output_type": "stream",
          "text": [
            "100%|██████████| 26/26 [00:00<00:00, 51.25it/s]\n"
          ]
        },
        {
          "name": "stdout",
          "output_type": "stream",
          "text": [
            "(Epoch 29/[val]) Loss:\t1.186   Accuracy: 0.529   lr: 6.540913571675635e-06\n"
          ]
        },
        {
          "name": "stderr",
          "output_type": "stream",
          "text": [
            "100%|██████████| 102/102 [00:02<00:00, 45.14it/s]\n"
          ]
        },
        {
          "name": "stdout",
          "output_type": "stream",
          "text": [
            "(Epoch 30/[train]) Loss:\t1.088   Accuracy: 0.604   lr: 6.108330133495993e-06\n"
          ]
        },
        {
          "name": "stderr",
          "output_type": "stream",
          "text": [
            "100%|██████████| 26/26 [00:00<00:00, 54.13it/s]\n"
          ]
        },
        {
          "name": "stdout",
          "output_type": "stream",
          "text": [
            "(Epoch 30/[val]) Loss:\t1.184   Accuracy: 0.530   lr: 6.108330133495993e-06\n"
          ]
        },
        {
          "name": "stderr",
          "output_type": "stream",
          "text": [
            "100%|██████████| 102/102 [00:02<00:00, 39.61it/s]\n"
          ]
        },
        {
          "name": "stdout",
          "output_type": "stream",
          "text": [
            "(Epoch 31/[train]) Loss:\t1.087   Accuracy: 0.607   lr: 5.6668232337972465e-06\n"
          ]
        },
        {
          "name": "stderr",
          "output_type": "stream",
          "text": [
            "100%|██████████| 26/26 [00:00<00:00, 37.86it/s]\n"
          ]
        },
        {
          "name": "stdout",
          "output_type": "stream",
          "text": [
            "(Epoch 31/[val]) Loss:\t1.180   Accuracy: 0.532   lr: 5.6668232337972465e-06\n"
          ]
        },
        {
          "name": "stderr",
          "output_type": "stream",
          "text": [
            "100%|██████████| 102/102 [00:02<00:00, 41.34it/s]\n"
          ]
        },
        {
          "name": "stdout",
          "output_type": "stream",
          "text": [
            "(Epoch 32/[train]) Loss:\t1.081   Accuracy: 0.607   lr: 5.219947626533917e-06\n"
          ]
        },
        {
          "name": "stderr",
          "output_type": "stream",
          "text": [
            "100%|██████████| 26/26 [00:00<00:00, 55.92it/s]\n"
          ]
        },
        {
          "name": "stdout",
          "output_type": "stream",
          "text": [
            "(Epoch 32/[val]) Loss:\t1.178   Accuracy: 0.532   lr: 5.219947626533917e-06\n"
          ]
        },
        {
          "name": "stderr",
          "output_type": "stream",
          "text": [
            "100%|██████████| 102/102 [00:02<00:00, 43.03it/s]\n"
          ]
        },
        {
          "name": "stdout",
          "output_type": "stream",
          "text": [
            "(Epoch 33/[train]) Loss:\t1.072   Accuracy: 0.612   lr: 4.771301291337086e-06\n"
          ]
        },
        {
          "name": "stderr",
          "output_type": "stream",
          "text": [
            "100%|██████████| 26/26 [00:00<00:00, 53.39it/s]\n"
          ]
        },
        {
          "name": "stdout",
          "output_type": "stream",
          "text": [
            "(Epoch 33/[val]) Loss:\t1.176   Accuracy: 0.532   lr: 4.771301291337086e-06\n"
          ]
        },
        {
          "name": "stderr",
          "output_type": "stream",
          "text": [
            "100%|██████████| 102/102 [00:02<00:00, 46.57it/s]\n"
          ]
        },
        {
          "name": "stdout",
          "output_type": "stream",
          "text": [
            "(Epoch 34/[train]) Loss:\t1.063   Accuracy: 0.618   lr: 4.324496464697987e-06\n"
          ]
        },
        {
          "name": "stderr",
          "output_type": "stream",
          "text": [
            "100%|██████████| 26/26 [00:00<00:00, 58.29it/s]\n"
          ]
        },
        {
          "name": "stdout",
          "output_type": "stream",
          "text": [
            "(Epoch 34/[val]) Loss:\t1.175   Accuracy: 0.532   lr: 4.324496464697987e-06\n"
          ]
        },
        {
          "name": "stderr",
          "output_type": "stream",
          "text": [
            "100%|██████████| 102/102 [00:02<00:00, 46.86it/s]\n"
          ]
        },
        {
          "name": "stdout",
          "output_type": "stream",
          "text": [
            "(Epoch 35/[train]) Loss:\t1.063   Accuracy: 0.618   lr: 3.8831305563637325e-06\n"
          ]
        },
        {
          "name": "stderr",
          "output_type": "stream",
          "text": [
            "100%|██████████| 26/26 [00:00<00:00, 51.34it/s]\n"
          ]
        },
        {
          "name": "stdout",
          "output_type": "stream",
          "text": [
            "(Epoch 35/[val]) Loss:\t1.173   Accuracy: 0.532   lr: 3.8831305563637325e-06\n"
          ]
        },
        {
          "name": "stderr",
          "output_type": "stream",
          "text": [
            "100%|██████████| 102/102 [00:02<00:00, 47.12it/s]\n"
          ]
        },
        {
          "name": "stdout",
          "output_type": "stream",
          "text": [
            "(Epoch 36/[train]) Loss:\t1.063   Accuracy: 0.617   lr: 3.4507571851092788e-06\n"
          ]
        },
        {
          "name": "stderr",
          "output_type": "stream",
          "text": [
            "100%|██████████| 26/26 [00:00<00:00, 58.14it/s]\n"
          ]
        },
        {
          "name": "stdout",
          "output_type": "stream",
          "text": [
            "(Epoch 36/[val]) Loss:\t1.172   Accuracy: 0.532   lr: 3.4507571851092788e-06\n"
          ]
        },
        {
          "name": "stderr",
          "output_type": "stream",
          "text": [
            "100%|██████████| 102/102 [00:02<00:00, 45.72it/s]\n"
          ]
        },
        {
          "name": "stdout",
          "output_type": "stream",
          "text": [
            "(Epoch 37/[train]) Loss:\t1.053   Accuracy: 0.623   lr: 3.0308575670885416e-06\n"
          ]
        },
        {
          "name": "stderr",
          "output_type": "stream",
          "text": [
            "100%|██████████| 26/26 [00:00<00:00, 52.31it/s]\n"
          ]
        },
        {
          "name": "stdout",
          "output_type": "stream",
          "text": [
            "(Epoch 37/[val]) Loss:\t1.170   Accuracy: 0.531   lr: 3.0308575670885416e-06\n"
          ]
        },
        {
          "name": "stderr",
          "output_type": "stream",
          "text": [
            "100%|██████████| 102/102 [00:02<00:00, 43.51it/s]\n"
          ]
        },
        {
          "name": "stdout",
          "output_type": "stream",
          "text": [
            "(Epoch 38/[train]) Loss:\t1.052   Accuracy: 0.623   lr: 2.6268124871288486e-06\n"
          ]
        },
        {
          "name": "stderr",
          "output_type": "stream",
          "text": [
            "100%|██████████| 26/26 [00:00<00:00, 57.06it/s]\n"
          ]
        },
        {
          "name": "stdout",
          "output_type": "stream",
          "text": [
            "(Epoch 38/[val]) Loss:\t1.170   Accuracy: 0.532   lr: 2.6268124871288486e-06\n"
          ]
        },
        {
          "name": "stderr",
          "output_type": "stream",
          "text": [
            "100%|██████████| 102/102 [00:02<00:00, 45.98it/s]\n"
          ]
        },
        {
          "name": "stdout",
          "output_type": "stream",
          "text": [
            "(Epoch 39/[train]) Loss:\t1.048   Accuracy: 0.625   lr: 2.2418750786393736e-06\n"
          ]
        },
        {
          "name": "stderr",
          "output_type": "stream",
          "text": [
            "100%|██████████| 26/26 [00:00<00:00, 55.99it/s]\n"
          ]
        },
        {
          "name": "stdout",
          "output_type": "stream",
          "text": [
            "(Epoch 39/[val]) Loss:\t1.169   Accuracy: 0.533   lr: 2.2418750786393736e-06\n"
          ]
        },
        {
          "name": "stderr",
          "output_type": "stream",
          "text": [
            "100%|██████████| 102/102 [00:02<00:00, 46.02it/s]\n"
          ]
        },
        {
          "name": "stdout",
          "output_type": "stream",
          "text": [
            "(Epoch 40/[train]) Loss:\t1.044   Accuracy: 0.626   lr: 1.8791446312937438e-06\n"
          ]
        },
        {
          "name": "stderr",
          "output_type": "stream",
          "text": [
            "100%|██████████| 26/26 [00:00<00:00, 57.66it/s]\n"
          ]
        },
        {
          "name": "stdout",
          "output_type": "stream",
          "text": [
            "(Epoch 40/[val]) Loss:\t1.168   Accuracy: 0.533   lr: 1.8791446312937438e-06\n"
          ]
        },
        {
          "name": "stderr",
          "output_type": "stream",
          "text": [
            "100%|██████████| 102/102 [00:02<00:00, 46.71it/s]\n"
          ]
        },
        {
          "name": "stdout",
          "output_type": "stream",
          "text": [
            "(Epoch 41/[train]) Loss:\t1.042   Accuracy: 0.626   lr: 1.5415416373719365e-06\n"
          ]
        },
        {
          "name": "stderr",
          "output_type": "stream",
          "text": [
            "100%|██████████| 26/26 [00:00<00:00, 53.72it/s]\n"
          ]
        },
        {
          "name": "stdout",
          "output_type": "stream",
          "text": [
            "(Epoch 41/[val]) Loss:\t1.168   Accuracy: 0.532   lr: 1.5415416373719365e-06\n"
          ]
        },
        {
          "name": "stderr",
          "output_type": "stream",
          "text": [
            "100%|██████████| 102/102 [00:02<00:00, 46.61it/s]\n"
          ]
        },
        {
          "name": "stdout",
          "output_type": "stream",
          "text": [
            "(Epoch 42/[train]) Loss:\t1.040   Accuracy: 0.627   lr: 1.2317842776736646e-06\n"
          ]
        },
        {
          "name": "stderr",
          "output_type": "stream",
          "text": [
            "100%|██████████| 26/26 [00:00<00:00, 51.38it/s]\n"
          ]
        },
        {
          "name": "stdout",
          "output_type": "stream",
          "text": [
            "(Epoch 42/[val]) Loss:\t1.168   Accuracy: 0.533   lr: 1.2317842776736646e-06\n"
          ]
        },
        {
          "name": "stderr",
          "output_type": "stream",
          "text": [
            "100%|██████████| 102/102 [00:02<00:00, 45.27it/s]\n"
          ]
        },
        {
          "name": "stdout",
          "output_type": "stream",
          "text": [
            "(Epoch 43/[train]) Loss:\t1.040   Accuracy: 0.627   lr: 9.52366536324841e-07\n"
          ]
        },
        {
          "name": "stderr",
          "output_type": "stream",
          "text": [
            "100%|██████████| 26/26 [00:00<00:00, 51.69it/s]\n"
          ]
        },
        {
          "name": "stdout",
          "output_type": "stream",
          "text": [
            "(Epoch 43/[val]) Loss:\t1.168   Accuracy: 0.533   lr: 9.52366536324841e-07\n"
          ]
        },
        {
          "name": "stderr",
          "output_type": "stream",
          "text": [
            "100%|██████████| 102/102 [00:02<00:00, 39.06it/s]\n"
          ]
        },
        {
          "name": "stdout",
          "output_type": "stream",
          "text": [
            "(Epoch 44/[train]) Loss:\t1.037   Accuracy: 0.628   lr: 7.05538120683834e-07\n"
          ]
        },
        {
          "name": "stderr",
          "output_type": "stream",
          "text": [
            "100%|██████████| 26/26 [00:00<00:00, 62.75it/s]\n"
          ]
        },
        {
          "name": "stdout",
          "output_type": "stream",
          "text": [
            "(Epoch 44/[val]) Loss:\t1.167   Accuracy: 0.532   lr: 7.05538120683834e-07\n"
          ]
        },
        {
          "name": "stderr",
          "output_type": "stream",
          "text": [
            "100%|██████████| 102/102 [00:01<00:00, 57.76it/s]\n"
          ]
        },
        {
          "name": "stdout",
          "output_type": "stream",
          "text": [
            "(Epoch 45/[train]) Loss:\t1.036   Accuracy: 0.631   lr: 4.932863480206282e-07\n"
          ]
        },
        {
          "name": "stderr",
          "output_type": "stream",
          "text": [
            "100%|██████████| 26/26 [00:00<00:00, 67.16it/s]\n"
          ]
        },
        {
          "name": "stdout",
          "output_type": "stream",
          "text": [
            "(Epoch 45/[val]) Loss:\t1.167   Accuracy: 0.533   lr: 4.932863480206282e-07\n"
          ]
        },
        {
          "name": "stderr",
          "output_type": "stream",
          "text": [
            "100%|██████████| 102/102 [00:01<00:00, 53.93it/s]\n"
          ]
        },
        {
          "name": "stdout",
          "output_type": "stream",
          "text": [
            "(Epoch 46/[train]) Loss:\t1.041   Accuracy: 0.627   lr: 3.173201448066853e-07\n"
          ]
        },
        {
          "name": "stderr",
          "output_type": "stream",
          "text": [
            "100%|██████████| 26/26 [00:00<00:00, 55.27it/s]\n"
          ]
        },
        {
          "name": "stdout",
          "output_type": "stream",
          "text": [
            "(Epoch 46/[val]) Loss:\t1.167   Accuracy: 0.534   lr: 3.173201448066853e-07\n"
          ]
        },
        {
          "name": "stderr",
          "output_type": "stream",
          "text": [
            "100%|██████████| 102/102 [00:02<00:00, 43.92it/s]\n"
          ]
        },
        {
          "name": "stdout",
          "output_type": "stream",
          "text": [
            "(Epoch 47/[train]) Loss:\t1.039   Accuracy: 0.628   lr: 1.7905628744383255e-07\n"
          ]
        },
        {
          "name": "stderr",
          "output_type": "stream",
          "text": [
            "100%|██████████| 26/26 [00:00<00:00, 52.80it/s]\n"
          ]
        },
        {
          "name": "stdout",
          "output_type": "stream",
          "text": [
            "(Epoch 47/[val]) Loss:\t1.167   Accuracy: 0.533   lr: 1.7905628744383255e-07\n"
          ]
        },
        {
          "name": "stderr",
          "output_type": "stream",
          "text": [
            "100%|██████████| 102/102 [00:02<00:00, 41.52it/s]\n"
          ]
        },
        {
          "name": "stdout",
          "output_type": "stream",
          "text": [
            "(Epoch 48/[train]) Loss:\t1.037   Accuracy: 0.631   lr: 7.960799521372398e-08\n"
          ]
        },
        {
          "name": "stderr",
          "output_type": "stream",
          "text": [
            "100%|██████████| 26/26 [00:00<00:00, 45.34it/s]\n"
          ]
        },
        {
          "name": "stdout",
          "output_type": "stream",
          "text": [
            "(Epoch 48/[val]) Loss:\t1.166   Accuracy: 0.533   lr: 7.960799521372398e-08\n"
          ]
        },
        {
          "name": "stderr",
          "output_type": "stream",
          "text": [
            "100%|██████████| 102/102 [00:02<00:00, 42.48it/s]\n"
          ]
        },
        {
          "name": "stdout",
          "output_type": "stream",
          "text": [
            "(Epoch 49/[train]) Loss:\t1.040   Accuracy: 0.627   lr: 1.977596729074781e-08\n"
          ]
        },
        {
          "name": "stderr",
          "output_type": "stream",
          "text": [
            "100%|██████████| 26/26 [00:00<00:00, 54.62it/s]\n"
          ]
        },
        {
          "name": "stdout",
          "output_type": "stream",
          "text": [
            "(Epoch 49/[val]) Loss:\t1.167   Accuracy: 0.534   lr: 1.977596729074781e-08\n"
          ]
        },
        {
          "name": "stderr",
          "output_type": "stream",
          "text": [
            "100%|██████████| 102/102 [00:02<00:00, 43.70it/s]\n"
          ]
        },
        {
          "name": "stdout",
          "output_type": "stream",
          "text": [
            "(Epoch 50/[train]) Loss:\t1.038   Accuracy: 0.628   lr: 4.1935983076470884e-11\n"
          ]
        },
        {
          "name": "stderr",
          "output_type": "stream",
          "text": [
            "100%|██████████| 26/26 [00:00<00:00, 55.65it/s]"
          ]
        },
        {
          "name": "stdout",
          "output_type": "stream",
          "text": [
            "(Epoch 50/[val]) Loss:\t1.167   Accuracy: 0.534   lr: 4.1935983076470884e-11\n"
          ]
        },
        {
          "name": "stderr",
          "output_type": "stream",
          "text": [
            "\n"
          ]
        },
        {
          "data": {
            "text/html": [],
            "text/plain": [
              "<IPython.core.display.HTML object>"
            ]
          },
          "metadata": {},
          "output_type": "display_data"
        },
        {
          "data": {
            "text/html": [
              "<br>    <style><br>        .wandb-row {<br>            display: flex;<br>            flex-direction: row;<br>            flex-wrap: wrap;<br>            justify-content: flex-start;<br>            width: 100%;<br>        }<br>        .wandb-col {<br>            display: flex;<br>            flex-direction: column;<br>            flex-basis: 100%;<br>            flex: 1;<br>            padding: 10px;<br>        }<br>    </style><br><div class=\"wandb-row\"><div class=\"wandb-col\"><h3>Run history:</h3><br/><table class=\"wandb\"><tr><td>train/accuracy</td><td>▁▁▁▁▁▂▃▃▄▄▅▅▆▆▆▆▇▇▇▇▇▇▇▇████████████████</td></tr><tr><td>train/loss</td><td>█████▇▇▆▆▅▅▄▄▄▃▃▃▃▂▂▂▂▂▂▂▁▁▁▁▁▁▁▁▁▁▁▁▁▁▁</td></tr><tr><td>train/lr</td><td>▁▂▂▂▃▄▅▆▆███████▇▇▇▇▆▆▆▅▅▄▄▄▃▃▃▂▂▂▂▁▁▁▁▁</td></tr><tr><td>val/accuracy</td><td>▁▁▁▁▂▃▄▅▅▆▇▇▇▇▇█████████████████████████</td></tr><tr><td>val/loss</td><td>█████▇▇▆▆▅▄▄▃▃▃▂▂▂▂▂▂▁▁▁▁▁▁▁▁▁▁▁▁▁▁▁▁▁▁▁</td></tr><tr><td>val/lr</td><td>▁▂▂▂▃▄▅▆▆▇████████▇▇▇▆▆▆▆▅▅▄▄▄▃▃▃▂▂▁▁▁▁▁</td></tr></table><br/></div><div class=\"wandb-col\"><h3>Run summary:</h3><br/><table class=\"wandb\"><tr><td>train/accuracy</td><td>0.62844</td></tr><tr><td>train/loss</td><td>1.03772</td></tr><tr><td>train/lr</td><td>0.0</td></tr><tr><td>val/accuracy</td><td>0.53369</td></tr><tr><td>val/loss</td><td>1.16672</td></tr><tr><td>val/lr</td><td>0.0</td></tr></table><br/></div></div>"
            ],
            "text/plain": [
              "<IPython.core.display.HTML object>"
            ]
          },
          "metadata": {},
          "output_type": "display_data"
        },
        {
          "data": {
            "text/html": [
              " View run <strong style=\"color:#cdcd00\">model1</strong> at: <a href='https://wandb.ai/kacper-pt119-warsaw-university-of-technology/3DifferentNeuralNetsExperiments_v13/runs/udtwztup' target=\"_blank\">https://wandb.ai/kacper-pt119-warsaw-university-of-technology/3DifferentNeuralNetsExperiments_v13/runs/udtwztup</a><br> View project at: <a href='https://wandb.ai/kacper-pt119-warsaw-university-of-technology/3DifferentNeuralNetsExperiments_v13' target=\"_blank\">https://wandb.ai/kacper-pt119-warsaw-university-of-technology/3DifferentNeuralNetsExperiments_v13</a><br>Synced 5 W&B file(s), 0 media file(s), 0 artifact file(s) and 0 other file(s)"
            ],
            "text/plain": [
              "<IPython.core.display.HTML object>"
            ]
          },
          "metadata": {},
          "output_type": "display_data"
        },
        {
          "data": {
            "text/html": [
              "Find logs at: <code>.\\wandb\\run-20251017_141627-udtwztup\\logs</code>"
            ],
            "text/plain": [
              "<IPython.core.display.HTML object>"
            ]
          },
          "metadata": {},
          "output_type": "display_data"
        },
        {
          "name": "stdout",
          "output_type": "stream",
          "text": [
            "Trenowanie modelu: model2\n"
          ]
        },
        {
          "data": {
            "text/html": [],
            "text/plain": [
              "<IPython.core.display.HTML object>"
            ]
          },
          "metadata": {},
          "output_type": "display_data"
        },
        {
          "data": {
            "text/html": [
              "Tracking run with wandb version 0.22.2"
            ],
            "text/plain": [
              "<IPython.core.display.HTML object>"
            ]
          },
          "metadata": {},
          "output_type": "display_data"
        },
        {
          "data": {
            "text/html": [
              "Run data is saved locally in <code>f:\\Users\\Kacper Ptaszek\\Studia-LLM\\wandb\\run-20251017_141848-tdqsxl11</code>"
            ],
            "text/plain": [
              "<IPython.core.display.HTML object>"
            ]
          },
          "metadata": {},
          "output_type": "display_data"
        },
        {
          "data": {
            "text/html": [
              "Syncing run <strong><a href='https://wandb.ai/kacper-pt119-warsaw-university-of-technology/3DifferentNeuralNetsExperiments_v13/runs/tdqsxl11' target=\"_blank\">model2</a></strong> to <a href='https://wandb.ai/kacper-pt119-warsaw-university-of-technology/3DifferentNeuralNetsExperiments_v13' target=\"_blank\">Weights & Biases</a> (<a href='https://wandb.me/developer-guide' target=\"_blank\">docs</a>)<br>"
            ],
            "text/plain": [
              "<IPython.core.display.HTML object>"
            ]
          },
          "metadata": {},
          "output_type": "display_data"
        },
        {
          "data": {
            "text/html": [
              " View project at <a href='https://wandb.ai/kacper-pt119-warsaw-university-of-technology/3DifferentNeuralNetsExperiments_v13' target=\"_blank\">https://wandb.ai/kacper-pt119-warsaw-university-of-technology/3DifferentNeuralNetsExperiments_v13</a>"
            ],
            "text/plain": [
              "<IPython.core.display.HTML object>"
            ]
          },
          "metadata": {},
          "output_type": "display_data"
        },
        {
          "data": {
            "text/html": [
              " View run at <a href='https://wandb.ai/kacper-pt119-warsaw-university-of-technology/3DifferentNeuralNetsExperiments_v13/runs/tdqsxl11' target=\"_blank\">https://wandb.ai/kacper-pt119-warsaw-university-of-technology/3DifferentNeuralNetsExperiments_v13/runs/tdqsxl11</a>"
            ],
            "text/plain": [
              "<IPython.core.display.HTML object>"
            ]
          },
          "metadata": {},
          "output_type": "display_data"
        },
        {
          "name": "stderr",
          "output_type": "stream",
          "text": [
            "100%|██████████| 102/102 [00:03<00:00, 32.56it/s]\n"
          ]
        },
        {
          "name": "stdout",
          "output_type": "stream",
          "text": [
            "(Epoch 1/[train]) Loss:\t1.708   Accuracy: 0.194   lr: 5.050282613936265e-07\n"
          ]
        },
        {
          "name": "stderr",
          "output_type": "stream",
          "text": [
            "100%|██████████| 26/26 [00:00<00:00, 43.23it/s]\n"
          ]
        },
        {
          "name": "stdout",
          "output_type": "stream",
          "text": [
            "(Epoch 1/[val]) Loss:\t1.647   Accuracy: 0.194   lr: 5.050282613936265e-07\n"
          ]
        },
        {
          "name": "stderr",
          "output_type": "stream",
          "text": [
            "100%|██████████| 102/102 [00:03<00:00, 31.07it/s]\n"
          ]
        },
        {
          "name": "stdout",
          "output_type": "stream",
          "text": [
            "(Epoch 2/[train]) Loss:\t1.706   Accuracy: 0.195   lr: 8.155168223697683e-07\n"
          ]
        },
        {
          "name": "stderr",
          "output_type": "stream",
          "text": [
            "100%|██████████| 26/26 [00:00<00:00, 48.68it/s]\n"
          ]
        },
        {
          "name": "stdout",
          "output_type": "stream",
          "text": [
            "(Epoch 2/[val]) Loss:\t1.659   Accuracy: 0.200   lr: 8.155168223697683e-07\n"
          ]
        },
        {
          "name": "stderr",
          "output_type": "stream",
          "text": [
            "100%|██████████| 102/102 [00:02<00:00, 36.04it/s]\n"
          ]
        },
        {
          "name": "stdout",
          "output_type": "stream",
          "text": [
            "(Epoch 3/[train]) Loss:\t1.698   Accuracy: 0.203   lr: 1.3178781522026197e-06\n"
          ]
        },
        {
          "name": "stderr",
          "output_type": "stream",
          "text": [
            "100%|██████████| 26/26 [00:00<00:00, 45.86it/s]\n"
          ]
        },
        {
          "name": "stdout",
          "output_type": "stream",
          "text": [
            "(Epoch 3/[val]) Loss:\t1.649   Accuracy: 0.210   lr: 1.3178781522026197e-06\n"
          ]
        },
        {
          "name": "stderr",
          "output_type": "stream",
          "text": [
            "100%|██████████| 102/102 [00:02<00:00, 37.96it/s]\n"
          ]
        },
        {
          "name": "stdout",
          "output_type": "stream",
          "text": [
            "(Epoch 4/[train]) Loss:\t1.681   Accuracy: 0.214   lr: 1.990128027115625e-06\n"
          ]
        },
        {
          "name": "stderr",
          "output_type": "stream",
          "text": [
            "100%|██████████| 26/26 [00:00<00:00, 50.18it/s]\n"
          ]
        },
        {
          "name": "stdout",
          "output_type": "stream",
          "text": [
            "(Epoch 4/[val]) Loss:\t1.634   Accuracy: 0.226   lr: 1.990128027115625e-06\n"
          ]
        },
        {
          "name": "stderr",
          "output_type": "stream",
          "text": [
            "100%|██████████| 102/102 [00:02<00:00, 38.45it/s]\n"
          ]
        },
        {
          "name": "stdout",
          "output_type": "stream",
          "text": [
            "(Epoch 5/[train]) Loss:\t1.661   Accuracy: 0.229   lr: 2.8028475989487054e-06\n"
          ]
        },
        {
          "name": "stderr",
          "output_type": "stream",
          "text": [
            "100%|██████████| 26/26 [00:00<00:00, 52.12it/s]\n"
          ]
        },
        {
          "name": "stdout",
          "output_type": "stream",
          "text": [
            "(Epoch 5/[val]) Loss:\t1.613   Accuracy: 0.251   lr: 2.8028475989487054e-06\n"
          ]
        },
        {
          "name": "stderr",
          "output_type": "stream",
          "text": [
            "100%|██████████| 102/102 [00:02<00:00, 36.66it/s]\n"
          ]
        },
        {
          "name": "stdout",
          "output_type": "stream",
          "text": [
            "(Epoch 6/[train]) Loss:\t1.632   Accuracy: 0.252   lr: 3.720470816189275e-06\n"
          ]
        },
        {
          "name": "stderr",
          "output_type": "stream",
          "text": [
            "100%|██████████| 26/26 [00:00<00:00, 51.59it/s]\n"
          ]
        },
        {
          "name": "stdout",
          "output_type": "stream",
          "text": [
            "(Epoch 6/[val]) Loss:\t1.586   Accuracy: 0.280   lr: 3.720470816189275e-06\n"
          ]
        },
        {
          "name": "stderr",
          "output_type": "stream",
          "text": [
            "100%|██████████| 102/102 [00:02<00:00, 38.83it/s]\n"
          ]
        },
        {
          "name": "stdout",
          "output_type": "stream",
          "text": [
            "(Epoch 7/[train]) Loss:\t1.594   Accuracy: 0.282   lr: 4.70284085753683e-06\n"
          ]
        },
        {
          "name": "stderr",
          "output_type": "stream",
          "text": [
            "100%|██████████| 26/26 [00:00<00:00, 47.55it/s]\n"
          ]
        },
        {
          "name": "stdout",
          "output_type": "stream",
          "text": [
            "(Epoch 7/[val]) Loss:\t1.553   Accuracy: 0.312   lr: 4.70284085753683e-06\n"
          ]
        },
        {
          "name": "stderr",
          "output_type": "stream",
          "text": [
            "100%|██████████| 102/102 [00:02<00:00, 37.95it/s]\n"
          ]
        },
        {
          "name": "stdout",
          "output_type": "stream",
          "text": [
            "(Epoch 8/[train]) Loss:\t1.552   Accuracy: 0.314   lr: 5.706967465704742e-06\n"
          ]
        },
        {
          "name": "stderr",
          "output_type": "stream",
          "text": [
            "100%|██████████| 26/26 [00:00<00:00, 51.18it/s]\n"
          ]
        },
        {
          "name": "stdout",
          "output_type": "stream",
          "text": [
            "(Epoch 8/[val]) Loss:\t1.516   Accuracy: 0.345   lr: 5.706967465704742e-06\n"
          ]
        },
        {
          "name": "stderr",
          "output_type": "stream",
          "text": [
            "100%|██████████| 102/102 [00:02<00:00, 38.54it/s]\n"
          ]
        },
        {
          "name": "stdout",
          "output_type": "stream",
          "text": [
            "(Epoch 9/[train]) Loss:\t1.501   Accuracy: 0.350   lr: 6.688908277411779e-06\n"
          ]
        },
        {
          "name": "stderr",
          "output_type": "stream",
          "text": [
            "100%|██████████| 26/26 [00:00<00:00, 50.79it/s]\n"
          ]
        },
        {
          "name": "stdout",
          "output_type": "stream",
          "text": [
            "(Epoch 9/[val]) Loss:\t1.474   Accuracy: 0.378   lr: 6.688908277411779e-06\n"
          ]
        },
        {
          "name": "stderr",
          "output_type": "stream",
          "text": [
            "100%|██████████| 102/102 [00:02<00:00, 37.54it/s]\n"
          ]
        },
        {
          "name": "stdout",
          "output_type": "stream",
          "text": [
            "(Epoch 10/[train]) Loss:\t1.451   Accuracy: 0.388   lr: 7.605691819222507e-06\n"
          ]
        },
        {
          "name": "stderr",
          "output_type": "stream",
          "text": [
            "100%|██████████| 26/26 [00:00<00:00, 51.32it/s]\n"
          ]
        },
        {
          "name": "stdout",
          "output_type": "stream",
          "text": [
            "(Epoch 10/[val]) Loss:\t1.430   Accuracy: 0.406   lr: 7.605691819222507e-06\n"
          ]
        },
        {
          "name": "stderr",
          "output_type": "stream",
          "text": [
            "100%|██████████| 102/102 [00:02<00:00, 38.08it/s]\n"
          ]
        },
        {
          "name": "stdout",
          "output_type": "stream",
          "text": [
            "(Epoch 11/[train]) Loss:\t1.392   Accuracy: 0.430   lr: 8.417198015524148e-06\n"
          ]
        },
        {
          "name": "stderr",
          "output_type": "stream",
          "text": [
            "100%|██████████| 26/26 [00:00<00:00, 51.49it/s]\n"
          ]
        },
        {
          "name": "stdout",
          "output_type": "stream",
          "text": [
            "(Epoch 11/[val]) Loss:\t1.384   Accuracy: 0.430   lr: 8.417198015524148e-06\n"
          ]
        },
        {
          "name": "stderr",
          "output_type": "stream",
          "text": [
            "100%|██████████| 102/102 [00:02<00:00, 36.25it/s]\n"
          ]
        },
        {
          "name": "stdout",
          "output_type": "stream",
          "text": [
            "(Epoch 12/[train]) Loss:\t1.337   Accuracy: 0.462   lr: 9.08791391427182e-06\n"
          ]
        },
        {
          "name": "stderr",
          "output_type": "stream",
          "text": [
            "100%|██████████| 26/26 [00:00<00:00, 49.20it/s]\n"
          ]
        },
        {
          "name": "stdout",
          "output_type": "stream",
          "text": [
            "(Epoch 12/[val]) Loss:\t1.340   Accuracy: 0.452   lr: 9.08791391427182e-06\n"
          ]
        },
        {
          "name": "stderr",
          "output_type": "stream",
          "text": [
            "100%|██████████| 102/102 [00:02<00:00, 37.58it/s]\n"
          ]
        },
        {
          "name": "stdout",
          "output_type": "stream",
          "text": [
            "(Epoch 13/[train]) Loss:\t1.281   Accuracy: 0.493   lr: 9.588487796826136e-06\n"
          ]
        },
        {
          "name": "stderr",
          "output_type": "stream",
          "text": [
            "100%|██████████| 26/26 [00:00<00:00, 49.97it/s]\n"
          ]
        },
        {
          "name": "stdout",
          "output_type": "stream",
          "text": [
            "(Epoch 13/[val]) Loss:\t1.300   Accuracy: 0.469   lr: 9.588487796826136e-06\n"
          ]
        },
        {
          "name": "stderr",
          "output_type": "stream",
          "text": [
            "100%|██████████| 102/102 [00:02<00:00, 38.90it/s]\n"
          ]
        },
        {
          "name": "stdout",
          "output_type": "stream",
          "text": [
            "(Epoch 14/[train]) Loss:\t1.230   Accuracy: 0.523   lr: 9.897013661277203e-06\n"
          ]
        },
        {
          "name": "stderr",
          "output_type": "stream",
          "text": [
            "100%|██████████| 26/26 [00:00<00:00, 51.87it/s]\n"
          ]
        },
        {
          "name": "stdout",
          "output_type": "stream",
          "text": [
            "(Epoch 14/[val]) Loss:\t1.264   Accuracy: 0.483   lr: 9.897013661277203e-06\n"
          ]
        },
        {
          "name": "stderr",
          "output_type": "stream",
          "text": [
            "100%|██████████| 102/102 [00:02<00:00, 34.89it/s]\n"
          ]
        },
        {
          "name": "stdout",
          "output_type": "stream",
          "text": [
            "(Epoch 15/[train]) Loss:\t1.180   Accuracy: 0.549   lr: 9.999998064016924e-06\n"
          ]
        },
        {
          "name": "stderr",
          "output_type": "stream",
          "text": [
            "100%|██████████| 26/26 [00:00<00:00, 52.61it/s]\n"
          ]
        },
        {
          "name": "stdout",
          "output_type": "stream",
          "text": [
            "(Epoch 15/[val]) Loss:\t1.232   Accuracy: 0.496   lr: 9.999998064016924e-06\n"
          ]
        },
        {
          "name": "stderr",
          "output_type": "stream",
          "text": [
            "100%|██████████| 102/102 [00:03<00:00, 32.43it/s]\n"
          ]
        },
        {
          "name": "stdout",
          "output_type": "stream",
          "text": [
            "(Epoch 16/[train]) Loss:\t1.139   Accuracy: 0.572   lr: 9.979475211892622e-06\n"
          ]
        },
        {
          "name": "stderr",
          "output_type": "stream",
          "text": [
            "100%|██████████| 26/26 [00:00<00:00, 45.58it/s]\n"
          ]
        },
        {
          "name": "stdout",
          "output_type": "stream",
          "text": [
            "(Epoch 16/[val]) Loss:\t1.205   Accuracy: 0.504   lr: 9.979475211892622e-06\n"
          ]
        },
        {
          "name": "stderr",
          "output_type": "stream",
          "text": [
            "100%|██████████| 102/102 [00:02<00:00, 41.25it/s]\n"
          ]
        },
        {
          "name": "stdout",
          "output_type": "stream",
          "text": [
            "(Epoch 17/[train]) Loss:\t1.098   Accuracy: 0.592   lr: 9.918860714274414e-06\n"
          ]
        },
        {
          "name": "stderr",
          "output_type": "stream",
          "text": [
            "100%|██████████| 26/26 [00:00<00:00, 52.77it/s]\n"
          ]
        },
        {
          "name": "stdout",
          "output_type": "stream",
          "text": [
            "(Epoch 17/[val]) Loss:\t1.182   Accuracy: 0.512   lr: 9.918860714274414e-06\n"
          ]
        },
        {
          "name": "stderr",
          "output_type": "stream",
          "text": [
            "100%|██████████| 102/102 [00:02<00:00, 48.13it/s]\n"
          ]
        },
        {
          "name": "stdout",
          "output_type": "stream",
          "text": [
            "(Epoch 18/[train]) Loss:\t1.064   Accuracy: 0.609   lr: 9.818642603456368e-06\n"
          ]
        },
        {
          "name": "stderr",
          "output_type": "stream",
          "text": [
            "100%|██████████| 26/26 [00:00<00:00, 49.17it/s]\n"
          ]
        },
        {
          "name": "stdout",
          "output_type": "stream",
          "text": [
            "(Epoch 18/[val]) Loss:\t1.163   Accuracy: 0.518   lr: 9.818642603456368e-06\n"
          ]
        },
        {
          "name": "stderr",
          "output_type": "stream",
          "text": [
            "100%|██████████| 102/102 [00:02<00:00, 35.79it/s]\n"
          ]
        },
        {
          "name": "stdout",
          "output_type": "stream",
          "text": [
            "(Epoch 19/[train]) Loss:\t1.029   Accuracy: 0.627   lr: 9.6796277767395e-06\n"
          ]
        },
        {
          "name": "stderr",
          "output_type": "stream",
          "text": [
            "100%|██████████| 26/26 [00:00<00:00, 48.79it/s]\n"
          ]
        },
        {
          "name": "stdout",
          "output_type": "stream",
          "text": [
            "(Epoch 19/[val]) Loss:\t1.146   Accuracy: 0.523   lr: 9.6796277767395e-06\n"
          ]
        },
        {
          "name": "stderr",
          "output_type": "stream",
          "text": [
            "100%|██████████| 102/102 [00:03<00:00, 33.89it/s]\n"
          ]
        },
        {
          "name": "stdout",
          "output_type": "stream",
          "text": [
            "(Epoch 20/[train]) Loss:\t1.000   Accuracy: 0.642   lr: 9.502935499769142e-06\n"
          ]
        },
        {
          "name": "stderr",
          "output_type": "stream",
          "text": [
            "100%|██████████| 26/26 [00:00<00:00, 32.01it/s]\n"
          ]
        },
        {
          "name": "stdout",
          "output_type": "stream",
          "text": [
            "(Epoch 20/[val]) Loss:\t1.133   Accuracy: 0.527   lr: 9.502935499769142e-06\n"
          ]
        },
        {
          "name": "stderr",
          "output_type": "stream",
          "text": [
            "100%|██████████| 102/102 [00:03<00:00, 33.43it/s]\n"
          ]
        },
        {
          "name": "stdout",
          "output_type": "stream",
          "text": [
            "(Epoch 21/[train]) Loss:\t0.973   Accuracy: 0.656   lr: 9.289988394866079e-06\n"
          ]
        },
        {
          "name": "stderr",
          "output_type": "stream",
          "text": [
            "100%|██████████| 26/26 [00:00<00:00, 52.15it/s]\n"
          ]
        },
        {
          "name": "stdout",
          "output_type": "stream",
          "text": [
            "(Epoch 21/[val]) Loss:\t1.123   Accuracy: 0.528   lr: 9.289988394866079e-06\n"
          ]
        },
        {
          "name": "stderr",
          "output_type": "stream",
          "text": [
            "100%|██████████| 102/102 [00:02<00:00, 39.24it/s]\n"
          ]
        },
        {
          "name": "stdout",
          "output_type": "stream",
          "text": [
            "(Epoch 22/[train]) Loss:\t0.948   Accuracy: 0.669   lr: 9.04250098690812e-06\n"
          ]
        },
        {
          "name": "stderr",
          "output_type": "stream",
          "text": [
            "100%|██████████| 26/26 [00:00<00:00, 51.81it/s]\n"
          ]
        },
        {
          "name": "stdout",
          "output_type": "stream",
          "text": [
            "(Epoch 22/[val]) Loss:\t1.112   Accuracy: 0.531   lr: 9.04250098690812e-06\n"
          ]
        },
        {
          "name": "stderr",
          "output_type": "stream",
          "text": [
            "100%|██████████| 102/102 [00:02<00:00, 36.12it/s]\n"
          ]
        },
        {
          "name": "stdout",
          "output_type": "stream",
          "text": [
            "(Epoch 23/[train]) Loss:\t0.923   Accuracy: 0.681   lr: 8.762465898983908e-06\n"
          ]
        },
        {
          "name": "stderr",
          "output_type": "stream",
          "text": [
            "100%|██████████| 26/26 [00:00<00:00, 50.82it/s]\n"
          ]
        },
        {
          "name": "stdout",
          "output_type": "stream",
          "text": [
            "(Epoch 23/[val]) Loss:\t1.106   Accuracy: 0.532   lr: 8.762465898983908e-06\n"
          ]
        },
        {
          "name": "stderr",
          "output_type": "stream",
          "text": [
            "100%|██████████| 102/102 [00:02<00:00, 38.15it/s]\n"
          ]
        },
        {
          "name": "stdout",
          "output_type": "stream",
          "text": [
            "(Epoch 24/[train]) Loss:\t0.900   Accuracy: 0.690   lr: 8.452137808963437e-06\n"
          ]
        },
        {
          "name": "stderr",
          "output_type": "stream",
          "text": [
            "100%|██████████| 26/26 [00:00<00:00, 50.89it/s]\n"
          ]
        },
        {
          "name": "stdout",
          "output_type": "stream",
          "text": [
            "(Epoch 24/[val]) Loss:\t1.097   Accuracy: 0.535   lr: 8.452137808963437e-06\n"
          ]
        },
        {
          "name": "stderr",
          "output_type": "stream",
          "text": [
            "100%|██████████| 102/102 [00:02<00:00, 38.77it/s]\n"
          ]
        },
        {
          "name": "stdout",
          "output_type": "stream",
          "text": [
            "(Epoch 25/[train]) Loss:\t0.878   Accuracy: 0.703   lr: 8.114015296157596e-06\n"
          ]
        },
        {
          "name": "stderr",
          "output_type": "stream",
          "text": [
            "100%|██████████| 26/26 [00:00<00:00, 52.48it/s]\n"
          ]
        },
        {
          "name": "stdout",
          "output_type": "stream",
          "text": [
            "(Epoch 25/[val]) Loss:\t1.092   Accuracy: 0.536   lr: 8.114015296157596e-06\n"
          ]
        },
        {
          "name": "stderr",
          "output_type": "stream",
          "text": [
            "100%|██████████| 102/102 [00:02<00:00, 38.55it/s]\n"
          ]
        },
        {
          "name": "stdout",
          "output_type": "stream",
          "text": [
            "(Epoch 26/[train]) Loss:\t0.859   Accuracy: 0.711   lr: 7.750820724226675e-06\n"
          ]
        },
        {
          "name": "stderr",
          "output_type": "stream",
          "text": [
            "100%|██████████| 26/26 [00:00<00:00, 39.22it/s]\n"
          ]
        },
        {
          "name": "stdout",
          "output_type": "stream",
          "text": [
            "(Epoch 26/[val]) Loss:\t1.088   Accuracy: 0.537   lr: 7.750820724226675e-06\n"
          ]
        },
        {
          "name": "stderr",
          "output_type": "stream",
          "text": [
            "100%|██████████| 102/102 [00:02<00:00, 38.57it/s]\n"
          ]
        },
        {
          "name": "stdout",
          "output_type": "stream",
          "text": [
            "(Epoch 27/[train]) Loss:\t0.839   Accuracy: 0.721   lr: 7.365478322308915e-06\n"
          ]
        },
        {
          "name": "stderr",
          "output_type": "stream",
          "text": [
            "100%|██████████| 26/26 [00:00<00:00, 50.82it/s]\n"
          ]
        },
        {
          "name": "stdout",
          "output_type": "stream",
          "text": [
            "(Epoch 27/[val]) Loss:\t1.084   Accuracy: 0.538   lr: 7.365478322308915e-06\n"
          ]
        },
        {
          "name": "stderr",
          "output_type": "stream",
          "text": [
            "100%|██████████| 102/102 [00:02<00:00, 38.53it/s]\n"
          ]
        },
        {
          "name": "stdout",
          "output_type": "stream",
          "text": [
            "(Epoch 28/[train]) Loss:\t0.821   Accuracy: 0.732   lr: 6.961090640846892e-06\n"
          ]
        },
        {
          "name": "stderr",
          "output_type": "stream",
          "text": [
            "100%|██████████| 26/26 [00:00<00:00, 52.32it/s]\n"
          ]
        },
        {
          "name": "stdout",
          "output_type": "stream",
          "text": [
            "(Epoch 28/[val]) Loss:\t1.082   Accuracy: 0.538   lr: 6.961090640846892e-06\n"
          ]
        },
        {
          "name": "stderr",
          "output_type": "stream",
          "text": [
            "100%|██████████| 102/102 [00:02<00:00, 38.63it/s]\n"
          ]
        },
        {
          "name": "stdout",
          "output_type": "stream",
          "text": [
            "(Epoch 29/[train]) Loss:\t0.805   Accuracy: 0.737   lr: 6.540913571675635e-06\n"
          ]
        },
        {
          "name": "stderr",
          "output_type": "stream",
          "text": [
            "100%|██████████| 26/26 [00:00<00:00, 51.82it/s]\n"
          ]
        },
        {
          "name": "stdout",
          "output_type": "stream",
          "text": [
            "(Epoch 29/[val]) Loss:\t1.080   Accuracy: 0.538   lr: 6.540913571675635e-06\n"
          ]
        },
        {
          "name": "stderr",
          "output_type": "stream",
          "text": [
            "100%|██████████| 102/102 [00:02<00:00, 38.76it/s]\n"
          ]
        },
        {
          "name": "stdout",
          "output_type": "stream",
          "text": [
            "(Epoch 30/[train]) Loss:\t0.789   Accuracy: 0.748   lr: 6.108330133495993e-06\n"
          ]
        },
        {
          "name": "stderr",
          "output_type": "stream",
          "text": [
            "100%|██████████| 26/26 [00:00<00:00, 51.52it/s]\n"
          ]
        },
        {
          "name": "stdout",
          "output_type": "stream",
          "text": [
            "(Epoch 30/[val]) Loss:\t1.078   Accuracy: 0.538   lr: 6.108330133495993e-06\n"
          ]
        },
        {
          "name": "stderr",
          "output_type": "stream",
          "text": [
            "100%|██████████| 102/102 [00:02<00:00, 38.70it/s]\n"
          ]
        },
        {
          "name": "stdout",
          "output_type": "stream",
          "text": [
            "(Epoch 31/[train]) Loss:\t0.773   Accuracy: 0.754   lr: 5.6668232337972465e-06\n"
          ]
        },
        {
          "name": "stderr",
          "output_type": "stream",
          "text": [
            "100%|██████████| 26/26 [00:00<00:00, 51.02it/s]\n"
          ]
        },
        {
          "name": "stdout",
          "output_type": "stream",
          "text": [
            "(Epoch 31/[val]) Loss:\t1.077   Accuracy: 0.539   lr: 5.6668232337972465e-06\n"
          ]
        },
        {
          "name": "stderr",
          "output_type": "stream",
          "text": [
            "100%|██████████| 102/102 [00:02<00:00, 36.75it/s]\n"
          ]
        },
        {
          "name": "stdout",
          "output_type": "stream",
          "text": [
            "(Epoch 32/[train]) Loss:\t0.760   Accuracy: 0.760   lr: 5.219947626533917e-06\n"
          ]
        },
        {
          "name": "stderr",
          "output_type": "stream",
          "text": [
            "100%|██████████| 26/26 [00:00<00:00, 48.82it/s]\n"
          ]
        },
        {
          "name": "stdout",
          "output_type": "stream",
          "text": [
            "(Epoch 32/[val]) Loss:\t1.077   Accuracy: 0.540   lr: 5.219947626533917e-06\n"
          ]
        },
        {
          "name": "stderr",
          "output_type": "stream",
          "text": [
            "100%|██████████| 102/102 [00:02<00:00, 38.93it/s]\n"
          ]
        },
        {
          "name": "stdout",
          "output_type": "stream",
          "text": [
            "(Epoch 33/[train]) Loss:\t0.749   Accuracy: 0.766   lr: 4.771301291337086e-06\n"
          ]
        },
        {
          "name": "stderr",
          "output_type": "stream",
          "text": [
            "100%|██████████| 26/26 [00:00<00:00, 51.01it/s]\n"
          ]
        },
        {
          "name": "stdout",
          "output_type": "stream",
          "text": [
            "(Epoch 33/[val]) Loss:\t1.076   Accuracy: 0.538   lr: 4.771301291337086e-06\n"
          ]
        },
        {
          "name": "stderr",
          "output_type": "stream",
          "text": [
            "100%|██████████| 102/102 [00:02<00:00, 38.68it/s]\n"
          ]
        },
        {
          "name": "stdout",
          "output_type": "stream",
          "text": [
            "(Epoch 34/[train]) Loss:\t0.738   Accuracy: 0.770   lr: 4.324496464697987e-06\n"
          ]
        },
        {
          "name": "stderr",
          "output_type": "stream",
          "text": [
            "100%|██████████| 26/26 [00:00<00:00, 51.75it/s]\n"
          ]
        },
        {
          "name": "stdout",
          "output_type": "stream",
          "text": [
            "(Epoch 34/[val]) Loss:\t1.076   Accuracy: 0.538   lr: 4.324496464697987e-06\n"
          ]
        },
        {
          "name": "stderr",
          "output_type": "stream",
          "text": [
            "100%|██████████| 102/102 [00:02<00:00, 38.80it/s]\n"
          ]
        },
        {
          "name": "stdout",
          "output_type": "stream",
          "text": [
            "(Epoch 35/[train]) Loss:\t0.726   Accuracy: 0.777   lr: 3.8831305563637325e-06\n"
          ]
        },
        {
          "name": "stderr",
          "output_type": "stream",
          "text": [
            "100%|██████████| 26/26 [00:00<00:00, 51.61it/s]\n"
          ]
        },
        {
          "name": "stdout",
          "output_type": "stream",
          "text": [
            "(Epoch 35/[val]) Loss:\t1.075   Accuracy: 0.538   lr: 3.8831305563637325e-06\n"
          ]
        },
        {
          "name": "stderr",
          "output_type": "stream",
          "text": [
            "100%|██████████| 102/102 [00:02<00:00, 38.03it/s]\n"
          ]
        },
        {
          "name": "stdout",
          "output_type": "stream",
          "text": [
            "(Epoch 36/[train]) Loss:\t0.719   Accuracy: 0.777   lr: 3.4507571851092788e-06\n"
          ]
        },
        {
          "name": "stderr",
          "output_type": "stream",
          "text": [
            "100%|██████████| 26/26 [00:00<00:00, 51.67it/s]\n"
          ]
        },
        {
          "name": "stdout",
          "output_type": "stream",
          "text": [
            "(Epoch 36/[val]) Loss:\t1.075   Accuracy: 0.538   lr: 3.4507571851092788e-06\n"
          ]
        },
        {
          "name": "stderr",
          "output_type": "stream",
          "text": [
            "100%|██████████| 102/102 [00:02<00:00, 38.47it/s]\n"
          ]
        },
        {
          "name": "stdout",
          "output_type": "stream",
          "text": [
            "(Epoch 37/[train]) Loss:\t0.709   Accuracy: 0.787   lr: 3.0308575670885416e-06\n"
          ]
        },
        {
          "name": "stderr",
          "output_type": "stream",
          "text": [
            "100%|██████████| 26/26 [00:00<00:00, 51.79it/s]\n"
          ]
        },
        {
          "name": "stdout",
          "output_type": "stream",
          "text": [
            "(Epoch 37/[val]) Loss:\t1.075   Accuracy: 0.538   lr: 3.0308575670885416e-06\n"
          ]
        },
        {
          "name": "stderr",
          "output_type": "stream",
          "text": [
            "100%|██████████| 102/102 [00:02<00:00, 36.65it/s]\n"
          ]
        },
        {
          "name": "stdout",
          "output_type": "stream",
          "text": [
            "(Epoch 38/[train]) Loss:\t0.702   Accuracy: 0.789   lr: 2.6268124871288486e-06\n"
          ]
        },
        {
          "name": "stderr",
          "output_type": "stream",
          "text": [
            "100%|██████████| 26/26 [00:00<00:00, 53.40it/s]\n"
          ]
        },
        {
          "name": "stdout",
          "output_type": "stream",
          "text": [
            "(Epoch 38/[val]) Loss:\t1.076   Accuracy: 0.538   lr: 2.6268124871288486e-06\n"
          ]
        },
        {
          "name": "stderr",
          "output_type": "stream",
          "text": [
            "100%|██████████| 102/102 [00:02<00:00, 38.56it/s]\n"
          ]
        },
        {
          "name": "stdout",
          "output_type": "stream",
          "text": [
            "(Epoch 39/[train]) Loss:\t0.696   Accuracy: 0.794   lr: 2.2418750786393736e-06\n"
          ]
        },
        {
          "name": "stderr",
          "output_type": "stream",
          "text": [
            "100%|██████████| 26/26 [00:00<00:00, 50.28it/s]\n"
          ]
        },
        {
          "name": "stdout",
          "output_type": "stream",
          "text": [
            "(Epoch 39/[val]) Loss:\t1.075   Accuracy: 0.538   lr: 2.2418750786393736e-06\n"
          ]
        },
        {
          "name": "stderr",
          "output_type": "stream",
          "text": [
            "100%|██████████| 102/102 [00:02<00:00, 39.17it/s]\n"
          ]
        },
        {
          "name": "stdout",
          "output_type": "stream",
          "text": [
            "(Epoch 40/[train]) Loss:\t0.691   Accuracy: 0.795   lr: 1.8791446312937438e-06\n"
          ]
        },
        {
          "name": "stderr",
          "output_type": "stream",
          "text": [
            "100%|██████████| 26/26 [00:00<00:00, 50.79it/s]\n"
          ]
        },
        {
          "name": "stdout",
          "output_type": "stream",
          "text": [
            "(Epoch 40/[val]) Loss:\t1.076   Accuracy: 0.539   lr: 1.8791446312937438e-06\n"
          ]
        },
        {
          "name": "stderr",
          "output_type": "stream",
          "text": [
            "100%|██████████| 102/102 [00:02<00:00, 38.20it/s]\n"
          ]
        },
        {
          "name": "stdout",
          "output_type": "stream",
          "text": [
            "(Epoch 41/[train]) Loss:\t0.686   Accuracy: 0.797   lr: 1.5415416373719365e-06\n"
          ]
        },
        {
          "name": "stderr",
          "output_type": "stream",
          "text": [
            "100%|██████████| 26/26 [00:00<00:00, 51.36it/s]\n"
          ]
        },
        {
          "name": "stdout",
          "output_type": "stream",
          "text": [
            "(Epoch 41/[val]) Loss:\t1.076   Accuracy: 0.538   lr: 1.5415416373719365e-06\n"
          ]
        },
        {
          "name": "stderr",
          "output_type": "stream",
          "text": [
            "100%|██████████| 102/102 [00:02<00:00, 38.88it/s]\n"
          ]
        },
        {
          "name": "stdout",
          "output_type": "stream",
          "text": [
            "(Epoch 42/[train]) Loss:\t0.681   Accuracy: 0.800   lr: 1.2317842776736646e-06\n"
          ]
        },
        {
          "name": "stderr",
          "output_type": "stream",
          "text": [
            "100%|██████████| 26/26 [00:00<00:00, 51.28it/s]\n"
          ]
        },
        {
          "name": "stdout",
          "output_type": "stream",
          "text": [
            "(Epoch 42/[val]) Loss:\t1.077   Accuracy: 0.538   lr: 1.2317842776736646e-06\n"
          ]
        },
        {
          "name": "stderr",
          "output_type": "stream",
          "text": [
            "100%|██████████| 102/102 [00:02<00:00, 38.55it/s]\n"
          ]
        },
        {
          "name": "stdout",
          "output_type": "stream",
          "text": [
            "(Epoch 43/[train]) Loss:\t0.679   Accuracy: 0.799   lr: 9.52366536324841e-07\n"
          ]
        },
        {
          "name": "stderr",
          "output_type": "stream",
          "text": [
            "100%|██████████| 26/26 [00:00<00:00, 51.19it/s]\n"
          ]
        },
        {
          "name": "stdout",
          "output_type": "stream",
          "text": [
            "(Epoch 43/[val]) Loss:\t1.077   Accuracy: 0.538   lr: 9.52366536324841e-07\n"
          ]
        },
        {
          "name": "stderr",
          "output_type": "stream",
          "text": [
            "100%|██████████| 102/102 [00:02<00:00, 36.92it/s]\n"
          ]
        },
        {
          "name": "stdout",
          "output_type": "stream",
          "text": [
            "(Epoch 44/[train]) Loss:\t0.676   Accuracy: 0.802   lr: 7.05538120683834e-07\n"
          ]
        },
        {
          "name": "stderr",
          "output_type": "stream",
          "text": [
            "100%|██████████| 26/26 [00:00<00:00, 50.51it/s]"
          ]
        },
        {
          "name": "stdout",
          "output_type": "stream",
          "text": [
            "(Epoch 44/[val]) Loss:\t1.077   Accuracy: 0.537   lr: 7.05538120683834e-07\n",
            "--------------------Early stopping--------------------\n"
          ]
        },
        {
          "name": "stderr",
          "output_type": "stream",
          "text": [
            "\n"
          ]
        },
        {
          "data": {
            "text/html": [],
            "text/plain": [
              "<IPython.core.display.HTML object>"
            ]
          },
          "metadata": {},
          "output_type": "display_data"
        },
        {
          "data": {
            "text/html": [
              "<br>    <style><br>        .wandb-row {<br>            display: flex;<br>            flex-direction: row;<br>            flex-wrap: wrap;<br>            justify-content: flex-start;<br>            width: 100%;<br>        }<br>        .wandb-col {<br>            display: flex;<br>            flex-direction: column;<br>            flex-basis: 100%;<br>            flex: 1;<br>            padding: 10px;<br>        }<br>    </style><br><div class=\"wandb-row\"><div class=\"wandb-col\"><h3>Run history:</h3><br/><table class=\"wandb\"><tr><td>train/accuracy</td><td>▁▁▁▁▁▂▂▂▃▃▄▄▅▅▅▆▆▆▆▆▇▇▇▇▇▇▇▇▇███████████</td></tr><tr><td>train/loss</td><td>█████▇▇▇▇▆▅▅▅▄▄▄▄▃▃▃▃▃▂▂▂▂▂▂▂▂▁▁▁▁▁▁▁▁▁▁</td></tr><tr><td>train/lr</td><td>▁▁▂▂▃▃▄▅▆▆▇████████▇▇▇▇▆▆▆▅▅▅▄▄▃▃▃▃▂▂▂▂▁</td></tr><tr><td>val/accuracy</td><td>▁▁▁▂▂▃▃▄▅▅▆▇▇▇▇▇████████████████████████</td></tr><tr><td>val/loss</td><td>████▇▇▇▆▆▅▄▄▃▃▃▂▂▂▂▂▁▁▁▁▁▁▁▁▁▁▁▁▁▁▁▁▁▁▁▁</td></tr><tr><td>val/lr</td><td>▁▁▂▂▃▃▄▅▆▆▇████████▇▇▇▇▆▆▆▅▅▅▄▄▃▃▃▃▂▂▂▂▁</td></tr></table><br/></div><div class=\"wandb-col\"><h3>Run summary:</h3><br/><table class=\"wandb\"><tr><td>train/accuracy</td><td>0.80187</td></tr><tr><td>train/loss</td><td>0.67589</td></tr><tr><td>train/lr</td><td>0.0</td></tr><tr><td>val/accuracy</td><td>0.53723</td></tr><tr><td>val/loss</td><td>1.07698</td></tr><tr><td>val/lr</td><td>0.0</td></tr></table><br/></div></div>"
            ],
            "text/plain": [
              "<IPython.core.display.HTML object>"
            ]
          },
          "metadata": {},
          "output_type": "display_data"
        },
        {
          "data": {
            "text/html": [
              " View run <strong style=\"color:#cdcd00\">model2</strong> at: <a href='https://wandb.ai/kacper-pt119-warsaw-university-of-technology/3DifferentNeuralNetsExperiments_v13/runs/tdqsxl11' target=\"_blank\">https://wandb.ai/kacper-pt119-warsaw-university-of-technology/3DifferentNeuralNetsExperiments_v13/runs/tdqsxl11</a><br> View project at: <a href='https://wandb.ai/kacper-pt119-warsaw-university-of-technology/3DifferentNeuralNetsExperiments_v13' target=\"_blank\">https://wandb.ai/kacper-pt119-warsaw-university-of-technology/3DifferentNeuralNetsExperiments_v13</a><br>Synced 5 W&B file(s), 0 media file(s), 0 artifact file(s) and 0 other file(s)"
            ],
            "text/plain": [
              "<IPython.core.display.HTML object>"
            ]
          },
          "metadata": {},
          "output_type": "display_data"
        },
        {
          "data": {
            "text/html": [
              "Find logs at: <code>.\\wandb\\run-20251017_141848-tdqsxl11\\logs</code>"
            ],
            "text/plain": [
              "<IPython.core.display.HTML object>"
            ]
          },
          "metadata": {},
          "output_type": "display_data"
        },
        {
          "name": "stdout",
          "output_type": "stream",
          "text": [
            "Trenowanie modelu: model3\n"
          ]
        },
        {
          "data": {
            "text/html": [],
            "text/plain": [
              "<IPython.core.display.HTML object>"
            ]
          },
          "metadata": {},
          "output_type": "display_data"
        },
        {
          "data": {
            "text/html": [
              "Tracking run with wandb version 0.22.2"
            ],
            "text/plain": [
              "<IPython.core.display.HTML object>"
            ]
          },
          "metadata": {},
          "output_type": "display_data"
        },
        {
          "data": {
            "text/html": [
              "Run data is saved locally in <code>f:\\Users\\Kacper Ptaszek\\Studia-LLM\\wandb\\run-20251017_142114-oa0z9bn2</code>"
            ],
            "text/plain": [
              "<IPython.core.display.HTML object>"
            ]
          },
          "metadata": {},
          "output_type": "display_data"
        },
        {
          "data": {
            "text/html": [
              "Syncing run <strong><a href='https://wandb.ai/kacper-pt119-warsaw-university-of-technology/3DifferentNeuralNetsExperiments_v13/runs/oa0z9bn2' target=\"_blank\">model3</a></strong> to <a href='https://wandb.ai/kacper-pt119-warsaw-university-of-technology/3DifferentNeuralNetsExperiments_v13' target=\"_blank\">Weights & Biases</a> (<a href='https://wandb.me/developer-guide' target=\"_blank\">docs</a>)<br>"
            ],
            "text/plain": [
              "<IPython.core.display.HTML object>"
            ]
          },
          "metadata": {},
          "output_type": "display_data"
        },
        {
          "data": {
            "text/html": [
              " View project at <a href='https://wandb.ai/kacper-pt119-warsaw-university-of-technology/3DifferentNeuralNetsExperiments_v13' target=\"_blank\">https://wandb.ai/kacper-pt119-warsaw-university-of-technology/3DifferentNeuralNetsExperiments_v13</a>"
            ],
            "text/plain": [
              "<IPython.core.display.HTML object>"
            ]
          },
          "metadata": {},
          "output_type": "display_data"
        },
        {
          "data": {
            "text/html": [
              " View run at <a href='https://wandb.ai/kacper-pt119-warsaw-university-of-technology/3DifferentNeuralNetsExperiments_v13/runs/oa0z9bn2' target=\"_blank\">https://wandb.ai/kacper-pt119-warsaw-university-of-technology/3DifferentNeuralNetsExperiments_v13/runs/oa0z9bn2</a>"
            ],
            "text/plain": [
              "<IPython.core.display.HTML object>"
            ]
          },
          "metadata": {},
          "output_type": "display_data"
        },
        {
          "name": "stderr",
          "output_type": "stream",
          "text": [
            "100%|██████████| 102/102 [00:05<00:00, 19.47it/s]\n"
          ]
        },
        {
          "name": "stdout",
          "output_type": "stream",
          "text": [
            "(Epoch 1/[train]) Loss:\t1.696   Accuracy: 0.206   lr: 5.050282613936265e-07\n"
          ]
        },
        {
          "name": "stderr",
          "output_type": "stream",
          "text": [
            "100%|██████████| 26/26 [00:00<00:00, 34.52it/s]\n"
          ]
        },
        {
          "name": "stdout",
          "output_type": "stream",
          "text": [
            "(Epoch 1/[val]) Loss:\t1.636   Accuracy: 0.196   lr: 5.050282613936265e-07\n"
          ]
        },
        {
          "name": "stderr",
          "output_type": "stream",
          "text": [
            "100%|██████████| 102/102 [00:02<00:00, 36.03it/s]\n"
          ]
        },
        {
          "name": "stdout",
          "output_type": "stream",
          "text": [
            "(Epoch 2/[train]) Loss:\t1.690   Accuracy: 0.208   lr: 8.155168223697683e-07\n"
          ]
        },
        {
          "name": "stderr",
          "output_type": "stream",
          "text": [
            "100%|██████████| 26/26 [00:00<00:00, 48.91it/s]\n"
          ]
        },
        {
          "name": "stdout",
          "output_type": "stream",
          "text": [
            "(Epoch 2/[val]) Loss:\t1.642   Accuracy: 0.201   lr: 8.155168223697683e-07\n"
          ]
        },
        {
          "name": "stderr",
          "output_type": "stream",
          "text": [
            "100%|██████████| 102/102 [00:04<00:00, 20.82it/s]\n"
          ]
        },
        {
          "name": "stdout",
          "output_type": "stream",
          "text": [
            "(Epoch 3/[train]) Loss:\t1.681   Accuracy: 0.212   lr: 1.3178781522026197e-06\n"
          ]
        },
        {
          "name": "stderr",
          "output_type": "stream",
          "text": [
            "100%|██████████| 26/26 [00:00<00:00, 37.47it/s]\n"
          ]
        },
        {
          "name": "stdout",
          "output_type": "stream",
          "text": [
            "(Epoch 3/[val]) Loss:\t1.632   Accuracy: 0.208   lr: 1.3178781522026197e-06\n"
          ]
        },
        {
          "name": "stderr",
          "output_type": "stream",
          "text": [
            "100%|██████████| 102/102 [00:04<00:00, 21.44it/s]\n"
          ]
        },
        {
          "name": "stdout",
          "output_type": "stream",
          "text": [
            "(Epoch 4/[train]) Loss:\t1.669   Accuracy: 0.217   lr: 1.990128027115625e-06\n"
          ]
        },
        {
          "name": "stderr",
          "output_type": "stream",
          "text": [
            "100%|██████████| 26/26 [00:00<00:00, 39.29it/s]\n"
          ]
        },
        {
          "name": "stdout",
          "output_type": "stream",
          "text": [
            "(Epoch 4/[val]) Loss:\t1.617   Accuracy: 0.220   lr: 1.990128027115625e-06\n"
          ]
        },
        {
          "name": "stderr",
          "output_type": "stream",
          "text": [
            "100%|██████████| 102/102 [00:04<00:00, 21.86it/s]\n"
          ]
        },
        {
          "name": "stdout",
          "output_type": "stream",
          "text": [
            "(Epoch 5/[train]) Loss:\t1.647   Accuracy: 0.229   lr: 2.8028475989487054e-06\n"
          ]
        },
        {
          "name": "stderr",
          "output_type": "stream",
          "text": [
            "100%|██████████| 26/26 [00:00<00:00, 38.71it/s]\n"
          ]
        },
        {
          "name": "stdout",
          "output_type": "stream",
          "text": [
            "(Epoch 5/[val]) Loss:\t1.597   Accuracy: 0.238   lr: 2.8028475989487054e-06\n"
          ]
        },
        {
          "name": "stderr",
          "output_type": "stream",
          "text": [
            "100%|██████████| 102/102 [00:05<00:00, 19.79it/s]\n"
          ]
        },
        {
          "name": "stdout",
          "output_type": "stream",
          "text": [
            "(Epoch 6/[train]) Loss:\t1.622   Accuracy: 0.244   lr: 3.720470816189275e-06\n"
          ]
        },
        {
          "name": "stderr",
          "output_type": "stream",
          "text": [
            "100%|██████████| 26/26 [00:00<00:00, 32.56it/s]\n"
          ]
        },
        {
          "name": "stdout",
          "output_type": "stream",
          "text": [
            "(Epoch 6/[val]) Loss:\t1.571   Accuracy: 0.264   lr: 3.720470816189275e-06\n"
          ]
        },
        {
          "name": "stderr",
          "output_type": "stream",
          "text": [
            "100%|██████████| 102/102 [00:04<00:00, 22.97it/s]\n"
          ]
        },
        {
          "name": "stdout",
          "output_type": "stream",
          "text": [
            "(Epoch 7/[train]) Loss:\t1.583   Accuracy: 0.269   lr: 4.70284085753683e-06\n"
          ]
        },
        {
          "name": "stderr",
          "output_type": "stream",
          "text": [
            "100%|██████████| 26/26 [00:00<00:00, 38.70it/s]\n"
          ]
        },
        {
          "name": "stdout",
          "output_type": "stream",
          "text": [
            "(Epoch 7/[val]) Loss:\t1.537   Accuracy: 0.300   lr: 4.70284085753683e-06\n"
          ]
        },
        {
          "name": "stderr",
          "output_type": "stream",
          "text": [
            "100%|██████████| 102/102 [00:04<00:00, 20.85it/s]\n"
          ]
        },
        {
          "name": "stdout",
          "output_type": "stream",
          "text": [
            "(Epoch 8/[train]) Loss:\t1.538   Accuracy: 0.301   lr: 5.706967465704742e-06\n"
          ]
        },
        {
          "name": "stderr",
          "output_type": "stream",
          "text": [
            "100%|██████████| 26/26 [00:00<00:00, 39.10it/s]\n"
          ]
        },
        {
          "name": "stdout",
          "output_type": "stream",
          "text": [
            "(Epoch 8/[val]) Loss:\t1.496   Accuracy: 0.340   lr: 5.706967465704742e-06\n"
          ]
        },
        {
          "name": "stderr",
          "output_type": "stream",
          "text": [
            "100%|██████████| 102/102 [00:04<00:00, 22.68it/s]\n"
          ]
        },
        {
          "name": "stdout",
          "output_type": "stream",
          "text": [
            "(Epoch 9/[train]) Loss:\t1.484   Accuracy: 0.341   lr: 6.688908277411779e-06\n"
          ]
        },
        {
          "name": "stderr",
          "output_type": "stream",
          "text": [
            "100%|██████████| 26/26 [00:00<00:00, 40.45it/s]\n"
          ]
        },
        {
          "name": "stdout",
          "output_type": "stream",
          "text": [
            "(Epoch 9/[val]) Loss:\t1.447   Accuracy: 0.390   lr: 6.688908277411779e-06\n"
          ]
        },
        {
          "name": "stderr",
          "output_type": "stream",
          "text": [
            "100%|██████████| 102/102 [00:04<00:00, 23.01it/s]\n"
          ]
        },
        {
          "name": "stdout",
          "output_type": "stream",
          "text": [
            "(Epoch 10/[train]) Loss:\t1.423   Accuracy: 0.389   lr: 7.605691819222507e-06\n"
          ]
        },
        {
          "name": "stderr",
          "output_type": "stream",
          "text": [
            "100%|██████████| 26/26 [00:00<00:00, 39.21it/s]\n"
          ]
        },
        {
          "name": "stdout",
          "output_type": "stream",
          "text": [
            "(Epoch 10/[val]) Loss:\t1.393   Accuracy: 0.426   lr: 7.605691819222507e-06\n"
          ]
        },
        {
          "name": "stderr",
          "output_type": "stream",
          "text": [
            "100%|██████████| 102/102 [00:04<00:00, 22.71it/s]\n"
          ]
        },
        {
          "name": "stdout",
          "output_type": "stream",
          "text": [
            "(Epoch 11/[train]) Loss:\t1.360   Accuracy: 0.427   lr: 8.417198015524148e-06\n"
          ]
        },
        {
          "name": "stderr",
          "output_type": "stream",
          "text": [
            "100%|██████████| 26/26 [00:00<00:00, 39.83it/s]\n"
          ]
        },
        {
          "name": "stdout",
          "output_type": "stream",
          "text": [
            "(Epoch 11/[val]) Loss:\t1.338   Accuracy: 0.455   lr: 8.417198015524148e-06\n"
          ]
        },
        {
          "name": "stderr",
          "output_type": "stream",
          "text": [
            "100%|██████████| 102/102 [00:04<00:00, 22.04it/s]\n"
          ]
        },
        {
          "name": "stdout",
          "output_type": "stream",
          "text": [
            "(Epoch 12/[train]) Loss:\t1.295   Accuracy: 0.467   lr: 9.08791391427182e-06\n"
          ]
        },
        {
          "name": "stderr",
          "output_type": "stream",
          "text": [
            "100%|██████████| 26/26 [00:00<00:00, 39.77it/s]\n"
          ]
        },
        {
          "name": "stdout",
          "output_type": "stream",
          "text": [
            "(Epoch 12/[val]) Loss:\t1.289   Accuracy: 0.475   lr: 9.08791391427182e-06\n"
          ]
        },
        {
          "name": "stderr",
          "output_type": "stream",
          "text": [
            "100%|██████████| 102/102 [00:04<00:00, 23.04it/s]\n"
          ]
        },
        {
          "name": "stdout",
          "output_type": "stream",
          "text": [
            "(Epoch 13/[train]) Loss:\t1.233   Accuracy: 0.501   lr: 9.588487796826136e-06\n"
          ]
        },
        {
          "name": "stderr",
          "output_type": "stream",
          "text": [
            "100%|██████████| 26/26 [00:00<00:00, 40.15it/s]\n"
          ]
        },
        {
          "name": "stdout",
          "output_type": "stream",
          "text": [
            "(Epoch 13/[val]) Loss:\t1.243   Accuracy: 0.492   lr: 9.588487796826136e-06\n"
          ]
        },
        {
          "name": "stderr",
          "output_type": "stream",
          "text": [
            "100%|██████████| 102/102 [00:04<00:00, 22.98it/s]\n"
          ]
        },
        {
          "name": "stdout",
          "output_type": "stream",
          "text": [
            "(Epoch 14/[train]) Loss:\t1.176   Accuracy: 0.531   lr: 9.897013661277203e-06\n"
          ]
        },
        {
          "name": "stderr",
          "output_type": "stream",
          "text": [
            "100%|██████████| 26/26 [00:00<00:00, 40.37it/s]\n"
          ]
        },
        {
          "name": "stdout",
          "output_type": "stream",
          "text": [
            "(Epoch 14/[val]) Loss:\t1.206   Accuracy: 0.502   lr: 9.897013661277203e-06\n"
          ]
        },
        {
          "name": "stderr",
          "output_type": "stream",
          "text": [
            "100%|██████████| 102/102 [00:04<00:00, 22.97it/s]\n"
          ]
        },
        {
          "name": "stdout",
          "output_type": "stream",
          "text": [
            "(Epoch 15/[train]) Loss:\t1.126   Accuracy: 0.555   lr: 9.999998064016924e-06\n"
          ]
        },
        {
          "name": "stderr",
          "output_type": "stream",
          "text": [
            "100%|██████████| 26/26 [00:00<00:00, 35.29it/s]\n"
          ]
        },
        {
          "name": "stdout",
          "output_type": "stream",
          "text": [
            "(Epoch 15/[val]) Loss:\t1.176   Accuracy: 0.514   lr: 9.999998064016924e-06\n"
          ]
        },
        {
          "name": "stderr",
          "output_type": "stream",
          "text": [
            "100%|██████████| 102/102 [00:04<00:00, 23.07it/s]\n"
          ]
        },
        {
          "name": "stdout",
          "output_type": "stream",
          "text": [
            "(Epoch 16/[train]) Loss:\t1.081   Accuracy: 0.580   lr: 9.979475211892622e-06\n"
          ]
        },
        {
          "name": "stderr",
          "output_type": "stream",
          "text": [
            "100%|██████████| 26/26 [00:00<00:00, 40.08it/s]\n"
          ]
        },
        {
          "name": "stdout",
          "output_type": "stream",
          "text": [
            "(Epoch 16/[val]) Loss:\t1.151   Accuracy: 0.522   lr: 9.979475211892622e-06\n"
          ]
        },
        {
          "name": "stderr",
          "output_type": "stream",
          "text": [
            "100%|██████████| 102/102 [00:04<00:00, 22.49it/s]\n"
          ]
        },
        {
          "name": "stdout",
          "output_type": "stream",
          "text": [
            "(Epoch 17/[train]) Loss:\t1.040   Accuracy: 0.601   lr: 9.918860714274414e-06\n"
          ]
        },
        {
          "name": "stderr",
          "output_type": "stream",
          "text": [
            "100%|██████████| 26/26 [00:00<00:00, 40.38it/s]\n"
          ]
        },
        {
          "name": "stdout",
          "output_type": "stream",
          "text": [
            "(Epoch 17/[val]) Loss:\t1.131   Accuracy: 0.529   lr: 9.918860714274414e-06\n"
          ]
        },
        {
          "name": "stderr",
          "output_type": "stream",
          "text": [
            "100%|██████████| 102/102 [00:04<00:00, 22.15it/s]\n"
          ]
        },
        {
          "name": "stdout",
          "output_type": "stream",
          "text": [
            "(Epoch 18/[train]) Loss:\t1.004   Accuracy: 0.618   lr: 9.818642603456368e-06\n"
          ]
        },
        {
          "name": "stderr",
          "output_type": "stream",
          "text": [
            "100%|██████████| 26/26 [00:00<00:00, 40.57it/s]\n"
          ]
        },
        {
          "name": "stdout",
          "output_type": "stream",
          "text": [
            "(Epoch 18/[val]) Loss:\t1.113   Accuracy: 0.534   lr: 9.818642603456368e-06\n"
          ]
        },
        {
          "name": "stderr",
          "output_type": "stream",
          "text": [
            "100%|██████████| 102/102 [00:04<00:00, 22.97it/s]\n"
          ]
        },
        {
          "name": "stdout",
          "output_type": "stream",
          "text": [
            "(Epoch 19/[train]) Loss:\t0.967   Accuracy: 0.638   lr: 9.6796277767395e-06\n"
          ]
        },
        {
          "name": "stderr",
          "output_type": "stream",
          "text": [
            "100%|██████████| 26/26 [00:00<00:00, 39.28it/s]\n"
          ]
        },
        {
          "name": "stdout",
          "output_type": "stream",
          "text": [
            "(Epoch 19/[val]) Loss:\t1.100   Accuracy: 0.537   lr: 9.6796277767395e-06\n"
          ]
        },
        {
          "name": "stderr",
          "output_type": "stream",
          "text": [
            "100%|██████████| 102/102 [00:04<00:00, 22.93it/s]\n"
          ]
        },
        {
          "name": "stdout",
          "output_type": "stream",
          "text": [
            "(Epoch 20/[train]) Loss:\t0.934   Accuracy: 0.655   lr: 9.502935499769142e-06\n"
          ]
        },
        {
          "name": "stderr",
          "output_type": "stream",
          "text": [
            "100%|██████████| 26/26 [00:00<00:00, 39.73it/s]\n"
          ]
        },
        {
          "name": "stdout",
          "output_type": "stream",
          "text": [
            "(Epoch 20/[val]) Loss:\t1.089   Accuracy: 0.540   lr: 9.502935499769142e-06\n"
          ]
        },
        {
          "name": "stderr",
          "output_type": "stream",
          "text": [
            "100%|██████████| 102/102 [00:04<00:00, 22.92it/s]\n"
          ]
        },
        {
          "name": "stdout",
          "output_type": "stream",
          "text": [
            "(Epoch 21/[train]) Loss:\t0.906   Accuracy: 0.669   lr: 9.289988394866079e-06\n"
          ]
        },
        {
          "name": "stderr",
          "output_type": "stream",
          "text": [
            "100%|██████████| 26/26 [00:00<00:00, 40.76it/s]\n"
          ]
        },
        {
          "name": "stdout",
          "output_type": "stream",
          "text": [
            "(Epoch 21/[val]) Loss:\t1.082   Accuracy: 0.543   lr: 9.289988394866079e-06\n"
          ]
        },
        {
          "name": "stderr",
          "output_type": "stream",
          "text": [
            "100%|██████████| 102/102 [00:04<00:00, 22.89it/s]\n"
          ]
        },
        {
          "name": "stdout",
          "output_type": "stream",
          "text": [
            "(Epoch 22/[train]) Loss:\t0.877   Accuracy: 0.684   lr: 9.04250098690812e-06\n"
          ]
        },
        {
          "name": "stderr",
          "output_type": "stream",
          "text": [
            "100%|██████████| 26/26 [00:00<00:00, 40.75it/s]\n"
          ]
        },
        {
          "name": "stdout",
          "output_type": "stream",
          "text": [
            "(Epoch 22/[val]) Loss:\t1.074   Accuracy: 0.542   lr: 9.04250098690812e-06\n"
          ]
        },
        {
          "name": "stderr",
          "output_type": "stream",
          "text": [
            "100%|██████████| 102/102 [00:04<00:00, 22.92it/s]\n"
          ]
        },
        {
          "name": "stdout",
          "output_type": "stream",
          "text": [
            "(Epoch 23/[train]) Loss:\t0.847   Accuracy: 0.702   lr: 8.762465898983908e-06\n"
          ]
        },
        {
          "name": "stderr",
          "output_type": "stream",
          "text": [
            "100%|██████████| 26/26 [00:00<00:00, 39.38it/s]\n"
          ]
        },
        {
          "name": "stdout",
          "output_type": "stream",
          "text": [
            "(Epoch 23/[val]) Loss:\t1.070   Accuracy: 0.545   lr: 8.762465898983908e-06\n"
          ]
        },
        {
          "name": "stderr",
          "output_type": "stream",
          "text": [
            "100%|██████████| 102/102 [00:04<00:00, 22.36it/s]\n"
          ]
        },
        {
          "name": "stdout",
          "output_type": "stream",
          "text": [
            "(Epoch 24/[train]) Loss:\t0.821   Accuracy: 0.711   lr: 8.452137808963437e-06\n"
          ]
        },
        {
          "name": "stderr",
          "output_type": "stream",
          "text": [
            "100%|██████████| 26/26 [00:00<00:00, 40.67it/s]\n"
          ]
        },
        {
          "name": "stdout",
          "output_type": "stream",
          "text": [
            "(Epoch 24/[val]) Loss:\t1.068   Accuracy: 0.545   lr: 8.452137808963437e-06\n"
          ]
        },
        {
          "name": "stderr",
          "output_type": "stream",
          "text": [
            "100%|██████████| 102/102 [00:04<00:00, 22.88it/s]\n"
          ]
        },
        {
          "name": "stdout",
          "output_type": "stream",
          "text": [
            "(Epoch 25/[train]) Loss:\t0.795   Accuracy: 0.727   lr: 8.114015296157596e-06\n"
          ]
        },
        {
          "name": "stderr",
          "output_type": "stream",
          "text": [
            "100%|██████████| 26/26 [00:00<00:00, 39.66it/s]\n"
          ]
        },
        {
          "name": "stdout",
          "output_type": "stream",
          "text": [
            "(Epoch 25/[val]) Loss:\t1.066   Accuracy: 0.546   lr: 8.114015296157596e-06\n"
          ]
        },
        {
          "name": "stderr",
          "output_type": "stream",
          "text": [
            "100%|██████████| 102/102 [00:04<00:00, 22.39it/s]\n"
          ]
        },
        {
          "name": "stdout",
          "output_type": "stream",
          "text": [
            "(Epoch 26/[train]) Loss:\t0.768   Accuracy: 0.738   lr: 7.750820724226675e-06\n"
          ]
        },
        {
          "name": "stderr",
          "output_type": "stream",
          "text": [
            "100%|██████████| 26/26 [00:00<00:00, 39.69it/s]\n"
          ]
        },
        {
          "name": "stdout",
          "output_type": "stream",
          "text": [
            "(Epoch 26/[val]) Loss:\t1.065   Accuracy: 0.546   lr: 7.750820724226675e-06\n"
          ]
        },
        {
          "name": "stderr",
          "output_type": "stream",
          "text": [
            "100%|██████████| 102/102 [00:04<00:00, 22.53it/s]\n"
          ]
        },
        {
          "name": "stdout",
          "output_type": "stream",
          "text": [
            "(Epoch 27/[train]) Loss:\t0.745   Accuracy: 0.751   lr: 7.365478322308915e-06\n"
          ]
        },
        {
          "name": "stderr",
          "output_type": "stream",
          "text": [
            "100%|██████████| 26/26 [00:00<00:00, 40.52it/s]\n"
          ]
        },
        {
          "name": "stdout",
          "output_type": "stream",
          "text": [
            "(Epoch 27/[val]) Loss:\t1.065   Accuracy: 0.546   lr: 7.365478322308915e-06\n"
          ]
        },
        {
          "name": "stderr",
          "output_type": "stream",
          "text": [
            "100%|██████████| 102/102 [00:04<00:00, 21.97it/s]\n"
          ]
        },
        {
          "name": "stdout",
          "output_type": "stream",
          "text": [
            "(Epoch 28/[train]) Loss:\t0.724   Accuracy: 0.764   lr: 6.961090640846892e-06\n"
          ]
        },
        {
          "name": "stderr",
          "output_type": "stream",
          "text": [
            "100%|██████████| 26/26 [00:00<00:00, 38.85it/s]\n"
          ]
        },
        {
          "name": "stdout",
          "output_type": "stream",
          "text": [
            "(Epoch 28/[val]) Loss:\t1.066   Accuracy: 0.545   lr: 6.961090640846892e-06\n"
          ]
        },
        {
          "name": "stderr",
          "output_type": "stream",
          "text": [
            "100%|██████████| 102/102 [00:04<00:00, 22.37it/s]\n"
          ]
        },
        {
          "name": "stdout",
          "output_type": "stream",
          "text": [
            "(Epoch 29/[train]) Loss:\t0.702   Accuracy: 0.773   lr: 6.540913571675635e-06\n"
          ]
        },
        {
          "name": "stderr",
          "output_type": "stream",
          "text": [
            "100%|██████████| 26/26 [00:00<00:00, 41.05it/s]\n"
          ]
        },
        {
          "name": "stdout",
          "output_type": "stream",
          "text": [
            "(Epoch 29/[val]) Loss:\t1.068   Accuracy: 0.544   lr: 6.540913571675635e-06\n"
          ]
        },
        {
          "name": "stderr",
          "output_type": "stream",
          "text": [
            "100%|██████████| 102/102 [00:05<00:00, 19.72it/s]\n"
          ]
        },
        {
          "name": "stdout",
          "output_type": "stream",
          "text": [
            "(Epoch 30/[train]) Loss:\t0.680   Accuracy: 0.784   lr: 6.108330133495993e-06\n"
          ]
        },
        {
          "name": "stderr",
          "output_type": "stream",
          "text": [
            "100%|██████████| 26/26 [00:00<00:00, 29.69it/s]\n"
          ]
        },
        {
          "name": "stdout",
          "output_type": "stream",
          "text": [
            "(Epoch 30/[val]) Loss:\t1.070   Accuracy: 0.542   lr: 6.108330133495993e-06\n"
          ]
        },
        {
          "name": "stderr",
          "output_type": "stream",
          "text": [
            "100%|██████████| 102/102 [00:05<00:00, 19.88it/s]\n"
          ]
        },
        {
          "name": "stdout",
          "output_type": "stream",
          "text": [
            "(Epoch 31/[train]) Loss:\t0.662   Accuracy: 0.794   lr: 5.6668232337972465e-06\n"
          ]
        },
        {
          "name": "stderr",
          "output_type": "stream",
          "text": [
            "100%|██████████| 26/26 [00:00<00:00, 41.90it/s]\n"
          ]
        },
        {
          "name": "stdout",
          "output_type": "stream",
          "text": [
            "(Epoch 31/[val]) Loss:\t1.072   Accuracy: 0.542   lr: 5.6668232337972465e-06\n"
          ]
        },
        {
          "name": "stderr",
          "output_type": "stream",
          "text": [
            "100%|██████████| 102/102 [00:04<00:00, 23.18it/s]\n"
          ]
        },
        {
          "name": "stdout",
          "output_type": "stream",
          "text": [
            "(Epoch 32/[train]) Loss:\t0.644   Accuracy: 0.801   lr: 5.219947626533917e-06\n"
          ]
        },
        {
          "name": "stderr",
          "output_type": "stream",
          "text": [
            "100%|██████████| 26/26 [00:00<00:00, 37.46it/s]"
          ]
        },
        {
          "name": "stdout",
          "output_type": "stream",
          "text": [
            "(Epoch 32/[val]) Loss:\t1.074   Accuracy: 0.541   lr: 5.219947626533917e-06\n",
            "--------------------Early stopping--------------------\n"
          ]
        },
        {
          "name": "stderr",
          "output_type": "stream",
          "text": [
            "\n"
          ]
        },
        {
          "data": {
            "text/html": [],
            "text/plain": [
              "<IPython.core.display.HTML object>"
            ]
          },
          "metadata": {},
          "output_type": "display_data"
        },
        {
          "data": {
            "text/html": [
              "<br>    <style><br>        .wandb-row {<br>            display: flex;<br>            flex-direction: row;<br>            flex-wrap: wrap;<br>            justify-content: flex-start;<br>            width: 100%;<br>        }<br>        .wandb-col {<br>            display: flex;<br>            flex-direction: column;<br>            flex-basis: 100%;<br>            flex: 1;<br>            padding: 10px;<br>        }<br>    </style><br><div class=\"wandb-row\"><div class=\"wandb-col\"><h3>Run history:</h3><br/><table class=\"wandb\"><tr><td>train/accuracy</td><td>▁▁▁▁▁▁▂▂▃▃▄▄▄▅▅▅▆▆▆▆▆▇▇▇▇▇▇█████</td></tr><tr><td>train/loss</td><td>██████▇▇▇▆▆▅▅▅▄▄▄▃▃▃▃▃▂▂▂▂▂▂▁▁▁▁</td></tr><tr><td>train/lr</td><td>▁▁▂▂▃▃▄▅▆▆▇▇████████▇▇▇▇▇▆▆▆▅▅▅▄</td></tr><tr><td>val/accuracy</td><td>▁▁▁▁▂▂▃▄▅▆▆▇▇▇▇█████████████████</td></tr><tr><td>val/loss</td><td>████▇▇▇▆▆▅▄▄▃▃▂▂▂▂▁▁▁▁▁▁▁▁▁▁▁▁▁▁</td></tr><tr><td>val/lr</td><td>▁▁▂▂▃▃▄▅▆▆▇▇████████▇▇▇▇▇▆▆▆▅▅▅▄</td></tr></table><br/></div><div class=\"wandb-col\"><h3>Run summary:</h3><br/><table class=\"wandb\"><tr><td>train/accuracy</td><td>0.80131</td></tr><tr><td>train/loss</td><td>0.64363</td></tr><tr><td>train/lr</td><td>1e-05</td></tr><tr><td>val/accuracy</td><td>0.54123</td></tr><tr><td>val/loss</td><td>1.07449</td></tr><tr><td>val/lr</td><td>1e-05</td></tr></table><br/></div></div>"
            ],
            "text/plain": [
              "<IPython.core.display.HTML object>"
            ]
          },
          "metadata": {},
          "output_type": "display_data"
        },
        {
          "data": {
            "text/html": [
              " View run <strong style=\"color:#cdcd00\">model3</strong> at: <a href='https://wandb.ai/kacper-pt119-warsaw-university-of-technology/3DifferentNeuralNetsExperiments_v13/runs/oa0z9bn2' target=\"_blank\">https://wandb.ai/kacper-pt119-warsaw-university-of-technology/3DifferentNeuralNetsExperiments_v13/runs/oa0z9bn2</a><br> View project at: <a href='https://wandb.ai/kacper-pt119-warsaw-university-of-technology/3DifferentNeuralNetsExperiments_v13' target=\"_blank\">https://wandb.ai/kacper-pt119-warsaw-university-of-technology/3DifferentNeuralNetsExperiments_v13</a><br>Synced 5 W&B file(s), 0 media file(s), 0 artifact file(s) and 0 other file(s)"
            ],
            "text/plain": [
              "<IPython.core.display.HTML object>"
            ]
          },
          "metadata": {},
          "output_type": "display_data"
        },
        {
          "data": {
            "text/html": [
              "Find logs at: <code>.\\wandb\\run-20251017_142114-oa0z9bn2\\logs</code>"
            ],
            "text/plain": [
              "<IPython.core.display.HTML object>"
            ]
          },
          "metadata": {},
          "output_type": "display_data"
        }
      ],
      "source": [
        "# Setting methods and parameters for training\n",
        "\n",
        "device = torch.device(\"cuda:0\" if torch.cuda.is_available else \"cpu\")\n",
        "\n",
        "num_epochs = 50\n",
        "criterion = nn.CrossEntropyLoss()\n",
        "classifiers = {\"model1\" : SimpleNet(vocab_size, 5),\n",
        "               \"model2\" : MediumNet(vocab_size, 5),\n",
        "               \"model3\" : LargeNet(vocab_size, 5)}\n",
        "\n",
        "\n",
        "for name, model in classifiers.items():\n",
        "  print(f\"Trenowanie modelu: {name}\")\n",
        "  model = model.to(device)\n",
        "  optimizer = torch.optim.AdamW(model.parameters(), lr=1e-6, weight_decay=1e-3)\n",
        "  lr_scheduler = torch.optim.lr_scheduler.OneCycleLR(optimizer, max_lr=1e-5, steps_per_epoch=len(train_loader), epochs=num_epochs)\n",
        "  run = wandb.init(\n",
        "    project=\"3DifferentNeuralNetsExperiments_v13\",\n",
        "    name=name,\n",
        "    config={\n",
        "        \"model\": name,\n",
        "        \"vocab_size\": vocab_size,\n",
        "        \"num_classes\": 5,\n",
        "        \"optimizer\": \"AdamW\",\n",
        "        \"lr\": 1e-6,\n",
        "        \"weight_decay\": 1e-3,\n",
        "        \"scheduler\": \"OneCycleLR\",\n",
        "        \"max_lr\": 1e-5,\n",
        "        \"num_epochs\": num_epochs\n",
        "    }\n",
        "  )\n",
        "  train(model, loaders, criterion, optimizer, lr_scheduler, num_epochs, device)\n",
        "  run.finish()\n"
      ]
    },
    {
      "cell_type": "code",
      "execution_count": 25,
      "metadata": {
        "colab": {
          "base_uri": "https://localhost:8080/",
          "height": 599
        },
        "id": "BwdNg2IeagDO",
        "outputId": "5b6f28d7-8748-4623-93d7-98693754d8ec"
      },
      "outputs": [
        {
          "data": {
            "image/png": "[encoded data removed]",
            "text/plain": [
              "<Figure size 1500x600 with 2 Axes>"
            ]
          },
          "metadata": {},
          "output_type": "display_data"
        },
        {
          "data": {
            "image/png": "[encoded data removed]",
            "text/plain": [
              "<Figure size 1500x600 with 2 Axes>"
            ]
          },
          "metadata": {},
          "output_type": "display_data"
        },
        {
          "data": {
            "image/png": "[encoded data removed]",
            "text/plain": [
              "<Figure size 1500x600 with 2 Axes>"
            ]
          },
          "metadata": {},
          "output_type": "display_data"
        },
        {
          "name": "stdout",
          "output_type": "stream",
          "text": [
            "The best model is: model3\n"
          ]
        }
      ],
      "source": [
        "# Results viasualization\n",
        "def create_loss_plot(train_losses,\n",
        "                     val_losses,\n",
        "                     train_accuracies,\n",
        "                     val_accuracies):\n",
        "\n",
        "  epochs = range(1, len(train_losses) + 1)\n",
        "  fig, (ax1, ax2) = plt.subplots(1, 2, figsize=(15, 6))\n",
        "\n",
        "\n",
        "  # Loss plot\n",
        "  ax1.plot(epochs, train_losses, 'b-', label='Training Loss', linewidth=1, marker='o', markersize=2)\n",
        "  ax1.plot(epochs, val_losses, 'r-', label='Validation Loss', linewidth=1, marker='s', markersize=2)\n",
        "\n",
        "  ax1.set_xlabel('Epoch')\n",
        "  ax1.set_ylabel('Loss')\n",
        "  ax1.set_title('Training loss vs validation loss')\n",
        "  ax1.legend()\n",
        "  ax1.grid(True, alpha=0.3)\n",
        "\n",
        "  # Accuracy plot\n",
        "  ax2.plot(epochs, train_accuracies, 'g-', label='Training Accuracy', linewidth=1, marker='o', markersize=2)\n",
        "  ax2.plot(epochs, val_accuracies, 'm-', label='Validation Accuracy', linewidth=1, marker='s', markersize=2)\n",
        "\n",
        "  ax2.set_xlabel('Epoch')\n",
        "  ax2.set_ylabel('Accuracy (%)')\n",
        "  ax2.set_title('Training accuracy vs validation accuracy')\n",
        "  ax2.legend()\n",
        "  ax2.grid(True, alpha=0.3)\n",
        "\n",
        "  plt.tight_layout()\n",
        "  plt.show()\n",
        "\n",
        "api = wandb.Api()\n",
        "runs = api.runs(\"kacper-pt119-warsaw-university-of-technology/3DifferentNeuralNetsExperiments_v13\")\n",
        "\n",
        "metrics = [\"train/loss\", \"val/loss\", \"train/accuracy\", \"val/accuracy\"]\n",
        "\n",
        "all_histories = {}\n",
        "\n",
        "for run in runs:\n",
        "  history = run.history(keys=metrics)\n",
        "  all_histories[run.name] = history\n",
        "\n",
        "the_best_val_loss_model = None\n",
        "the_best_val_loss = float(\"inf\")\n",
        "for name, history in all_histories.items():\n",
        "  if the_best_val_loss_model is None:\n",
        "    the_best_val_loss_model = name\n",
        "    the_best_val_loss = np.min(history[\"val/loss\"].to_list())\n",
        "  else:\n",
        "    if np.min(history[\"val/loss\"].to_list()) < the_best_val_loss:\n",
        "      the_best_val_loss_model = name\n",
        "      the_best_val_loss = np.min(history[\"val/loss\"].to_list())\n",
        "\n",
        "  train_losses = history[\"train/loss\"].to_list()\n",
        "  val_losses   = history[\"val/loss\"].to_list()\n",
        "  train_acc    = history[\"train/accuracy\"].to_list()\n",
        "  val_acc      = history[\"val/accuracy\"].to_list()\n",
        "  create_loss_plot(train_losses, val_losses, train_acc, val_acc)\n",
        "\n",
        "print(f\"The best model is: {the_best_val_loss_model}\")\n",
        "\n"
      ]
    },
    {
      "cell_type": "code",
      "execution_count": 26,
      "metadata": {
        "colab": {
          "base_uri": "https://localhost:8080/",
          "height": 618
        },
        "id": "hMlskiOUhmmO",
        "outputId": "6bef1989-6dee-4c83-c617-2988c7a12d1a"
      },
      "outputs": [
        {
          "name": "stdout",
          "output_type": "stream",
          "text": [
            "              precision    recall  f1-score   support\n",
            "\n",
            "           0       0.65      0.72      0.68      3989\n",
            "           1       0.47      0.45      0.46      4091\n",
            "           2       0.45      0.39      0.42      3925\n",
            "           3       0.46      0.44      0.45      4061\n",
            "           4       0.59      0.66      0.62      3934\n",
            "\n",
            "    accuracy                           0.53     20000\n",
            "   macro avg       0.52      0.53      0.53     20000\n",
            "weighted avg       0.52      0.53      0.53     20000\n",
            "\n"
          ]
        },
        {
          "data": {
            "image/png": "[encoded data removed]",
            "text/plain": [
              "<Figure size 500x400 with 2 Axes>"
            ]
          },
          "metadata": {},
          "output_type": "display_data"
        }
      ],
      "source": [
        "from sklearn.metrics import classification_report\n",
        "import seaborn as sns\n",
        "from sklearn.metrics import confusion_matrix\n",
        "\n",
        "# Model evaluation\n",
        "def get_data_to_eval(model, data_loader):\n",
        "  model.eval()\n",
        "  preds_l = []\n",
        "  targets_l = []\n",
        "  with torch.inference_mode():\n",
        "      for inputs, targets in data_loader:\n",
        "          device = next(model.parameters()).device\n",
        "          inputs, targets = inputs.to(device), targets.to(device)\n",
        "          outputs = model(inputs)\n",
        "          _, predicted = torch.max(outputs, 1)\n",
        "          preds_l.extend(predicted.cpu().numpy())\n",
        "          targets_l.extend(targets.cpu().numpy())\n",
        "  return preds_l, targets_l\n",
        "\n",
        "the_best_model = classifiers[the_best_val_loss_model]\n",
        "preds, targets = get_data_to_eval(the_best_model, loaders[\"test\"])\n",
        "labels = [str(i) for i in range(0,5)]\n",
        "\n",
        "report = classification_report(targets, preds, target_names = labels)\n",
        "print(report)\n",
        "\n",
        "# Confusion matrix\n",
        "cm = confusion_matrix(targets, preds)\n",
        "plt.figure(figsize=(5, 4))\n",
        "sns.heatmap(cm, annot=True, fmt='d', cmap='Blues', xticklabels=labels, yticklabels=labels)\n",
        "plt.title(f'Confusion matrix for model: {the_best_val_loss_model}')\n",
        "plt.xlabel('Predicted class')\n",
        "plt.ylabel('True class')\n",
        "plt.show()"
      ]
    },
    {
      "cell_type": "markdown",
      "metadata": {},
      "source": [
        "A function that finds and displays $k$ elements of the test set for which the model is most wrong, i.e., predicts the smallest probabilities of the true class. Softmax is a strictly increasing function, so it is enough to find elements with the smallest value of unnormalized output from the network (logit) for the true class."
      ]
    },
    {
      "cell_type": "code",
      "execution_count": null,
      "metadata": {
        "colab": {
          "base_uri": "https://localhost:8080/"
        },
        "id": "uDlo7t7i2KkS",
        "outputId": "9ad6cd90-bca9-4bc9-cf5a-88ab97877fe4"
      },
      "outputs": [
        {
          "name": "stdout",
          "output_type": "stream",
          "text": [
            "\n",
            "Model: model2\n",
            "Top 10 the most wrong predicted elements:\n",
            "1. True class: 0, Predicted class: 2, Logit for true class: -3.2173\n",
            "2. True class: 4, Predicted class: 1, Logit for true class: -3.0492\n",
            "3. True class: 0, Predicted class: 4, Logit for true class: -2.8106\n",
            "4. True class: 0, Predicted class: 4, Logit for true class: -2.8047\n",
            "5. True class: 3, Predicted class: 0, Logit for true class: -2.8032\n",
            "6. True class: 4, Predicted class: 1, Logit for true class: -2.8019\n",
            "7. True class: 4, Predicted class: 0, Logit for true class: -2.7780\n",
            "8. True class: 4, Predicted class: 2, Logit for true class: -2.7193\n",
            "9. True class: 0, Predicted class: 4, Logit for true class: -2.5667\n",
            "10. True class: 0, Predicted class: 3, Logit for true class: -2.5342\n"
          ]
        }
      ],
      "source": [
        "def show_worst_predictions(model, data_loader, k=10):\n",
        "    model.eval()\n",
        "    device = next(model.parameters()).device\n",
        "    mistakes = []\n",
        "\n",
        "    with torch.inference_mode():\n",
        "        for inputs, targets in data_loader:\n",
        "            inputs, targets = inputs.to(device), targets.to(device)\n",
        "            logits = model(inputs)\n",
        "            preds = torch.argmax(logits, dim=1)\n",
        "\n",
        "            # Get logits for True class\n",
        "            true_class_logits = logits.gather(1, targets.unsqueeze(1)).squeeze(1)\n",
        "\n",
        "            for i in range(targets.size(0)):\n",
        "                mistakes.append((true_class_logits[i].item(), inputs[i].cpu(), targets[i].item(), preds[i].item()))\n",
        "\n",
        "    mistakes.sort(key=lambda x: x[0])\n",
        "\n",
        "    print(f\"Top {k} the most wrong predicted elements:\")\n",
        "    for i in range(k):\n",
        "        logit, x, target, pred = mistakes[i]\n",
        "        print(f\"{i+1}. True class: {target}, Predicted class: {pred}, Logit for true class: {logit:.4f}\")\n",
        "\n",
        "    return mistakes[:k]\n",
        "\n",
        "for name, model in classifiers.items():\n",
        "  print(f\"\\nModel: {name}\")\n",
        "  show_worst_predictions(model, loaders[\"test\"])"
      ]
    }
  ],
  "metadata": {
    "accelerator": "GPU",
    "colab": {
      "gpuType": "T4",
      "provenance": [],
      "toc_visible": true
    },
    "kernelspec": {
      "display_name": "Python 3",
      "name": "python3"
    },
    "language_info": {
      "codemirror_mode": {
        "name": "ipython",
        "version": 3
      },
      "file_extension": ".py",
      "mimetype": "text/x-python",
      "name": "python",
      "nbconvert_exporter": "python",
      "pygments_lexer": "ipython3",
      "version": "3.12.8"
    }
  },
  "nbformat": 4,
  "nbformat_minor": 0
}
