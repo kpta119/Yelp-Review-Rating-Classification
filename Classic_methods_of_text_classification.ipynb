{
  "cells": [
    {
      "cell_type": "markdown",
      "metadata": {
        "id": "KD8xISdCAOKI"
      },
      "source": [
        "# Classic methods of text classification"
      ]
    },
    {
      "cell_type": "markdown",
      "metadata": {
        "id": "9-z5reyCUVLN"
      },
      "source": [
        "### Yelp Review Rating Classification\n",
        "\n",
        "A machine learning project for sentiment analysis and rating prediction of Yelp reviews using TF-IDF feature extraction and neural networks.\n",
        "\n",
        "### Project Overview\n",
        "\n",
        "This project implements a multi-class classification system to predict Yelp review ratings (1-5 stars) based on review text. The solution combines traditional NLP feature extraction methods with neural network classifiers.\n",
        "\n",
        "### Dataset\n",
        "\n",
        "We use the **Yelp Review Full** dataset from Hugging Face:\n",
        "- **Dataset**: [Yelp/yelp_review_full](https://huggingface.co/datasets/Yelp/yelp_review_full)\n",
        "- **Features**:\n",
        "  - `text`: The review text content\n",
        "  - `label`: Rating label (0-4, corresponding to 1-5 stars respectively)\n",
        "\n",
        "### Technical Approach\n",
        "\n",
        "#### Data Preprocessing\n",
        "- Split the original training data to create a dedicated validation set\n",
        "- Applied dataset size constraints (training set limited to 100,000 samples)\n",
        "- Maintained proportional splits for validation and test sets\n",
        "\n",
        "#### Feature Extraction\n",
        "- **TF-IDF (Term Frequency-Inverse Document Frequency)** implementation\n",
        "- **Bag-of-Words** representation using `TfidfVectorizer` from `scikit-learn`\n",
        "- Text vectorization for neural network compatibility\n",
        "\n"
      ]
    },
    {
      "cell_type": "markdown",
      "metadata": {
        "id": "yz1EcTToUUIx"
      },
      "source": [
        "Import libraries"
      ]
    },
    {
      "cell_type": "code",
      "execution_count": 1,
      "metadata": {
        "colab": {
          "base_uri": "https://localhost:8080/"
        },
        "id": "zdGVyE77UU7l",
        "outputId": "00e8fd8d-3849-4707-e327-a8c961199ec4"
      },
      "outputs": [
        {
          "name": "stdout",
          "output_type": "stream",
          "text": [
            "PyTorch version: 2.5.1+cu121\n"
          ]
        }
      ],
      "source": [
        "import torch\n",
        "import numpy as np\n",
        "import matplotlib.pyplot as plt\n",
        "\n",
        "print(f\"PyTorch version: {torch.__version__}\")"
      ]
    },
    {
      "cell_type": "code",
      "execution_count": 2,
      "metadata": {
        "colab": {
          "base_uri": "https://localhost:8080/"
        },
        "id": "9Xfy2mWEW-Vi",
        "outputId": "d8a50d4b-72f5-4419-a538-d6fe12112d09"
      },
      "outputs": [
        {
          "name": "stderr",
          "output_type": "stream",
          "text": [
            "c:\\Users\\kacpe\\AppData\\Local\\Programs\\Python\\Python312\\Lib\\site-packages\\pydantic\\_internal\\_generate_schema.py:2249: UnsupportedFieldAttributeWarning: The 'repr' attribute with value False was provided to the `Field()` function, which has no effect in the context it was used. 'repr' is field-specific metadata, and can only be attached to a model field using `Annotated` metadata or by assignment. This may have happened because an `Annotated` type alias using the `type` statement was used, or if the `Field()` function was attached to a single member of a union type.\n",
            "  warnings.warn(\n",
            "c:\\Users\\kacpe\\AppData\\Local\\Programs\\Python\\Python312\\Lib\\site-packages\\pydantic\\_internal\\_generate_schema.py:2249: UnsupportedFieldAttributeWarning: The 'frozen' attribute with value True was provided to the `Field()` function, which has no effect in the context it was used. 'frozen' is field-specific metadata, and can only be attached to a model field using `Annotated` metadata or by assignment. This may have happened because an `Annotated` type alias using the `type` statement was used, or if the `Field()` function was attached to a single member of a union type.\n",
            "  warnings.warn(\n",
            "\u001b[34m\u001b[1mwandb\u001b[0m: Logging into wandb.ai. (Learn how to deploy a W&B server locally: https://wandb.me/wandb-server)\n",
            "\u001b[34m\u001b[1mwandb\u001b[0m: You can find your API key in your browser here: https://wandb.ai/authorize\n",
            "\u001b[34m\u001b[1mwandb\u001b[0m: Paste an API key from your profile and hit enter:\u001b[34m\u001b[1mwandb\u001b[0m: \u001b[33mWARNING\u001b[0m If you're specifying your api key in code, ensure this code is not shared publicly.\n",
            "\u001b[34m\u001b[1mwandb\u001b[0m: \u001b[33mWARNING\u001b[0m Consider setting the WANDB_API_KEY environment variable, or running `wandb login` from the command line.\n",
            "\u001b[34m\u001b[1mwandb\u001b[0m: No netrc file found, creating one.\n",
            "\u001b[34m\u001b[1mwandb\u001b[0m: Appending key for api.wandb.ai to your netrc file: C:\\Users\\kacpe\\_netrc\n",
            "\u001b[34m\u001b[1mwandb\u001b[0m: Currently logged in as: \u001b[33mkacper-pt119\u001b[0m (\u001b[33mkacper-pt119-warsaw-university-of-technology\u001b[0m) to \u001b[32mhttps://api.wandb.ai\u001b[0m. Use \u001b[1m`wandb login --relogin`\u001b[0m to force relogin\n"
          ]
        },
        {
          "data": {
            "text/plain": [
              "True"
            ]
          },
          "execution_count": 2,
          "metadata": {},
          "output_type": "execute_result"
        }
      ],
      "source": [
        "import wandb\n",
        "\n",
        "# Loging to Weights&Biases website to monitor my experiments\n",
        "wandb.login()"
      ]
    },
    {
      "cell_type": "markdown",
      "metadata": {
        "id": "sjIAG6sjW8Dw"
      },
      "source": [
        "# Load dataset"
      ]
    },
    {
      "cell_type": "code",
      "execution_count": 71,
      "metadata": {
        "colab": {
          "base_uri": "https://localhost:8080/"
        },
        "id": "mqDLYFafW9yC",
        "outputId": "f8916b40-aa87-423f-ffce-67a2f1a13bb1"
      },
      "outputs": [
        {
          "name": "stdout",
          "output_type": "stream",
          "text": [
            "Test set size: 20000\n",
            "Validation set size: 13000\n",
            "Training set size: 52000\n",
            "\n",
            "Example element from the dataset:\n",
            "sample[\"text\"]='Two words: Absolute Garbage\\\\n\\\\nEverything, the staff, the food, the cleanliness, garbage.'\n",
            "sample[\"label\"]=0\n"
          ]
        }
      ],
      "source": [
        "from datasets import load_dataset\n",
        "\n",
        "ds = load_dataset(\"Yelp/yelp_review_full\")\n",
        "\n",
        "test_dataset = ds[\"test\"]\n",
        "splitted_dataset = ds[\"train\"].train_test_split(test_size=0.2)\n",
        "train_dataset = splitted_dataset[\"train\"]\n",
        "val_dataset = splitted_dataset[\"test\"]\n",
        "\n",
        "# Create smaller data subsets\n",
        "train_dataset = train_dataset.shuffle().select(range(int(len(train_dataset)*0.1)))\n",
        "val_dataset = val_dataset.shuffle().select(range(int(len(val_dataset)*0.1)))\n",
        "test_dataset = test_dataset.shuffle().select(range(int(len(test_dataset)*0.4)))\n",
        "\n",
        "print(f\"Test set size: {len(test_dataset)}\")\n",
        "print(f\"Validation set size: {len(val_dataset)}\")\n",
        "print(f\"Training set size: {len(train_dataset)}\")\n",
        "\n",
        "sample = train_dataset[123]\n",
        "print(f\"\\nExample element from the dataset:\")\n",
        "print(f\"{sample[\"text\"]=}\")\n",
        "print(f\"{sample[\"label\"]=}\")"
      ]
    },
    {
      "cell_type": "code",
      "execution_count": 72,
      "metadata": {
        "colab": {
          "base_uri": "https://localhost:8080/",
          "height": 472
        },
        "id": "fifOwsXEXGvJ",
        "outputId": "139bc12e-080e-45d8-8f71-e4dfafe49e60"
      },
      "outputs": [
        {
          "data": {
            "image/png": "[encoded data removed]",
            "text/plain": [
              "<Figure size 640x480 with 1 Axes>"
            ]
          },
          "metadata": {},
          "output_type": "display_data"
        }
      ],
      "source": [
        "unique_labels, counts = np.unique(train_dataset[\"label\"], return_counts=True)\n",
        "\n",
        "plt.bar(unique_labels, counts, color=[\"red\", \"lightcoral\", \"bisque\", \"limegreen\", \"green\"], edgecolor=\"black\")\n",
        "plt.title(\"Histogram of Labels\")\n",
        "plt.xlabel(\"Label\")\n",
        "plt.ylabel(\"Frequency\")\n",
        "plt.xticks(unique_labels)\n",
        "plt.grid(axis=\"y\", linestyle=\"--\", alpha=0.8)\n",
        "plt.show()"
      ]
    },
    {
      "cell_type": "code",
      "execution_count": 73,
      "metadata": {
        "colab": {
          "base_uri": "https://localhost:8080/"
        },
        "id": "yUSQNPNJNi-Z",
        "outputId": "5db16b28-75e2-4969-b302-9390fd6e9745"
      },
      "outputs": [
        {
          "name": "stdout",
          "output_type": "stream",
          "text": [
            "TF-IDF matrix size for training set: (52000, 5000)\n",
            "train_tfidf_features.dtype=dtype('float64')\n",
            "\n",
            "Number of features: 5000\n",
            "Example features: ['messed' 'student' 'increase' 'mcdonalds' 'une' 'disorganized' 'mr'\n",
            " 'legs' 'reservations' 'mex' 'fab' 'basic' 'arrival' 'cinnamon' 'convince'\n",
            " 'medium' 'described' 'slimy' 'tasteless' 'roof']\n",
            "\n"
          ]
        }
      ],
      "source": [
        "from sklearn.feature_extraction.text import TfidfVectorizer\n",
        "from sklearn import metrics\n",
        "from tqdm import tqdm\n",
        "\n",
        "vocab_size = 5000\n",
        "\n",
        "vectorizer = TfidfVectorizer(\n",
        "    max_features=vocab_size,\n",
        "    lowercase=True,\n",
        "    analyzer=\"word\",\n",
        "    ngram_range=(1, 1),\n",
        "    stop_words=\"english\"\n",
        ")\n",
        "\n",
        "# Feature extraction\n",
        "train_tfidf_features = vectorizer.fit_transform(train_dataset[\"text\"])\n",
        "# On validation and test sets we use transform() function which extracts the same features as on the training set\n",
        "val_tfidf_features = vectorizer.transform(val_dataset[\"text\"])\n",
        "test_tfidf_features = vectorizer.transform(test_dataset[\"text\"])\n",
        "\n",
        "print(f\"TF-IDF matrix size for training set: {train_tfidf_features.shape}\")\n",
        "print(f\"{train_tfidf_features.dtype=}\\n\")\n",
        "\n",
        "feature_names = vectorizer.get_feature_names_out()\n",
        "print(f\"Number of features: {len(feature_names)}\")\n",
        "print(f\"Example features: {np.random.choice(feature_names, 20)}\\n\")"
      ]
    },
    {
      "cell_type": "code",
      "execution_count": 74,
      "metadata": {
        "colab": {
          "base_uri": "https://localhost:8080/",
          "height": 582
        },
        "id": "zN9cgL00Ofnq",
        "outputId": "1fd8ecde-6d3d-4649-d1e9-0f1460ec1bee"
      },
      "outputs": [
        {
          "name": "stdout",
          "output_type": "stream",
          "text": [
            "Average number of non-zero features in samples: 45.05\n"
          ]
        },
        {
          "data": {
            "image/png": "[encoded data removed]",
            "text/plain": [
              "<Figure size 800x600 with 1 Axes>"
            ]
          },
          "metadata": {},
          "output_type": "display_data"
        }
      ],
      "source": [
        "non_zero_counts = np.diff(train_tfidf_features.indptr)\n",
        "print(f\"Average number of non-zero features in samples: {non_zero_counts.mean():.2f}\")\n",
        "\n",
        "# Plot histogram\n",
        "plt.figure(figsize=(8, 6))\n",
        "plt.hist(non_zero_counts, bins=64)\n",
        "plt.title(\"Histogram of number of non-zero features per sample\")\n",
        "plt.xlabel(\"Number of non-zero features\")\n",
        "plt.ylabel(\"Number of samples\")\n",
        "plt.grid(axis=\"y\", linestyle=\"--\", alpha=0.7)"
      ]
    },
    {
      "cell_type": "code",
      "execution_count": 75,
      "metadata": {
        "id": "cSIl0gicQ1kX"
      },
      "outputs": [],
      "source": [
        "import torch\n",
        "from torch.utils.data import TensorDataset, DataLoader\n",
        "\n",
        "# Create appropriate datasets using tfidf matrices\n",
        "def make_dataset(tfidf_matrix, labels):\n",
        "  dense_features = tfidf_matrix.astype(np.float32).todense()\n",
        "  dataset = TensorDataset(torch.tensor(dense_features), torch.tensor(labels, dtype=torch.int64))\n",
        "  return dataset\n",
        "\n",
        "datasets = {\n",
        "    \"train\": make_dataset(train_tfidf_features, train_dataset[\"label\"]),\n",
        "    \"val\": make_dataset(val_tfidf_features, val_dataset[\"label\"]),\n",
        "    \"test\": make_dataset(test_tfidf_features, test_dataset[\"label\"])\n",
        "}\n",
        "\n",
        "\n",
        "train_loader = DataLoader(datasets[\"train\"], shuffle=True, batch_size=256)\n",
        "val_loader = DataLoader(datasets[\"val\"], shuffle=False, batch_size=256)\n",
        "test_loader = DataLoader(datasets[\"test\"], shuffle=False, batch_size=256)\n",
        "\n",
        "loaders = {\"train\" : train_loader,\n",
        "           \"val\": val_loader,\n",
        "           \"test\": test_loader}"
      ]
    },
    {
      "cell_type": "code",
      "execution_count": 76,
      "metadata": {
        "id": "2CNuWbD0WdmV"
      },
      "outputs": [],
      "source": [
        "import torch.nn as nn\n",
        "\n",
        "# Different architectures\n",
        "class SimpleNet(nn.Module):\n",
        "  def __init__(self, vocab_size: int, num_classes: int):\n",
        "     super().__init__()\n",
        "     self.fc1 = nn.Linear(vocab_size, 128)\n",
        "     self.fc2 = nn.Linear(128, num_classes)\n",
        "     self.relu = nn.ReLU()\n",
        "     self.batchNorm1 = nn.BatchNorm1d(128)\n",
        "     self.dropout = nn.Dropout(0.2)\n",
        "\n",
        "  def forward(self, x):\n",
        "    x = self.dropout(self.relu(self.batchNorm1(self.fc1(x))))\n",
        "    logits = self.dropout(self.relu(self.fc2(x)))\n",
        "    return logits\n",
        "\n",
        "\n",
        "class MediumNet(nn.Module):\n",
        "  def __init__(self, vocab_size: int, num_classes: int):\n",
        "     super().__init__()\n",
        "     self.fc1 = nn.Linear(vocab_size, 256)\n",
        "     self.fc2 = nn.Linear(256, 128)\n",
        "     self.fc3 = nn.Linear(128, num_classes)\n",
        "     self.relu = nn.ReLU()\n",
        "     self.dropout = nn.Dropout(0.2)\n",
        "     self.batchNorm1 = nn.BatchNorm1d(256)\n",
        "     self.batchNorm2 = nn.BatchNorm1d(128)\n",
        "\n",
        "  def forward(self, x):\n",
        "    x = self.dropout(self.relu(self.batchNorm1(self.fc1(x))))\n",
        "    x = self.dropout(self.relu(self.batchNorm2(self.fc2(x))))\n",
        "    logits = self.fc3(x)\n",
        "    return logits\n",
        "\n",
        "class LargeNet(nn.Module):\n",
        "  def __init__(self, vocab_size: int, num_classes: int):\n",
        "    super().__init__()\n",
        "    self.fc1 = nn.Linear(vocab_size, 512)\n",
        "    self.fc2 = nn.Linear(512, 256)\n",
        "    self.fc3 = nn.Linear(256, 128)\n",
        "    self.fc4 = nn.Linear(128, num_classes)\n",
        "    self.relu = nn.ReLU()\n",
        "    self.dropout = nn.Dropout(0.2)\n",
        "    self.batchNorm1 = nn.BatchNorm1d(512)\n",
        "    self.batchNorm2 = nn.BatchNorm1d(256)\n",
        "    self.batchNorm3 = nn.BatchNorm1d(128)\n",
        "\n",
        "  def forward(self, x):\n",
        "    x = self.dropout(self.relu(self.batchNorm1(self.fc1(x))))\n",
        "    x = self.dropout(self.relu(self.batchNorm2(self.fc2(x))))\n",
        "    x = self.dropout(self.relu(self.batchNorm3(self.fc3(x))))\n",
        "    logits = self.fc4(x)\n",
        "    return logits"
      ]
    },
    {
      "cell_type": "code",
      "execution_count": 77,
      "metadata": {
        "id": "M-CeFJOMX0Vm"
      },
      "outputs": [],
      "source": [
        "import torchmetrics\n",
        "import copy\n",
        "\n",
        "# Training Loop\n",
        "def train(model: nn.Module, loaders: dict[DataLoader], criterion: nn.Module,\n",
        "          optimizer: torch.optim.Optimizer, lr_scheduler, num_epochs: int, device):\n",
        "\n",
        "    metric_loss = torchmetrics.aggregation.MeanMetric().to(device)\n",
        "    metric_acc = torchmetrics.classification.Accuracy(task=\"multiclass\", num_classes=5).to(device)\n",
        "    earlyStopping = EarlyStopping(patience=5, delta=0.0001)\n",
        "\n",
        "    # Run all epochs\n",
        "    for epoch in range(1, num_epochs+1):\n",
        "        for phase in [\"train\", \"val\"]:\n",
        "            if phase == \"train\":\n",
        "                model.train()\n",
        "            else:\n",
        "                model.eval()\n",
        "\n",
        "            for X_batch, target in tqdm(loaders[phase]):\n",
        "                X_batch, target = X_batch.to(device), target.to(device)\n",
        "                optimizer.zero_grad()\n",
        "\n",
        "                with torch.set_grad_enabled(phase == \"train\"):\n",
        "                    logits = model(X_batch)\n",
        "                    _, preds = torch.max(logits, dim=1)\n",
        "                    loss = criterion(logits, target)\n",
        "\n",
        "                    metric_loss(loss)\n",
        "                    metric_acc(preds, target)\n",
        "\n",
        "                    if phase == \"train\":\n",
        "                        loss.backward()\n",
        "                        optimizer.step()\n",
        "\n",
        "            accuracy = metric_acc.compute()\n",
        "            mean_loss = metric_loss.compute()\n",
        "\n",
        "            current_lr = lr_scheduler.get_last_lr()[0]\n",
        "            print(f\"(Epoch {epoch}/[{phase}]) Loss:\\t{mean_loss:.3f}   Accuracy: {accuracy:.3f}   lr: {current_lr}\")\n",
        "            metrics = {\n",
        "                f\"{phase}/loss\": mean_loss,\n",
        "                f\"{phase}/accuracy\": accuracy,\n",
        "                f\"{phase}/lr\": current_lr,\n",
        "            }\n",
        "            wandb.log(metrics, step=epoch)\n",
        "\n",
        "            metric_loss.reset()\n",
        "            metric_acc.reset()\n",
        "\n",
        "        earlyStopping(mean_loss, model)\n",
        "        if earlyStopping.early_stop:\n",
        "            print(f\"{20*\"-\"}Early stopping{20*\"-\"}\")\n",
        "            break\n",
        "        lr_scheduler.step()\n",
        "\n",
        "    earlyStopping.load_best_model(model)\n",
        "\n",
        "class EarlyStopping:\n",
        "    def __init__(self, patience=5, delta=0):\n",
        "        self.patience = patience\n",
        "        self.delta = delta\n",
        "        self.best_score = None\n",
        "        self.counter = 0\n",
        "        self.early_stop = False\n",
        "        self.best_model_state = None\n",
        "\n",
        "    def __call__(self, val_loss, model: nn.Module):\n",
        "        if self.best_score is None:\n",
        "            self.best_score = val_loss\n",
        "            self.best_model_state = copy.deepcopy(model.state_dict())\n",
        "        elif val_loss > self.best_score + self.delta:\n",
        "            self.counter += 1\n",
        "            if self.counter >= self.patience:\n",
        "                self.early_stop = True\n",
        "        else:\n",
        "            self.best_score = val_loss\n",
        "            self.best_model_state = copy.deepcopy(model.state_dict())\n",
        "            self.counter = 0\n",
        "\n",
        "    def load_best_model(self, model: nn.Module):\n",
        "        model.load_state_dict(self.best_model_state)\n",
        "\n",
        "\n",
        "\n"
      ]
    },
    {
      "cell_type": "code",
      "execution_count": 78,
      "metadata": {
        "colab": {
          "base_uri": "https://localhost:8080/",
          "height": 1000
        },
        "id": "n0_4hBwaZ2DT",
        "outputId": "349046f5-97f1-4647-abe6-b63a293c8130"
      },
      "outputs": [
        {
          "name": "stdout",
          "output_type": "stream",
          "text": [
            "Trenowanie modelu: model1\n"
          ]
        },
        {
          "data": {
            "text/html": [
              "Finishing previous runs because reinit is set to 'default'."
            ],
            "text/plain": [
              "<IPython.core.display.HTML object>"
            ]
          },
          "metadata": {},
          "output_type": "display_data"
        },
        {
          "data": {
            "text/html": [],
            "text/plain": [
              "<IPython.core.display.HTML object>"
            ]
          },
          "metadata": {},
          "output_type": "display_data"
        },
        {
          "data": {
            "text/html": [
              " View run <strong style=\"color:#cdcd00\">model1</strong> at: <a href='https://wandb.ai/kacper-pt119-warsaw-university-of-technology/3DifferentNeuralNetsExperiments_v23/runs/dt2uqzq4' target=\"_blank\">https://wandb.ai/kacper-pt119-warsaw-university-of-technology/3DifferentNeuralNetsExperiments_v23/runs/dt2uqzq4</a><br> View project at: <a href='https://wandb.ai/kacper-pt119-warsaw-university-of-technology/3DifferentNeuralNetsExperiments_v23' target=\"_blank\">https://wandb.ai/kacper-pt119-warsaw-university-of-technology/3DifferentNeuralNetsExperiments_v23</a><br>Synced 5 W&B file(s), 0 media file(s), 0 artifact file(s) and 0 other file(s)"
            ],
            "text/plain": [
              "<IPython.core.display.HTML object>"
            ]
          },
          "metadata": {},
          "output_type": "display_data"
        },
        {
          "data": {
            "text/html": [
              "Find logs at: <code>.\\wandb\\run-20251017_172013-dt2uqzq4\\logs</code>"
            ],
            "text/plain": [
              "<IPython.core.display.HTML object>"
            ]
          },
          "metadata": {},
          "output_type": "display_data"
        },
        {
          "data": {
            "text/html": [],
            "text/plain": [
              "<IPython.core.display.HTML object>"
            ]
          },
          "metadata": {},
          "output_type": "display_data"
        },
        {
          "data": {
            "text/html": [
              "Tracking run with wandb version 0.22.2"
            ],
            "text/plain": [
              "<IPython.core.display.HTML object>"
            ]
          },
          "metadata": {},
          "output_type": "display_data"
        },
        {
          "data": {
            "text/html": [
              "Run data is saved locally in <code>f:\\Users\\Kacper Ptaszek\\Studia-LLM\\wandb\\run-20251017_172122-k7e98qi5</code>"
            ],
            "text/plain": [
              "<IPython.core.display.HTML object>"
            ]
          },
          "metadata": {},
          "output_type": "display_data"
        },
        {
          "data": {
            "text/html": [
              "Syncing run <strong><a href='https://wandb.ai/kacper-pt119-warsaw-university-of-technology/3DifferentNeuralNetsExperiments_v23/runs/k7e98qi5' target=\"_blank\">model1</a></strong> to <a href='https://wandb.ai/kacper-pt119-warsaw-university-of-technology/3DifferentNeuralNetsExperiments_v23' target=\"_blank\">Weights & Biases</a> (<a href='https://wandb.me/developer-guide' target=\"_blank\">docs</a>)<br>"
            ],
            "text/plain": [
              "<IPython.core.display.HTML object>"
            ]
          },
          "metadata": {},
          "output_type": "display_data"
        },
        {
          "data": {
            "text/html": [
              " View project at <a href='https://wandb.ai/kacper-pt119-warsaw-university-of-technology/3DifferentNeuralNetsExperiments_v23' target=\"_blank\">https://wandb.ai/kacper-pt119-warsaw-university-of-technology/3DifferentNeuralNetsExperiments_v23</a>"
            ],
            "text/plain": [
              "<IPython.core.display.HTML object>"
            ]
          },
          "metadata": {},
          "output_type": "display_data"
        },
        {
          "data": {
            "text/html": [
              " View run at <a href='https://wandb.ai/kacper-pt119-warsaw-university-of-technology/3DifferentNeuralNetsExperiments_v23/runs/k7e98qi5' target=\"_blank\">https://wandb.ai/kacper-pt119-warsaw-university-of-technology/3DifferentNeuralNetsExperiments_v23/runs/k7e98qi5</a>"
            ],
            "text/plain": [
              "<IPython.core.display.HTML object>"
            ]
          },
          "metadata": {},
          "output_type": "display_data"
        },
        {
          "name": "stderr",
          "output_type": "stream",
          "text": [
            "100%|██████████| 204/204 [00:02<00:00, 97.14it/s] \n"
          ]
        },
        {
          "name": "stdout",
          "output_type": "stream",
          "text": [
            "(Epoch 1/[train]) Loss:\t1.610   Accuracy: 0.242   lr: 0.002\n"
          ]
        },
        {
          "name": "stderr",
          "output_type": "stream",
          "text": [
            "100%|██████████| 51/51 [00:00<00:00, 111.76it/s]\n"
          ]
        },
        {
          "name": "stdout",
          "output_type": "stream",
          "text": [
            "(Epoch 1/[val]) Loss:\t1.555   Accuracy: 0.322   lr: 0.002\n"
          ]
        },
        {
          "name": "stderr",
          "output_type": "stream",
          "text": [
            "100%|██████████| 204/204 [00:01<00:00, 104.78it/s]\n"
          ]
        },
        {
          "name": "stdout",
          "output_type": "stream",
          "text": [
            "(Epoch 2/[train]) Loss:\t1.530   Accuracy: 0.329   lr: 0.002\n"
          ]
        },
        {
          "name": "stderr",
          "output_type": "stream",
          "text": [
            "100%|██████████| 51/51 [00:00<00:00, 114.15it/s]\n"
          ]
        },
        {
          "name": "stdout",
          "output_type": "stream",
          "text": [
            "(Epoch 2/[val]) Loss:\t1.474   Accuracy: 0.397   lr: 0.002\n"
          ]
        },
        {
          "name": "stderr",
          "output_type": "stream",
          "text": [
            "100%|██████████| 204/204 [00:01<00:00, 103.78it/s]\n"
          ]
        },
        {
          "name": "stdout",
          "output_type": "stream",
          "text": [
            "(Epoch 3/[train]) Loss:\t1.463   Accuracy: 0.375   lr: 0.002\n"
          ]
        },
        {
          "name": "stderr",
          "output_type": "stream",
          "text": [
            "100%|██████████| 51/51 [00:00<00:00, 111.30it/s]\n"
          ]
        },
        {
          "name": "stdout",
          "output_type": "stream",
          "text": [
            "(Epoch 3/[val]) Loss:\t1.406   Accuracy: 0.436   lr: 0.002\n"
          ]
        },
        {
          "name": "stderr",
          "output_type": "stream",
          "text": [
            "100%|██████████| 204/204 [00:02<00:00, 98.95it/s] \n"
          ]
        },
        {
          "name": "stdout",
          "output_type": "stream",
          "text": [
            "(Epoch 4/[train]) Loss:\t1.407   Accuracy: 0.410   lr: 0.002\n"
          ]
        },
        {
          "name": "stderr",
          "output_type": "stream",
          "text": [
            "100%|██████████| 51/51 [00:00<00:00, 107.38it/s]\n"
          ]
        },
        {
          "name": "stdout",
          "output_type": "stream",
          "text": [
            "(Epoch 4/[val]) Loss:\t1.346   Accuracy: 0.464   lr: 0.002\n"
          ]
        },
        {
          "name": "stderr",
          "output_type": "stream",
          "text": [
            "100%|██████████| 204/204 [00:02<00:00, 101.71it/s]\n"
          ]
        },
        {
          "name": "stdout",
          "output_type": "stream",
          "text": [
            "(Epoch 5/[train]) Loss:\t1.367   Accuracy: 0.431   lr: 0.002\n"
          ]
        },
        {
          "name": "stderr",
          "output_type": "stream",
          "text": [
            "100%|██████████| 51/51 [00:00<00:00, 119.71it/s]\n"
          ]
        },
        {
          "name": "stdout",
          "output_type": "stream",
          "text": [
            "(Epoch 5/[val]) Loss:\t1.303   Accuracy: 0.482   lr: 0.002\n"
          ]
        },
        {
          "name": "stderr",
          "output_type": "stream",
          "text": [
            "100%|██████████| 204/204 [00:01<00:00, 102.16it/s]\n"
          ]
        },
        {
          "name": "stdout",
          "output_type": "stream",
          "text": [
            "(Epoch 6/[train]) Loss:\t1.329   Accuracy: 0.453   lr: 0.002\n"
          ]
        },
        {
          "name": "stderr",
          "output_type": "stream",
          "text": [
            "100%|██████████| 51/51 [00:00<00:00, 116.40it/s]\n"
          ]
        },
        {
          "name": "stdout",
          "output_type": "stream",
          "text": [
            "(Epoch 6/[val]) Loss:\t1.269   Accuracy: 0.493   lr: 0.002\n"
          ]
        },
        {
          "name": "stderr",
          "output_type": "stream",
          "text": [
            "100%|██████████| 204/204 [00:01<00:00, 103.47it/s]\n"
          ]
        },
        {
          "name": "stdout",
          "output_type": "stream",
          "text": [
            "(Epoch 7/[train]) Loss:\t1.306   Accuracy: 0.465   lr: 0.002\n"
          ]
        },
        {
          "name": "stderr",
          "output_type": "stream",
          "text": [
            "100%|██████████| 51/51 [00:00<00:00, 77.51it/s]\n"
          ]
        },
        {
          "name": "stdout",
          "output_type": "stream",
          "text": [
            "(Epoch 7/[val]) Loss:\t1.245   Accuracy: 0.504   lr: 0.002\n"
          ]
        },
        {
          "name": "stderr",
          "output_type": "stream",
          "text": [
            "100%|██████████| 204/204 [00:02<00:00, 97.94it/s] \n"
          ]
        },
        {
          "name": "stdout",
          "output_type": "stream",
          "text": [
            "(Epoch 8/[train]) Loss:\t1.285   Accuracy: 0.478   lr: 0.002\n"
          ]
        },
        {
          "name": "stderr",
          "output_type": "stream",
          "text": [
            "100%|██████████| 51/51 [00:00<00:00, 115.02it/s]\n"
          ]
        },
        {
          "name": "stdout",
          "output_type": "stream",
          "text": [
            "(Epoch 8/[val]) Loss:\t1.225   Accuracy: 0.512   lr: 0.002\n"
          ]
        },
        {
          "name": "stderr",
          "output_type": "stream",
          "text": [
            "100%|██████████| 204/204 [00:01<00:00, 105.14it/s]\n"
          ]
        },
        {
          "name": "stdout",
          "output_type": "stream",
          "text": [
            "(Epoch 9/[train]) Loss:\t1.269   Accuracy: 0.489   lr: 0.002\n"
          ]
        },
        {
          "name": "stderr",
          "output_type": "stream",
          "text": [
            "100%|██████████| 51/51 [00:00<00:00, 119.62it/s]\n"
          ]
        },
        {
          "name": "stdout",
          "output_type": "stream",
          "text": [
            "(Epoch 9/[val]) Loss:\t1.209   Accuracy: 0.520   lr: 0.002\n"
          ]
        },
        {
          "name": "stderr",
          "output_type": "stream",
          "text": [
            "100%|██████████| 204/204 [00:01<00:00, 106.14it/s]\n"
          ]
        },
        {
          "name": "stdout",
          "output_type": "stream",
          "text": [
            "(Epoch 10/[train]) Loss:\t1.257   Accuracy: 0.494   lr: 0.002\n"
          ]
        },
        {
          "name": "stderr",
          "output_type": "stream",
          "text": [
            "100%|██████████| 51/51 [00:00<00:00, 112.44it/s]\n"
          ]
        },
        {
          "name": "stdout",
          "output_type": "stream",
          "text": [
            "(Epoch 10/[val]) Loss:\t1.197   Accuracy: 0.526   lr: 0.002\n"
          ]
        },
        {
          "name": "stderr",
          "output_type": "stream",
          "text": [
            "100%|██████████| 204/204 [00:01<00:00, 102.69it/s]\n"
          ]
        },
        {
          "name": "stdout",
          "output_type": "stream",
          "text": [
            "(Epoch 11/[train]) Loss:\t1.240   Accuracy: 0.503   lr: 0.0018000000000000002\n"
          ]
        },
        {
          "name": "stderr",
          "output_type": "stream",
          "text": [
            "100%|██████████| 51/51 [00:00<00:00, 114.82it/s]\n"
          ]
        },
        {
          "name": "stdout",
          "output_type": "stream",
          "text": [
            "(Epoch 11/[val]) Loss:\t1.188   Accuracy: 0.529   lr: 0.0018000000000000002\n"
          ]
        },
        {
          "name": "stderr",
          "output_type": "stream",
          "text": [
            "100%|██████████| 204/204 [00:01<00:00, 104.71it/s]\n"
          ]
        },
        {
          "name": "stdout",
          "output_type": "stream",
          "text": [
            "(Epoch 12/[train]) Loss:\t1.230   Accuracy: 0.507   lr: 0.0018000000000000002\n"
          ]
        },
        {
          "name": "stderr",
          "output_type": "stream",
          "text": [
            "100%|██████████| 51/51 [00:00<00:00, 112.70it/s]\n"
          ]
        },
        {
          "name": "stdout",
          "output_type": "stream",
          "text": [
            "(Epoch 12/[val]) Loss:\t1.179   Accuracy: 0.532   lr: 0.0018000000000000002\n"
          ]
        },
        {
          "name": "stderr",
          "output_type": "stream",
          "text": [
            "100%|██████████| 204/204 [00:01<00:00, 105.81it/s]\n"
          ]
        },
        {
          "name": "stdout",
          "output_type": "stream",
          "text": [
            "(Epoch 13/[train]) Loss:\t1.221   Accuracy: 0.513   lr: 0.0018000000000000002\n"
          ]
        },
        {
          "name": "stderr",
          "output_type": "stream",
          "text": [
            "100%|██████████| 51/51 [00:00<00:00, 115.97it/s]\n"
          ]
        },
        {
          "name": "stdout",
          "output_type": "stream",
          "text": [
            "(Epoch 13/[val]) Loss:\t1.174   Accuracy: 0.536   lr: 0.0018000000000000002\n"
          ]
        },
        {
          "name": "stderr",
          "output_type": "stream",
          "text": [
            "100%|██████████| 204/204 [00:01<00:00, 106.08it/s]\n"
          ]
        },
        {
          "name": "stdout",
          "output_type": "stream",
          "text": [
            "(Epoch 14/[train]) Loss:\t1.212   Accuracy: 0.516   lr: 0.0018000000000000002\n"
          ]
        },
        {
          "name": "stderr",
          "output_type": "stream",
          "text": [
            "100%|██████████| 51/51 [00:00<00:00, 104.14it/s]\n"
          ]
        },
        {
          "name": "stdout",
          "output_type": "stream",
          "text": [
            "(Epoch 14/[val]) Loss:\t1.166   Accuracy: 0.538   lr: 0.0018000000000000002\n"
          ]
        },
        {
          "name": "stderr",
          "output_type": "stream",
          "text": [
            "100%|██████████| 204/204 [00:02<00:00, 98.48it/s] \n"
          ]
        },
        {
          "name": "stdout",
          "output_type": "stream",
          "text": [
            "(Epoch 15/[train]) Loss:\t1.206   Accuracy: 0.521   lr: 0.0018000000000000002\n"
          ]
        },
        {
          "name": "stderr",
          "output_type": "stream",
          "text": [
            "100%|██████████| 51/51 [00:00<00:00, 114.81it/s]\n"
          ]
        },
        {
          "name": "stdout",
          "output_type": "stream",
          "text": [
            "(Epoch 15/[val]) Loss:\t1.161   Accuracy: 0.539   lr: 0.0018000000000000002\n"
          ]
        },
        {
          "name": "stderr",
          "output_type": "stream",
          "text": [
            "100%|██████████| 204/204 [00:01<00:00, 104.57it/s]\n"
          ]
        },
        {
          "name": "stdout",
          "output_type": "stream",
          "text": [
            "(Epoch 16/[train]) Loss:\t1.196   Accuracy: 0.526   lr: 0.0018000000000000002\n"
          ]
        },
        {
          "name": "stderr",
          "output_type": "stream",
          "text": [
            "100%|██████████| 51/51 [00:00<00:00, 117.12it/s]\n"
          ]
        },
        {
          "name": "stdout",
          "output_type": "stream",
          "text": [
            "(Epoch 16/[val]) Loss:\t1.157   Accuracy: 0.542   lr: 0.0018000000000000002\n"
          ]
        },
        {
          "name": "stderr",
          "output_type": "stream",
          "text": [
            "100%|██████████| 204/204 [00:02<00:00, 98.07it/s] \n"
          ]
        },
        {
          "name": "stdout",
          "output_type": "stream",
          "text": [
            "(Epoch 17/[train]) Loss:\t1.188   Accuracy: 0.533   lr: 0.0018000000000000002\n"
          ]
        },
        {
          "name": "stderr",
          "output_type": "stream",
          "text": [
            "100%|██████████| 51/51 [00:00<00:00, 121.56it/s]\n"
          ]
        },
        {
          "name": "stdout",
          "output_type": "stream",
          "text": [
            "(Epoch 17/[val]) Loss:\t1.152   Accuracy: 0.542   lr: 0.0018000000000000002\n"
          ]
        },
        {
          "name": "stderr",
          "output_type": "stream",
          "text": [
            "100%|██████████| 204/204 [00:01<00:00, 102.12it/s]\n"
          ]
        },
        {
          "name": "stdout",
          "output_type": "stream",
          "text": [
            "(Epoch 18/[train]) Loss:\t1.185   Accuracy: 0.531   lr: 0.0018000000000000002\n"
          ]
        },
        {
          "name": "stderr",
          "output_type": "stream",
          "text": [
            "100%|██████████| 51/51 [00:00<00:00, 120.01it/s]\n"
          ]
        },
        {
          "name": "stdout",
          "output_type": "stream",
          "text": [
            "(Epoch 18/[val]) Loss:\t1.149   Accuracy: 0.542   lr: 0.0018000000000000002\n"
          ]
        },
        {
          "name": "stderr",
          "output_type": "stream",
          "text": [
            "100%|██████████| 204/204 [00:01<00:00, 102.71it/s]\n"
          ]
        },
        {
          "name": "stdout",
          "output_type": "stream",
          "text": [
            "(Epoch 19/[train]) Loss:\t1.173   Accuracy: 0.538   lr: 0.0018000000000000002\n"
          ]
        },
        {
          "name": "stderr",
          "output_type": "stream",
          "text": [
            "100%|██████████| 51/51 [00:00<00:00, 116.65it/s]\n"
          ]
        },
        {
          "name": "stdout",
          "output_type": "stream",
          "text": [
            "(Epoch 19/[val]) Loss:\t1.146   Accuracy: 0.543   lr: 0.0018000000000000002\n"
          ]
        },
        {
          "name": "stderr",
          "output_type": "stream",
          "text": [
            "100%|██████████| 204/204 [00:01<00:00, 106.13it/s]\n"
          ]
        },
        {
          "name": "stdout",
          "output_type": "stream",
          "text": [
            "(Epoch 20/[train]) Loss:\t1.166   Accuracy: 0.543   lr: 0.0018000000000000002\n"
          ]
        },
        {
          "name": "stderr",
          "output_type": "stream",
          "text": [
            "100%|██████████| 51/51 [00:00<00:00, 116.93it/s]\n"
          ]
        },
        {
          "name": "stdout",
          "output_type": "stream",
          "text": [
            "(Epoch 20/[val]) Loss:\t1.145   Accuracy: 0.543   lr: 0.0018000000000000002\n"
          ]
        },
        {
          "name": "stderr",
          "output_type": "stream",
          "text": [
            "100%|██████████| 204/204 [00:01<00:00, 105.15it/s]\n"
          ]
        },
        {
          "name": "stdout",
          "output_type": "stream",
          "text": [
            "(Epoch 21/[train]) Loss:\t1.161   Accuracy: 0.544   lr: 0.0016200000000000001\n"
          ]
        },
        {
          "name": "stderr",
          "output_type": "stream",
          "text": [
            "100%|██████████| 51/51 [00:00<00:00, 119.28it/s]\n"
          ]
        },
        {
          "name": "stdout",
          "output_type": "stream",
          "text": [
            "(Epoch 21/[val]) Loss:\t1.141   Accuracy: 0.546   lr: 0.0016200000000000001\n"
          ]
        },
        {
          "name": "stderr",
          "output_type": "stream",
          "text": [
            "100%|██████████| 204/204 [00:01<00:00, 106.24it/s]\n"
          ]
        },
        {
          "name": "stdout",
          "output_type": "stream",
          "text": [
            "(Epoch 22/[train]) Loss:\t1.149   Accuracy: 0.553   lr: 0.0016200000000000001\n"
          ]
        },
        {
          "name": "stderr",
          "output_type": "stream",
          "text": [
            "100%|██████████| 51/51 [00:00<00:00, 116.50it/s]\n"
          ]
        },
        {
          "name": "stdout",
          "output_type": "stream",
          "text": [
            "(Epoch 22/[val]) Loss:\t1.139   Accuracy: 0.545   lr: 0.0016200000000000001\n"
          ]
        },
        {
          "name": "stderr",
          "output_type": "stream",
          "text": [
            "100%|██████████| 204/204 [00:01<00:00, 104.44it/s]\n"
          ]
        },
        {
          "name": "stdout",
          "output_type": "stream",
          "text": [
            "(Epoch 23/[train]) Loss:\t1.146   Accuracy: 0.552   lr: 0.0016200000000000001\n"
          ]
        },
        {
          "name": "stderr",
          "output_type": "stream",
          "text": [
            "100%|██████████| 51/51 [00:00<00:00, 109.87it/s]\n"
          ]
        },
        {
          "name": "stdout",
          "output_type": "stream",
          "text": [
            "(Epoch 23/[val]) Loss:\t1.136   Accuracy: 0.545   lr: 0.0016200000000000001\n"
          ]
        },
        {
          "name": "stderr",
          "output_type": "stream",
          "text": [
            "100%|██████████| 204/204 [00:01<00:00, 105.85it/s]\n"
          ]
        },
        {
          "name": "stdout",
          "output_type": "stream",
          "text": [
            "(Epoch 24/[train]) Loss:\t1.141   Accuracy: 0.555   lr: 0.0016200000000000001\n"
          ]
        },
        {
          "name": "stderr",
          "output_type": "stream",
          "text": [
            "100%|██████████| 51/51 [00:00<00:00, 103.79it/s]\n"
          ]
        },
        {
          "name": "stdout",
          "output_type": "stream",
          "text": [
            "(Epoch 24/[val]) Loss:\t1.135   Accuracy: 0.546   lr: 0.0016200000000000001\n"
          ]
        },
        {
          "name": "stderr",
          "output_type": "stream",
          "text": [
            "100%|██████████| 204/204 [00:01<00:00, 104.13it/s]\n"
          ]
        },
        {
          "name": "stdout",
          "output_type": "stream",
          "text": [
            "(Epoch 25/[train]) Loss:\t1.133   Accuracy: 0.560   lr: 0.0016200000000000001\n"
          ]
        },
        {
          "name": "stderr",
          "output_type": "stream",
          "text": [
            "100%|██████████| 51/51 [00:00<00:00, 115.86it/s]\n"
          ]
        },
        {
          "name": "stdout",
          "output_type": "stream",
          "text": [
            "(Epoch 25/[val]) Loss:\t1.133   Accuracy: 0.546   lr: 0.0016200000000000001\n"
          ]
        },
        {
          "name": "stderr",
          "output_type": "stream",
          "text": [
            "100%|██████████| 204/204 [00:02<00:00, 96.88it/s] \n"
          ]
        },
        {
          "name": "stdout",
          "output_type": "stream",
          "text": [
            "(Epoch 26/[train]) Loss:\t1.129   Accuracy: 0.561   lr: 0.0016200000000000001\n"
          ]
        },
        {
          "name": "stderr",
          "output_type": "stream",
          "text": [
            "100%|██████████| 51/51 [00:00<00:00, 119.33it/s]\n"
          ]
        },
        {
          "name": "stdout",
          "output_type": "stream",
          "text": [
            "(Epoch 26/[val]) Loss:\t1.132   Accuracy: 0.545   lr: 0.0016200000000000001\n"
          ]
        },
        {
          "name": "stderr",
          "output_type": "stream",
          "text": [
            "100%|██████████| 204/204 [00:01<00:00, 106.10it/s]\n"
          ]
        },
        {
          "name": "stdout",
          "output_type": "stream",
          "text": [
            "(Epoch 27/[train]) Loss:\t1.123   Accuracy: 0.568   lr: 0.0016200000000000001\n"
          ]
        },
        {
          "name": "stderr",
          "output_type": "stream",
          "text": [
            "100%|██████████| 51/51 [00:00<00:00, 118.80it/s]\n"
          ]
        },
        {
          "name": "stdout",
          "output_type": "stream",
          "text": [
            "(Epoch 27/[val]) Loss:\t1.131   Accuracy: 0.547   lr: 0.0016200000000000001\n"
          ]
        },
        {
          "name": "stderr",
          "output_type": "stream",
          "text": [
            "100%|██████████| 204/204 [00:01<00:00, 104.93it/s]\n"
          ]
        },
        {
          "name": "stdout",
          "output_type": "stream",
          "text": [
            "(Epoch 28/[train]) Loss:\t1.119   Accuracy: 0.567   lr: 0.0016200000000000001\n"
          ]
        },
        {
          "name": "stderr",
          "output_type": "stream",
          "text": [
            "100%|██████████| 51/51 [00:00<00:00, 114.07it/s]\n"
          ]
        },
        {
          "name": "stdout",
          "output_type": "stream",
          "text": [
            "(Epoch 28/[val]) Loss:\t1.131   Accuracy: 0.546   lr: 0.0016200000000000001\n"
          ]
        },
        {
          "name": "stderr",
          "output_type": "stream",
          "text": [
            "100%|██████████| 204/204 [00:01<00:00, 105.32it/s]\n"
          ]
        },
        {
          "name": "stdout",
          "output_type": "stream",
          "text": [
            "(Epoch 29/[train]) Loss:\t1.110   Accuracy: 0.572   lr: 0.0016200000000000001\n"
          ]
        },
        {
          "name": "stderr",
          "output_type": "stream",
          "text": [
            "100%|██████████| 51/51 [00:00<00:00, 118.57it/s]\n"
          ]
        },
        {
          "name": "stdout",
          "output_type": "stream",
          "text": [
            "(Epoch 29/[val]) Loss:\t1.129   Accuracy: 0.547   lr: 0.0016200000000000001\n"
          ]
        },
        {
          "name": "stderr",
          "output_type": "stream",
          "text": [
            "100%|██████████| 204/204 [00:01<00:00, 103.67it/s]\n"
          ]
        },
        {
          "name": "stdout",
          "output_type": "stream",
          "text": [
            "(Epoch 30/[train]) Loss:\t1.101   Accuracy: 0.577   lr: 0.0016200000000000001\n"
          ]
        },
        {
          "name": "stderr",
          "output_type": "stream",
          "text": [
            "100%|██████████| 51/51 [00:00<00:00, 115.23it/s]\n"
          ]
        },
        {
          "name": "stdout",
          "output_type": "stream",
          "text": [
            "(Epoch 30/[val]) Loss:\t1.127   Accuracy: 0.549   lr: 0.0016200000000000001\n"
          ]
        },
        {
          "name": "stderr",
          "output_type": "stream",
          "text": [
            "100%|██████████| 204/204 [00:01<00:00, 104.58it/s]\n"
          ]
        },
        {
          "name": "stdout",
          "output_type": "stream",
          "text": [
            "(Epoch 31/[train]) Loss:\t1.103   Accuracy: 0.576   lr: 0.001458\n"
          ]
        },
        {
          "name": "stderr",
          "output_type": "stream",
          "text": [
            "100%|██████████| 51/51 [00:00<00:00, 120.06it/s]\n"
          ]
        },
        {
          "name": "stdout",
          "output_type": "stream",
          "text": [
            "(Epoch 31/[val]) Loss:\t1.127   Accuracy: 0.548   lr: 0.001458\n"
          ]
        },
        {
          "name": "stderr",
          "output_type": "stream",
          "text": [
            "100%|██████████| 204/204 [00:01<00:00, 105.66it/s]\n"
          ]
        },
        {
          "name": "stdout",
          "output_type": "stream",
          "text": [
            "(Epoch 32/[train]) Loss:\t1.098   Accuracy: 0.578   lr: 0.001458\n"
          ]
        },
        {
          "name": "stderr",
          "output_type": "stream",
          "text": [
            "100%|██████████| 51/51 [00:00<00:00, 117.26it/s]\n"
          ]
        },
        {
          "name": "stdout",
          "output_type": "stream",
          "text": [
            "(Epoch 32/[val]) Loss:\t1.126   Accuracy: 0.548   lr: 0.001458\n"
          ]
        },
        {
          "name": "stderr",
          "output_type": "stream",
          "text": [
            "100%|██████████| 204/204 [00:01<00:00, 103.32it/s]\n"
          ]
        },
        {
          "name": "stdout",
          "output_type": "stream",
          "text": [
            "(Epoch 33/[train]) Loss:\t1.096   Accuracy: 0.577   lr: 0.001458\n"
          ]
        },
        {
          "name": "stderr",
          "output_type": "stream",
          "text": [
            "100%|██████████| 51/51 [00:00<00:00, 118.62it/s]\n"
          ]
        },
        {
          "name": "stdout",
          "output_type": "stream",
          "text": [
            "(Epoch 33/[val]) Loss:\t1.127   Accuracy: 0.547   lr: 0.001458\n"
          ]
        },
        {
          "name": "stderr",
          "output_type": "stream",
          "text": [
            "100%|██████████| 204/204 [00:01<00:00, 104.50it/s]\n"
          ]
        },
        {
          "name": "stdout",
          "output_type": "stream",
          "text": [
            "(Epoch 34/[train]) Loss:\t1.089   Accuracy: 0.581   lr: 0.001458\n"
          ]
        },
        {
          "name": "stderr",
          "output_type": "stream",
          "text": [
            "100%|██████████| 51/51 [00:00<00:00, 118.58it/s]\n"
          ]
        },
        {
          "name": "stdout",
          "output_type": "stream",
          "text": [
            "(Epoch 34/[val]) Loss:\t1.126   Accuracy: 0.546   lr: 0.001458\n"
          ]
        },
        {
          "name": "stderr",
          "output_type": "stream",
          "text": [
            "100%|██████████| 204/204 [00:01<00:00, 106.20it/s]\n"
          ]
        },
        {
          "name": "stdout",
          "output_type": "stream",
          "text": [
            "(Epoch 35/[train]) Loss:\t1.083   Accuracy: 0.588   lr: 0.001458\n"
          ]
        },
        {
          "name": "stderr",
          "output_type": "stream",
          "text": [
            "100%|██████████| 51/51 [00:00<00:00, 114.75it/s]\n"
          ]
        },
        {
          "name": "stdout",
          "output_type": "stream",
          "text": [
            "(Epoch 35/[val]) Loss:\t1.126   Accuracy: 0.547   lr: 0.001458\n"
          ]
        },
        {
          "name": "stderr",
          "output_type": "stream",
          "text": [
            "100%|██████████| 204/204 [00:02<00:00, 95.74it/s] \n"
          ]
        },
        {
          "name": "stdout",
          "output_type": "stream",
          "text": [
            "(Epoch 36/[train]) Loss:\t1.076   Accuracy: 0.590   lr: 0.001458\n"
          ]
        },
        {
          "name": "stderr",
          "output_type": "stream",
          "text": [
            "100%|██████████| 51/51 [00:00<00:00, 110.49it/s]\n"
          ]
        },
        {
          "name": "stdout",
          "output_type": "stream",
          "text": [
            "(Epoch 36/[val]) Loss:\t1.125   Accuracy: 0.547   lr: 0.001458\n"
          ]
        },
        {
          "name": "stderr",
          "output_type": "stream",
          "text": [
            "100%|██████████| 204/204 [00:02<00:00, 100.60it/s]\n"
          ]
        },
        {
          "name": "stdout",
          "output_type": "stream",
          "text": [
            "(Epoch 37/[train]) Loss:\t1.075   Accuracy: 0.591   lr: 0.001458\n"
          ]
        },
        {
          "name": "stderr",
          "output_type": "stream",
          "text": [
            "100%|██████████| 51/51 [00:00<00:00, 115.05it/s]\n"
          ]
        },
        {
          "name": "stdout",
          "output_type": "stream",
          "text": [
            "(Epoch 37/[val]) Loss:\t1.125   Accuracy: 0.547   lr: 0.001458\n"
          ]
        },
        {
          "name": "stderr",
          "output_type": "stream",
          "text": [
            "100%|██████████| 204/204 [00:01<00:00, 105.57it/s]\n"
          ]
        },
        {
          "name": "stdout",
          "output_type": "stream",
          "text": [
            "(Epoch 38/[train]) Loss:\t1.064   Accuracy: 0.594   lr: 0.001458\n"
          ]
        },
        {
          "name": "stderr",
          "output_type": "stream",
          "text": [
            "100%|██████████| 51/51 [00:00<00:00, 119.51it/s]\n"
          ]
        },
        {
          "name": "stdout",
          "output_type": "stream",
          "text": [
            "(Epoch 38/[val]) Loss:\t1.125   Accuracy: 0.546   lr: 0.001458\n"
          ]
        },
        {
          "name": "stderr",
          "output_type": "stream",
          "text": [
            "100%|██████████| 204/204 [00:01<00:00, 102.89it/s]\n"
          ]
        },
        {
          "name": "stdout",
          "output_type": "stream",
          "text": [
            "(Epoch 39/[train]) Loss:\t1.064   Accuracy: 0.595   lr: 0.001458\n"
          ]
        },
        {
          "name": "stderr",
          "output_type": "stream",
          "text": [
            "100%|██████████| 51/51 [00:00<00:00, 116.21it/s]\n"
          ]
        },
        {
          "name": "stdout",
          "output_type": "stream",
          "text": [
            "(Epoch 39/[val]) Loss:\t1.125   Accuracy: 0.546   lr: 0.001458\n"
          ]
        },
        {
          "name": "stderr",
          "output_type": "stream",
          "text": [
            "100%|██████████| 204/204 [00:02<00:00, 98.70it/s] \n"
          ]
        },
        {
          "name": "stdout",
          "output_type": "stream",
          "text": [
            "(Epoch 40/[train]) Loss:\t1.062   Accuracy: 0.595   lr: 0.001458\n"
          ]
        },
        {
          "name": "stderr",
          "output_type": "stream",
          "text": [
            "100%|██████████| 51/51 [00:00<00:00, 116.43it/s]\n"
          ]
        },
        {
          "name": "stdout",
          "output_type": "stream",
          "text": [
            "(Epoch 40/[val]) Loss:\t1.125   Accuracy: 0.546   lr: 0.001458\n"
          ]
        },
        {
          "name": "stderr",
          "output_type": "stream",
          "text": [
            "100%|██████████| 204/204 [00:01<00:00, 103.71it/s]\n"
          ]
        },
        {
          "name": "stdout",
          "output_type": "stream",
          "text": [
            "(Epoch 41/[train]) Loss:\t1.052   Accuracy: 0.601   lr: 0.0013122000000000001\n"
          ]
        },
        {
          "name": "stderr",
          "output_type": "stream",
          "text": [
            "100%|██████████| 51/51 [00:00<00:00, 114.08it/s]\n"
          ]
        },
        {
          "name": "stdout",
          "output_type": "stream",
          "text": [
            "(Epoch 41/[val]) Loss:\t1.125   Accuracy: 0.544   lr: 0.0013122000000000001\n"
          ]
        },
        {
          "name": "stderr",
          "output_type": "stream",
          "text": [
            "100%|██████████| 204/204 [00:01<00:00, 106.44it/s]\n"
          ]
        },
        {
          "name": "stdout",
          "output_type": "stream",
          "text": [
            "(Epoch 42/[train]) Loss:\t1.049   Accuracy: 0.602   lr: 0.0013122000000000001\n"
          ]
        },
        {
          "name": "stderr",
          "output_type": "stream",
          "text": [
            "100%|██████████| 51/51 [00:00<00:00, 118.38it/s]\n"
          ]
        },
        {
          "name": "stdout",
          "output_type": "stream",
          "text": [
            "(Epoch 42/[val]) Loss:\t1.126   Accuracy: 0.546   lr: 0.0013122000000000001\n"
          ]
        },
        {
          "name": "stderr",
          "output_type": "stream",
          "text": [
            "100%|██████████| 204/204 [00:01<00:00, 105.01it/s]\n"
          ]
        },
        {
          "name": "stdout",
          "output_type": "stream",
          "text": [
            "(Epoch 43/[train]) Loss:\t1.049   Accuracy: 0.603   lr: 0.0013122000000000001\n"
          ]
        },
        {
          "name": "stderr",
          "output_type": "stream",
          "text": [
            "100%|██████████| 51/51 [00:00<00:00, 106.26it/s]"
          ]
        },
        {
          "name": "stdout",
          "output_type": "stream",
          "text": [
            "(Epoch 43/[val]) Loss:\t1.126   Accuracy: 0.545   lr: 0.0013122000000000001\n",
            "--------------------Early stopping--------------------\n"
          ]
        },
        {
          "name": "stderr",
          "output_type": "stream",
          "text": [
            "\n"
          ]
        },
        {
          "data": {
            "text/html": [],
            "text/plain": [
              "<IPython.core.display.HTML object>"
            ]
          },
          "metadata": {},
          "output_type": "display_data"
        },
        {
          "data": {
            "text/html": [
              "<br>    <style><br>        .wandb-row {<br>            display: flex;<br>            flex-direction: row;<br>            flex-wrap: wrap;<br>            justify-content: flex-start;<br>            width: 100%;<br>        }<br>        .wandb-col {<br>            display: flex;<br>            flex-direction: column;<br>            flex-basis: 100%;<br>            flex: 1;<br>            padding: 10px;<br>        }<br>    </style><br><div class=\"wandb-row\"><div class=\"wandb-col\"><h3>Run history:</h3><br/><table class=\"wandb\"><tr><td>train/accuracy</td><td>▁▃▄▄▅▅▅▆▆▆▆▆▆▆▇▇▇▇▇▇▇▇▇▇▇▇▇▇▇███████████</td></tr><tr><td>train/loss</td><td>█▇▆▅▅▄▄▄▄▄▃▃▃▃▃▃▃▃▂▂▂▂▂▂▂▂▂▂▂▂▂▂▁▁▁▁▁▁▁▁</td></tr><tr><td>train/lr</td><td>██████████▆▆▆▆▆▆▆▆▆▄▄▄▄▄▄▄▄▄▂▂▂▂▂▂▂▂▂▂▁▁</td></tr><tr><td>val/accuracy</td><td>▁▃▅▅▆▆▇▇▇▇▇█████████████████████████████</td></tr><tr><td>val/loss</td><td>█▇▆▅▄▃▃▃▂▂▂▂▂▂▂▁▁▁▁▁▁▁▁▁▁▁▁▁▁▁▁▁▁▁▁▁▁▁▁▁</td></tr><tr><td>val/lr</td><td>██████████▆▆▆▆▆▆▆▆▆▄▄▄▄▄▄▄▄▄▂▂▂▂▂▂▂▂▂▂▁▁</td></tr></table><br/></div><div class=\"wandb-col\"><h3>Run summary:</h3><br/><table class=\"wandb\"><tr><td>train/accuracy</td><td>0.60319</td></tr><tr><td>train/loss</td><td>1.04919</td></tr><tr><td>train/lr</td><td>0.00131</td></tr><tr><td>val/accuracy</td><td>0.54538</td></tr><tr><td>val/loss</td><td>1.12636</td></tr><tr><td>val/lr</td><td>0.00131</td></tr></table><br/></div></div>"
            ],
            "text/plain": [
              "<IPython.core.display.HTML object>"
            ]
          },
          "metadata": {},
          "output_type": "display_data"
        },
        {
          "data": {
            "text/html": [
              " View run <strong style=\"color:#cdcd00\">model1</strong> at: <a href='https://wandb.ai/kacper-pt119-warsaw-university-of-technology/3DifferentNeuralNetsExperiments_v23/runs/k7e98qi5' target=\"_blank\">https://wandb.ai/kacper-pt119-warsaw-university-of-technology/3DifferentNeuralNetsExperiments_v23/runs/k7e98qi5</a><br> View project at: <a href='https://wandb.ai/kacper-pt119-warsaw-university-of-technology/3DifferentNeuralNetsExperiments_v23' target=\"_blank\">https://wandb.ai/kacper-pt119-warsaw-university-of-technology/3DifferentNeuralNetsExperiments_v23</a><br>Synced 5 W&B file(s), 0 media file(s), 0 artifact file(s) and 0 other file(s)"
            ],
            "text/plain": [
              "<IPython.core.display.HTML object>"
            ]
          },
          "metadata": {},
          "output_type": "display_data"
        },
        {
          "data": {
            "text/html": [
              "Find logs at: <code>.\\wandb\\run-20251017_172122-k7e98qi5\\logs</code>"
            ],
            "text/plain": [
              "<IPython.core.display.HTML object>"
            ]
          },
          "metadata": {},
          "output_type": "display_data"
        },
        {
          "name": "stdout",
          "output_type": "stream",
          "text": [
            "Trenowanie modelu: model2\n"
          ]
        },
        {
          "data": {
            "text/html": [],
            "text/plain": [
              "<IPython.core.display.HTML object>"
            ]
          },
          "metadata": {},
          "output_type": "display_data"
        },
        {
          "data": {
            "text/html": [
              "Tracking run with wandb version 0.22.2"
            ],
            "text/plain": [
              "<IPython.core.display.HTML object>"
            ]
          },
          "metadata": {},
          "output_type": "display_data"
        },
        {
          "data": {
            "text/html": [
              "Run data is saved locally in <code>f:\\Users\\Kacper Ptaszek\\Studia-LLM\\wandb\\run-20251017_172310-j3te06ak</code>"
            ],
            "text/plain": [
              "<IPython.core.display.HTML object>"
            ]
          },
          "metadata": {},
          "output_type": "display_data"
        },
        {
          "data": {
            "text/html": [
              "Syncing run <strong><a href='https://wandb.ai/kacper-pt119-warsaw-university-of-technology/3DifferentNeuralNetsExperiments_v23/runs/j3te06ak' target=\"_blank\">model2</a></strong> to <a href='https://wandb.ai/kacper-pt119-warsaw-university-of-technology/3DifferentNeuralNetsExperiments_v23' target=\"_blank\">Weights & Biases</a> (<a href='https://wandb.me/developer-guide' target=\"_blank\">docs</a>)<br>"
            ],
            "text/plain": [
              "<IPython.core.display.HTML object>"
            ]
          },
          "metadata": {},
          "output_type": "display_data"
        },
        {
          "data": {
            "text/html": [
              " View project at <a href='https://wandb.ai/kacper-pt119-warsaw-university-of-technology/3DifferentNeuralNetsExperiments_v23' target=\"_blank\">https://wandb.ai/kacper-pt119-warsaw-university-of-technology/3DifferentNeuralNetsExperiments_v23</a>"
            ],
            "text/plain": [
              "<IPython.core.display.HTML object>"
            ]
          },
          "metadata": {},
          "output_type": "display_data"
        },
        {
          "data": {
            "text/html": [
              " View run at <a href='https://wandb.ai/kacper-pt119-warsaw-university-of-technology/3DifferentNeuralNetsExperiments_v23/runs/j3te06ak' target=\"_blank\">https://wandb.ai/kacper-pt119-warsaw-university-of-technology/3DifferentNeuralNetsExperiments_v23/runs/j3te06ak</a>"
            ],
            "text/plain": [
              "<IPython.core.display.HTML object>"
            ]
          },
          "metadata": {},
          "output_type": "display_data"
        },
        {
          "name": "stderr",
          "output_type": "stream",
          "text": [
            "100%|██████████| 204/204 [00:02<00:00, 87.20it/s]\n"
          ]
        },
        {
          "name": "stdout",
          "output_type": "stream",
          "text": [
            "(Epoch 1/[train]) Loss:\t1.587   Accuracy: 0.269   lr: 0.002\n"
          ]
        },
        {
          "name": "stderr",
          "output_type": "stream",
          "text": [
            "100%|██████████| 51/51 [00:00<00:00, 113.96it/s]\n"
          ]
        },
        {
          "name": "stdout",
          "output_type": "stream",
          "text": [
            "(Epoch 1/[val]) Loss:\t1.479   Accuracy: 0.370   lr: 0.002\n"
          ]
        },
        {
          "name": "stderr",
          "output_type": "stream",
          "text": [
            "100%|██████████| 204/204 [00:02<00:00, 80.31it/s]\n"
          ]
        },
        {
          "name": "stdout",
          "output_type": "stream",
          "text": [
            "(Epoch 2/[train]) Loss:\t1.441   Accuracy: 0.377   lr: 0.002\n"
          ]
        },
        {
          "name": "stderr",
          "output_type": "stream",
          "text": [
            "100%|██████████| 51/51 [00:00<00:00, 115.98it/s]\n"
          ]
        },
        {
          "name": "stdout",
          "output_type": "stream",
          "text": [
            "(Epoch 2/[val]) Loss:\t1.366   Accuracy: 0.432   lr: 0.002\n"
          ]
        },
        {
          "name": "stderr",
          "output_type": "stream",
          "text": [
            "100%|██████████| 204/204 [00:02<00:00, 86.19it/s]\n"
          ]
        },
        {
          "name": "stdout",
          "output_type": "stream",
          "text": [
            "(Epoch 3/[train]) Loss:\t1.337   Accuracy: 0.438   lr: 0.002\n"
          ]
        },
        {
          "name": "stderr",
          "output_type": "stream",
          "text": [
            "100%|██████████| 51/51 [00:00<00:00, 105.38it/s]\n"
          ]
        },
        {
          "name": "stdout",
          "output_type": "stream",
          "text": [
            "(Epoch 3/[val]) Loss:\t1.285   Accuracy: 0.468   lr: 0.002\n"
          ]
        },
        {
          "name": "stderr",
          "output_type": "stream",
          "text": [
            "100%|██████████| 204/204 [00:02<00:00, 83.28it/s]\n"
          ]
        },
        {
          "name": "stdout",
          "output_type": "stream",
          "text": [
            "(Epoch 4/[train]) Loss:\t1.263   Accuracy: 0.469   lr: 0.002\n"
          ]
        },
        {
          "name": "stderr",
          "output_type": "stream",
          "text": [
            "100%|██████████| 51/51 [00:00<00:00, 108.67it/s]\n"
          ]
        },
        {
          "name": "stdout",
          "output_type": "stream",
          "text": [
            "(Epoch 4/[val]) Loss:\t1.227   Accuracy: 0.489   lr: 0.002\n"
          ]
        },
        {
          "name": "stderr",
          "output_type": "stream",
          "text": [
            "100%|██████████| 204/204 [00:02<00:00, 82.23it/s]\n"
          ]
        },
        {
          "name": "stdout",
          "output_type": "stream",
          "text": [
            "(Epoch 5/[train]) Loss:\t1.203   Accuracy: 0.495   lr: 0.002\n"
          ]
        },
        {
          "name": "stderr",
          "output_type": "stream",
          "text": [
            "100%|██████████| 51/51 [00:00<00:00, 103.12it/s]\n"
          ]
        },
        {
          "name": "stdout",
          "output_type": "stream",
          "text": [
            "(Epoch 5/[val]) Loss:\t1.184   Accuracy: 0.505   lr: 0.002\n"
          ]
        },
        {
          "name": "stderr",
          "output_type": "stream",
          "text": [
            "100%|██████████| 204/204 [00:02<00:00, 84.51it/s]\n"
          ]
        },
        {
          "name": "stdout",
          "output_type": "stream",
          "text": [
            "(Epoch 6/[train]) Loss:\t1.158   Accuracy: 0.514   lr: 0.002\n"
          ]
        },
        {
          "name": "stderr",
          "output_type": "stream",
          "text": [
            "100%|██████████| 51/51 [00:00<00:00, 98.30it/s] \n"
          ]
        },
        {
          "name": "stdout",
          "output_type": "stream",
          "text": [
            "(Epoch 6/[val]) Loss:\t1.149   Accuracy: 0.517   lr: 0.002\n"
          ]
        },
        {
          "name": "stderr",
          "output_type": "stream",
          "text": [
            "100%|██████████| 204/204 [00:02<00:00, 80.88it/s]\n"
          ]
        },
        {
          "name": "stdout",
          "output_type": "stream",
          "text": [
            "(Epoch 7/[train]) Loss:\t1.122   Accuracy: 0.530   lr: 0.002\n"
          ]
        },
        {
          "name": "stderr",
          "output_type": "stream",
          "text": [
            "100%|██████████| 51/51 [00:00<00:00, 110.23it/s]\n"
          ]
        },
        {
          "name": "stdout",
          "output_type": "stream",
          "text": [
            "(Epoch 7/[val]) Loss:\t1.125   Accuracy: 0.524   lr: 0.002\n"
          ]
        },
        {
          "name": "stderr",
          "output_type": "stream",
          "text": [
            "100%|██████████| 204/204 [00:02<00:00, 82.73it/s]\n"
          ]
        },
        {
          "name": "stdout",
          "output_type": "stream",
          "text": [
            "(Epoch 8/[train]) Loss:\t1.090   Accuracy: 0.543   lr: 0.002\n"
          ]
        },
        {
          "name": "stderr",
          "output_type": "stream",
          "text": [
            "100%|██████████| 51/51 [00:00<00:00, 107.16it/s]\n"
          ]
        },
        {
          "name": "stdout",
          "output_type": "stream",
          "text": [
            "(Epoch 8/[val]) Loss:\t1.104   Accuracy: 0.530   lr: 0.002\n"
          ]
        },
        {
          "name": "stderr",
          "output_type": "stream",
          "text": [
            "100%|██████████| 204/204 [00:02<00:00, 82.55it/s]\n"
          ]
        },
        {
          "name": "stdout",
          "output_type": "stream",
          "text": [
            "(Epoch 9/[train]) Loss:\t1.063   Accuracy: 0.557   lr: 0.002\n"
          ]
        },
        {
          "name": "stderr",
          "output_type": "stream",
          "text": [
            "100%|██████████| 51/51 [00:00<00:00, 89.45it/s]\n"
          ]
        },
        {
          "name": "stdout",
          "output_type": "stream",
          "text": [
            "(Epoch 9/[val]) Loss:\t1.088   Accuracy: 0.534   lr: 0.002\n"
          ]
        },
        {
          "name": "stderr",
          "output_type": "stream",
          "text": [
            "100%|██████████| 204/204 [00:02<00:00, 84.10it/s]\n"
          ]
        },
        {
          "name": "stdout",
          "output_type": "stream",
          "text": [
            "(Epoch 10/[train]) Loss:\t1.038   Accuracy: 0.565   lr: 0.002\n"
          ]
        },
        {
          "name": "stderr",
          "output_type": "stream",
          "text": [
            "100%|██████████| 51/51 [00:00<00:00, 110.54it/s]\n"
          ]
        },
        {
          "name": "stdout",
          "output_type": "stream",
          "text": [
            "(Epoch 10/[val]) Loss:\t1.076   Accuracy: 0.538   lr: 0.002\n"
          ]
        },
        {
          "name": "stderr",
          "output_type": "stream",
          "text": [
            "100%|██████████| 204/204 [00:02<00:00, 83.02it/s]\n"
          ]
        },
        {
          "name": "stdout",
          "output_type": "stream",
          "text": [
            "(Epoch 11/[train]) Loss:\t1.019   Accuracy: 0.575   lr: 0.0018000000000000002\n"
          ]
        },
        {
          "name": "stderr",
          "output_type": "stream",
          "text": [
            "100%|██████████| 51/51 [00:00<00:00, 82.62it/s] \n"
          ]
        },
        {
          "name": "stdout",
          "output_type": "stream",
          "text": [
            "(Epoch 11/[val]) Loss:\t1.068   Accuracy: 0.541   lr: 0.0018000000000000002\n"
          ]
        },
        {
          "name": "stderr",
          "output_type": "stream",
          "text": [
            "100%|██████████| 204/204 [00:02<00:00, 82.94it/s]\n"
          ]
        },
        {
          "name": "stdout",
          "output_type": "stream",
          "text": [
            "(Epoch 12/[train]) Loss:\t1.004   Accuracy: 0.580   lr: 0.0018000000000000002\n"
          ]
        },
        {
          "name": "stderr",
          "output_type": "stream",
          "text": [
            "100%|██████████| 51/51 [00:00<00:00, 115.14it/s]\n"
          ]
        },
        {
          "name": "stdout",
          "output_type": "stream",
          "text": [
            "(Epoch 12/[val]) Loss:\t1.060   Accuracy: 0.544   lr: 0.0018000000000000002\n"
          ]
        },
        {
          "name": "stderr",
          "output_type": "stream",
          "text": [
            "100%|██████████| 204/204 [00:02<00:00, 85.83it/s]\n"
          ]
        },
        {
          "name": "stdout",
          "output_type": "stream",
          "text": [
            "(Epoch 13/[train]) Loss:\t0.986   Accuracy: 0.588   lr: 0.0018000000000000002\n"
          ]
        },
        {
          "name": "stderr",
          "output_type": "stream",
          "text": [
            "100%|██████████| 51/51 [00:00<00:00, 112.16it/s]\n"
          ]
        },
        {
          "name": "stdout",
          "output_type": "stream",
          "text": [
            "(Epoch 13/[val]) Loss:\t1.053   Accuracy: 0.546   lr: 0.0018000000000000002\n"
          ]
        },
        {
          "name": "stderr",
          "output_type": "stream",
          "text": [
            "100%|██████████| 204/204 [00:02<00:00, 84.22it/s]\n"
          ]
        },
        {
          "name": "stdout",
          "output_type": "stream",
          "text": [
            "(Epoch 14/[train]) Loss:\t0.971   Accuracy: 0.595   lr: 0.0018000000000000002\n"
          ]
        },
        {
          "name": "stderr",
          "output_type": "stream",
          "text": [
            "100%|██████████| 51/51 [00:00<00:00, 115.27it/s]\n"
          ]
        },
        {
          "name": "stdout",
          "output_type": "stream",
          "text": [
            "(Epoch 14/[val]) Loss:\t1.048   Accuracy: 0.549   lr: 0.0018000000000000002\n"
          ]
        },
        {
          "name": "stderr",
          "output_type": "stream",
          "text": [
            "100%|██████████| 204/204 [00:02<00:00, 83.47it/s]\n"
          ]
        },
        {
          "name": "stdout",
          "output_type": "stream",
          "text": [
            "(Epoch 15/[train]) Loss:\t0.958   Accuracy: 0.601   lr: 0.0018000000000000002\n"
          ]
        },
        {
          "name": "stderr",
          "output_type": "stream",
          "text": [
            "100%|██████████| 51/51 [00:00<00:00, 108.70it/s]\n"
          ]
        },
        {
          "name": "stdout",
          "output_type": "stream",
          "text": [
            "(Epoch 15/[val]) Loss:\t1.043   Accuracy: 0.551   lr: 0.0018000000000000002\n"
          ]
        },
        {
          "name": "stderr",
          "output_type": "stream",
          "text": [
            "100%|██████████| 204/204 [00:02<00:00, 86.75it/s]\n"
          ]
        },
        {
          "name": "stdout",
          "output_type": "stream",
          "text": [
            "(Epoch 16/[train]) Loss:\t0.944   Accuracy: 0.607   lr: 0.0018000000000000002\n"
          ]
        },
        {
          "name": "stderr",
          "output_type": "stream",
          "text": [
            "100%|██████████| 51/51 [00:00<00:00, 112.27it/s]\n"
          ]
        },
        {
          "name": "stdout",
          "output_type": "stream",
          "text": [
            "(Epoch 16/[val]) Loss:\t1.038   Accuracy: 0.552   lr: 0.0018000000000000002\n"
          ]
        },
        {
          "name": "stderr",
          "output_type": "stream",
          "text": [
            "100%|██████████| 204/204 [00:02<00:00, 85.29it/s]\n"
          ]
        },
        {
          "name": "stdout",
          "output_type": "stream",
          "text": [
            "(Epoch 17/[train]) Loss:\t0.928   Accuracy: 0.619   lr: 0.0018000000000000002\n"
          ]
        },
        {
          "name": "stderr",
          "output_type": "stream",
          "text": [
            "100%|██████████| 51/51 [00:00<00:00, 114.07it/s]\n"
          ]
        },
        {
          "name": "stdout",
          "output_type": "stream",
          "text": [
            "(Epoch 17/[val]) Loss:\t1.036   Accuracy: 0.553   lr: 0.0018000000000000002\n"
          ]
        },
        {
          "name": "stderr",
          "output_type": "stream",
          "text": [
            "100%|██████████| 204/204 [00:02<00:00, 81.20it/s]\n"
          ]
        },
        {
          "name": "stdout",
          "output_type": "stream",
          "text": [
            "(Epoch 18/[train]) Loss:\t0.915   Accuracy: 0.621   lr: 0.0018000000000000002\n"
          ]
        },
        {
          "name": "stderr",
          "output_type": "stream",
          "text": [
            "100%|██████████| 51/51 [00:00<00:00, 113.02it/s]\n"
          ]
        },
        {
          "name": "stdout",
          "output_type": "stream",
          "text": [
            "(Epoch 18/[val]) Loss:\t1.033   Accuracy: 0.555   lr: 0.0018000000000000002\n"
          ]
        },
        {
          "name": "stderr",
          "output_type": "stream",
          "text": [
            "100%|██████████| 204/204 [00:02<00:00, 85.74it/s]\n"
          ]
        },
        {
          "name": "stdout",
          "output_type": "stream",
          "text": [
            "(Epoch 19/[train]) Loss:\t0.903   Accuracy: 0.626   lr: 0.0018000000000000002\n"
          ]
        },
        {
          "name": "stderr",
          "output_type": "stream",
          "text": [
            "100%|██████████| 51/51 [00:00<00:00, 115.06it/s]\n"
          ]
        },
        {
          "name": "stdout",
          "output_type": "stream",
          "text": [
            "(Epoch 19/[val]) Loss:\t1.032   Accuracy: 0.556   lr: 0.0018000000000000002\n"
          ]
        },
        {
          "name": "stderr",
          "output_type": "stream",
          "text": [
            "100%|██████████| 204/204 [00:02<00:00, 83.60it/s]\n"
          ]
        },
        {
          "name": "stdout",
          "output_type": "stream",
          "text": [
            "(Epoch 20/[train]) Loss:\t0.891   Accuracy: 0.632   lr: 0.0018000000000000002\n"
          ]
        },
        {
          "name": "stderr",
          "output_type": "stream",
          "text": [
            "100%|██████████| 51/51 [00:00<00:00, 113.07it/s]\n"
          ]
        },
        {
          "name": "stdout",
          "output_type": "stream",
          "text": [
            "(Epoch 20/[val]) Loss:\t1.030   Accuracy: 0.556   lr: 0.0018000000000000002\n"
          ]
        },
        {
          "name": "stderr",
          "output_type": "stream",
          "text": [
            "100%|██████████| 204/204 [00:02<00:00, 77.81it/s]\n"
          ]
        },
        {
          "name": "stdout",
          "output_type": "stream",
          "text": [
            "(Epoch 21/[train]) Loss:\t0.879   Accuracy: 0.641   lr: 0.0016200000000000001\n"
          ]
        },
        {
          "name": "stderr",
          "output_type": "stream",
          "text": [
            "100%|██████████| 51/51 [00:00<00:00, 113.72it/s]\n"
          ]
        },
        {
          "name": "stdout",
          "output_type": "stream",
          "text": [
            "(Epoch 21/[val]) Loss:\t1.030   Accuracy: 0.556   lr: 0.0016200000000000001\n"
          ]
        },
        {
          "name": "stderr",
          "output_type": "stream",
          "text": [
            "100%|██████████| 204/204 [00:02<00:00, 84.55it/s]\n"
          ]
        },
        {
          "name": "stdout",
          "output_type": "stream",
          "text": [
            "(Epoch 22/[train]) Loss:\t0.869   Accuracy: 0.644   lr: 0.0016200000000000001\n"
          ]
        },
        {
          "name": "stderr",
          "output_type": "stream",
          "text": [
            "100%|██████████| 51/51 [00:00<00:00, 109.95it/s]\n"
          ]
        },
        {
          "name": "stdout",
          "output_type": "stream",
          "text": [
            "(Epoch 22/[val]) Loss:\t1.029   Accuracy: 0.556   lr: 0.0016200000000000001\n"
          ]
        },
        {
          "name": "stderr",
          "output_type": "stream",
          "text": [
            "100%|██████████| 204/204 [00:02<00:00, 83.22it/s]\n"
          ]
        },
        {
          "name": "stdout",
          "output_type": "stream",
          "text": [
            "(Epoch 23/[train]) Loss:\t0.864   Accuracy: 0.646   lr: 0.0016200000000000001\n"
          ]
        },
        {
          "name": "stderr",
          "output_type": "stream",
          "text": [
            "100%|██████████| 51/51 [00:00<00:00, 95.06it/s] \n"
          ]
        },
        {
          "name": "stdout",
          "output_type": "stream",
          "text": [
            "(Epoch 23/[val]) Loss:\t1.029   Accuracy: 0.555   lr: 0.0016200000000000001\n"
          ]
        },
        {
          "name": "stderr",
          "output_type": "stream",
          "text": [
            "100%|██████████| 204/204 [00:02<00:00, 74.97it/s]\n"
          ]
        },
        {
          "name": "stdout",
          "output_type": "stream",
          "text": [
            "(Epoch 24/[train]) Loss:\t0.847   Accuracy: 0.654   lr: 0.0016200000000000001\n"
          ]
        },
        {
          "name": "stderr",
          "output_type": "stream",
          "text": [
            "100%|██████████| 51/51 [00:00<00:00, 97.68it/s] \n"
          ]
        },
        {
          "name": "stdout",
          "output_type": "stream",
          "text": [
            "(Epoch 24/[val]) Loss:\t1.027   Accuracy: 0.554   lr: 0.0016200000000000001\n"
          ]
        },
        {
          "name": "stderr",
          "output_type": "stream",
          "text": [
            "100%|██████████| 204/204 [00:03<00:00, 67.56it/s]\n"
          ]
        },
        {
          "name": "stdout",
          "output_type": "stream",
          "text": [
            "(Epoch 25/[train]) Loss:\t0.839   Accuracy: 0.659   lr: 0.0016200000000000001\n"
          ]
        },
        {
          "name": "stderr",
          "output_type": "stream",
          "text": [
            "100%|██████████| 51/51 [00:00<00:00, 96.78it/s]\n"
          ]
        },
        {
          "name": "stdout",
          "output_type": "stream",
          "text": [
            "(Epoch 25/[val]) Loss:\t1.028   Accuracy: 0.555   lr: 0.0016200000000000001\n"
          ]
        },
        {
          "name": "stderr",
          "output_type": "stream",
          "text": [
            "100%|██████████| 204/204 [00:02<00:00, 72.98it/s]\n"
          ]
        },
        {
          "name": "stdout",
          "output_type": "stream",
          "text": [
            "(Epoch 26/[train]) Loss:\t0.827   Accuracy: 0.663   lr: 0.0016200000000000001\n"
          ]
        },
        {
          "name": "stderr",
          "output_type": "stream",
          "text": [
            "100%|██████████| 51/51 [00:00<00:00, 100.53it/s]\n"
          ]
        },
        {
          "name": "stdout",
          "output_type": "stream",
          "text": [
            "(Epoch 26/[val]) Loss:\t1.029   Accuracy: 0.554   lr: 0.0016200000000000001\n"
          ]
        },
        {
          "name": "stderr",
          "output_type": "stream",
          "text": [
            "100%|██████████| 204/204 [00:02<00:00, 78.82it/s]\n"
          ]
        },
        {
          "name": "stdout",
          "output_type": "stream",
          "text": [
            "(Epoch 27/[train]) Loss:\t0.817   Accuracy: 0.669   lr: 0.0016200000000000001\n"
          ]
        },
        {
          "name": "stderr",
          "output_type": "stream",
          "text": [
            "100%|██████████| 51/51 [00:00<00:00, 113.03it/s]\n"
          ]
        },
        {
          "name": "stdout",
          "output_type": "stream",
          "text": [
            "(Epoch 27/[val]) Loss:\t1.031   Accuracy: 0.555   lr: 0.0016200000000000001\n"
          ]
        },
        {
          "name": "stderr",
          "output_type": "stream",
          "text": [
            "100%|██████████| 204/204 [00:02<00:00, 81.34it/s]\n"
          ]
        },
        {
          "name": "stdout",
          "output_type": "stream",
          "text": [
            "(Epoch 28/[train]) Loss:\t0.805   Accuracy: 0.675   lr: 0.0016200000000000001\n"
          ]
        },
        {
          "name": "stderr",
          "output_type": "stream",
          "text": [
            "100%|██████████| 51/51 [00:00<00:00, 111.37it/s]\n"
          ]
        },
        {
          "name": "stdout",
          "output_type": "stream",
          "text": [
            "(Epoch 28/[val]) Loss:\t1.033   Accuracy: 0.553   lr: 0.0016200000000000001\n"
          ]
        },
        {
          "name": "stderr",
          "output_type": "stream",
          "text": [
            "100%|██████████| 204/204 [00:02<00:00, 80.74it/s]\n"
          ]
        },
        {
          "name": "stdout",
          "output_type": "stream",
          "text": [
            "(Epoch 29/[train]) Loss:\t0.793   Accuracy: 0.683   lr: 0.0016200000000000001\n"
          ]
        },
        {
          "name": "stderr",
          "output_type": "stream",
          "text": [
            "100%|██████████| 51/51 [00:00<00:00, 109.05it/s]"
          ]
        },
        {
          "name": "stdout",
          "output_type": "stream",
          "text": [
            "(Epoch 29/[val]) Loss:\t1.034   Accuracy: 0.553   lr: 0.0016200000000000001\n",
            "--------------------Early stopping--------------------\n"
          ]
        },
        {
          "name": "stderr",
          "output_type": "stream",
          "text": [
            "\n"
          ]
        },
        {
          "data": {
            "text/html": [],
            "text/plain": [
              "<IPython.core.display.HTML object>"
            ]
          },
          "metadata": {},
          "output_type": "display_data"
        },
        {
          "data": {
            "text/html": [
              "<br>    <style><br>        .wandb-row {<br>            display: flex;<br>            flex-direction: row;<br>            flex-wrap: wrap;<br>            justify-content: flex-start;<br>            width: 100%;<br>        }<br>        .wandb-col {<br>            display: flex;<br>            flex-direction: column;<br>            flex-basis: 100%;<br>            flex: 1;<br>            padding: 10px;<br>        }<br>    </style><br><div class=\"wandb-row\"><div class=\"wandb-col\"><h3>Run history:</h3><br/><table class=\"wandb\"><tr><td>train/accuracy</td><td>▁▃▄▄▅▅▅▆▆▆▆▆▆▇▇▇▇▇▇▇▇▇▇██████</td></tr><tr><td>train/loss</td><td>█▇▆▅▅▄▄▄▃▃▃▃▃▃▂▂▂▂▂▂▂▂▂▁▁▁▁▁▁</td></tr><tr><td>train/lr</td><td>██████████▄▄▄▄▄▄▄▄▄▄▁▁▁▁▁▁▁▁▁</td></tr><tr><td>val/accuracy</td><td>▁▃▅▅▆▇▇▇▇▇▇██████████████████</td></tr><tr><td>val/loss</td><td>█▆▅▄▃▃▃▂▂▂▂▂▁▁▁▁▁▁▁▁▁▁▁▁▁▁▁▁▁</td></tr><tr><td>val/lr</td><td>██████████▄▄▄▄▄▄▄▄▄▄▁▁▁▁▁▁▁▁▁</td></tr></table><br/></div><div class=\"wandb-col\"><h3>Run summary:</h3><br/><table class=\"wandb\"><tr><td>train/accuracy</td><td>0.68296</td></tr><tr><td>train/loss</td><td>0.79342</td></tr><tr><td>train/lr</td><td>0.00162</td></tr><tr><td>val/accuracy</td><td>0.55292</td></tr><tr><td>val/loss</td><td>1.03367</td></tr><tr><td>val/lr</td><td>0.00162</td></tr></table><br/></div></div>"
            ],
            "text/plain": [
              "<IPython.core.display.HTML object>"
            ]
          },
          "metadata": {},
          "output_type": "display_data"
        },
        {
          "data": {
            "text/html": [
              " View run <strong style=\"color:#cdcd00\">model2</strong> at: <a href='https://wandb.ai/kacper-pt119-warsaw-university-of-technology/3DifferentNeuralNetsExperiments_v23/runs/j3te06ak' target=\"_blank\">https://wandb.ai/kacper-pt119-warsaw-university-of-technology/3DifferentNeuralNetsExperiments_v23/runs/j3te06ak</a><br> View project at: <a href='https://wandb.ai/kacper-pt119-warsaw-university-of-technology/3DifferentNeuralNetsExperiments_v23' target=\"_blank\">https://wandb.ai/kacper-pt119-warsaw-university-of-technology/3DifferentNeuralNetsExperiments_v23</a><br>Synced 5 W&B file(s), 0 media file(s), 0 artifact file(s) and 0 other file(s)"
            ],
            "text/plain": [
              "<IPython.core.display.HTML object>"
            ]
          },
          "metadata": {},
          "output_type": "display_data"
        },
        {
          "data": {
            "text/html": [
              "Find logs at: <code>.\\wandb\\run-20251017_172310-j3te06ak\\logs</code>"
            ],
            "text/plain": [
              "<IPython.core.display.HTML object>"
            ]
          },
          "metadata": {},
          "output_type": "display_data"
        },
        {
          "name": "stdout",
          "output_type": "stream",
          "text": [
            "Trenowanie modelu: model3\n"
          ]
        },
        {
          "data": {
            "text/html": [],
            "text/plain": [
              "<IPython.core.display.HTML object>"
            ]
          },
          "metadata": {},
          "output_type": "display_data"
        },
        {
          "data": {
            "text/html": [
              "Tracking run with wandb version 0.22.2"
            ],
            "text/plain": [
              "<IPython.core.display.HTML object>"
            ]
          },
          "metadata": {},
          "output_type": "display_data"
        },
        {
          "data": {
            "text/html": [
              "Run data is saved locally in <code>f:\\Users\\Kacper Ptaszek\\Studia-LLM\\wandb\\run-20251017_172439-c3uro2qx</code>"
            ],
            "text/plain": [
              "<IPython.core.display.HTML object>"
            ]
          },
          "metadata": {},
          "output_type": "display_data"
        },
        {
          "data": {
            "text/html": [
              "Syncing run <strong><a href='https://wandb.ai/kacper-pt119-warsaw-university-of-technology/3DifferentNeuralNetsExperiments_v23/runs/c3uro2qx' target=\"_blank\">model3</a></strong> to <a href='https://wandb.ai/kacper-pt119-warsaw-university-of-technology/3DifferentNeuralNetsExperiments_v23' target=\"_blank\">Weights & Biases</a> (<a href='https://wandb.me/developer-guide' target=\"_blank\">docs</a>)<br>"
            ],
            "text/plain": [
              "<IPython.core.display.HTML object>"
            ]
          },
          "metadata": {},
          "output_type": "display_data"
        },
        {
          "data": {
            "text/html": [
              " View project at <a href='https://wandb.ai/kacper-pt119-warsaw-university-of-technology/3DifferentNeuralNetsExperiments_v23' target=\"_blank\">https://wandb.ai/kacper-pt119-warsaw-university-of-technology/3DifferentNeuralNetsExperiments_v23</a>"
            ],
            "text/plain": [
              "<IPython.core.display.HTML object>"
            ]
          },
          "metadata": {},
          "output_type": "display_data"
        },
        {
          "data": {
            "text/html": [
              " View run at <a href='https://wandb.ai/kacper-pt119-warsaw-university-of-technology/3DifferentNeuralNetsExperiments_v23/runs/c3uro2qx' target=\"_blank\">https://wandb.ai/kacper-pt119-warsaw-university-of-technology/3DifferentNeuralNetsExperiments_v23/runs/c3uro2qx</a>"
            ],
            "text/plain": [
              "<IPython.core.display.HTML object>"
            ]
          },
          "metadata": {},
          "output_type": "display_data"
        },
        {
          "name": "stderr",
          "output_type": "stream",
          "text": [
            "100%|██████████| 204/204 [00:03<00:00, 53.60it/s]\n"
          ]
        },
        {
          "name": "stdout",
          "output_type": "stream",
          "text": [
            "(Epoch 1/[train]) Loss:\t1.616   Accuracy: 0.244   lr: 0.002\n"
          ]
        },
        {
          "name": "stderr",
          "output_type": "stream",
          "text": [
            "100%|██████████| 51/51 [00:00<00:00, 95.47it/s] \n"
          ]
        },
        {
          "name": "stdout",
          "output_type": "stream",
          "text": [
            "(Epoch 1/[val]) Loss:\t1.531   Accuracy: 0.334   lr: 0.002\n"
          ]
        },
        {
          "name": "stderr",
          "output_type": "stream",
          "text": [
            "100%|██████████| 204/204 [00:03<00:00, 52.15it/s]\n"
          ]
        },
        {
          "name": "stdout",
          "output_type": "stream",
          "text": [
            "(Epoch 2/[train]) Loss:\t1.515   Accuracy: 0.327   lr: 0.002\n"
          ]
        },
        {
          "name": "stderr",
          "output_type": "stream",
          "text": [
            "100%|██████████| 51/51 [00:00<00:00, 92.86it/s]\n"
          ]
        },
        {
          "name": "stdout",
          "output_type": "stream",
          "text": [
            "(Epoch 2/[val]) Loss:\t1.438   Accuracy: 0.405   lr: 0.002\n"
          ]
        },
        {
          "name": "stderr",
          "output_type": "stream",
          "text": [
            "100%|██████████| 204/204 [00:03<00:00, 57.97it/s]\n"
          ]
        },
        {
          "name": "stdout",
          "output_type": "stream",
          "text": [
            "(Epoch 3/[train]) Loss:\t1.416   Accuracy: 0.391   lr: 0.002\n"
          ]
        },
        {
          "name": "stderr",
          "output_type": "stream",
          "text": [
            "100%|██████████| 51/51 [00:00<00:00, 96.14it/s]\n"
          ]
        },
        {
          "name": "stdout",
          "output_type": "stream",
          "text": [
            "(Epoch 3/[val]) Loss:\t1.349   Accuracy: 0.445   lr: 0.002\n"
          ]
        },
        {
          "name": "stderr",
          "output_type": "stream",
          "text": [
            "100%|██████████| 204/204 [00:03<00:00, 56.51it/s]\n"
          ]
        },
        {
          "name": "stdout",
          "output_type": "stream",
          "text": [
            "(Epoch 4/[train]) Loss:\t1.330   Accuracy: 0.436   lr: 0.002\n"
          ]
        },
        {
          "name": "stderr",
          "output_type": "stream",
          "text": [
            "100%|██████████| 51/51 [00:00<00:00, 100.53it/s]\n"
          ]
        },
        {
          "name": "stdout",
          "output_type": "stream",
          "text": [
            "(Epoch 4/[val]) Loss:\t1.278   Accuracy: 0.467   lr: 0.002\n"
          ]
        },
        {
          "name": "stderr",
          "output_type": "stream",
          "text": [
            "100%|██████████| 204/204 [00:03<00:00, 59.34it/s]\n"
          ]
        },
        {
          "name": "stdout",
          "output_type": "stream",
          "text": [
            "(Epoch 5/[train]) Loss:\t1.260   Accuracy: 0.462   lr: 0.002\n"
          ]
        },
        {
          "name": "stderr",
          "output_type": "stream",
          "text": [
            "100%|██████████| 51/51 [00:00<00:00, 99.89it/s] \n"
          ]
        },
        {
          "name": "stdout",
          "output_type": "stream",
          "text": [
            "(Epoch 5/[val]) Loss:\t1.223   Accuracy: 0.486   lr: 0.002\n"
          ]
        },
        {
          "name": "stderr",
          "output_type": "stream",
          "text": [
            "100%|██████████| 204/204 [00:03<00:00, 57.95it/s]\n"
          ]
        },
        {
          "name": "stdout",
          "output_type": "stream",
          "text": [
            "(Epoch 6/[train]) Loss:\t1.207   Accuracy: 0.487   lr: 0.002\n"
          ]
        },
        {
          "name": "stderr",
          "output_type": "stream",
          "text": [
            "100%|██████████| 51/51 [00:00<00:00, 97.76it/s]\n"
          ]
        },
        {
          "name": "stdout",
          "output_type": "stream",
          "text": [
            "(Epoch 6/[val]) Loss:\t1.182   Accuracy: 0.500   lr: 0.002\n"
          ]
        },
        {
          "name": "stderr",
          "output_type": "stream",
          "text": [
            "100%|██████████| 204/204 [00:03<00:00, 59.97it/s]\n"
          ]
        },
        {
          "name": "stdout",
          "output_type": "stream",
          "text": [
            "(Epoch 7/[train]) Loss:\t1.163   Accuracy: 0.506   lr: 0.002\n"
          ]
        },
        {
          "name": "stderr",
          "output_type": "stream",
          "text": [
            "100%|██████████| 51/51 [00:00<00:00, 99.84it/s] \n"
          ]
        },
        {
          "name": "stdout",
          "output_type": "stream",
          "text": [
            "(Epoch 7/[val]) Loss:\t1.151   Accuracy: 0.511   lr: 0.002\n"
          ]
        },
        {
          "name": "stderr",
          "output_type": "stream",
          "text": [
            "100%|██████████| 204/204 [00:03<00:00, 59.89it/s]\n"
          ]
        },
        {
          "name": "stdout",
          "output_type": "stream",
          "text": [
            "(Epoch 8/[train]) Loss:\t1.125   Accuracy: 0.524   lr: 0.002\n"
          ]
        },
        {
          "name": "stderr",
          "output_type": "stream",
          "text": [
            "100%|██████████| 51/51 [00:00<00:00, 98.10it/s] \n"
          ]
        },
        {
          "name": "stdout",
          "output_type": "stream",
          "text": [
            "(Epoch 8/[val]) Loss:\t1.127   Accuracy: 0.517   lr: 0.002\n"
          ]
        },
        {
          "name": "stderr",
          "output_type": "stream",
          "text": [
            "100%|██████████| 204/204 [00:03<00:00, 58.92it/s]\n"
          ]
        },
        {
          "name": "stdout",
          "output_type": "stream",
          "text": [
            "(Epoch 9/[train]) Loss:\t1.098   Accuracy: 0.533   lr: 0.002\n"
          ]
        },
        {
          "name": "stderr",
          "output_type": "stream",
          "text": [
            "100%|██████████| 51/51 [00:00<00:00, 98.93it/s]\n"
          ]
        },
        {
          "name": "stdout",
          "output_type": "stream",
          "text": [
            "(Epoch 9/[val]) Loss:\t1.105   Accuracy: 0.526   lr: 0.002\n"
          ]
        },
        {
          "name": "stderr",
          "output_type": "stream",
          "text": [
            "100%|██████████| 204/204 [00:03<00:00, 59.18it/s]\n"
          ]
        },
        {
          "name": "stdout",
          "output_type": "stream",
          "text": [
            "(Epoch 10/[train]) Loss:\t1.067   Accuracy: 0.548   lr: 0.002\n"
          ]
        },
        {
          "name": "stderr",
          "output_type": "stream",
          "text": [
            "100%|██████████| 51/51 [00:00<00:00, 101.13it/s]\n"
          ]
        },
        {
          "name": "stdout",
          "output_type": "stream",
          "text": [
            "(Epoch 10/[val]) Loss:\t1.091   Accuracy: 0.531   lr: 0.002\n"
          ]
        },
        {
          "name": "stderr",
          "output_type": "stream",
          "text": [
            "100%|██████████| 204/204 [00:03<00:00, 57.22it/s]\n"
          ]
        },
        {
          "name": "stdout",
          "output_type": "stream",
          "text": [
            "(Epoch 11/[train]) Loss:\t1.048   Accuracy: 0.553   lr: 0.0018000000000000002\n"
          ]
        },
        {
          "name": "stderr",
          "output_type": "stream",
          "text": [
            "100%|██████████| 51/51 [00:00<00:00, 99.17it/s] \n"
          ]
        },
        {
          "name": "stdout",
          "output_type": "stream",
          "text": [
            "(Epoch 11/[val]) Loss:\t1.077   Accuracy: 0.536   lr: 0.0018000000000000002\n"
          ]
        },
        {
          "name": "stderr",
          "output_type": "stream",
          "text": [
            "100%|██████████| 204/204 [00:03<00:00, 59.79it/s]\n"
          ]
        },
        {
          "name": "stdout",
          "output_type": "stream",
          "text": [
            "(Epoch 12/[train]) Loss:\t1.029   Accuracy: 0.563   lr: 0.0018000000000000002\n"
          ]
        },
        {
          "name": "stderr",
          "output_type": "stream",
          "text": [
            "100%|██████████| 51/51 [00:00<00:00, 100.04it/s]\n"
          ]
        },
        {
          "name": "stdout",
          "output_type": "stream",
          "text": [
            "(Epoch 12/[val]) Loss:\t1.070   Accuracy: 0.539   lr: 0.0018000000000000002\n"
          ]
        },
        {
          "name": "stderr",
          "output_type": "stream",
          "text": [
            "100%|██████████| 204/204 [00:04<00:00, 49.80it/s]\n"
          ]
        },
        {
          "name": "stdout",
          "output_type": "stream",
          "text": [
            "(Epoch 13/[train]) Loss:\t1.012   Accuracy: 0.574   lr: 0.0018000000000000002\n"
          ]
        },
        {
          "name": "stderr",
          "output_type": "stream",
          "text": [
            "100%|██████████| 51/51 [00:00<00:00, 88.03it/s]\n"
          ]
        },
        {
          "name": "stdout",
          "output_type": "stream",
          "text": [
            "(Epoch 13/[val]) Loss:\t1.061   Accuracy: 0.541   lr: 0.0018000000000000002\n"
          ]
        },
        {
          "name": "stderr",
          "output_type": "stream",
          "text": [
            "100%|██████████| 204/204 [00:03<00:00, 53.95it/s]\n"
          ]
        },
        {
          "name": "stdout",
          "output_type": "stream",
          "text": [
            "(Epoch 14/[train]) Loss:\t0.995   Accuracy: 0.578   lr: 0.0018000000000000002\n"
          ]
        },
        {
          "name": "stderr",
          "output_type": "stream",
          "text": [
            "100%|██████████| 51/51 [00:00<00:00, 86.32it/s]\n"
          ]
        },
        {
          "name": "stdout",
          "output_type": "stream",
          "text": [
            "(Epoch 14/[val]) Loss:\t1.056   Accuracy: 0.545   lr: 0.0018000000000000002\n"
          ]
        },
        {
          "name": "stderr",
          "output_type": "stream",
          "text": [
            "100%|██████████| 204/204 [00:03<00:00, 58.13it/s]\n"
          ]
        },
        {
          "name": "stdout",
          "output_type": "stream",
          "text": [
            "(Epoch 15/[train]) Loss:\t0.976   Accuracy: 0.588   lr: 0.0018000000000000002\n"
          ]
        },
        {
          "name": "stderr",
          "output_type": "stream",
          "text": [
            "100%|██████████| 51/51 [00:00<00:00, 101.34it/s]\n"
          ]
        },
        {
          "name": "stdout",
          "output_type": "stream",
          "text": [
            "(Epoch 15/[val]) Loss:\t1.049   Accuracy: 0.547   lr: 0.0018000000000000002\n"
          ]
        },
        {
          "name": "stderr",
          "output_type": "stream",
          "text": [
            "100%|██████████| 204/204 [00:03<00:00, 61.57it/s]\n"
          ]
        },
        {
          "name": "stdout",
          "output_type": "stream",
          "text": [
            "(Epoch 16/[train]) Loss:\t0.963   Accuracy: 0.593   lr: 0.0018000000000000002\n"
          ]
        },
        {
          "name": "stderr",
          "output_type": "stream",
          "text": [
            "100%|██████████| 51/51 [00:00<00:00, 101.78it/s]\n"
          ]
        },
        {
          "name": "stdout",
          "output_type": "stream",
          "text": [
            "(Epoch 16/[val]) Loss:\t1.045   Accuracy: 0.549   lr: 0.0018000000000000002\n"
          ]
        },
        {
          "name": "stderr",
          "output_type": "stream",
          "text": [
            "100%|██████████| 204/204 [00:03<00:00, 54.03it/s]\n"
          ]
        },
        {
          "name": "stdout",
          "output_type": "stream",
          "text": [
            "(Epoch 17/[train]) Loss:\t0.949   Accuracy: 0.600   lr: 0.0018000000000000002\n"
          ]
        },
        {
          "name": "stderr",
          "output_type": "stream",
          "text": [
            "100%|██████████| 51/51 [00:00<00:00, 85.35it/s]\n"
          ]
        },
        {
          "name": "stdout",
          "output_type": "stream",
          "text": [
            "(Epoch 17/[val]) Loss:\t1.041   Accuracy: 0.551   lr: 0.0018000000000000002\n"
          ]
        },
        {
          "name": "stderr",
          "output_type": "stream",
          "text": [
            "100%|██████████| 204/204 [00:03<00:00, 60.86it/s]\n"
          ]
        },
        {
          "name": "stdout",
          "output_type": "stream",
          "text": [
            "(Epoch 18/[train]) Loss:\t0.935   Accuracy: 0.607   lr: 0.0018000000000000002\n"
          ]
        },
        {
          "name": "stderr",
          "output_type": "stream",
          "text": [
            "100%|██████████| 51/51 [00:00<00:00, 103.23it/s]\n"
          ]
        },
        {
          "name": "stdout",
          "output_type": "stream",
          "text": [
            "(Epoch 18/[val]) Loss:\t1.037   Accuracy: 0.552   lr: 0.0018000000000000002\n"
          ]
        },
        {
          "name": "stderr",
          "output_type": "stream",
          "text": [
            "100%|██████████| 204/204 [00:03<00:00, 57.24it/s]\n"
          ]
        },
        {
          "name": "stdout",
          "output_type": "stream",
          "text": [
            "(Epoch 19/[train]) Loss:\t0.923   Accuracy: 0.613   lr: 0.0018000000000000002\n"
          ]
        },
        {
          "name": "stderr",
          "output_type": "stream",
          "text": [
            "100%|██████████| 51/51 [00:00<00:00, 99.97it/s] \n"
          ]
        },
        {
          "name": "stdout",
          "output_type": "stream",
          "text": [
            "(Epoch 19/[val]) Loss:\t1.035   Accuracy: 0.553   lr: 0.0018000000000000002\n"
          ]
        },
        {
          "name": "stderr",
          "output_type": "stream",
          "text": [
            "100%|██████████| 204/204 [00:03<00:00, 57.14it/s]\n"
          ]
        },
        {
          "name": "stdout",
          "output_type": "stream",
          "text": [
            "(Epoch 20/[train]) Loss:\t0.907   Accuracy: 0.622   lr: 0.0018000000000000002\n"
          ]
        },
        {
          "name": "stderr",
          "output_type": "stream",
          "text": [
            "100%|██████████| 51/51 [00:00<00:00, 98.67it/s] \n"
          ]
        },
        {
          "name": "stdout",
          "output_type": "stream",
          "text": [
            "(Epoch 20/[val]) Loss:\t1.033   Accuracy: 0.553   lr: 0.0018000000000000002\n"
          ]
        },
        {
          "name": "stderr",
          "output_type": "stream",
          "text": [
            "100%|██████████| 204/204 [00:03<00:00, 58.91it/s]\n"
          ]
        },
        {
          "name": "stdout",
          "output_type": "stream",
          "text": [
            "(Epoch 21/[train]) Loss:\t0.895   Accuracy: 0.625   lr: 0.0016200000000000001\n"
          ]
        },
        {
          "name": "stderr",
          "output_type": "stream",
          "text": [
            "100%|██████████| 51/51 [00:00<00:00, 99.58it/s] \n"
          ]
        },
        {
          "name": "stdout",
          "output_type": "stream",
          "text": [
            "(Epoch 21/[val]) Loss:\t1.031   Accuracy: 0.554   lr: 0.0016200000000000001\n"
          ]
        },
        {
          "name": "stderr",
          "output_type": "stream",
          "text": [
            "100%|██████████| 204/204 [00:03<00:00, 59.49it/s]\n"
          ]
        },
        {
          "name": "stdout",
          "output_type": "stream",
          "text": [
            "(Epoch 22/[train]) Loss:\t0.884   Accuracy: 0.630   lr: 0.0016200000000000001\n"
          ]
        },
        {
          "name": "stderr",
          "output_type": "stream",
          "text": [
            "100%|██████████| 51/51 [00:00<00:00, 100.44it/s]\n"
          ]
        },
        {
          "name": "stdout",
          "output_type": "stream",
          "text": [
            "(Epoch 22/[val]) Loss:\t1.035   Accuracy: 0.553   lr: 0.0016200000000000001\n"
          ]
        },
        {
          "name": "stderr",
          "output_type": "stream",
          "text": [
            "100%|██████████| 204/204 [00:03<00:00, 59.77it/s]\n"
          ]
        },
        {
          "name": "stdout",
          "output_type": "stream",
          "text": [
            "(Epoch 23/[train]) Loss:\t0.870   Accuracy: 0.635   lr: 0.0016200000000000001\n"
          ]
        },
        {
          "name": "stderr",
          "output_type": "stream",
          "text": [
            "100%|██████████| 51/51 [00:00<00:00, 95.82it/s]\n"
          ]
        },
        {
          "name": "stdout",
          "output_type": "stream",
          "text": [
            "(Epoch 23/[val]) Loss:\t1.030   Accuracy: 0.555   lr: 0.0016200000000000001\n"
          ]
        },
        {
          "name": "stderr",
          "output_type": "stream",
          "text": [
            "100%|██████████| 204/204 [00:03<00:00, 59.90it/s]\n"
          ]
        },
        {
          "name": "stdout",
          "output_type": "stream",
          "text": [
            "(Epoch 24/[train]) Loss:\t0.859   Accuracy: 0.643   lr: 0.0016200000000000001\n"
          ]
        },
        {
          "name": "stderr",
          "output_type": "stream",
          "text": [
            "100%|██████████| 51/51 [00:00<00:00, 100.63it/s]\n"
          ]
        },
        {
          "name": "stdout",
          "output_type": "stream",
          "text": [
            "(Epoch 24/[val]) Loss:\t1.031   Accuracy: 0.556   lr: 0.0016200000000000001\n"
          ]
        },
        {
          "name": "stderr",
          "output_type": "stream",
          "text": [
            "100%|██████████| 204/204 [00:03<00:00, 58.17it/s]\n"
          ]
        },
        {
          "name": "stdout",
          "output_type": "stream",
          "text": [
            "(Epoch 25/[train]) Loss:\t0.845   Accuracy: 0.647   lr: 0.0016200000000000001\n"
          ]
        },
        {
          "name": "stderr",
          "output_type": "stream",
          "text": [
            "100%|██████████| 51/51 [00:00<00:00, 75.92it/s]\n"
          ]
        },
        {
          "name": "stdout",
          "output_type": "stream",
          "text": [
            "(Epoch 25/[val]) Loss:\t1.036   Accuracy: 0.553   lr: 0.0016200000000000001\n"
          ]
        },
        {
          "name": "stderr",
          "output_type": "stream",
          "text": [
            "100%|██████████| 204/204 [00:04<00:00, 50.15it/s]\n"
          ]
        },
        {
          "name": "stdout",
          "output_type": "stream",
          "text": [
            "(Epoch 26/[train]) Loss:\t0.837   Accuracy: 0.654   lr: 0.0016200000000000001\n"
          ]
        },
        {
          "name": "stderr",
          "output_type": "stream",
          "text": [
            "100%|██████████| 51/51 [00:00<00:00, 82.64it/s]\n"
          ]
        },
        {
          "name": "stdout",
          "output_type": "stream",
          "text": [
            "(Epoch 26/[val]) Loss:\t1.033   Accuracy: 0.555   lr: 0.0016200000000000001\n"
          ]
        },
        {
          "name": "stderr",
          "output_type": "stream",
          "text": [
            "100%|██████████| 204/204 [00:03<00:00, 57.74it/s]\n"
          ]
        },
        {
          "name": "stdout",
          "output_type": "stream",
          "text": [
            "(Epoch 27/[train]) Loss:\t0.822   Accuracy: 0.660   lr: 0.0016200000000000001\n"
          ]
        },
        {
          "name": "stderr",
          "output_type": "stream",
          "text": [
            "100%|██████████| 51/51 [00:00<00:00, 96.01it/s]\n"
          ]
        },
        {
          "name": "stdout",
          "output_type": "stream",
          "text": [
            "(Epoch 27/[val]) Loss:\t1.034   Accuracy: 0.556   lr: 0.0016200000000000001\n"
          ]
        },
        {
          "name": "stderr",
          "output_type": "stream",
          "text": [
            "100%|██████████| 204/204 [00:03<00:00, 59.81it/s]\n"
          ]
        },
        {
          "name": "stdout",
          "output_type": "stream",
          "text": [
            "(Epoch 28/[train]) Loss:\t0.816   Accuracy: 0.662   lr: 0.0016200000000000001\n"
          ]
        },
        {
          "name": "stderr",
          "output_type": "stream",
          "text": [
            "100%|██████████| 51/51 [00:00<00:00, 100.22it/s]"
          ]
        },
        {
          "name": "stdout",
          "output_type": "stream",
          "text": [
            "(Epoch 28/[val]) Loss:\t1.036   Accuracy: 0.553   lr: 0.0016200000000000001\n",
            "--------------------Early stopping--------------------\n"
          ]
        },
        {
          "name": "stderr",
          "output_type": "stream",
          "text": [
            "\n"
          ]
        },
        {
          "data": {
            "text/html": [],
            "text/plain": [
              "<IPython.core.display.HTML object>"
            ]
          },
          "metadata": {},
          "output_type": "display_data"
        },
        {
          "data": {
            "text/html": [
              "<br>    <style><br>        .wandb-row {<br>            display: flex;<br>            flex-direction: row;<br>            flex-wrap: wrap;<br>            justify-content: flex-start;<br>            width: 100%;<br>        }<br>        .wandb-col {<br>            display: flex;<br>            flex-direction: column;<br>            flex-basis: 100%;<br>            flex: 1;<br>            padding: 10px;<br>        }<br>    </style><br><div class=\"wandb-row\"><div class=\"wandb-col\"><h3>Run history:</h3><br/><table class=\"wandb\"><tr><td>train/accuracy</td><td>▁▂▃▄▅▅▅▆▆▆▆▆▇▇▇▇▇▇▇▇▇▇██████</td></tr><tr><td>train/loss</td><td>█▇▆▅▅▄▄▄▃▃▃▃▃▃▂▂▂▂▂▂▂▂▁▁▁▁▁▁</td></tr><tr><td>train/lr</td><td>██████████▄▄▄▄▄▄▄▄▄▄▁▁▁▁▁▁▁▁</td></tr><tr><td>val/accuracy</td><td>▁▃▄▅▆▆▇▇▇▇▇▇████████████████</td></tr><tr><td>val/loss</td><td>█▇▅▄▄▃▃▂▂▂▂▂▁▁▁▁▁▁▁▁▁▁▁▁▁▁▁▁</td></tr><tr><td>val/lr</td><td>██████████▄▄▄▄▄▄▄▄▄▄▁▁▁▁▁▁▁▁</td></tr></table><br/></div><div class=\"wandb-col\"><h3>Run summary:</h3><br/><table class=\"wandb\"><tr><td>train/accuracy</td><td>0.66152</td></tr><tr><td>train/loss</td><td>0.81582</td></tr><tr><td>train/lr</td><td>0.00162</td></tr><tr><td>val/accuracy</td><td>0.55269</td></tr><tr><td>val/loss</td><td>1.03614</td></tr><tr><td>val/lr</td><td>0.00162</td></tr></table><br/></div></div>"
            ],
            "text/plain": [
              "<IPython.core.display.HTML object>"
            ]
          },
          "metadata": {},
          "output_type": "display_data"
        },
        {
          "data": {
            "text/html": [
              " View run <strong style=\"color:#cdcd00\">model3</strong> at: <a href='https://wandb.ai/kacper-pt119-warsaw-university-of-technology/3DifferentNeuralNetsExperiments_v23/runs/c3uro2qx' target=\"_blank\">https://wandb.ai/kacper-pt119-warsaw-university-of-technology/3DifferentNeuralNetsExperiments_v23/runs/c3uro2qx</a><br> View project at: <a href='https://wandb.ai/kacper-pt119-warsaw-university-of-technology/3DifferentNeuralNetsExperiments_v23' target=\"_blank\">https://wandb.ai/kacper-pt119-warsaw-university-of-technology/3DifferentNeuralNetsExperiments_v23</a><br>Synced 5 W&B file(s), 0 media file(s), 0 artifact file(s) and 0 other file(s)"
            ],
            "text/plain": [
              "<IPython.core.display.HTML object>"
            ]
          },
          "metadata": {},
          "output_type": "display_data"
        },
        {
          "data": {
            "text/html": [
              "Find logs at: <code>.\\wandb\\run-20251017_172439-c3uro2qx\\logs</code>"
            ],
            "text/plain": [
              "<IPython.core.display.HTML object>"
            ]
          },
          "metadata": {},
          "output_type": "display_data"
        }
      ],
      "source": [
        "# Setting methods and parameters for training\n",
        "\n",
        "device = torch.device(\"cuda:0\" if torch.cuda.is_available else \"cpu\")\n",
        "\n",
        "num_epochs = 50\n",
        "criterion = nn.CrossEntropyLoss()\n",
        "classifiers = {\"model1\" : SimpleNet(vocab_size, 5),\n",
        "               \"model2\" : MediumNet(vocab_size, 5),\n",
        "               \"model3\" : LargeNet(vocab_size, 5)}\n",
        "\n",
        "\n",
        "for name, model in classifiers.items():\n",
        "  print(f\"Trenowanie modelu: {name}\")\n",
        "  model = model.to(device)\n",
        "  optimizer = torch.optim.SGD(model.parameters(), lr=2e-3, weight_decay=1e-4)\n",
        "  lr_scheduler = torch.optim.lr_scheduler.StepLR(optimizer, step_size=10, gamma=0.9)\n",
        "  run = wandb.init(\n",
        "    project=\"3DifferentNeuralNetsExperiments_v23\",\n",
        "    name=name,\n",
        "    config={\n",
        "        \"model\": name,\n",
        "        \"vocab_size\": vocab_size,\n",
        "        \"num_classes\": 5,\n",
        "        \"optimizer\": \"SGD\",\n",
        "        \"lr\": 2e-3,\n",
        "        \"weight_decay\": 1e-4,\n",
        "        \"scheduler\": \"StepLR\",\n",
        "        \"step_size\":10,\n",
        "        \"gamma\": 0.9,\n",
        "        \"num_epochs\": num_epochs\n",
        "    }\n",
        "  )\n",
        "  train(model, loaders, criterion, optimizer, lr_scheduler, num_epochs, device)\n",
        "  run.finish()\n"
      ]
    },
    {
      "cell_type": "code",
      "execution_count": 79,
      "metadata": {
        "colab": {
          "base_uri": "https://localhost:8080/",
          "height": 599
        },
        "id": "BwdNg2IeagDO",
        "outputId": "5b6f28d7-8748-4623-93d7-98693754d8ec"
      },
      "outputs": [
        {
          "data": {
            "image/png": "[encoded data removed]",
            "text/plain": [
              "<Figure size 1500x600 with 2 Axes>"
            ]
          },
          "metadata": {},
          "output_type": "display_data"
        },
        {
          "data": {
            "image/png": "[encoded data removed]",
            "text/plain": [
              "<Figure size 1500x600 with 2 Axes>"
            ]
          },
          "metadata": {},
          "output_type": "display_data"
        },
        {
          "data": {
            "image/png": "[encoded data removed]",
            "text/plain": [
              "<Figure size 1500x600 with 2 Axes>"
            ]
          },
          "metadata": {},
          "output_type": "display_data"
        },
        {
          "name": "stdout",
          "output_type": "stream",
          "text": [
            "The best model is: model2\n"
          ]
        }
      ],
      "source": [
        "# Results viasualization\n",
        "def create_loss_plot(train_losses,\n",
        "                     val_losses,\n",
        "                     train_accuracies,\n",
        "                     val_accuracies):\n",
        "\n",
        "  epochs = range(1, len(train_losses) + 1)\n",
        "  fig, (ax1, ax2) = plt.subplots(1, 2, figsize=(15, 6))\n",
        "\n",
        "\n",
        "  # Loss plot\n",
        "  ax1.plot(epochs, train_losses, \"b-\", label=\"Training Loss\", linewidth=1, marker=\"o\", markersize=2)\n",
        "  ax1.plot(epochs, val_losses, \"r-\", label=\"Validation Loss\", linewidth=1, marker=\"s\", markersize=2)\n",
        "\n",
        "  ax1.set_xlabel(\"Epoch\")\n",
        "  ax1.set_ylabel(\"Loss\")\n",
        "  ax1.set_title(\"Training loss vs validation loss\")\n",
        "  ax1.legend()\n",
        "  ax1.grid(True, alpha=0.3)\n",
        "\n",
        "  # Accuracy plot\n",
        "  ax2.plot(epochs, train_accuracies, \"g-\", label=\"Training Accuracy\", linewidth=1, marker=\"o\", markersize=2)\n",
        "  ax2.plot(epochs, val_accuracies, \"m-\", label=\"Validation Accuracy\", linewidth=1, marker=\"s\", markersize=2)\n",
        "\n",
        "  ax2.set_xlabel(\"Epoch\")\n",
        "  ax2.set_ylabel(\"Accuracy (%)\")\n",
        "  ax2.set_title(\"Training accuracy vs validation accuracy\")\n",
        "  ax2.legend()\n",
        "  ax2.grid(True, alpha=0.3)\n",
        "\n",
        "  plt.tight_layout()\n",
        "  plt.show()\n",
        "\n",
        "api = wandb.Api()\n",
        "runs = api.runs(\"kacper-pt119-warsaw-university-of-technology/3DifferentNeuralNetsExperiments_v23\")\n",
        "\n",
        "metrics = [\"train/loss\", \"val/loss\", \"train/accuracy\", \"val/accuracy\"]\n",
        "\n",
        "all_histories = {}\n",
        "\n",
        "for run in runs:\n",
        "  history = run.history(keys=metrics)\n",
        "  all_histories[run.name] = history\n",
        "\n",
        "the_best_val_loss_model = None\n",
        "the_best_val_loss = float(\"inf\")\n",
        "for name, history in all_histories.items():\n",
        "  if the_best_val_loss_model is None:\n",
        "    the_best_val_loss_model = name\n",
        "    the_best_val_loss = np.min(history[\"val/loss\"].to_list())\n",
        "  else:\n",
        "    if np.min(history[\"val/loss\"].to_list()) < the_best_val_loss:\n",
        "      the_best_val_loss_model = name\n",
        "      the_best_val_loss = np.min(history[\"val/loss\"].to_list())\n",
        "\n",
        "  train_losses = history[\"train/loss\"].to_list()\n",
        "  val_losses   = history[\"val/loss\"].to_list()\n",
        "  train_acc    = history[\"train/accuracy\"].to_list()\n",
        "  val_acc      = history[\"val/accuracy\"].to_list()\n",
        "  create_loss_plot(train_losses, val_losses, train_acc, val_acc)\n",
        "\n",
        "print(f\"The best model is: {the_best_val_loss_model}\")\n",
        "\n",
        "\n"
      ]
    },
    {
      "cell_type": "code",
      "execution_count": 80,
      "metadata": {
        "colab": {
          "base_uri": "https://localhost:8080/",
          "height": 618
        },
        "id": "hMlskiOUhmmO",
        "outputId": "6bef1989-6dee-4c83-c617-2988c7a12d1a"
      },
      "outputs": [
        {
          "name": "stdout",
          "output_type": "stream",
          "text": [
            "              precision    recall  f1-score   support\n",
            "\n",
            "           0       0.66      0.74      0.70      3978\n",
            "           1       0.50      0.46      0.48      3981\n",
            "           2       0.47      0.44      0.46      3999\n",
            "           3       0.48      0.45      0.46      4045\n",
            "           4       0.63      0.68      0.65      3997\n",
            "\n",
            "    accuracy                           0.55     20000\n",
            "   macro avg       0.55      0.55      0.55     20000\n",
            "weighted avg       0.55      0.55      0.55     20000\n",
            "\n"
          ]
        },
        {
          "data": {
            "image/png": "[encoded data removed]",
            "text/plain": [
              "<Figure size 500x400 with 2 Axes>"
            ]
          },
          "metadata": {},
          "output_type": "display_data"
        }
      ],
      "source": [
        "from sklearn.metrics import classification_report\n",
        "import seaborn as sns\n",
        "from sklearn.metrics import confusion_matrix\n",
        "\n",
        "# Model evaluation\n",
        "def get_data_to_eval(model, data_loader):\n",
        "  model.eval()\n",
        "  preds_l = []\n",
        "  targets_l = []\n",
        "  with torch.inference_mode():\n",
        "      for inputs, targets in data_loader:\n",
        "          device = next(model.parameters()).device\n",
        "          inputs, targets = inputs.to(device), targets.to(device)\n",
        "          outputs = model(inputs)\n",
        "          _, predicted = torch.max(outputs, 1)\n",
        "          preds_l.extend(predicted.cpu().numpy())\n",
        "          targets_l.extend(targets.cpu().numpy())\n",
        "  return preds_l, targets_l\n",
        "\n",
        "the_best_model = classifiers[the_best_val_loss_model]\n",
        "preds, targets = get_data_to_eval(the_best_model, loaders[\"test\"])\n",
        "labels = [str(i) for i in range(0,5)]\n",
        "\n",
        "report = classification_report(targets, preds, target_names = labels)\n",
        "print(report)\n",
        "\n",
        "# Confusion matrix\n",
        "cm = confusion_matrix(targets, preds)\n",
        "plt.figure(figsize=(5, 4))\n",
        "sns.heatmap(cm, annot=True, fmt=\"d\", cmap=\"Blues\", xticklabels=labels, yticklabels=labels)\n",
        "plt.title(f\"Confusion matrix for model: {the_best_val_loss_model}\")\n",
        "plt.xlabel(\"Predicted class\")\n",
        "plt.ylabel(\"True class\")\n",
        "plt.show()"
      ]
    },
    {
      "cell_type": "markdown",
      "metadata": {},
      "source": [
        "A function that finds and displays $k$ elements of the test set for which the model is most wrong, i.e., predicts the smallest probabilities of the true class. Softmax is a strictly increasing function, so it is enough to find elements with the smallest value of unnormalized output from the network (logit) for the true class."
      ]
    },
    {
      "cell_type": "code",
      "execution_count": 52,
      "metadata": {
        "colab": {
          "base_uri": "https://localhost:8080/"
        },
        "id": "uDlo7t7i2KkS",
        "outputId": "9ad6cd90-bca9-4bc9-cf5a-88ab97877fe4"
      },
      "outputs": [
        {
          "name": "stdout",
          "output_type": "stream",
          "text": [
            "1. True class: 4, Predicted class: 0, Probability for true class: 0.0001\n",
            "2. True class: 2, Predicted class: 4, Probability for true class: 0.0006\n",
            "3. True class: 3, Predicted class: 0, Probability for true class: 0.0008\n",
            "4. True class: 2, Predicted class: 0, Probability for true class: 0.0008\n",
            "5. True class: 4, Predicted class: 0, Probability for true class: 0.0012\n",
            "6. True class: 2, Predicted class: 0, Probability for true class: 0.0012\n",
            "7. True class: 2, Predicted class: 0, Probability for true class: 0.0014\n",
            "8. True class: 2, Predicted class: 0, Probability for true class: 0.0016\n",
            "9. True class: 0, Predicted class: 2, Probability for true class: 0.0017\n",
            "10. True class: 2, Predicted class: 4, Probability for true class: 0.0020\n"
          ]
        }
      ],
      "source": [
        "import torch.nn.functional as F\n",
        "\n",
        "def get_worst_predictions(model, data_loader, k=10):\n",
        "    model.eval()\n",
        "    device = next(model.parameters()).device\n",
        "    mistakes = []\n",
        "\n",
        "    with torch.inference_mode():\n",
        "        for inputs, targets in data_loader:\n",
        "            inputs, targets = inputs.to(device), targets.to(device)\n",
        "            logits = model(inputs)\n",
        "            preds = torch.argmax(logits, dim=1)\n",
        "\n",
        "            probs = F.softmax(logits, dim=1)\n",
        "            # Get probabilities for True class\n",
        "            true_class_probs = probs.gather(1, targets.unsqueeze(1)).squeeze(1)\n",
        "\n",
        "            for i in range(targets.size(0)):\n",
        "                mistakes.append((true_class_probs[i].item(), inputs[i].cpu(), targets[i].item(), preds[i].item()))\n",
        "\n",
        "    mistakes.sort(key=lambda x: x[0])\n",
        "    return mistakes[:k]\n",
        "\n",
        "the_biggest_mistakes = get_worst_predictions(the_best_model, loaders[\"test\"])\n",
        "for i, mistake in enumerate(the_biggest_mistakes):\n",
        "    prob, x, target, pred = mistake\n",
        "    print(f\"{i+1}. True class: {target}, Predicted class: {pred}, Probability for true class: {prob:.4f}\")\n"
      ]
    },
    {
      "cell_type": "markdown",
      "metadata": {},
      "source": [
        "## Experimenting with Different TF-IDF Vectorizer Configurations\n",
        "\n",
        "In this section, I explore various TF-IDF vectorization strategies to determine which feature extraction approach yields the best classification performance. We test different combinations of:\n",
        "\n",
        "### Parameters Being Tested:\n",
        "\n",
        "1. **Vocabulary Size (`vocab_size`)**: \n",
        "   - 5,000 features\n",
        "   - 10,000 features\n",
        "   \n",
        "2. **Analyzer Type (`analyzer`)**:\n",
        "   - `\"word\"`: Word-level tokenization (analyzes individual words)\n",
        "   - `\"char\"`: Character-level tokenization (analyzes character sequences)\n",
        "   \n",
        "3. **N-gram Range (`ngram_range`)**:\n",
        "   - `(1, 1)`: Unigrams only (single words)\n",
        "   - `(1, 2)`: Unigrams and bigrams (single words and word pairs)\n",
        "   - `(2, 3)`: Character bigrams and trigrams\n",
        "\n",
        "### Configurations:\n",
        "\n",
        "We train the `LargeNet` model on 6 different vectorizer configurations:\n",
        "- **10_words_1gram**: 10,000 word unigrams\n",
        "- **10_words_1-2gram**: 10,000 word unigrams + bigrams\n",
        "- **5_words_1gram**: 5,000 word unigrams\n",
        "- **5_words_1-2gram**: 5,000 word unigrams + bigrams\n",
        "- **10_char_2-3gram**: 10,000 character 2-3 grams\n",
        "- **5_char_2-3gram**: 5,000 character 2-3 grams\n",
        "\n",
        "Each configuration is trained separately and logged to Weights & Biases for comparison."
      ]
    },
    {
      "cell_type": "code",
      "execution_count": null,
      "metadata": {},
      "outputs": [
        {
          "data": {
            "text/html": [],
            "text/plain": [
              "<IPython.core.display.HTML object>"
            ]
          },
          "metadata": {},
          "output_type": "display_data"
        },
        {
          "data": {
            "text/html": [
              "Tracking run with wandb version 0.22.2"
            ],
            "text/plain": [
              "<IPython.core.display.HTML object>"
            ]
          },
          "metadata": {},
          "output_type": "display_data"
        },
        {
          "data": {
            "text/html": [
              "Run data is saved locally in <code>f:\\Users\\Kacper Ptaszek\\Studia-LLM\\wandb\\run-20251017_172827-19g1f6u2</code>"
            ],
            "text/plain": [
              "<IPython.core.display.HTML object>"
            ]
          },
          "metadata": {},
          "output_type": "display_data"
        },
        {
          "data": {
            "text/html": [
              "Syncing run <strong><a href='https://wandb.ai/kacper-pt119-warsaw-university-of-technology/DifferentConfigsForVectorizer_v2/runs/19g1f6u2' target=\"_blank\">10_words_1gram</a></strong> to <a href='https://wandb.ai/kacper-pt119-warsaw-university-of-technology/DifferentConfigsForVectorizer_v2' target=\"_blank\">Weights & Biases</a> (<a href='https://wandb.me/developer-guide' target=\"_blank\">docs</a>)<br>"
            ],
            "text/plain": [
              "<IPython.core.display.HTML object>"
            ]
          },
          "metadata": {},
          "output_type": "display_data"
        },
        {
          "data": {
            "text/html": [
              " View project at <a href='https://wandb.ai/kacper-pt119-warsaw-university-of-technology/DifferentConfigsForVectorizer_v2' target=\"_blank\">https://wandb.ai/kacper-pt119-warsaw-university-of-technology/DifferentConfigsForVectorizer_v2</a>"
            ],
            "text/plain": [
              "<IPython.core.display.HTML object>"
            ]
          },
          "metadata": {},
          "output_type": "display_data"
        },
        {
          "data": {
            "text/html": [
              " View run at <a href='https://wandb.ai/kacper-pt119-warsaw-university-of-technology/DifferentConfigsForVectorizer_v2/runs/19g1f6u2' target=\"_blank\">https://wandb.ai/kacper-pt119-warsaw-university-of-technology/DifferentConfigsForVectorizer_v2/runs/19g1f6u2</a>"
            ],
            "text/plain": [
              "<IPython.core.display.HTML object>"
            ]
          },
          "metadata": {},
          "output_type": "display_data"
        },
        {
          "name": "stderr",
          "output_type": "stream",
          "text": [
            "100%|██████████| 204/204 [00:02<00:00, 77.45it/s]\n"
          ]
        },
        {
          "name": "stdout",
          "output_type": "stream",
          "text": [
            "(Epoch 1/[train]) Loss:\t1.559   Accuracy: 0.294   lr: 0.002\n"
          ]
        },
        {
          "name": "stderr",
          "output_type": "stream",
          "text": [
            "100%|██████████| 51/51 [00:00<00:00, 102.79it/s]\n"
          ]
        },
        {
          "name": "stdout",
          "output_type": "stream",
          "text": [
            "(Epoch 1/[val]) Loss:\t1.427   Accuracy: 0.407   lr: 0.002\n"
          ]
        },
        {
          "name": "stderr",
          "output_type": "stream",
          "text": [
            "100%|██████████| 204/204 [00:03<00:00, 57.95it/s]\n"
          ]
        },
        {
          "name": "stdout",
          "output_type": "stream",
          "text": [
            "(Epoch 2/[train]) Loss:\t1.372   Accuracy: 0.424   lr: 0.002\n"
          ]
        },
        {
          "name": "stderr",
          "output_type": "stream",
          "text": [
            "100%|██████████| 51/51 [00:00<00:00, 82.65it/s]\n"
          ]
        },
        {
          "name": "stdout",
          "output_type": "stream",
          "text": [
            "(Epoch 2/[val]) Loss:\t1.302   Accuracy: 0.467   lr: 0.002\n"
          ]
        },
        {
          "name": "stderr",
          "output_type": "stream",
          "text": [
            "100%|██████████| 204/204 [00:03<00:00, 60.15it/s]\n"
          ]
        },
        {
          "name": "stdout",
          "output_type": "stream",
          "text": [
            "(Epoch 3/[train]) Loss:\t1.260   Accuracy: 0.482   lr: 0.002\n"
          ]
        },
        {
          "name": "stderr",
          "output_type": "stream",
          "text": [
            "100%|██████████| 51/51 [00:00<00:00, 83.49it/s]\n"
          ]
        },
        {
          "name": "stdout",
          "output_type": "stream",
          "text": [
            "(Epoch 3/[val]) Loss:\t1.222   Accuracy: 0.496   lr: 0.002\n"
          ]
        },
        {
          "name": "stderr",
          "output_type": "stream",
          "text": [
            "100%|██████████| 204/204 [00:03<00:00, 57.35it/s]\n"
          ]
        },
        {
          "name": "stdout",
          "output_type": "stream",
          "text": [
            "(Epoch 4/[train]) Loss:\t1.182   Accuracy: 0.515   lr: 0.002\n"
          ]
        },
        {
          "name": "stderr",
          "output_type": "stream",
          "text": [
            "100%|██████████| 51/51 [00:00<00:00, 69.28it/s]\n"
          ]
        },
        {
          "name": "stdout",
          "output_type": "stream",
          "text": [
            "(Epoch 4/[val]) Loss:\t1.168   Accuracy: 0.512   lr: 0.002\n"
          ]
        },
        {
          "name": "stderr",
          "output_type": "stream",
          "text": [
            "100%|██████████| 204/204 [00:03<00:00, 52.00it/s]\n"
          ]
        },
        {
          "name": "stdout",
          "output_type": "stream",
          "text": [
            "(Epoch 5/[train]) Loss:\t1.122   Accuracy: 0.542   lr: 0.002\n"
          ]
        },
        {
          "name": "stderr",
          "output_type": "stream",
          "text": [
            "100%|██████████| 51/51 [00:00<00:00, 78.55it/s]\n"
          ]
        },
        {
          "name": "stdout",
          "output_type": "stream",
          "text": [
            "(Epoch 5/[val]) Loss:\t1.132   Accuracy: 0.524   lr: 0.002\n"
          ]
        },
        {
          "name": "stderr",
          "output_type": "stream",
          "text": [
            "100%|██████████| 204/204 [00:03<00:00, 59.55it/s]\n"
          ]
        },
        {
          "name": "stdout",
          "output_type": "stream",
          "text": [
            "(Epoch 6/[train]) Loss:\t1.076   Accuracy: 0.561   lr: 0.002\n"
          ]
        },
        {
          "name": "stderr",
          "output_type": "stream",
          "text": [
            "100%|██████████| 51/51 [00:00<00:00, 76.95it/s]\n"
          ]
        },
        {
          "name": "stdout",
          "output_type": "stream",
          "text": [
            "(Epoch 6/[val]) Loss:\t1.104   Accuracy: 0.529   lr: 0.002\n"
          ]
        },
        {
          "name": "stderr",
          "output_type": "stream",
          "text": [
            "100%|██████████| 204/204 [00:03<00:00, 59.48it/s]\n"
          ]
        },
        {
          "name": "stdout",
          "output_type": "stream",
          "text": [
            "(Epoch 7/[train]) Loss:\t1.036   Accuracy: 0.578   lr: 0.002\n"
          ]
        },
        {
          "name": "stderr",
          "output_type": "stream",
          "text": [
            "100%|██████████| 51/51 [00:00<00:00, 80.41it/s]\n"
          ]
        },
        {
          "name": "stdout",
          "output_type": "stream",
          "text": [
            "(Epoch 7/[val]) Loss:\t1.083   Accuracy: 0.538   lr: 0.002\n"
          ]
        },
        {
          "name": "stderr",
          "output_type": "stream",
          "text": [
            "100%|██████████| 204/204 [00:03<00:00, 59.95it/s]\n"
          ]
        },
        {
          "name": "stdout",
          "output_type": "stream",
          "text": [
            "(Epoch 8/[train]) Loss:\t1.002   Accuracy: 0.595   lr: 0.002\n"
          ]
        },
        {
          "name": "stderr",
          "output_type": "stream",
          "text": [
            "100%|██████████| 51/51 [00:00<00:00, 78.44it/s]\n"
          ]
        },
        {
          "name": "stdout",
          "output_type": "stream",
          "text": [
            "(Epoch 8/[val]) Loss:\t1.067   Accuracy: 0.542   lr: 0.002\n"
          ]
        },
        {
          "name": "stderr",
          "output_type": "stream",
          "text": [
            "100%|██████████| 204/204 [00:03<00:00, 54.63it/s]\n"
          ]
        },
        {
          "name": "stdout",
          "output_type": "stream",
          "text": [
            "(Epoch 9/[train]) Loss:\t0.973   Accuracy: 0.606   lr: 0.002\n"
          ]
        },
        {
          "name": "stderr",
          "output_type": "stream",
          "text": [
            "100%|██████████| 51/51 [00:00<00:00, 79.78it/s]\n"
          ]
        },
        {
          "name": "stdout",
          "output_type": "stream",
          "text": [
            "(Epoch 9/[val]) Loss:\t1.056   Accuracy: 0.547   lr: 0.002\n"
          ]
        },
        {
          "name": "stderr",
          "output_type": "stream",
          "text": [
            "100%|██████████| 204/204 [00:03<00:00, 58.38it/s]\n"
          ]
        },
        {
          "name": "stdout",
          "output_type": "stream",
          "text": [
            "(Epoch 10/[train]) Loss:\t0.944   Accuracy: 0.623   lr: 0.002\n"
          ]
        },
        {
          "name": "stderr",
          "output_type": "stream",
          "text": [
            "100%|██████████| 51/51 [00:00<00:00, 81.31it/s]\n"
          ]
        },
        {
          "name": "stdout",
          "output_type": "stream",
          "text": [
            "(Epoch 10/[val]) Loss:\t1.046   Accuracy: 0.550   lr: 0.002\n"
          ]
        },
        {
          "name": "stderr",
          "output_type": "stream",
          "text": [
            "100%|██████████| 204/204 [00:03<00:00, 59.71it/s]\n"
          ]
        },
        {
          "name": "stdout",
          "output_type": "stream",
          "text": [
            "(Epoch 11/[train]) Loss:\t0.915   Accuracy: 0.632   lr: 0.0018000000000000002\n"
          ]
        },
        {
          "name": "stderr",
          "output_type": "stream",
          "text": [
            "100%|██████████| 51/51 [00:00<00:00, 80.18it/s]\n"
          ]
        },
        {
          "name": "stdout",
          "output_type": "stream",
          "text": [
            "(Epoch 11/[val]) Loss:\t1.040   Accuracy: 0.551   lr: 0.0018000000000000002\n"
          ]
        },
        {
          "name": "stderr",
          "output_type": "stream",
          "text": [
            "100%|██████████| 204/204 [00:03<00:00, 54.98it/s]\n"
          ]
        },
        {
          "name": "stdout",
          "output_type": "stream",
          "text": [
            "(Epoch 12/[train]) Loss:\t0.896   Accuracy: 0.645   lr: 0.0018000000000000002\n"
          ]
        },
        {
          "name": "stderr",
          "output_type": "stream",
          "text": [
            "100%|██████████| 51/51 [00:00<00:00, 79.42it/s]\n"
          ]
        },
        {
          "name": "stdout",
          "output_type": "stream",
          "text": [
            "(Epoch 12/[val]) Loss:\t1.036   Accuracy: 0.554   lr: 0.0018000000000000002\n"
          ]
        },
        {
          "name": "stderr",
          "output_type": "stream",
          "text": [
            "100%|██████████| 204/204 [00:03<00:00, 57.66it/s]\n"
          ]
        },
        {
          "name": "stdout",
          "output_type": "stream",
          "text": [
            "(Epoch 13/[train]) Loss:\t0.871   Accuracy: 0.654   lr: 0.0018000000000000002\n"
          ]
        },
        {
          "name": "stderr",
          "output_type": "stream",
          "text": [
            "100%|██████████| 51/51 [00:00<00:00, 81.55it/s]\n"
          ]
        },
        {
          "name": "stdout",
          "output_type": "stream",
          "text": [
            "(Epoch 13/[val]) Loss:\t1.033   Accuracy: 0.556   lr: 0.0018000000000000002\n"
          ]
        },
        {
          "name": "stderr",
          "output_type": "stream",
          "text": [
            "100%|██████████| 204/204 [00:03<00:00, 57.32it/s]\n"
          ]
        },
        {
          "name": "stdout",
          "output_type": "stream",
          "text": [
            "(Epoch 14/[train]) Loss:\t0.849   Accuracy: 0.666   lr: 0.0018000000000000002\n"
          ]
        },
        {
          "name": "stderr",
          "output_type": "stream",
          "text": [
            "100%|██████████| 51/51 [00:00<00:00, 73.50it/s]\n"
          ]
        },
        {
          "name": "stdout",
          "output_type": "stream",
          "text": [
            "(Epoch 14/[val]) Loss:\t1.030   Accuracy: 0.556   lr: 0.0018000000000000002\n"
          ]
        },
        {
          "name": "stderr",
          "output_type": "stream",
          "text": [
            "100%|██████████| 204/204 [00:03<00:00, 55.30it/s]\n"
          ]
        },
        {
          "name": "stdout",
          "output_type": "stream",
          "text": [
            "(Epoch 15/[train]) Loss:\t0.829   Accuracy: 0.674   lr: 0.0018000000000000002\n"
          ]
        },
        {
          "name": "stderr",
          "output_type": "stream",
          "text": [
            "100%|██████████| 51/51 [00:00<00:00, 73.56it/s]\n"
          ]
        },
        {
          "name": "stdout",
          "output_type": "stream",
          "text": [
            "(Epoch 15/[val]) Loss:\t1.029   Accuracy: 0.558   lr: 0.0018000000000000002\n"
          ]
        },
        {
          "name": "stderr",
          "output_type": "stream",
          "text": [
            "100%|██████████| 204/204 [00:03<00:00, 58.36it/s]\n"
          ]
        },
        {
          "name": "stdout",
          "output_type": "stream",
          "text": [
            "(Epoch 16/[train]) Loss:\t0.806   Accuracy: 0.685   lr: 0.0018000000000000002\n"
          ]
        },
        {
          "name": "stderr",
          "output_type": "stream",
          "text": [
            "100%|██████████| 51/51 [00:00<00:00, 80.91it/s]\n"
          ]
        },
        {
          "name": "stdout",
          "output_type": "stream",
          "text": [
            "(Epoch 16/[val]) Loss:\t1.029   Accuracy: 0.558   lr: 0.0018000000000000002\n"
          ]
        },
        {
          "name": "stderr",
          "output_type": "stream",
          "text": [
            "100%|██████████| 204/204 [00:03<00:00, 58.91it/s]\n"
          ]
        },
        {
          "name": "stdout",
          "output_type": "stream",
          "text": [
            "(Epoch 17/[train]) Loss:\t0.787   Accuracy: 0.696   lr: 0.0018000000000000002\n"
          ]
        },
        {
          "name": "stderr",
          "output_type": "stream",
          "text": [
            "100%|██████████| 51/51 [00:00<00:00, 80.83it/s]\n"
          ]
        },
        {
          "name": "stdout",
          "output_type": "stream",
          "text": [
            "(Epoch 17/[val]) Loss:\t1.029   Accuracy: 0.557   lr: 0.0018000000000000002\n"
          ]
        },
        {
          "name": "stderr",
          "output_type": "stream",
          "text": [
            "100%|██████████| 204/204 [00:03<00:00, 59.44it/s]\n"
          ]
        },
        {
          "name": "stdout",
          "output_type": "stream",
          "text": [
            "(Epoch 18/[train]) Loss:\t0.763   Accuracy: 0.708   lr: 0.0018000000000000002\n"
          ]
        },
        {
          "name": "stderr",
          "output_type": "stream",
          "text": [
            "100%|██████████| 51/51 [00:00<00:00, 78.40it/s]\n"
          ]
        },
        {
          "name": "stdout",
          "output_type": "stream",
          "text": [
            "(Epoch 18/[val]) Loss:\t1.032   Accuracy: 0.556   lr: 0.0018000000000000002\n"
          ]
        },
        {
          "name": "stderr",
          "output_type": "stream",
          "text": [
            "100%|██████████| 204/204 [00:03<00:00, 57.26it/s]\n"
          ]
        },
        {
          "name": "stdout",
          "output_type": "stream",
          "text": [
            "(Epoch 19/[train]) Loss:\t0.743   Accuracy: 0.719   lr: 0.0018000000000000002\n"
          ]
        },
        {
          "name": "stderr",
          "output_type": "stream",
          "text": [
            "100%|██████████| 51/51 [00:00<00:00, 79.01it/s]\n"
          ]
        },
        {
          "name": "stdout",
          "output_type": "stream",
          "text": [
            "(Epoch 19/[val]) Loss:\t1.035   Accuracy: 0.555   lr: 0.0018000000000000002\n"
          ]
        },
        {
          "name": "stderr",
          "output_type": "stream",
          "text": [
            "100%|██████████| 204/204 [00:03<00:00, 58.72it/s]\n"
          ]
        },
        {
          "name": "stdout",
          "output_type": "stream",
          "text": [
            "(Epoch 20/[train]) Loss:\t0.721   Accuracy: 0.730   lr: 0.0018000000000000002\n"
          ]
        },
        {
          "name": "stderr",
          "output_type": "stream",
          "text": [
            "100%|██████████| 51/51 [00:00<00:00, 69.30it/s]\n"
          ]
        },
        {
          "name": "stdout",
          "output_type": "stream",
          "text": [
            "(Epoch 20/[val]) Loss:\t1.036   Accuracy: 0.556   lr: 0.0018000000000000002\n"
          ]
        },
        {
          "name": "stderr",
          "output_type": "stream",
          "text": [
            "100%|██████████| 204/204 [00:03<00:00, 56.22it/s]\n"
          ]
        },
        {
          "name": "stdout",
          "output_type": "stream",
          "text": [
            "(Epoch 21/[train]) Loss:\t0.700   Accuracy: 0.738   lr: 0.0016200000000000001\n"
          ]
        },
        {
          "name": "stderr",
          "output_type": "stream",
          "text": [
            "100%|██████████| 51/51 [00:00<00:00, 79.04it/s]\n"
          ]
        },
        {
          "name": "stdout",
          "output_type": "stream",
          "text": [
            "(Epoch 21/[val]) Loss:\t1.040   Accuracy: 0.554   lr: 0.0016200000000000001\n",
            "--------------------Early stopping--------------------\n",
            "New best model: 10_words_1gram with val_loss: 1.0289\n"
          ]
        },
        {
          "data": {
            "text/html": [],
            "text/plain": [
              "<IPython.core.display.HTML object>"
            ]
          },
          "metadata": {},
          "output_type": "display_data"
        },
        {
          "data": {
            "text/html": [
              "<br>    <style><br>        .wandb-row {<br>            display: flex;<br>            flex-direction: row;<br>            flex-wrap: wrap;<br>            justify-content: flex-start;<br>            width: 100%;<br>        }<br>        .wandb-col {<br>            display: flex;<br>            flex-direction: column;<br>            flex-basis: 100%;<br>            flex: 1;<br>            padding: 10px;<br>        }<br>    </style><br><div class=\"wandb-row\"><div class=\"wandb-col\"><h3>Run history:</h3><br/><table class=\"wandb\"><tr><td>train/accuracy</td><td>▁▃▄▄▅▅▅▆▆▆▆▇▇▇▇▇▇████</td></tr><tr><td>train/loss</td><td>█▆▆▅▄▄▄▃▃▃▃▃▂▂▂▂▂▂▁▁▁</td></tr><tr><td>train/lr</td><td>██████████▄▄▄▄▄▄▄▄▄▄▁</td></tr><tr><td>val/accuracy</td><td>▁▄▅▆▆▇▇▇▇████████████</td></tr><tr><td>val/loss</td><td>█▆▄▃▃▂▂▂▁▁▁▁▁▁▁▁▁▁▁▁▁</td></tr><tr><td>val/lr</td><td>██████████▄▄▄▄▄▄▄▄▄▄▁</td></tr></table><br/></div><div class=\"wandb-col\"><h3>Run summary:</h3><br/><table class=\"wandb\"><tr><td>train/accuracy</td><td>0.7379</td></tr><tr><td>train/loss</td><td>0.70042</td></tr><tr><td>train/lr</td><td>0.00162</td></tr><tr><td>val/accuracy</td><td>0.55423</td></tr><tr><td>val/loss</td><td>1.04022</td></tr><tr><td>val/lr</td><td>0.00162</td></tr></table><br/></div></div>"
            ],
            "text/plain": [
              "<IPython.core.display.HTML object>"
            ]
          },
          "metadata": {},
          "output_type": "display_data"
        },
        {
          "data": {
            "text/html": [
              " View run <strong style=\"color:#cdcd00\">10_words_1gram</strong> at: <a href='https://wandb.ai/kacper-pt119-warsaw-university-of-technology/DifferentConfigsForVectorizer_v2/runs/19g1f6u2' target=\"_blank\">https://wandb.ai/kacper-pt119-warsaw-university-of-technology/DifferentConfigsForVectorizer_v2/runs/19g1f6u2</a><br> View project at: <a href='https://wandb.ai/kacper-pt119-warsaw-university-of-technology/DifferentConfigsForVectorizer_v2' target=\"_blank\">https://wandb.ai/kacper-pt119-warsaw-university-of-technology/DifferentConfigsForVectorizer_v2</a><br>Synced 5 W&B file(s), 0 media file(s), 0 artifact file(s) and 0 other file(s)"
            ],
            "text/plain": [
              "<IPython.core.display.HTML object>"
            ]
          },
          "metadata": {},
          "output_type": "display_data"
        },
        {
          "data": {
            "text/html": [
              "Find logs at: <code>.\\wandb\\run-20251017_172827-19g1f6u2\\logs</code>"
            ],
            "text/plain": [
              "<IPython.core.display.HTML object>"
            ]
          },
          "metadata": {},
          "output_type": "display_data"
        },
        {
          "data": {
            "text/html": [],
            "text/plain": [
              "<IPython.core.display.HTML object>"
            ]
          },
          "metadata": {},
          "output_type": "display_data"
        },
        {
          "data": {
            "text/html": [
              "Tracking run with wandb version 0.22.2"
            ],
            "text/plain": [
              "<IPython.core.display.HTML object>"
            ]
          },
          "metadata": {},
          "output_type": "display_data"
        },
        {
          "data": {
            "text/html": [
              "Run data is saved locally in <code>f:\\Users\\Kacper Ptaszek\\Studia-LLM\\wandb\\run-20251017_173029-5nxr5sb7</code>"
            ],
            "text/plain": [
              "<IPython.core.display.HTML object>"
            ]
          },
          "metadata": {},
          "output_type": "display_data"
        },
        {
          "data": {
            "text/html": [
              "Syncing run <strong><a href='https://wandb.ai/kacper-pt119-warsaw-university-of-technology/DifferentConfigsForVectorizer_v2/runs/5nxr5sb7' target=\"_blank\">10_words_1-2gram</a></strong> to <a href='https://wandb.ai/kacper-pt119-warsaw-university-of-technology/DifferentConfigsForVectorizer_v2' target=\"_blank\">Weights & Biases</a> (<a href='https://wandb.me/developer-guide' target=\"_blank\">docs</a>)<br>"
            ],
            "text/plain": [
              "<IPython.core.display.HTML object>"
            ]
          },
          "metadata": {},
          "output_type": "display_data"
        },
        {
          "data": {
            "text/html": [
              " View project at <a href='https://wandb.ai/kacper-pt119-warsaw-university-of-technology/DifferentConfigsForVectorizer_v2' target=\"_blank\">https://wandb.ai/kacper-pt119-warsaw-university-of-technology/DifferentConfigsForVectorizer_v2</a>"
            ],
            "text/plain": [
              "<IPython.core.display.HTML object>"
            ]
          },
          "metadata": {},
          "output_type": "display_data"
        },
        {
          "data": {
            "text/html": [
              " View run at <a href='https://wandb.ai/kacper-pt119-warsaw-university-of-technology/DifferentConfigsForVectorizer_v2/runs/5nxr5sb7' target=\"_blank\">https://wandb.ai/kacper-pt119-warsaw-university-of-technology/DifferentConfigsForVectorizer_v2/runs/5nxr5sb7</a>"
            ],
            "text/plain": [
              "<IPython.core.display.HTML object>"
            ]
          },
          "metadata": {},
          "output_type": "display_data"
        },
        {
          "name": "stderr",
          "output_type": "stream",
          "text": [
            "100%|██████████| 204/204 [00:03<00:00, 54.40it/s]\n"
          ]
        },
        {
          "name": "stdout",
          "output_type": "stream",
          "text": [
            "(Epoch 1/[train]) Loss:\t1.560   Accuracy: 0.286   lr: 0.002\n"
          ]
        },
        {
          "name": "stderr",
          "output_type": "stream",
          "text": [
            "100%|██████████| 51/51 [00:00<00:00, 81.02it/s]\n"
          ]
        },
        {
          "name": "stdout",
          "output_type": "stream",
          "text": [
            "(Epoch 1/[val]) Loss:\t1.436   Accuracy: 0.400   lr: 0.002\n"
          ]
        },
        {
          "name": "stderr",
          "output_type": "stream",
          "text": [
            "100%|██████████| 204/204 [00:03<00:00, 56.99it/s]\n"
          ]
        },
        {
          "name": "stdout",
          "output_type": "stream",
          "text": [
            "(Epoch 2/[train]) Loss:\t1.380   Accuracy: 0.417   lr: 0.002\n"
          ]
        },
        {
          "name": "stderr",
          "output_type": "stream",
          "text": [
            "100%|██████████| 51/51 [00:00<00:00, 76.30it/s]\n"
          ]
        },
        {
          "name": "stdout",
          "output_type": "stream",
          "text": [
            "(Epoch 2/[val]) Loss:\t1.311   Accuracy: 0.461   lr: 0.002\n"
          ]
        },
        {
          "name": "stderr",
          "output_type": "stream",
          "text": [
            "100%|██████████| 204/204 [00:03<00:00, 61.05it/s]\n"
          ]
        },
        {
          "name": "stdout",
          "output_type": "stream",
          "text": [
            "(Epoch 3/[train]) Loss:\t1.264   Accuracy: 0.477   lr: 0.002\n"
          ]
        },
        {
          "name": "stderr",
          "output_type": "stream",
          "text": [
            "100%|██████████| 51/51 [00:00<00:00, 78.16it/s]\n"
          ]
        },
        {
          "name": "stdout",
          "output_type": "stream",
          "text": [
            "(Epoch 3/[val]) Loss:\t1.230   Accuracy: 0.491   lr: 0.002\n"
          ]
        },
        {
          "name": "stderr",
          "output_type": "stream",
          "text": [
            "100%|██████████| 204/204 [00:03<00:00, 54.75it/s]\n"
          ]
        },
        {
          "name": "stdout",
          "output_type": "stream",
          "text": [
            "(Epoch 4/[train]) Loss:\t1.180   Accuracy: 0.514   lr: 0.002\n"
          ]
        },
        {
          "name": "stderr",
          "output_type": "stream",
          "text": [
            "100%|██████████| 51/51 [00:00<00:00, 74.91it/s]\n"
          ]
        },
        {
          "name": "stdout",
          "output_type": "stream",
          "text": [
            "(Epoch 4/[val]) Loss:\t1.175   Accuracy: 0.513   lr: 0.002\n"
          ]
        },
        {
          "name": "stderr",
          "output_type": "stream",
          "text": [
            "100%|██████████| 204/204 [00:03<00:00, 57.65it/s]\n"
          ]
        },
        {
          "name": "stdout",
          "output_type": "stream",
          "text": [
            "(Epoch 5/[train]) Loss:\t1.117   Accuracy: 0.544   lr: 0.002\n"
          ]
        },
        {
          "name": "stderr",
          "output_type": "stream",
          "text": [
            "100%|██████████| 51/51 [00:00<00:00, 69.52it/s]\n"
          ]
        },
        {
          "name": "stdout",
          "output_type": "stream",
          "text": [
            "(Epoch 5/[val]) Loss:\t1.133   Accuracy: 0.523   lr: 0.002\n"
          ]
        },
        {
          "name": "stderr",
          "output_type": "stream",
          "text": [
            "100%|██████████| 204/204 [00:03<00:00, 58.72it/s]\n"
          ]
        },
        {
          "name": "stdout",
          "output_type": "stream",
          "text": [
            "(Epoch 6/[train]) Loss:\t1.067   Accuracy: 0.566   lr: 0.002\n"
          ]
        },
        {
          "name": "stderr",
          "output_type": "stream",
          "text": [
            "100%|██████████| 51/51 [00:00<00:00, 79.26it/s]\n"
          ]
        },
        {
          "name": "stdout",
          "output_type": "stream",
          "text": [
            "(Epoch 6/[val]) Loss:\t1.102   Accuracy: 0.533   lr: 0.002\n"
          ]
        },
        {
          "name": "stderr",
          "output_type": "stream",
          "text": [
            "100%|██████████| 204/204 [00:03<00:00, 54.58it/s]\n"
          ]
        },
        {
          "name": "stdout",
          "output_type": "stream",
          "text": [
            "(Epoch 7/[train]) Loss:\t1.025   Accuracy: 0.584   lr: 0.002\n"
          ]
        },
        {
          "name": "stderr",
          "output_type": "stream",
          "text": [
            "100%|██████████| 51/51 [00:00<00:00, 73.62it/s]\n"
          ]
        },
        {
          "name": "stdout",
          "output_type": "stream",
          "text": [
            "(Epoch 7/[val]) Loss:\t1.081   Accuracy: 0.541   lr: 0.002\n"
          ]
        },
        {
          "name": "stderr",
          "output_type": "stream",
          "text": [
            "100%|██████████| 204/204 [00:03<00:00, 57.07it/s]\n"
          ]
        },
        {
          "name": "stdout",
          "output_type": "stream",
          "text": [
            "(Epoch 8/[train]) Loss:\t0.989   Accuracy: 0.599   lr: 0.002\n"
          ]
        },
        {
          "name": "stderr",
          "output_type": "stream",
          "text": [
            "100%|██████████| 51/51 [00:00<00:00, 75.61it/s]\n"
          ]
        },
        {
          "name": "stdout",
          "output_type": "stream",
          "text": [
            "(Epoch 8/[val]) Loss:\t1.065   Accuracy: 0.546   lr: 0.002\n"
          ]
        },
        {
          "name": "stderr",
          "output_type": "stream",
          "text": [
            "100%|██████████| 204/204 [00:03<00:00, 57.42it/s]\n"
          ]
        },
        {
          "name": "stdout",
          "output_type": "stream",
          "text": [
            "(Epoch 9/[train]) Loss:\t0.956   Accuracy: 0.617   lr: 0.002\n"
          ]
        },
        {
          "name": "stderr",
          "output_type": "stream",
          "text": [
            "100%|██████████| 51/51 [00:00<00:00, 75.35it/s]\n"
          ]
        },
        {
          "name": "stdout",
          "output_type": "stream",
          "text": [
            "(Epoch 9/[val]) Loss:\t1.051   Accuracy: 0.550   lr: 0.002\n"
          ]
        },
        {
          "name": "stderr",
          "output_type": "stream",
          "text": [
            "100%|██████████| 204/204 [00:03<00:00, 58.52it/s]\n"
          ]
        },
        {
          "name": "stdout",
          "output_type": "stream",
          "text": [
            "(Epoch 10/[train]) Loss:\t0.925   Accuracy: 0.629   lr: 0.002\n"
          ]
        },
        {
          "name": "stderr",
          "output_type": "stream",
          "text": [
            "100%|██████████| 51/51 [00:00<00:00, 76.62it/s]\n"
          ]
        },
        {
          "name": "stdout",
          "output_type": "stream",
          "text": [
            "(Epoch 10/[val]) Loss:\t1.041   Accuracy: 0.554   lr: 0.002\n"
          ]
        },
        {
          "name": "stderr",
          "output_type": "stream",
          "text": [
            "100%|██████████| 204/204 [00:03<00:00, 55.37it/s]\n"
          ]
        },
        {
          "name": "stdout",
          "output_type": "stream",
          "text": [
            "(Epoch 11/[train]) Loss:\t0.896   Accuracy: 0.644   lr: 0.0018000000000000002\n"
          ]
        },
        {
          "name": "stderr",
          "output_type": "stream",
          "text": [
            "100%|██████████| 51/51 [00:00<00:00, 76.33it/s]\n"
          ]
        },
        {
          "name": "stdout",
          "output_type": "stream",
          "text": [
            "(Epoch 11/[val]) Loss:\t1.034   Accuracy: 0.557   lr: 0.0018000000000000002\n"
          ]
        },
        {
          "name": "stderr",
          "output_type": "stream",
          "text": [
            "100%|██████████| 204/204 [00:03<00:00, 58.74it/s]\n"
          ]
        },
        {
          "name": "stdout",
          "output_type": "stream",
          "text": [
            "(Epoch 12/[train]) Loss:\t0.872   Accuracy: 0.652   lr: 0.0018000000000000002\n"
          ]
        },
        {
          "name": "stderr",
          "output_type": "stream",
          "text": [
            "100%|██████████| 51/51 [00:00<00:00, 74.28it/s]\n"
          ]
        },
        {
          "name": "stdout",
          "output_type": "stream",
          "text": [
            "(Epoch 12/[val]) Loss:\t1.029   Accuracy: 0.560   lr: 0.0018000000000000002\n"
          ]
        },
        {
          "name": "stderr",
          "output_type": "stream",
          "text": [
            "100%|██████████| 204/204 [00:03<00:00, 57.56it/s]\n"
          ]
        },
        {
          "name": "stdout",
          "output_type": "stream",
          "text": [
            "(Epoch 13/[train]) Loss:\t0.848   Accuracy: 0.666   lr: 0.0018000000000000002\n"
          ]
        },
        {
          "name": "stderr",
          "output_type": "stream",
          "text": [
            "100%|██████████| 51/51 [00:00<00:00, 78.43it/s]\n"
          ]
        },
        {
          "name": "stdout",
          "output_type": "stream",
          "text": [
            "(Epoch 13/[val]) Loss:\t1.026   Accuracy: 0.558   lr: 0.0018000000000000002\n"
          ]
        },
        {
          "name": "stderr",
          "output_type": "stream",
          "text": [
            "100%|██████████| 204/204 [00:03<00:00, 59.07it/s]\n"
          ]
        },
        {
          "name": "stdout",
          "output_type": "stream",
          "text": [
            "(Epoch 14/[train]) Loss:\t0.825   Accuracy: 0.676   lr: 0.0018000000000000002\n"
          ]
        },
        {
          "name": "stderr",
          "output_type": "stream",
          "text": [
            "100%|██████████| 51/51 [00:00<00:00, 82.42it/s]\n"
          ]
        },
        {
          "name": "stdout",
          "output_type": "stream",
          "text": [
            "(Epoch 14/[val]) Loss:\t1.023   Accuracy: 0.559   lr: 0.0018000000000000002\n"
          ]
        },
        {
          "name": "stderr",
          "output_type": "stream",
          "text": [
            "100%|██████████| 204/204 [00:03<00:00, 55.78it/s]\n"
          ]
        },
        {
          "name": "stdout",
          "output_type": "stream",
          "text": [
            "(Epoch 15/[train]) Loss:\t0.800   Accuracy: 0.688   lr: 0.0018000000000000002\n"
          ]
        },
        {
          "name": "stderr",
          "output_type": "stream",
          "text": [
            "100%|██████████| 51/51 [00:00<00:00, 69.03it/s]\n"
          ]
        },
        {
          "name": "stdout",
          "output_type": "stream",
          "text": [
            "(Epoch 15/[val]) Loss:\t1.022   Accuracy: 0.560   lr: 0.0018000000000000002\n"
          ]
        },
        {
          "name": "stderr",
          "output_type": "stream",
          "text": [
            "100%|██████████| 204/204 [00:03<00:00, 53.62it/s]\n"
          ]
        },
        {
          "name": "stdout",
          "output_type": "stream",
          "text": [
            "(Epoch 16/[train]) Loss:\t0.778   Accuracy: 0.700   lr: 0.0018000000000000002\n"
          ]
        },
        {
          "name": "stderr",
          "output_type": "stream",
          "text": [
            "100%|██████████| 51/51 [00:00<00:00, 79.28it/s]\n"
          ]
        },
        {
          "name": "stdout",
          "output_type": "stream",
          "text": [
            "(Epoch 16/[val]) Loss:\t1.022   Accuracy: 0.562   lr: 0.0018000000000000002\n"
          ]
        },
        {
          "name": "stderr",
          "output_type": "stream",
          "text": [
            "100%|██████████| 204/204 [00:03<00:00, 59.05it/s]\n"
          ]
        },
        {
          "name": "stdout",
          "output_type": "stream",
          "text": [
            "(Epoch 17/[train]) Loss:\t0.755   Accuracy: 0.710   lr: 0.0018000000000000002\n"
          ]
        },
        {
          "name": "stderr",
          "output_type": "stream",
          "text": [
            "100%|██████████| 51/51 [00:00<00:00, 79.29it/s]\n"
          ]
        },
        {
          "name": "stdout",
          "output_type": "stream",
          "text": [
            "(Epoch 17/[val]) Loss:\t1.022   Accuracy: 0.561   lr: 0.0018000000000000002\n"
          ]
        },
        {
          "name": "stderr",
          "output_type": "stream",
          "text": [
            "100%|██████████| 204/204 [00:03<00:00, 59.41it/s]\n"
          ]
        },
        {
          "name": "stdout",
          "output_type": "stream",
          "text": [
            "(Epoch 18/[train]) Loss:\t0.732   Accuracy: 0.722   lr: 0.0018000000000000002\n"
          ]
        },
        {
          "name": "stderr",
          "output_type": "stream",
          "text": [
            "100%|██████████| 51/51 [00:00<00:00, 79.27it/s]\n"
          ]
        },
        {
          "name": "stdout",
          "output_type": "stream",
          "text": [
            "(Epoch 18/[val]) Loss:\t1.025   Accuracy: 0.562   lr: 0.0018000000000000002\n"
          ]
        },
        {
          "name": "stderr",
          "output_type": "stream",
          "text": [
            "100%|██████████| 204/204 [00:03<00:00, 58.81it/s]\n"
          ]
        },
        {
          "name": "stdout",
          "output_type": "stream",
          "text": [
            "(Epoch 19/[train]) Loss:\t0.707   Accuracy: 0.735   lr: 0.0018000000000000002\n"
          ]
        },
        {
          "name": "stderr",
          "output_type": "stream",
          "text": [
            "100%|██████████| 51/51 [00:00<00:00, 53.11it/s]\n"
          ]
        },
        {
          "name": "stdout",
          "output_type": "stream",
          "text": [
            "(Epoch 19/[val]) Loss:\t1.027   Accuracy: 0.562   lr: 0.0018000000000000002\n"
          ]
        },
        {
          "name": "stderr",
          "output_type": "stream",
          "text": [
            "100%|██████████| 204/204 [00:03<00:00, 58.28it/s]\n"
          ]
        },
        {
          "name": "stdout",
          "output_type": "stream",
          "text": [
            "(Epoch 20/[train]) Loss:\t0.686   Accuracy: 0.746   lr: 0.0018000000000000002\n"
          ]
        },
        {
          "name": "stderr",
          "output_type": "stream",
          "text": [
            "100%|██████████| 51/51 [00:00<00:00, 76.07it/s]\n"
          ]
        },
        {
          "name": "stdout",
          "output_type": "stream",
          "text": [
            "(Epoch 20/[val]) Loss:\t1.030   Accuracy: 0.562   lr: 0.0018000000000000002\n"
          ]
        },
        {
          "name": "stderr",
          "output_type": "stream",
          "text": [
            "100%|██████████| 204/204 [00:03<00:00, 59.65it/s]\n"
          ]
        },
        {
          "name": "stdout",
          "output_type": "stream",
          "text": [
            "(Epoch 21/[train]) Loss:\t0.661   Accuracy: 0.758   lr: 0.0016200000000000001\n"
          ]
        },
        {
          "name": "stderr",
          "output_type": "stream",
          "text": [
            "100%|██████████| 51/51 [00:00<00:00, 69.65it/s]\n"
          ]
        },
        {
          "name": "stdout",
          "output_type": "stream",
          "text": [
            "(Epoch 21/[val]) Loss:\t1.034   Accuracy: 0.562   lr: 0.0016200000000000001\n",
            "--------------------Early stopping--------------------\n",
            "New best model: 10_words_1-2gram with val_loss: 1.0217\n"
          ]
        },
        {
          "data": {
            "text/html": [],
            "text/plain": [
              "<IPython.core.display.HTML object>"
            ]
          },
          "metadata": {},
          "output_type": "display_data"
        },
        {
          "data": {
            "text/html": [
              "<br>    <style><br>        .wandb-row {<br>            display: flex;<br>            flex-direction: row;<br>            flex-wrap: wrap;<br>            justify-content: flex-start;<br>            width: 100%;<br>        }<br>        .wandb-col {<br>            display: flex;<br>            flex-direction: column;<br>            flex-basis: 100%;<br>            flex: 1;<br>            padding: 10px;<br>        }<br>    </style><br><div class=\"wandb-row\"><div class=\"wandb-col\"><h3>Run history:</h3><br/><table class=\"wandb\"><tr><td>train/accuracy</td><td>▁▃▄▄▅▅▅▆▆▆▆▆▇▇▇▇▇▇███</td></tr><tr><td>train/loss</td><td>█▇▆▅▅▄▄▄▃▃▃▃▂▂▂▂▂▂▁▁▁</td></tr><tr><td>train/lr</td><td>██████████▄▄▄▄▄▄▄▄▄▄▁</td></tr><tr><td>val/accuracy</td><td>▁▄▅▆▆▇▇▇▇████████████</td></tr><tr><td>val/loss</td><td>█▆▅▄▃▂▂▂▁▁▁▁▁▁▁▁▁▁▁▁▁</td></tr><tr><td>val/lr</td><td>██████████▄▄▄▄▄▄▄▄▄▄▁</td></tr></table><br/></div><div class=\"wandb-col\"><h3>Run summary:</h3><br/><table class=\"wandb\"><tr><td>train/accuracy</td><td>0.7585</td></tr><tr><td>train/loss</td><td>0.66108</td></tr><tr><td>train/lr</td><td>0.00162</td></tr><tr><td>val/accuracy</td><td>0.56154</td></tr><tr><td>val/loss</td><td>1.03395</td></tr><tr><td>val/lr</td><td>0.00162</td></tr></table><br/></div></div>"
            ],
            "text/plain": [
              "<IPython.core.display.HTML object>"
            ]
          },
          "metadata": {},
          "output_type": "display_data"
        },
        {
          "data": {
            "text/html": [
              " View run <strong style=\"color:#cdcd00\">10_words_1-2gram</strong> at: <a href='https://wandb.ai/kacper-pt119-warsaw-university-of-technology/DifferentConfigsForVectorizer_v2/runs/5nxr5sb7' target=\"_blank\">https://wandb.ai/kacper-pt119-warsaw-university-of-technology/DifferentConfigsForVectorizer_v2/runs/5nxr5sb7</a><br> View project at: <a href='https://wandb.ai/kacper-pt119-warsaw-university-of-technology/DifferentConfigsForVectorizer_v2' target=\"_blank\">https://wandb.ai/kacper-pt119-warsaw-university-of-technology/DifferentConfigsForVectorizer_v2</a><br>Synced 5 W&B file(s), 0 media file(s), 0 artifact file(s) and 0 other file(s)"
            ],
            "text/plain": [
              "<IPython.core.display.HTML object>"
            ]
          },
          "metadata": {},
          "output_type": "display_data"
        },
        {
          "data": {
            "text/html": [
              "Find logs at: <code>.\\wandb\\run-20251017_173029-5nxr5sb7\\logs</code>"
            ],
            "text/plain": [
              "<IPython.core.display.HTML object>"
            ]
          },
          "metadata": {},
          "output_type": "display_data"
        },
        {
          "data": {
            "text/html": [],
            "text/plain": [
              "<IPython.core.display.HTML object>"
            ]
          },
          "metadata": {},
          "output_type": "display_data"
        },
        {
          "data": {
            "text/html": [
              "Tracking run with wandb version 0.22.2"
            ],
            "text/plain": [
              "<IPython.core.display.HTML object>"
            ]
          },
          "metadata": {},
          "output_type": "display_data"
        },
        {
          "data": {
            "text/html": [
              "Run data is saved locally in <code>f:\\Users\\Kacper Ptaszek\\Studia-LLM\\wandb\\run-20251017_173222-fe7dwn53</code>"
            ],
            "text/plain": [
              "<IPython.core.display.HTML object>"
            ]
          },
          "metadata": {},
          "output_type": "display_data"
        },
        {
          "data": {
            "text/html": [
              "Syncing run <strong><a href='https://wandb.ai/kacper-pt119-warsaw-university-of-technology/DifferentConfigsForVectorizer_v2/runs/fe7dwn53' target=\"_blank\">5_words_1gram</a></strong> to <a href='https://wandb.ai/kacper-pt119-warsaw-university-of-technology/DifferentConfigsForVectorizer_v2' target=\"_blank\">Weights & Biases</a> (<a href='https://wandb.me/developer-guide' target=\"_blank\">docs</a>)<br>"
            ],
            "text/plain": [
              "<IPython.core.display.HTML object>"
            ]
          },
          "metadata": {},
          "output_type": "display_data"
        },
        {
          "data": {
            "text/html": [
              " View project at <a href='https://wandb.ai/kacper-pt119-warsaw-university-of-technology/DifferentConfigsForVectorizer_v2' target=\"_blank\">https://wandb.ai/kacper-pt119-warsaw-university-of-technology/DifferentConfigsForVectorizer_v2</a>"
            ],
            "text/plain": [
              "<IPython.core.display.HTML object>"
            ]
          },
          "metadata": {},
          "output_type": "display_data"
        },
        {
          "data": {
            "text/html": [
              " View run at <a href='https://wandb.ai/kacper-pt119-warsaw-university-of-technology/DifferentConfigsForVectorizer_v2/runs/fe7dwn53' target=\"_blank\">https://wandb.ai/kacper-pt119-warsaw-university-of-technology/DifferentConfigsForVectorizer_v2/runs/fe7dwn53</a>"
            ],
            "text/plain": [
              "<IPython.core.display.HTML object>"
            ]
          },
          "metadata": {},
          "output_type": "display_data"
        },
        {
          "name": "stderr",
          "output_type": "stream",
          "text": [
            "100%|██████████| 204/204 [00:02<00:00, 100.93it/s]\n"
          ]
        },
        {
          "name": "stdout",
          "output_type": "stream",
          "text": [
            "(Epoch 1/[train]) Loss:\t1.601   Accuracy: 0.269   lr: 0.002\n"
          ]
        },
        {
          "name": "stderr",
          "output_type": "stream",
          "text": [
            "100%|██████████| 51/51 [00:00<00:00, 130.58it/s]\n"
          ]
        },
        {
          "name": "stdout",
          "output_type": "stream",
          "text": [
            "(Epoch 1/[val]) Loss:\t1.497   Accuracy: 0.361   lr: 0.002\n"
          ]
        },
        {
          "name": "stderr",
          "output_type": "stream",
          "text": [
            "100%|██████████| 204/204 [00:01<00:00, 105.75it/s]\n"
          ]
        },
        {
          "name": "stdout",
          "output_type": "stream",
          "text": [
            "(Epoch 2/[train]) Loss:\t1.461   Accuracy: 0.372   lr: 0.002\n"
          ]
        },
        {
          "name": "stderr",
          "output_type": "stream",
          "text": [
            "100%|██████████| 51/51 [00:00<00:00, 143.23it/s]\n"
          ]
        },
        {
          "name": "stdout",
          "output_type": "stream",
          "text": [
            "(Epoch 2/[val]) Loss:\t1.388   Accuracy: 0.431   lr: 0.002\n"
          ]
        },
        {
          "name": "stderr",
          "output_type": "stream",
          "text": [
            "100%|██████████| 204/204 [00:01<00:00, 106.70it/s]\n"
          ]
        },
        {
          "name": "stdout",
          "output_type": "stream",
          "text": [
            "(Epoch 3/[train]) Loss:\t1.356   Accuracy: 0.431   lr: 0.002\n"
          ]
        },
        {
          "name": "stderr",
          "output_type": "stream",
          "text": [
            "100%|██████████| 51/51 [00:00<00:00, 141.55it/s]\n"
          ]
        },
        {
          "name": "stdout",
          "output_type": "stream",
          "text": [
            "(Epoch 3/[val]) Loss:\t1.305   Accuracy: 0.467   lr: 0.002\n"
          ]
        },
        {
          "name": "stderr",
          "output_type": "stream",
          "text": [
            "100%|██████████| 204/204 [00:01<00:00, 102.71it/s]\n"
          ]
        },
        {
          "name": "stdout",
          "output_type": "stream",
          "text": [
            "(Epoch 4/[train]) Loss:\t1.276   Accuracy: 0.468   lr: 0.002\n"
          ]
        },
        {
          "name": "stderr",
          "output_type": "stream",
          "text": [
            "100%|██████████| 51/51 [00:00<00:00, 80.97it/s]\n"
          ]
        },
        {
          "name": "stdout",
          "output_type": "stream",
          "text": [
            "(Epoch 4/[val]) Loss:\t1.241   Accuracy: 0.488   lr: 0.002\n"
          ]
        },
        {
          "name": "stderr",
          "output_type": "stream",
          "text": [
            "100%|██████████| 204/204 [00:02<00:00, 82.44it/s]\n"
          ]
        },
        {
          "name": "stdout",
          "output_type": "stream",
          "text": [
            "(Epoch 5/[train]) Loss:\t1.214   Accuracy: 0.495   lr: 0.002\n"
          ]
        },
        {
          "name": "stderr",
          "output_type": "stream",
          "text": [
            "100%|██████████| 51/51 [00:00<00:00, 108.28it/s]\n"
          ]
        },
        {
          "name": "stdout",
          "output_type": "stream",
          "text": [
            "(Epoch 5/[val]) Loss:\t1.193   Accuracy: 0.506   lr: 0.002\n"
          ]
        },
        {
          "name": "stderr",
          "output_type": "stream",
          "text": [
            "100%|██████████| 204/204 [00:02<00:00, 77.91it/s]\n"
          ]
        },
        {
          "name": "stdout",
          "output_type": "stream",
          "text": [
            "(Epoch 6/[train]) Loss:\t1.163   Accuracy: 0.518   lr: 0.002\n"
          ]
        },
        {
          "name": "stderr",
          "output_type": "stream",
          "text": [
            "100%|██████████| 51/51 [00:00<00:00, 106.20it/s]\n"
          ]
        },
        {
          "name": "stdout",
          "output_type": "stream",
          "text": [
            "(Epoch 6/[val]) Loss:\t1.159   Accuracy: 0.517   lr: 0.002\n"
          ]
        },
        {
          "name": "stderr",
          "output_type": "stream",
          "text": [
            "100%|██████████| 204/204 [00:02<00:00, 82.27it/s]\n"
          ]
        },
        {
          "name": "stdout",
          "output_type": "stream",
          "text": [
            "(Epoch 7/[train]) Loss:\t1.126   Accuracy: 0.531   lr: 0.002\n"
          ]
        },
        {
          "name": "stderr",
          "output_type": "stream",
          "text": [
            "100%|██████████| 51/51 [00:00<00:00, 115.65it/s]\n"
          ]
        },
        {
          "name": "stdout",
          "output_type": "stream",
          "text": [
            "(Epoch 7/[val]) Loss:\t1.130   Accuracy: 0.525   lr: 0.002\n"
          ]
        },
        {
          "name": "stderr",
          "output_type": "stream",
          "text": [
            "100%|██████████| 204/204 [00:02<00:00, 84.50it/s]\n"
          ]
        },
        {
          "name": "stdout",
          "output_type": "stream",
          "text": [
            "(Epoch 8/[train]) Loss:\t1.093   Accuracy: 0.544   lr: 0.002\n"
          ]
        },
        {
          "name": "stderr",
          "output_type": "stream",
          "text": [
            "100%|██████████| 51/51 [00:00<00:00, 115.08it/s]\n"
          ]
        },
        {
          "name": "stdout",
          "output_type": "stream",
          "text": [
            "(Epoch 8/[val]) Loss:\t1.110   Accuracy: 0.528   lr: 0.002\n"
          ]
        },
        {
          "name": "stderr",
          "output_type": "stream",
          "text": [
            "100%|██████████| 204/204 [00:02<00:00, 80.43it/s]\n"
          ]
        },
        {
          "name": "stdout",
          "output_type": "stream",
          "text": [
            "(Epoch 9/[train]) Loss:\t1.066   Accuracy: 0.554   lr: 0.002\n"
          ]
        },
        {
          "name": "stderr",
          "output_type": "stream",
          "text": [
            "100%|██████████| 51/51 [00:00<00:00, 108.15it/s]\n"
          ]
        },
        {
          "name": "stdout",
          "output_type": "stream",
          "text": [
            "(Epoch 9/[val]) Loss:\t1.094   Accuracy: 0.533   lr: 0.002\n"
          ]
        },
        {
          "name": "stderr",
          "output_type": "stream",
          "text": [
            "100%|██████████| 204/204 [00:02<00:00, 79.81it/s]\n"
          ]
        },
        {
          "name": "stdout",
          "output_type": "stream",
          "text": [
            "(Epoch 10/[train]) Loss:\t1.041   Accuracy: 0.565   lr: 0.002\n"
          ]
        },
        {
          "name": "stderr",
          "output_type": "stream",
          "text": [
            "100%|██████████| 51/51 [00:00<00:00, 106.14it/s]\n"
          ]
        },
        {
          "name": "stdout",
          "output_type": "stream",
          "text": [
            "(Epoch 10/[val]) Loss:\t1.079   Accuracy: 0.537   lr: 0.002\n"
          ]
        },
        {
          "name": "stderr",
          "output_type": "stream",
          "text": [
            "100%|██████████| 204/204 [00:02<00:00, 81.97it/s]\n"
          ]
        },
        {
          "name": "stdout",
          "output_type": "stream",
          "text": [
            "(Epoch 11/[train]) Loss:\t1.021   Accuracy: 0.574   lr: 0.0018000000000000002\n"
          ]
        },
        {
          "name": "stderr",
          "output_type": "stream",
          "text": [
            "100%|██████████| 51/51 [00:00<00:00, 115.52it/s]\n"
          ]
        },
        {
          "name": "stdout",
          "output_type": "stream",
          "text": [
            "(Epoch 11/[val]) Loss:\t1.069   Accuracy: 0.540   lr: 0.0018000000000000002\n"
          ]
        },
        {
          "name": "stderr",
          "output_type": "stream",
          "text": [
            "100%|██████████| 204/204 [00:02<00:00, 86.09it/s]\n"
          ]
        },
        {
          "name": "stdout",
          "output_type": "stream",
          "text": [
            "(Epoch 12/[train]) Loss:\t1.004   Accuracy: 0.580   lr: 0.0018000000000000002\n"
          ]
        },
        {
          "name": "stderr",
          "output_type": "stream",
          "text": [
            "100%|██████████| 51/51 [00:00<00:00, 114.76it/s]\n"
          ]
        },
        {
          "name": "stdout",
          "output_type": "stream",
          "text": [
            "(Epoch 12/[val]) Loss:\t1.061   Accuracy: 0.542   lr: 0.0018000000000000002\n"
          ]
        },
        {
          "name": "stderr",
          "output_type": "stream",
          "text": [
            "100%|██████████| 204/204 [00:02<00:00, 81.29it/s]\n"
          ]
        },
        {
          "name": "stdout",
          "output_type": "stream",
          "text": [
            "(Epoch 13/[train]) Loss:\t0.987   Accuracy: 0.589   lr: 0.0018000000000000002\n"
          ]
        },
        {
          "name": "stderr",
          "output_type": "stream",
          "text": [
            "100%|██████████| 51/51 [00:00<00:00, 111.28it/s]\n"
          ]
        },
        {
          "name": "stdout",
          "output_type": "stream",
          "text": [
            "(Epoch 13/[val]) Loss:\t1.054   Accuracy: 0.545   lr: 0.0018000000000000002\n"
          ]
        },
        {
          "name": "stderr",
          "output_type": "stream",
          "text": [
            "100%|██████████| 204/204 [00:02<00:00, 75.10it/s]\n"
          ]
        },
        {
          "name": "stdout",
          "output_type": "stream",
          "text": [
            "(Epoch 14/[train]) Loss:\t0.972   Accuracy: 0.595   lr: 0.0018000000000000002\n"
          ]
        },
        {
          "name": "stderr",
          "output_type": "stream",
          "text": [
            "100%|██████████| 51/51 [00:00<00:00, 106.45it/s]\n"
          ]
        },
        {
          "name": "stdout",
          "output_type": "stream",
          "text": [
            "(Epoch 14/[val]) Loss:\t1.049   Accuracy: 0.545   lr: 0.0018000000000000002\n"
          ]
        },
        {
          "name": "stderr",
          "output_type": "stream",
          "text": [
            "100%|██████████| 204/204 [00:02<00:00, 81.87it/s]\n"
          ]
        },
        {
          "name": "stdout",
          "output_type": "stream",
          "text": [
            "(Epoch 15/[train]) Loss:\t0.957   Accuracy: 0.605   lr: 0.0018000000000000002\n"
          ]
        },
        {
          "name": "stderr",
          "output_type": "stream",
          "text": [
            "100%|██████████| 51/51 [00:00<00:00, 109.28it/s]\n"
          ]
        },
        {
          "name": "stdout",
          "output_type": "stream",
          "text": [
            "(Epoch 15/[val]) Loss:\t1.044   Accuracy: 0.546   lr: 0.0018000000000000002\n"
          ]
        },
        {
          "name": "stderr",
          "output_type": "stream",
          "text": [
            "100%|██████████| 204/204 [00:02<00:00, 75.59it/s]\n"
          ]
        },
        {
          "name": "stdout",
          "output_type": "stream",
          "text": [
            "(Epoch 16/[train]) Loss:\t0.940   Accuracy: 0.610   lr: 0.0018000000000000002\n"
          ]
        },
        {
          "name": "stderr",
          "output_type": "stream",
          "text": [
            "100%|██████████| 51/51 [00:00<00:00, 106.86it/s]\n"
          ]
        },
        {
          "name": "stdout",
          "output_type": "stream",
          "text": [
            "(Epoch 16/[val]) Loss:\t1.039   Accuracy: 0.548   lr: 0.0018000000000000002\n"
          ]
        },
        {
          "name": "stderr",
          "output_type": "stream",
          "text": [
            "100%|██████████| 204/204 [00:02<00:00, 81.29it/s]\n"
          ]
        },
        {
          "name": "stdout",
          "output_type": "stream",
          "text": [
            "(Epoch 17/[train]) Loss:\t0.927   Accuracy: 0.617   lr: 0.0018000000000000002\n"
          ]
        },
        {
          "name": "stderr",
          "output_type": "stream",
          "text": [
            "100%|██████████| 51/51 [00:00<00:00, 102.94it/s]\n"
          ]
        },
        {
          "name": "stdout",
          "output_type": "stream",
          "text": [
            "(Epoch 17/[val]) Loss:\t1.036   Accuracy: 0.550   lr: 0.0018000000000000002\n"
          ]
        },
        {
          "name": "stderr",
          "output_type": "stream",
          "text": [
            "100%|██████████| 204/204 [00:02<00:00, 80.43it/s]\n"
          ]
        },
        {
          "name": "stdout",
          "output_type": "stream",
          "text": [
            "(Epoch 18/[train]) Loss:\t0.913   Accuracy: 0.622   lr: 0.0018000000000000002\n"
          ]
        },
        {
          "name": "stderr",
          "output_type": "stream",
          "text": [
            "100%|██████████| 51/51 [00:00<00:00, 99.74it/s] \n"
          ]
        },
        {
          "name": "stdout",
          "output_type": "stream",
          "text": [
            "(Epoch 18/[val]) Loss:\t1.034   Accuracy: 0.550   lr: 0.0018000000000000002\n"
          ]
        },
        {
          "name": "stderr",
          "output_type": "stream",
          "text": [
            "100%|██████████| 204/204 [00:02<00:00, 81.95it/s]\n"
          ]
        },
        {
          "name": "stdout",
          "output_type": "stream",
          "text": [
            "(Epoch 19/[train]) Loss:\t0.903   Accuracy: 0.628   lr: 0.0018000000000000002\n"
          ]
        },
        {
          "name": "stderr",
          "output_type": "stream",
          "text": [
            "100%|██████████| 51/51 [00:00<00:00, 115.12it/s]\n"
          ]
        },
        {
          "name": "stdout",
          "output_type": "stream",
          "text": [
            "(Epoch 19/[val]) Loss:\t1.033   Accuracy: 0.550   lr: 0.0018000000000000002\n"
          ]
        },
        {
          "name": "stderr",
          "output_type": "stream",
          "text": [
            "100%|██████████| 204/204 [00:02<00:00, 84.05it/s]\n"
          ]
        },
        {
          "name": "stdout",
          "output_type": "stream",
          "text": [
            "(Epoch 20/[train]) Loss:\t0.886   Accuracy: 0.635   lr: 0.0018000000000000002\n"
          ]
        },
        {
          "name": "stderr",
          "output_type": "stream",
          "text": [
            "100%|██████████| 51/51 [00:00<00:00, 114.49it/s]\n"
          ]
        },
        {
          "name": "stdout",
          "output_type": "stream",
          "text": [
            "(Epoch 20/[val]) Loss:\t1.030   Accuracy: 0.551   lr: 0.0018000000000000002\n"
          ]
        },
        {
          "name": "stderr",
          "output_type": "stream",
          "text": [
            "100%|██████████| 204/204 [00:02<00:00, 81.93it/s]\n"
          ]
        },
        {
          "name": "stdout",
          "output_type": "stream",
          "text": [
            "(Epoch 21/[train]) Loss:\t0.875   Accuracy: 0.642   lr: 0.0016200000000000001\n"
          ]
        },
        {
          "name": "stderr",
          "output_type": "stream",
          "text": [
            "100%|██████████| 51/51 [00:00<00:00, 108.32it/s]\n"
          ]
        },
        {
          "name": "stdout",
          "output_type": "stream",
          "text": [
            "(Epoch 21/[val]) Loss:\t1.030   Accuracy: 0.550   lr: 0.0016200000000000001\n"
          ]
        },
        {
          "name": "stderr",
          "output_type": "stream",
          "text": [
            "100%|██████████| 204/204 [00:02<00:00, 83.34it/s]\n"
          ]
        },
        {
          "name": "stdout",
          "output_type": "stream",
          "text": [
            "(Epoch 22/[train]) Loss:\t0.865   Accuracy: 0.645   lr: 0.0016200000000000001\n"
          ]
        },
        {
          "name": "stderr",
          "output_type": "stream",
          "text": [
            "100%|██████████| 51/51 [00:00<00:00, 112.29it/s]\n"
          ]
        },
        {
          "name": "stdout",
          "output_type": "stream",
          "text": [
            "(Epoch 22/[val]) Loss:\t1.029   Accuracy: 0.552   lr: 0.0016200000000000001\n"
          ]
        },
        {
          "name": "stderr",
          "output_type": "stream",
          "text": [
            "100%|██████████| 204/204 [00:02<00:00, 78.58it/s]\n"
          ]
        },
        {
          "name": "stdout",
          "output_type": "stream",
          "text": [
            "(Epoch 23/[train]) Loss:\t0.856   Accuracy: 0.650   lr: 0.0016200000000000001\n"
          ]
        },
        {
          "name": "stderr",
          "output_type": "stream",
          "text": [
            "100%|██████████| 51/51 [00:00<00:00, 91.01it/s] \n"
          ]
        },
        {
          "name": "stdout",
          "output_type": "stream",
          "text": [
            "(Epoch 23/[val]) Loss:\t1.029   Accuracy: 0.553   lr: 0.0016200000000000001\n"
          ]
        },
        {
          "name": "stderr",
          "output_type": "stream",
          "text": [
            "100%|██████████| 204/204 [00:02<00:00, 82.36it/s]\n"
          ]
        },
        {
          "name": "stdout",
          "output_type": "stream",
          "text": [
            "(Epoch 24/[train]) Loss:\t0.842   Accuracy: 0.656   lr: 0.0016200000000000001\n"
          ]
        },
        {
          "name": "stderr",
          "output_type": "stream",
          "text": [
            "100%|██████████| 51/51 [00:00<00:00, 99.98it/s] \n"
          ]
        },
        {
          "name": "stdout",
          "output_type": "stream",
          "text": [
            "(Epoch 24/[val]) Loss:\t1.029   Accuracy: 0.552   lr: 0.0016200000000000001\n"
          ]
        },
        {
          "name": "stderr",
          "output_type": "stream",
          "text": [
            "100%|██████████| 204/204 [00:02<00:00, 83.53it/s]\n"
          ]
        },
        {
          "name": "stdout",
          "output_type": "stream",
          "text": [
            "(Epoch 25/[train]) Loss:\t0.833   Accuracy: 0.660   lr: 0.0016200000000000001\n"
          ]
        },
        {
          "name": "stderr",
          "output_type": "stream",
          "text": [
            "100%|██████████| 51/51 [00:00<00:00, 80.25it/s]\n"
          ]
        },
        {
          "name": "stdout",
          "output_type": "stream",
          "text": [
            "(Epoch 25/[val]) Loss:\t1.029   Accuracy: 0.552   lr: 0.0016200000000000001\n"
          ]
        },
        {
          "name": "stderr",
          "output_type": "stream",
          "text": [
            "100%|██████████| 204/204 [00:02<00:00, 82.24it/s]\n"
          ]
        },
        {
          "name": "stdout",
          "output_type": "stream",
          "text": [
            "(Epoch 26/[train]) Loss:\t0.822   Accuracy: 0.667   lr: 0.0016200000000000001\n"
          ]
        },
        {
          "name": "stderr",
          "output_type": "stream",
          "text": [
            "100%|██████████| 51/51 [00:00<00:00, 104.67it/s]\n"
          ]
        },
        {
          "name": "stdout",
          "output_type": "stream",
          "text": [
            "(Epoch 26/[val]) Loss:\t1.029   Accuracy: 0.551   lr: 0.0016200000000000001\n"
          ]
        },
        {
          "name": "stderr",
          "output_type": "stream",
          "text": [
            "100%|██████████| 204/204 [00:02<00:00, 81.03it/s]\n"
          ]
        },
        {
          "name": "stdout",
          "output_type": "stream",
          "text": [
            "(Epoch 27/[train]) Loss:\t0.811   Accuracy: 0.673   lr: 0.0016200000000000001\n"
          ]
        },
        {
          "name": "stderr",
          "output_type": "stream",
          "text": [
            "100%|██████████| 51/51 [00:00<00:00, 109.11it/s]\n"
          ]
        },
        {
          "name": "stdout",
          "output_type": "stream",
          "text": [
            "(Epoch 27/[val]) Loss:\t1.031   Accuracy: 0.551   lr: 0.0016200000000000001\n"
          ]
        },
        {
          "name": "stderr",
          "output_type": "stream",
          "text": [
            "100%|██████████| 204/204 [00:02<00:00, 83.15it/s]\n"
          ]
        },
        {
          "name": "stdout",
          "output_type": "stream",
          "text": [
            "(Epoch 28/[train]) Loss:\t0.802   Accuracy: 0.677   lr: 0.0016200000000000001\n"
          ]
        },
        {
          "name": "stderr",
          "output_type": "stream",
          "text": [
            "100%|██████████| 51/51 [00:00<00:00, 103.33it/s]\n"
          ]
        },
        {
          "name": "stdout",
          "output_type": "stream",
          "text": [
            "(Epoch 28/[val]) Loss:\t1.033   Accuracy: 0.550   lr: 0.0016200000000000001\n"
          ]
        },
        {
          "name": "stderr",
          "output_type": "stream",
          "text": [
            "100%|██████████| 204/204 [00:02<00:00, 78.64it/s]\n"
          ]
        },
        {
          "name": "stdout",
          "output_type": "stream",
          "text": [
            "(Epoch 29/[train]) Loss:\t0.789   Accuracy: 0.683   lr: 0.0016200000000000001\n"
          ]
        },
        {
          "name": "stderr",
          "output_type": "stream",
          "text": [
            "100%|██████████| 51/51 [00:00<00:00, 105.77it/s]\n"
          ]
        },
        {
          "name": "stdout",
          "output_type": "stream",
          "text": [
            "(Epoch 29/[val]) Loss:\t1.033   Accuracy: 0.549   lr: 0.0016200000000000001\n",
            "--------------------Early stopping--------------------\n"
          ]
        },
        {
          "data": {
            "text/html": [],
            "text/plain": [
              "<IPython.core.display.HTML object>"
            ]
          },
          "metadata": {},
          "output_type": "display_data"
        },
        {
          "data": {
            "text/html": [
              "<br>    <style><br>        .wandb-row {<br>            display: flex;<br>            flex-direction: row;<br>            flex-wrap: wrap;<br>            justify-content: flex-start;<br>            width: 100%;<br>        }<br>        .wandb-col {<br>            display: flex;<br>            flex-direction: column;<br>            flex-basis: 100%;<br>            flex: 1;<br>            padding: 10px;<br>        }<br>    </style><br><div class=\"wandb-row\"><div class=\"wandb-col\"><h3>Run history:</h3><br/><table class=\"wandb\"><tr><td>train/accuracy</td><td>▁▃▄▄▅▅▅▆▆▆▆▆▆▇▇▇▇▇▇▇▇▇▇██████</td></tr><tr><td>train/loss</td><td>█▇▆▅▅▄▄▄▃▃▃▃▃▃▂▂▂▂▂▂▂▂▂▁▁▁▁▁▁</td></tr><tr><td>train/lr</td><td>██████████▄▄▄▄▄▄▄▄▄▄▁▁▁▁▁▁▁▁▁</td></tr><tr><td>val/accuracy</td><td>▁▄▅▆▆▇▇▇▇▇███████████████████</td></tr><tr><td>val/loss</td><td>█▆▅▄▃▃▃▂▂▂▂▁▁▁▁▁▁▁▁▁▁▁▁▁▁▁▁▁▁</td></tr><tr><td>val/lr</td><td>██████████▄▄▄▄▄▄▄▄▄▄▁▁▁▁▁▁▁▁▁</td></tr></table><br/></div><div class=\"wandb-col\"><h3>Run summary:</h3><br/><table class=\"wandb\"><tr><td>train/accuracy</td><td>0.68331</td></tr><tr><td>train/loss</td><td>0.7895</td></tr><tr><td>train/lr</td><td>0.00162</td></tr><tr><td>val/accuracy</td><td>0.54931</td></tr><tr><td>val/loss</td><td>1.0334</td></tr><tr><td>val/lr</td><td>0.00162</td></tr></table><br/></div></div>"
            ],
            "text/plain": [
              "<IPython.core.display.HTML object>"
            ]
          },
          "metadata": {},
          "output_type": "display_data"
        },
        {
          "data": {
            "text/html": [
              " View run <strong style=\"color:#cdcd00\">5_words_1gram</strong> at: <a href='https://wandb.ai/kacper-pt119-warsaw-university-of-technology/DifferentConfigsForVectorizer_v2/runs/fe7dwn53' target=\"_blank\">https://wandb.ai/kacper-pt119-warsaw-university-of-technology/DifferentConfigsForVectorizer_v2/runs/fe7dwn53</a><br> View project at: <a href='https://wandb.ai/kacper-pt119-warsaw-university-of-technology/DifferentConfigsForVectorizer_v2' target=\"_blank\">https://wandb.ai/kacper-pt119-warsaw-university-of-technology/DifferentConfigsForVectorizer_v2</a><br>Synced 5 W&B file(s), 0 media file(s), 0 artifact file(s) and 0 other file(s)"
            ],
            "text/plain": [
              "<IPython.core.display.HTML object>"
            ]
          },
          "metadata": {},
          "output_type": "display_data"
        },
        {
          "data": {
            "text/html": [
              "Find logs at: <code>.\\wandb\\run-20251017_173222-fe7dwn53\\logs</code>"
            ],
            "text/plain": [
              "<IPython.core.display.HTML object>"
            ]
          },
          "metadata": {},
          "output_type": "display_data"
        },
        {
          "data": {
            "text/html": [],
            "text/plain": [
              "<IPython.core.display.HTML object>"
            ]
          },
          "metadata": {},
          "output_type": "display_data"
        },
        {
          "data": {
            "text/html": [
              "Tracking run with wandb version 0.22.2"
            ],
            "text/plain": [
              "<IPython.core.display.HTML object>"
            ]
          },
          "metadata": {},
          "output_type": "display_data"
        },
        {
          "data": {
            "text/html": [
              "Run data is saved locally in <code>f:\\Users\\Kacper Ptaszek\\Studia-LLM\\wandb\\run-20251017_173418-ba7ml3qz</code>"
            ],
            "text/plain": [
              "<IPython.core.display.HTML object>"
            ]
          },
          "metadata": {},
          "output_type": "display_data"
        },
        {
          "data": {
            "text/html": [
              "Syncing run <strong><a href='https://wandb.ai/kacper-pt119-warsaw-university-of-technology/DifferentConfigsForVectorizer_v2/runs/ba7ml3qz' target=\"_blank\">5_words_1-2gram</a></strong> to <a href='https://wandb.ai/kacper-pt119-warsaw-university-of-technology/DifferentConfigsForVectorizer_v2' target=\"_blank\">Weights & Biases</a> (<a href='https://wandb.me/developer-guide' target=\"_blank\">docs</a>)<br>"
            ],
            "text/plain": [
              "<IPython.core.display.HTML object>"
            ]
          },
          "metadata": {},
          "output_type": "display_data"
        },
        {
          "data": {
            "text/html": [
              " View project at <a href='https://wandb.ai/kacper-pt119-warsaw-university-of-technology/DifferentConfigsForVectorizer_v2' target=\"_blank\">https://wandb.ai/kacper-pt119-warsaw-university-of-technology/DifferentConfigsForVectorizer_v2</a>"
            ],
            "text/plain": [
              "<IPython.core.display.HTML object>"
            ]
          },
          "metadata": {},
          "output_type": "display_data"
        },
        {
          "data": {
            "text/html": [
              " View run at <a href='https://wandb.ai/kacper-pt119-warsaw-university-of-technology/DifferentConfigsForVectorizer_v2/runs/ba7ml3qz' target=\"_blank\">https://wandb.ai/kacper-pt119-warsaw-university-of-technology/DifferentConfigsForVectorizer_v2/runs/ba7ml3qz</a>"
            ],
            "text/plain": [
              "<IPython.core.display.HTML object>"
            ]
          },
          "metadata": {},
          "output_type": "display_data"
        },
        {
          "name": "stderr",
          "output_type": "stream",
          "text": [
            "100%|██████████| 204/204 [00:02<00:00, 84.00it/s]\n"
          ]
        },
        {
          "name": "stdout",
          "output_type": "stream",
          "text": [
            "(Epoch 1/[train]) Loss:\t1.595   Accuracy: 0.266   lr: 0.002\n"
          ]
        },
        {
          "name": "stderr",
          "output_type": "stream",
          "text": [
            "100%|██████████| 51/51 [00:00<00:00, 113.90it/s]\n"
          ]
        },
        {
          "name": "stdout",
          "output_type": "stream",
          "text": [
            "(Epoch 1/[val]) Loss:\t1.486   Accuracy: 0.363   lr: 0.002\n"
          ]
        },
        {
          "name": "stderr",
          "output_type": "stream",
          "text": [
            "100%|██████████| 204/204 [00:02<00:00, 86.23it/s]\n"
          ]
        },
        {
          "name": "stdout",
          "output_type": "stream",
          "text": [
            "(Epoch 2/[train]) Loss:\t1.448   Accuracy: 0.373   lr: 0.002\n"
          ]
        },
        {
          "name": "stderr",
          "output_type": "stream",
          "text": [
            "100%|██████████| 51/51 [00:00<00:00, 103.25it/s]\n"
          ]
        },
        {
          "name": "stdout",
          "output_type": "stream",
          "text": [
            "(Epoch 2/[val]) Loss:\t1.372   Accuracy: 0.438   lr: 0.002\n"
          ]
        },
        {
          "name": "stderr",
          "output_type": "stream",
          "text": [
            "100%|██████████| 204/204 [00:02<00:00, 83.03it/s]\n"
          ]
        },
        {
          "name": "stdout",
          "output_type": "stream",
          "text": [
            "(Epoch 3/[train]) Loss:\t1.342   Accuracy: 0.432   lr: 0.002\n"
          ]
        },
        {
          "name": "stderr",
          "output_type": "stream",
          "text": [
            "100%|██████████| 51/51 [00:00<00:00, 75.30it/s] \n"
          ]
        },
        {
          "name": "stdout",
          "output_type": "stream",
          "text": [
            "(Epoch 3/[val]) Loss:\t1.285   Accuracy: 0.475   lr: 0.002\n"
          ]
        },
        {
          "name": "stderr",
          "output_type": "stream",
          "text": [
            "100%|██████████| 204/204 [00:02<00:00, 83.97it/s]\n"
          ]
        },
        {
          "name": "stdout",
          "output_type": "stream",
          "text": [
            "(Epoch 4/[train]) Loss:\t1.263   Accuracy: 0.472   lr: 0.002\n"
          ]
        },
        {
          "name": "stderr",
          "output_type": "stream",
          "text": [
            "100%|██████████| 51/51 [00:00<00:00, 111.27it/s]\n"
          ]
        },
        {
          "name": "stdout",
          "output_type": "stream",
          "text": [
            "(Epoch 4/[val]) Loss:\t1.225   Accuracy: 0.492   lr: 0.002\n"
          ]
        },
        {
          "name": "stderr",
          "output_type": "stream",
          "text": [
            "100%|██████████| 204/204 [00:02<00:00, 81.39it/s]\n"
          ]
        },
        {
          "name": "stdout",
          "output_type": "stream",
          "text": [
            "(Epoch 5/[train]) Loss:\t1.201   Accuracy: 0.498   lr: 0.002\n"
          ]
        },
        {
          "name": "stderr",
          "output_type": "stream",
          "text": [
            "100%|██████████| 51/51 [00:00<00:00, 115.70it/s]\n"
          ]
        },
        {
          "name": "stdout",
          "output_type": "stream",
          "text": [
            "(Epoch 5/[val]) Loss:\t1.179   Accuracy: 0.507   lr: 0.002\n"
          ]
        },
        {
          "name": "stderr",
          "output_type": "stream",
          "text": [
            "100%|██████████| 204/204 [00:02<00:00, 86.66it/s]\n"
          ]
        },
        {
          "name": "stdout",
          "output_type": "stream",
          "text": [
            "(Epoch 6/[train]) Loss:\t1.153   Accuracy: 0.518   lr: 0.002\n"
          ]
        },
        {
          "name": "stderr",
          "output_type": "stream",
          "text": [
            "100%|██████████| 51/51 [00:00<00:00, 114.36it/s]\n"
          ]
        },
        {
          "name": "stdout",
          "output_type": "stream",
          "text": [
            "(Epoch 6/[val]) Loss:\t1.146   Accuracy: 0.518   lr: 0.002\n"
          ]
        },
        {
          "name": "stderr",
          "output_type": "stream",
          "text": [
            "100%|██████████| 204/204 [00:02<00:00, 86.41it/s]\n"
          ]
        },
        {
          "name": "stdout",
          "output_type": "stream",
          "text": [
            "(Epoch 7/[train]) Loss:\t1.113   Accuracy: 0.535   lr: 0.002\n"
          ]
        },
        {
          "name": "stderr",
          "output_type": "stream",
          "text": [
            "100%|██████████| 51/51 [00:00<00:00, 115.56it/s]\n"
          ]
        },
        {
          "name": "stdout",
          "output_type": "stream",
          "text": [
            "(Epoch 7/[val]) Loss:\t1.117   Accuracy: 0.528   lr: 0.002\n"
          ]
        },
        {
          "name": "stderr",
          "output_type": "stream",
          "text": [
            "100%|██████████| 204/204 [00:02<00:00, 85.76it/s]\n"
          ]
        },
        {
          "name": "stdout",
          "output_type": "stream",
          "text": [
            "(Epoch 8/[train]) Loss:\t1.082   Accuracy: 0.549   lr: 0.002\n"
          ]
        },
        {
          "name": "stderr",
          "output_type": "stream",
          "text": [
            "100%|██████████| 51/51 [00:00<00:00, 113.38it/s]\n"
          ]
        },
        {
          "name": "stdout",
          "output_type": "stream",
          "text": [
            "(Epoch 8/[val]) Loss:\t1.096   Accuracy: 0.533   lr: 0.002\n"
          ]
        },
        {
          "name": "stderr",
          "output_type": "stream",
          "text": [
            "100%|██████████| 204/204 [00:02<00:00, 84.27it/s]\n"
          ]
        },
        {
          "name": "stdout",
          "output_type": "stream",
          "text": [
            "(Epoch 9/[train]) Loss:\t1.056   Accuracy: 0.557   lr: 0.002\n"
          ]
        },
        {
          "name": "stderr",
          "output_type": "stream",
          "text": [
            "100%|██████████| 51/51 [00:00<00:00, 110.94it/s]\n"
          ]
        },
        {
          "name": "stdout",
          "output_type": "stream",
          "text": [
            "(Epoch 9/[val]) Loss:\t1.080   Accuracy: 0.538   lr: 0.002\n"
          ]
        },
        {
          "name": "stderr",
          "output_type": "stream",
          "text": [
            "100%|██████████| 204/204 [00:02<00:00, 81.57it/s]\n"
          ]
        },
        {
          "name": "stdout",
          "output_type": "stream",
          "text": [
            "(Epoch 10/[train]) Loss:\t1.033   Accuracy: 0.567   lr: 0.002\n"
          ]
        },
        {
          "name": "stderr",
          "output_type": "stream",
          "text": [
            "100%|██████████| 51/51 [00:00<00:00, 112.34it/s]\n"
          ]
        },
        {
          "name": "stdout",
          "output_type": "stream",
          "text": [
            "(Epoch 10/[val]) Loss:\t1.067   Accuracy: 0.544   lr: 0.002\n"
          ]
        },
        {
          "name": "stderr",
          "output_type": "stream",
          "text": [
            "100%|██████████| 204/204 [00:02<00:00, 83.94it/s]\n"
          ]
        },
        {
          "name": "stdout",
          "output_type": "stream",
          "text": [
            "(Epoch 11/[train]) Loss:\t1.008   Accuracy: 0.580   lr: 0.0018000000000000002\n"
          ]
        },
        {
          "name": "stderr",
          "output_type": "stream",
          "text": [
            "100%|██████████| 51/51 [00:00<00:00, 110.06it/s]\n"
          ]
        },
        {
          "name": "stdout",
          "output_type": "stream",
          "text": [
            "(Epoch 11/[val]) Loss:\t1.057   Accuracy: 0.546   lr: 0.0018000000000000002\n"
          ]
        },
        {
          "name": "stderr",
          "output_type": "stream",
          "text": [
            "100%|██████████| 204/204 [00:02<00:00, 83.48it/s]\n"
          ]
        },
        {
          "name": "stdout",
          "output_type": "stream",
          "text": [
            "(Epoch 12/[train]) Loss:\t0.995   Accuracy: 0.585   lr: 0.0018000000000000002\n"
          ]
        },
        {
          "name": "stderr",
          "output_type": "stream",
          "text": [
            "100%|██████████| 51/51 [00:00<00:00, 112.09it/s]\n"
          ]
        },
        {
          "name": "stdout",
          "output_type": "stream",
          "text": [
            "(Epoch 12/[val]) Loss:\t1.049   Accuracy: 0.548   lr: 0.0018000000000000002\n"
          ]
        },
        {
          "name": "stderr",
          "output_type": "stream",
          "text": [
            "100%|██████████| 204/204 [00:02<00:00, 78.82it/s]\n"
          ]
        },
        {
          "name": "stdout",
          "output_type": "stream",
          "text": [
            "(Epoch 13/[train]) Loss:\t0.977   Accuracy: 0.592   lr: 0.0018000000000000002\n"
          ]
        },
        {
          "name": "stderr",
          "output_type": "stream",
          "text": [
            "100%|██████████| 51/51 [00:00<00:00, 113.43it/s]\n"
          ]
        },
        {
          "name": "stdout",
          "output_type": "stream",
          "text": [
            "(Epoch 13/[val]) Loss:\t1.041   Accuracy: 0.554   lr: 0.0018000000000000002\n"
          ]
        },
        {
          "name": "stderr",
          "output_type": "stream",
          "text": [
            "100%|██████████| 204/204 [00:02<00:00, 81.95it/s]\n"
          ]
        },
        {
          "name": "stdout",
          "output_type": "stream",
          "text": [
            "(Epoch 14/[train]) Loss:\t0.961   Accuracy: 0.600   lr: 0.0018000000000000002\n"
          ]
        },
        {
          "name": "stderr",
          "output_type": "stream",
          "text": [
            "100%|██████████| 51/51 [00:00<00:00, 108.29it/s]\n"
          ]
        },
        {
          "name": "stdout",
          "output_type": "stream",
          "text": [
            "(Epoch 14/[val]) Loss:\t1.036   Accuracy: 0.553   lr: 0.0018000000000000002\n"
          ]
        },
        {
          "name": "stderr",
          "output_type": "stream",
          "text": [
            "100%|██████████| 204/204 [00:02<00:00, 85.02it/s]\n"
          ]
        },
        {
          "name": "stdout",
          "output_type": "stream",
          "text": [
            "(Epoch 15/[train]) Loss:\t0.947   Accuracy: 0.609   lr: 0.0018000000000000002\n"
          ]
        },
        {
          "name": "stderr",
          "output_type": "stream",
          "text": [
            "100%|██████████| 51/51 [00:00<00:00, 89.39it/s]\n"
          ]
        },
        {
          "name": "stdout",
          "output_type": "stream",
          "text": [
            "(Epoch 15/[val]) Loss:\t1.031   Accuracy: 0.557   lr: 0.0018000000000000002\n"
          ]
        },
        {
          "name": "stderr",
          "output_type": "stream",
          "text": [
            "100%|██████████| 204/204 [00:02<00:00, 81.66it/s]\n"
          ]
        },
        {
          "name": "stdout",
          "output_type": "stream",
          "text": [
            "(Epoch 16/[train]) Loss:\t0.933   Accuracy: 0.611   lr: 0.0018000000000000002\n"
          ]
        },
        {
          "name": "stderr",
          "output_type": "stream",
          "text": [
            "100%|██████████| 51/51 [00:00<00:00, 113.44it/s]\n"
          ]
        },
        {
          "name": "stdout",
          "output_type": "stream",
          "text": [
            "(Epoch 16/[val]) Loss:\t1.027   Accuracy: 0.558   lr: 0.0018000000000000002\n"
          ]
        },
        {
          "name": "stderr",
          "output_type": "stream",
          "text": [
            "100%|██████████| 204/204 [00:02<00:00, 77.47it/s]\n"
          ]
        },
        {
          "name": "stdout",
          "output_type": "stream",
          "text": [
            "(Epoch 17/[train]) Loss:\t0.919   Accuracy: 0.619   lr: 0.0018000000000000002\n"
          ]
        },
        {
          "name": "stderr",
          "output_type": "stream",
          "text": [
            "100%|██████████| 51/51 [00:00<00:00, 108.07it/s]\n"
          ]
        },
        {
          "name": "stdout",
          "output_type": "stream",
          "text": [
            "(Epoch 17/[val]) Loss:\t1.024   Accuracy: 0.561   lr: 0.0018000000000000002\n"
          ]
        },
        {
          "name": "stderr",
          "output_type": "stream",
          "text": [
            "100%|██████████| 204/204 [00:02<00:00, 83.32it/s]\n"
          ]
        },
        {
          "name": "stdout",
          "output_type": "stream",
          "text": [
            "(Epoch 18/[train]) Loss:\t0.906   Accuracy: 0.626   lr: 0.0018000000000000002\n"
          ]
        },
        {
          "name": "stderr",
          "output_type": "stream",
          "text": [
            "100%|██████████| 51/51 [00:00<00:00, 113.88it/s]\n"
          ]
        },
        {
          "name": "stdout",
          "output_type": "stream",
          "text": [
            "(Epoch 18/[val]) Loss:\t1.020   Accuracy: 0.560   lr: 0.0018000000000000002\n"
          ]
        },
        {
          "name": "stderr",
          "output_type": "stream",
          "text": [
            "100%|██████████| 204/204 [00:02<00:00, 85.14it/s]\n"
          ]
        },
        {
          "name": "stdout",
          "output_type": "stream",
          "text": [
            "(Epoch 19/[train]) Loss:\t0.891   Accuracy: 0.631   lr: 0.0018000000000000002\n"
          ]
        },
        {
          "name": "stderr",
          "output_type": "stream",
          "text": [
            "100%|██████████| 51/51 [00:00<00:00, 114.31it/s]\n"
          ]
        },
        {
          "name": "stdout",
          "output_type": "stream",
          "text": [
            "(Epoch 19/[val]) Loss:\t1.019   Accuracy: 0.560   lr: 0.0018000000000000002\n"
          ]
        },
        {
          "name": "stderr",
          "output_type": "stream",
          "text": [
            "100%|██████████| 204/204 [00:02<00:00, 84.19it/s]\n"
          ]
        },
        {
          "name": "stdout",
          "output_type": "stream",
          "text": [
            "(Epoch 20/[train]) Loss:\t0.879   Accuracy: 0.637   lr: 0.0018000000000000002\n"
          ]
        },
        {
          "name": "stderr",
          "output_type": "stream",
          "text": [
            "100%|██████████| 51/51 [00:00<00:00, 108.84it/s]\n"
          ]
        },
        {
          "name": "stdout",
          "output_type": "stream",
          "text": [
            "(Epoch 20/[val]) Loss:\t1.017   Accuracy: 0.563   lr: 0.0018000000000000002\n"
          ]
        },
        {
          "name": "stderr",
          "output_type": "stream",
          "text": [
            "100%|██████████| 204/204 [00:02<00:00, 81.58it/s]\n"
          ]
        },
        {
          "name": "stdout",
          "output_type": "stream",
          "text": [
            "(Epoch 21/[train]) Loss:\t0.868   Accuracy: 0.644   lr: 0.0016200000000000001\n"
          ]
        },
        {
          "name": "stderr",
          "output_type": "stream",
          "text": [
            "100%|██████████| 51/51 [00:00<00:00, 114.79it/s]\n"
          ]
        },
        {
          "name": "stdout",
          "output_type": "stream",
          "text": [
            "(Epoch 21/[val]) Loss:\t1.016   Accuracy: 0.563   lr: 0.0016200000000000001\n"
          ]
        },
        {
          "name": "stderr",
          "output_type": "stream",
          "text": [
            "100%|██████████| 204/204 [00:02<00:00, 85.27it/s]\n"
          ]
        },
        {
          "name": "stdout",
          "output_type": "stream",
          "text": [
            "(Epoch 22/[train]) Loss:\t0.853   Accuracy: 0.651   lr: 0.0016200000000000001\n"
          ]
        },
        {
          "name": "stderr",
          "output_type": "stream",
          "text": [
            "100%|██████████| 51/51 [00:00<00:00, 84.93it/s]\n"
          ]
        },
        {
          "name": "stdout",
          "output_type": "stream",
          "text": [
            "(Epoch 22/[val]) Loss:\t1.016   Accuracy: 0.562   lr: 0.0016200000000000001\n"
          ]
        },
        {
          "name": "stderr",
          "output_type": "stream",
          "text": [
            "100%|██████████| 204/204 [00:02<00:00, 80.88it/s]\n"
          ]
        },
        {
          "name": "stdout",
          "output_type": "stream",
          "text": [
            "(Epoch 23/[train]) Loss:\t0.843   Accuracy: 0.657   lr: 0.0016200000000000001\n"
          ]
        },
        {
          "name": "stderr",
          "output_type": "stream",
          "text": [
            "100%|██████████| 51/51 [00:00<00:00, 107.16it/s]\n"
          ]
        },
        {
          "name": "stdout",
          "output_type": "stream",
          "text": [
            "(Epoch 23/[val]) Loss:\t1.016   Accuracy: 0.560   lr: 0.0016200000000000001\n"
          ]
        },
        {
          "name": "stderr",
          "output_type": "stream",
          "text": [
            "100%|██████████| 204/204 [00:02<00:00, 85.73it/s]\n"
          ]
        },
        {
          "name": "stdout",
          "output_type": "stream",
          "text": [
            "(Epoch 24/[train]) Loss:\t0.834   Accuracy: 0.658   lr: 0.0016200000000000001\n"
          ]
        },
        {
          "name": "stderr",
          "output_type": "stream",
          "text": [
            "100%|██████████| 51/51 [00:00<00:00, 112.40it/s]\n"
          ]
        },
        {
          "name": "stdout",
          "output_type": "stream",
          "text": [
            "(Epoch 24/[val]) Loss:\t1.018   Accuracy: 0.558   lr: 0.0016200000000000001\n"
          ]
        },
        {
          "name": "stderr",
          "output_type": "stream",
          "text": [
            "100%|██████████| 204/204 [00:02<00:00, 84.95it/s]\n"
          ]
        },
        {
          "name": "stdout",
          "output_type": "stream",
          "text": [
            "(Epoch 25/[train]) Loss:\t0.821   Accuracy: 0.668   lr: 0.0016200000000000001\n"
          ]
        },
        {
          "name": "stderr",
          "output_type": "stream",
          "text": [
            "100%|██████████| 51/51 [00:00<00:00, 109.98it/s]\n"
          ]
        },
        {
          "name": "stdout",
          "output_type": "stream",
          "text": [
            "(Epoch 25/[val]) Loss:\t1.016   Accuracy: 0.564   lr: 0.0016200000000000001\n"
          ]
        },
        {
          "name": "stderr",
          "output_type": "stream",
          "text": [
            "100%|██████████| 204/204 [00:02<00:00, 86.06it/s]\n"
          ]
        },
        {
          "name": "stdout",
          "output_type": "stream",
          "text": [
            "(Epoch 26/[train]) Loss:\t0.813   Accuracy: 0.669   lr: 0.0016200000000000001\n"
          ]
        },
        {
          "name": "stderr",
          "output_type": "stream",
          "text": [
            "100%|██████████| 51/51 [00:00<00:00, 113.63it/s]\n"
          ]
        },
        {
          "name": "stdout",
          "output_type": "stream",
          "text": [
            "(Epoch 26/[val]) Loss:\t1.016   Accuracy: 0.562   lr: 0.0016200000000000001\n"
          ]
        },
        {
          "name": "stderr",
          "output_type": "stream",
          "text": [
            "100%|██████████| 204/204 [00:02<00:00, 86.80it/s]\n"
          ]
        },
        {
          "name": "stdout",
          "output_type": "stream",
          "text": [
            "(Epoch 27/[train]) Loss:\t0.802   Accuracy: 0.674   lr: 0.0016200000000000001\n"
          ]
        },
        {
          "name": "stderr",
          "output_type": "stream",
          "text": [
            "100%|██████████| 51/51 [00:00<00:00, 113.50it/s]\n"
          ]
        },
        {
          "name": "stdout",
          "output_type": "stream",
          "text": [
            "(Epoch 27/[val]) Loss:\t1.019   Accuracy: 0.559   lr: 0.0016200000000000001\n"
          ]
        },
        {
          "name": "stderr",
          "output_type": "stream",
          "text": [
            "100%|██████████| 204/204 [00:02<00:00, 84.08it/s]\n"
          ]
        },
        {
          "name": "stdout",
          "output_type": "stream",
          "text": [
            "(Epoch 28/[train]) Loss:\t0.790   Accuracy: 0.680   lr: 0.0016200000000000001\n"
          ]
        },
        {
          "name": "stderr",
          "output_type": "stream",
          "text": [
            "100%|██████████| 51/51 [00:00<00:00, 111.19it/s]\n"
          ]
        },
        {
          "name": "stdout",
          "output_type": "stream",
          "text": [
            "(Epoch 28/[val]) Loss:\t1.018   Accuracy: 0.562   lr: 0.0016200000000000001\n"
          ]
        },
        {
          "name": "stderr",
          "output_type": "stream",
          "text": [
            "100%|██████████| 204/204 [00:02<00:00, 84.51it/s]\n"
          ]
        },
        {
          "name": "stdout",
          "output_type": "stream",
          "text": [
            "(Epoch 29/[train]) Loss:\t0.781   Accuracy: 0.686   lr: 0.0016200000000000001\n"
          ]
        },
        {
          "name": "stderr",
          "output_type": "stream",
          "text": [
            "100%|██████████| 51/51 [00:00<00:00, 97.26it/s]\n"
          ]
        },
        {
          "name": "stdout",
          "output_type": "stream",
          "text": [
            "(Epoch 29/[val]) Loss:\t1.020   Accuracy: 0.562   lr: 0.0016200000000000001\n"
          ]
        },
        {
          "name": "stderr",
          "output_type": "stream",
          "text": [
            "100%|██████████| 204/204 [00:02<00:00, 78.63it/s]\n"
          ]
        },
        {
          "name": "stdout",
          "output_type": "stream",
          "text": [
            "(Epoch 30/[train]) Loss:\t0.768   Accuracy: 0.692   lr: 0.0016200000000000001\n"
          ]
        },
        {
          "name": "stderr",
          "output_type": "stream",
          "text": [
            "100%|██████████| 51/51 [00:00<00:00, 103.01it/s]\n"
          ]
        },
        {
          "name": "stdout",
          "output_type": "stream",
          "text": [
            "(Epoch 30/[val]) Loss:\t1.021   Accuracy: 0.562   lr: 0.0016200000000000001\n"
          ]
        },
        {
          "name": "stderr",
          "output_type": "stream",
          "text": [
            "100%|██████████| 204/204 [00:02<00:00, 95.32it/s] \n"
          ]
        },
        {
          "name": "stdout",
          "output_type": "stream",
          "text": [
            "(Epoch 31/[train]) Loss:\t0.754   Accuracy: 0.698   lr: 0.001458\n"
          ]
        },
        {
          "name": "stderr",
          "output_type": "stream",
          "text": [
            "100%|██████████| 51/51 [00:00<00:00, 105.92it/s]\n"
          ]
        },
        {
          "name": "stdout",
          "output_type": "stream",
          "text": [
            "(Epoch 31/[val]) Loss:\t1.023   Accuracy: 0.561   lr: 0.001458\n",
            "--------------------Early stopping--------------------\n",
            "New best model: 5_words_1-2gram with val_loss: 1.0161\n"
          ]
        },
        {
          "data": {
            "text/html": [],
            "text/plain": [
              "<IPython.core.display.HTML object>"
            ]
          },
          "metadata": {},
          "output_type": "display_data"
        },
        {
          "data": {
            "text/html": [
              "<br>    <style><br>        .wandb-row {<br>            display: flex;<br>            flex-direction: row;<br>            flex-wrap: wrap;<br>            justify-content: flex-start;<br>            width: 100%;<br>        }<br>        .wandb-col {<br>            display: flex;<br>            flex-direction: column;<br>            flex-basis: 100%;<br>            flex: 1;<br>            padding: 10px;<br>        }<br>    </style><br><div class=\"wandb-row\"><div class=\"wandb-col\"><h3>Run history:</h3><br/><table class=\"wandb\"><tr><td>train/accuracy</td><td>▁▃▄▄▅▅▅▆▆▆▆▆▆▆▇▇▇▇▇▇▇▇▇▇███████</td></tr><tr><td>train/loss</td><td>█▇▆▅▅▄▄▄▄▃▃▃▃▃▃▂▂▂▂▂▂▂▂▂▂▁▁▁▁▁▁</td></tr><tr><td>train/lr</td><td>██████████▅▅▅▅▅▅▅▅▅▅▃▃▃▃▃▃▃▃▃▃▁</td></tr><tr><td>val/accuracy</td><td>▁▄▅▆▆▆▇▇▇▇▇▇███████████████████</td></tr><tr><td>val/loss</td><td>█▆▅▄▃▃▃▂▂▂▂▁▁▁▁▁▁▁▁▁▁▁▁▁▁▁▁▁▁▁▁</td></tr><tr><td>val/lr</td><td>██████████▅▅▅▅▅▅▅▅▅▅▃▃▃▃▃▃▃▃▃▃▁</td></tr></table><br/></div><div class=\"wandb-col\"><h3>Run summary:</h3><br/><table class=\"wandb\"><tr><td>train/accuracy</td><td>0.69773</td></tr><tr><td>train/loss</td><td>0.75441</td></tr><tr><td>train/lr</td><td>0.00146</td></tr><tr><td>val/accuracy</td><td>0.56123</td></tr><tr><td>val/loss</td><td>1.02331</td></tr><tr><td>val/lr</td><td>0.00146</td></tr></table><br/></div></div>"
            ],
            "text/plain": [
              "<IPython.core.display.HTML object>"
            ]
          },
          "metadata": {},
          "output_type": "display_data"
        },
        {
          "data": {
            "text/html": [
              " View run <strong style=\"color:#cdcd00\">5_words_1-2gram</strong> at: <a href='https://wandb.ai/kacper-pt119-warsaw-university-of-technology/DifferentConfigsForVectorizer_v2/runs/ba7ml3qz' target=\"_blank\">https://wandb.ai/kacper-pt119-warsaw-university-of-technology/DifferentConfigsForVectorizer_v2/runs/ba7ml3qz</a><br> View project at: <a href='https://wandb.ai/kacper-pt119-warsaw-university-of-technology/DifferentConfigsForVectorizer_v2' target=\"_blank\">https://wandb.ai/kacper-pt119-warsaw-university-of-technology/DifferentConfigsForVectorizer_v2</a><br>Synced 5 W&B file(s), 0 media file(s), 0 artifact file(s) and 0 other file(s)"
            ],
            "text/plain": [
              "<IPython.core.display.HTML object>"
            ]
          },
          "metadata": {},
          "output_type": "display_data"
        },
        {
          "data": {
            "text/html": [
              "Find logs at: <code>.\\wandb\\run-20251017_173418-ba7ml3qz\\logs</code>"
            ],
            "text/plain": [
              "<IPython.core.display.HTML object>"
            ]
          },
          "metadata": {},
          "output_type": "display_data"
        },
        {
          "data": {
            "text/html": [],
            "text/plain": [
              "<IPython.core.display.HTML object>"
            ]
          },
          "metadata": {},
          "output_type": "display_data"
        },
        {
          "data": {
            "text/html": [
              "Tracking run with wandb version 0.22.2"
            ],
            "text/plain": [
              "<IPython.core.display.HTML object>"
            ]
          },
          "metadata": {},
          "output_type": "display_data"
        },
        {
          "data": {
            "text/html": [
              "Run data is saved locally in <code>f:\\Users\\Kacper Ptaszek\\Studia-LLM\\wandb\\run-20251017_173701-zu1d3q7j</code>"
            ],
            "text/plain": [
              "<IPython.core.display.HTML object>"
            ]
          },
          "metadata": {},
          "output_type": "display_data"
        },
        {
          "data": {
            "text/html": [
              "Syncing run <strong><a href='https://wandb.ai/kacper-pt119-warsaw-university-of-technology/DifferentConfigsForVectorizer_v2/runs/zu1d3q7j' target=\"_blank\">10_char_2-3gram</a></strong> to <a href='https://wandb.ai/kacper-pt119-warsaw-university-of-technology/DifferentConfigsForVectorizer_v2' target=\"_blank\">Weights & Biases</a> (<a href='https://wandb.me/developer-guide' target=\"_blank\">docs</a>)<br>"
            ],
            "text/plain": [
              "<IPython.core.display.HTML object>"
            ]
          },
          "metadata": {},
          "output_type": "display_data"
        },
        {
          "data": {
            "text/html": [
              " View project at <a href='https://wandb.ai/kacper-pt119-warsaw-university-of-technology/DifferentConfigsForVectorizer_v2' target=\"_blank\">https://wandb.ai/kacper-pt119-warsaw-university-of-technology/DifferentConfigsForVectorizer_v2</a>"
            ],
            "text/plain": [
              "<IPython.core.display.HTML object>"
            ]
          },
          "metadata": {},
          "output_type": "display_data"
        },
        {
          "data": {
            "text/html": [
              " View run at <a href='https://wandb.ai/kacper-pt119-warsaw-university-of-technology/DifferentConfigsForVectorizer_v2/runs/zu1d3q7j' target=\"_blank\">https://wandb.ai/kacper-pt119-warsaw-university-of-technology/DifferentConfigsForVectorizer_v2/runs/zu1d3q7j</a>"
            ],
            "text/plain": [
              "<IPython.core.display.HTML object>"
            ]
          },
          "metadata": {},
          "output_type": "display_data"
        },
        {
          "name": "stderr",
          "output_type": "stream",
          "text": [
            "100%|██████████| 204/204 [00:02<00:00, 76.71it/s]\n"
          ]
        },
        {
          "name": "stdout",
          "output_type": "stream",
          "text": [
            "(Epoch 1/[train]) Loss:\t1.478   Accuracy: 0.348   lr: 0.002\n"
          ]
        },
        {
          "name": "stderr",
          "output_type": "stream",
          "text": [
            "100%|██████████| 51/51 [00:00<00:00, 97.65it/s] \n"
          ]
        },
        {
          "name": "stdout",
          "output_type": "stream",
          "text": [
            "(Epoch 1/[val]) Loss:\t1.330   Accuracy: 0.450   lr: 0.002\n"
          ]
        },
        {
          "name": "stderr",
          "output_type": "stream",
          "text": [
            "100%|██████████| 204/204 [00:03<00:00, 57.10it/s]\n"
          ]
        },
        {
          "name": "stdout",
          "output_type": "stream",
          "text": [
            "(Epoch 2/[train]) Loss:\t1.292   Accuracy: 0.456   lr: 0.002\n"
          ]
        },
        {
          "name": "stderr",
          "output_type": "stream",
          "text": [
            "100%|██████████| 51/51 [00:00<00:00, 73.65it/s]\n"
          ]
        },
        {
          "name": "stdout",
          "output_type": "stream",
          "text": [
            "(Epoch 2/[val]) Loss:\t1.225   Accuracy: 0.489   lr: 0.002\n"
          ]
        },
        {
          "name": "stderr",
          "output_type": "stream",
          "text": [
            "100%|██████████| 204/204 [00:03<00:00, 57.75it/s]\n"
          ]
        },
        {
          "name": "stdout",
          "output_type": "stream",
          "text": [
            "(Epoch 3/[train]) Loss:\t1.199   Accuracy: 0.501   lr: 0.002\n"
          ]
        },
        {
          "name": "stderr",
          "output_type": "stream",
          "text": [
            "100%|██████████| 51/51 [00:00<00:00, 77.55it/s]\n"
          ]
        },
        {
          "name": "stdout",
          "output_type": "stream",
          "text": [
            "(Epoch 3/[val]) Loss:\t1.172   Accuracy: 0.506   lr: 0.002\n"
          ]
        },
        {
          "name": "stderr",
          "output_type": "stream",
          "text": [
            "100%|██████████| 204/204 [00:03<00:00, 59.72it/s]\n"
          ]
        },
        {
          "name": "stdout",
          "output_type": "stream",
          "text": [
            "(Epoch 4/[train]) Loss:\t1.136   Accuracy: 0.531   lr: 0.002\n"
          ]
        },
        {
          "name": "stderr",
          "output_type": "stream",
          "text": [
            "100%|██████████| 51/51 [00:00<00:00, 80.30it/s]\n"
          ]
        },
        {
          "name": "stdout",
          "output_type": "stream",
          "text": [
            "(Epoch 4/[val]) Loss:\t1.127   Accuracy: 0.521   lr: 0.002\n"
          ]
        },
        {
          "name": "stderr",
          "output_type": "stream",
          "text": [
            "100%|██████████| 204/204 [00:03<00:00, 59.52it/s]\n"
          ]
        },
        {
          "name": "stdout",
          "output_type": "stream",
          "text": [
            "(Epoch 5/[train]) Loss:\t1.092   Accuracy: 0.547   lr: 0.002\n"
          ]
        },
        {
          "name": "stderr",
          "output_type": "stream",
          "text": [
            "100%|██████████| 51/51 [00:00<00:00, 73.56it/s]\n"
          ]
        },
        {
          "name": "stdout",
          "output_type": "stream",
          "text": [
            "(Epoch 5/[val]) Loss:\t1.099   Accuracy: 0.532   lr: 0.002\n"
          ]
        },
        {
          "name": "stderr",
          "output_type": "stream",
          "text": [
            "100%|██████████| 204/204 [00:03<00:00, 59.48it/s]\n"
          ]
        },
        {
          "name": "stdout",
          "output_type": "stream",
          "text": [
            "(Epoch 6/[train]) Loss:\t1.055   Accuracy: 0.564   lr: 0.002\n"
          ]
        },
        {
          "name": "stderr",
          "output_type": "stream",
          "text": [
            "100%|██████████| 51/51 [00:00<00:00, 79.28it/s]\n"
          ]
        },
        {
          "name": "stdout",
          "output_type": "stream",
          "text": [
            "(Epoch 6/[val]) Loss:\t1.075   Accuracy: 0.539   lr: 0.002\n"
          ]
        },
        {
          "name": "stderr",
          "output_type": "stream",
          "text": [
            "100%|██████████| 204/204 [00:03<00:00, 56.18it/s]\n"
          ]
        },
        {
          "name": "stdout",
          "output_type": "stream",
          "text": [
            "(Epoch 7/[train]) Loss:\t1.022   Accuracy: 0.579   lr: 0.002\n"
          ]
        },
        {
          "name": "stderr",
          "output_type": "stream",
          "text": [
            "100%|██████████| 51/51 [00:00<00:00, 77.32it/s]\n"
          ]
        },
        {
          "name": "stdout",
          "output_type": "stream",
          "text": [
            "(Epoch 7/[val]) Loss:\t1.059   Accuracy: 0.547   lr: 0.002\n"
          ]
        },
        {
          "name": "stderr",
          "output_type": "stream",
          "text": [
            "100%|██████████| 204/204 [00:03<00:00, 59.72it/s]\n"
          ]
        },
        {
          "name": "stdout",
          "output_type": "stream",
          "text": [
            "(Epoch 8/[train]) Loss:\t0.994   Accuracy: 0.594   lr: 0.002\n"
          ]
        },
        {
          "name": "stderr",
          "output_type": "stream",
          "text": [
            "100%|██████████| 51/51 [00:00<00:00, 78.41it/s]\n"
          ]
        },
        {
          "name": "stdout",
          "output_type": "stream",
          "text": [
            "(Epoch 8/[val]) Loss:\t1.046   Accuracy: 0.549   lr: 0.002\n"
          ]
        },
        {
          "name": "stderr",
          "output_type": "stream",
          "text": [
            "100%|██████████| 204/204 [00:03<00:00, 56.27it/s]\n"
          ]
        },
        {
          "name": "stdout",
          "output_type": "stream",
          "text": [
            "(Epoch 9/[train]) Loss:\t0.969   Accuracy: 0.602   lr: 0.002\n"
          ]
        },
        {
          "name": "stderr",
          "output_type": "stream",
          "text": [
            "100%|██████████| 51/51 [00:00<00:00, 78.66it/s]\n"
          ]
        },
        {
          "name": "stdout",
          "output_type": "stream",
          "text": [
            "(Epoch 9/[val]) Loss:\t1.037   Accuracy: 0.557   lr: 0.002\n"
          ]
        },
        {
          "name": "stderr",
          "output_type": "stream",
          "text": [
            "100%|██████████| 204/204 [00:04<00:00, 49.35it/s]\n"
          ]
        },
        {
          "name": "stdout",
          "output_type": "stream",
          "text": [
            "(Epoch 10/[train]) Loss:\t0.945   Accuracy: 0.617   lr: 0.002\n"
          ]
        },
        {
          "name": "stderr",
          "output_type": "stream",
          "text": [
            "100%|██████████| 51/51 [00:00<00:00, 59.80it/s]\n"
          ]
        },
        {
          "name": "stdout",
          "output_type": "stream",
          "text": [
            "(Epoch 10/[val]) Loss:\t1.028   Accuracy: 0.555   lr: 0.002\n"
          ]
        },
        {
          "name": "stderr",
          "output_type": "stream",
          "text": [
            "100%|██████████| 204/204 [00:03<00:00, 57.58it/s]\n"
          ]
        },
        {
          "name": "stdout",
          "output_type": "stream",
          "text": [
            "(Epoch 11/[train]) Loss:\t0.920   Accuracy: 0.627   lr: 0.0018000000000000002\n"
          ]
        },
        {
          "name": "stderr",
          "output_type": "stream",
          "text": [
            "100%|██████████| 51/51 [00:00<00:00, 78.79it/s]\n"
          ]
        },
        {
          "name": "stdout",
          "output_type": "stream",
          "text": [
            "(Epoch 11/[val]) Loss:\t1.023   Accuracy: 0.556   lr: 0.0018000000000000002\n"
          ]
        },
        {
          "name": "stderr",
          "output_type": "stream",
          "text": [
            "100%|██████████| 204/204 [00:03<00:00, 59.04it/s]\n"
          ]
        },
        {
          "name": "stdout",
          "output_type": "stream",
          "text": [
            "(Epoch 12/[train]) Loss:\t0.902   Accuracy: 0.636   lr: 0.0018000000000000002\n"
          ]
        },
        {
          "name": "stderr",
          "output_type": "stream",
          "text": [
            "100%|██████████| 51/51 [00:00<00:00, 79.61it/s]\n"
          ]
        },
        {
          "name": "stdout",
          "output_type": "stream",
          "text": [
            "(Epoch 12/[val]) Loss:\t1.018   Accuracy: 0.560   lr: 0.0018000000000000002\n"
          ]
        },
        {
          "name": "stderr",
          "output_type": "stream",
          "text": [
            "100%|██████████| 204/204 [00:03<00:00, 58.86it/s]\n"
          ]
        },
        {
          "name": "stdout",
          "output_type": "stream",
          "text": [
            "(Epoch 13/[train]) Loss:\t0.883   Accuracy: 0.643   lr: 0.0018000000000000002\n"
          ]
        },
        {
          "name": "stderr",
          "output_type": "stream",
          "text": [
            "100%|██████████| 51/51 [00:00<00:00, 75.30it/s]\n"
          ]
        },
        {
          "name": "stdout",
          "output_type": "stream",
          "text": [
            "(Epoch 13/[val]) Loss:\t1.021   Accuracy: 0.562   lr: 0.0018000000000000002\n"
          ]
        },
        {
          "name": "stderr",
          "output_type": "stream",
          "text": [
            "100%|██████████| 204/204 [00:03<00:00, 58.66it/s]\n"
          ]
        },
        {
          "name": "stdout",
          "output_type": "stream",
          "text": [
            "(Epoch 14/[train]) Loss:\t0.867   Accuracy: 0.652   lr: 0.0018000000000000002\n"
          ]
        },
        {
          "name": "stderr",
          "output_type": "stream",
          "text": [
            "100%|██████████| 51/51 [00:00<00:00, 81.05it/s]\n"
          ]
        },
        {
          "name": "stdout",
          "output_type": "stream",
          "text": [
            "(Epoch 14/[val]) Loss:\t1.009   Accuracy: 0.565   lr: 0.0018000000000000002\n"
          ]
        },
        {
          "name": "stderr",
          "output_type": "stream",
          "text": [
            "100%|██████████| 204/204 [00:03<00:00, 56.80it/s]\n"
          ]
        },
        {
          "name": "stdout",
          "output_type": "stream",
          "text": [
            "(Epoch 15/[train]) Loss:\t0.847   Accuracy: 0.663   lr: 0.0018000000000000002\n"
          ]
        },
        {
          "name": "stderr",
          "output_type": "stream",
          "text": [
            "100%|██████████| 51/51 [00:00<00:00, 77.60it/s]\n"
          ]
        },
        {
          "name": "stdout",
          "output_type": "stream",
          "text": [
            "(Epoch 15/[val]) Loss:\t1.006   Accuracy: 0.563   lr: 0.0018000000000000002\n"
          ]
        },
        {
          "name": "stderr",
          "output_type": "stream",
          "text": [
            "100%|██████████| 204/204 [00:03<00:00, 59.29it/s]\n"
          ]
        },
        {
          "name": "stdout",
          "output_type": "stream",
          "text": [
            "(Epoch 16/[train]) Loss:\t0.829   Accuracy: 0.671   lr: 0.0018000000000000002\n"
          ]
        },
        {
          "name": "stderr",
          "output_type": "stream",
          "text": [
            "100%|██████████| 51/51 [00:00<00:00, 82.45it/s]\n"
          ]
        },
        {
          "name": "stdout",
          "output_type": "stream",
          "text": [
            "(Epoch 16/[val]) Loss:\t1.006   Accuracy: 0.562   lr: 0.0018000000000000002\n"
          ]
        },
        {
          "name": "stderr",
          "output_type": "stream",
          "text": [
            "100%|██████████| 204/204 [00:03<00:00, 58.57it/s]\n"
          ]
        },
        {
          "name": "stdout",
          "output_type": "stream",
          "text": [
            "(Epoch 17/[train]) Loss:\t0.808   Accuracy: 0.682   lr: 0.0018000000000000002\n"
          ]
        },
        {
          "name": "stderr",
          "output_type": "stream",
          "text": [
            "100%|██████████| 51/51 [00:00<00:00, 78.19it/s]\n"
          ]
        },
        {
          "name": "stdout",
          "output_type": "stream",
          "text": [
            "(Epoch 17/[val]) Loss:\t1.007   Accuracy: 0.562   lr: 0.0018000000000000002\n"
          ]
        },
        {
          "name": "stderr",
          "output_type": "stream",
          "text": [
            "100%|██████████| 204/204 [00:03<00:00, 59.09it/s]\n"
          ]
        },
        {
          "name": "stdout",
          "output_type": "stream",
          "text": [
            "(Epoch 18/[train]) Loss:\t0.794   Accuracy: 0.686   lr: 0.0018000000000000002\n"
          ]
        },
        {
          "name": "stderr",
          "output_type": "stream",
          "text": [
            "100%|██████████| 51/51 [00:00<00:00, 79.05it/s]\n"
          ]
        },
        {
          "name": "stdout",
          "output_type": "stream",
          "text": [
            "(Epoch 18/[val]) Loss:\t1.010   Accuracy: 0.561   lr: 0.0018000000000000002\n"
          ]
        },
        {
          "name": "stderr",
          "output_type": "stream",
          "text": [
            "100%|██████████| 204/204 [00:03<00:00, 56.32it/s]\n"
          ]
        },
        {
          "name": "stdout",
          "output_type": "stream",
          "text": [
            "(Epoch 19/[train]) Loss:\t0.774   Accuracy: 0.697   lr: 0.0018000000000000002\n"
          ]
        },
        {
          "name": "stderr",
          "output_type": "stream",
          "text": [
            "100%|██████████| 51/51 [00:01<00:00, 41.71it/s]\n"
          ]
        },
        {
          "name": "stdout",
          "output_type": "stream",
          "text": [
            "(Epoch 19/[val]) Loss:\t1.009   Accuracy: 0.562   lr: 0.0018000000000000002\n"
          ]
        },
        {
          "name": "stderr",
          "output_type": "stream",
          "text": [
            "100%|██████████| 204/204 [00:03<00:00, 55.77it/s]\n"
          ]
        },
        {
          "name": "stdout",
          "output_type": "stream",
          "text": [
            "(Epoch 20/[train]) Loss:\t0.761   Accuracy: 0.702   lr: 0.0018000000000000002\n"
          ]
        },
        {
          "name": "stderr",
          "output_type": "stream",
          "text": [
            "100%|██████████| 51/51 [00:00<00:00, 75.16it/s]\n"
          ]
        },
        {
          "name": "stdout",
          "output_type": "stream",
          "text": [
            "(Epoch 20/[val]) Loss:\t1.016   Accuracy: 0.560   lr: 0.0018000000000000002\n"
          ]
        },
        {
          "name": "stderr",
          "output_type": "stream",
          "text": [
            "100%|██████████| 204/204 [00:03<00:00, 56.93it/s]\n"
          ]
        },
        {
          "name": "stdout",
          "output_type": "stream",
          "text": [
            "(Epoch 21/[train]) Loss:\t0.740   Accuracy: 0.715   lr: 0.0016200000000000001\n"
          ]
        },
        {
          "name": "stderr",
          "output_type": "stream",
          "text": [
            "100%|██████████| 51/51 [00:00<00:00, 84.13it/s]\n"
          ]
        },
        {
          "name": "stdout",
          "output_type": "stream",
          "text": [
            "(Epoch 21/[val]) Loss:\t1.014   Accuracy: 0.560   lr: 0.0016200000000000001\n",
            "--------------------Early stopping--------------------\n",
            "New best model: 10_char_2-3gram with val_loss: 1.0055\n"
          ]
        },
        {
          "data": {
            "text/html": [],
            "text/plain": [
              "<IPython.core.display.HTML object>"
            ]
          },
          "metadata": {},
          "output_type": "display_data"
        },
        {
          "data": {
            "text/html": [
              "<br>    <style><br>        .wandb-row {<br>            display: flex;<br>            flex-direction: row;<br>            flex-wrap: wrap;<br>            justify-content: flex-start;<br>            width: 100%;<br>        }<br>        .wandb-col {<br>            display: flex;<br>            flex-direction: column;<br>            flex-basis: 100%;<br>            flex: 1;<br>            padding: 10px;<br>        }<br>    </style><br><div class=\"wandb-row\"><div class=\"wandb-col\"><h3>Run history:</h3><br/><table class=\"wandb\"><tr><td>train/accuracy</td><td>▁▃▄▄▅▅▅▆▆▆▆▆▇▇▇▇▇▇███</td></tr><tr><td>train/loss</td><td>█▆▅▅▄▄▄▃▃▃▃▃▂▂▂▂▂▂▁▁▁</td></tr><tr><td>train/lr</td><td>██████████▄▄▄▄▄▄▄▄▄▄▁</td></tr><tr><td>val/accuracy</td><td>▁▃▄▅▆▆▇▇█▇▇██████████</td></tr><tr><td>val/loss</td><td>█▆▅▄▃▂▂▂▂▁▁▁▁▁▁▁▁▁▁▁▁</td></tr><tr><td>val/lr</td><td>██████████▄▄▄▄▄▄▄▄▄▄▁</td></tr></table><br/></div><div class=\"wandb-col\"><h3>Run summary:</h3><br/><table class=\"wandb\"><tr><td>train/accuracy</td><td>0.71544</td></tr><tr><td>train/loss</td><td>0.74005</td></tr><tr><td>train/lr</td><td>0.00162</td></tr><tr><td>val/accuracy</td><td>0.55977</td></tr><tr><td>val/loss</td><td>1.0137</td></tr><tr><td>val/lr</td><td>0.00162</td></tr></table><br/></div></div>"
            ],
            "text/plain": [
              "<IPython.core.display.HTML object>"
            ]
          },
          "metadata": {},
          "output_type": "display_data"
        },
        {
          "data": {
            "text/html": [
              " View run <strong style=\"color:#cdcd00\">10_char_2-3gram</strong> at: <a href='https://wandb.ai/kacper-pt119-warsaw-university-of-technology/DifferentConfigsForVectorizer_v2/runs/zu1d3q7j' target=\"_blank\">https://wandb.ai/kacper-pt119-warsaw-university-of-technology/DifferentConfigsForVectorizer_v2/runs/zu1d3q7j</a><br> View project at: <a href='https://wandb.ai/kacper-pt119-warsaw-university-of-technology/DifferentConfigsForVectorizer_v2' target=\"_blank\">https://wandb.ai/kacper-pt119-warsaw-university-of-technology/DifferentConfigsForVectorizer_v2</a><br>Synced 5 W&B file(s), 0 media file(s), 0 artifact file(s) and 0 other file(s)"
            ],
            "text/plain": [
              "<IPython.core.display.HTML object>"
            ]
          },
          "metadata": {},
          "output_type": "display_data"
        },
        {
          "data": {
            "text/html": [
              "Find logs at: <code>.\\wandb\\run-20251017_173701-zu1d3q7j\\logs</code>"
            ],
            "text/plain": [
              "<IPython.core.display.HTML object>"
            ]
          },
          "metadata": {},
          "output_type": "display_data"
        },
        {
          "data": {
            "text/html": [],
            "text/plain": [
              "<IPython.core.display.HTML object>"
            ]
          },
          "metadata": {},
          "output_type": "display_data"
        },
        {
          "data": {
            "text/html": [
              "Tracking run with wandb version 0.22.2"
            ],
            "text/plain": [
              "<IPython.core.display.HTML object>"
            ]
          },
          "metadata": {},
          "output_type": "display_data"
        },
        {
          "data": {
            "text/html": [
              "Run data is saved locally in <code>f:\\Users\\Kacper Ptaszek\\Studia-LLM\\wandb\\run-20251017_173946-w06hcnlb</code>"
            ],
            "text/plain": [
              "<IPython.core.display.HTML object>"
            ]
          },
          "metadata": {},
          "output_type": "display_data"
        },
        {
          "data": {
            "text/html": [
              "Syncing run <strong><a href='https://wandb.ai/kacper-pt119-warsaw-university-of-technology/DifferentConfigsForVectorizer_v2/runs/w06hcnlb' target=\"_blank\">5_char_2-3gram</a></strong> to <a href='https://wandb.ai/kacper-pt119-warsaw-university-of-technology/DifferentConfigsForVectorizer_v2' target=\"_blank\">Weights & Biases</a> (<a href='https://wandb.me/developer-guide' target=\"_blank\">docs</a>)<br>"
            ],
            "text/plain": [
              "<IPython.core.display.HTML object>"
            ]
          },
          "metadata": {},
          "output_type": "display_data"
        },
        {
          "data": {
            "text/html": [
              " View project at <a href='https://wandb.ai/kacper-pt119-warsaw-university-of-technology/DifferentConfigsForVectorizer_v2' target=\"_blank\">https://wandb.ai/kacper-pt119-warsaw-university-of-technology/DifferentConfigsForVectorizer_v2</a>"
            ],
            "text/plain": [
              "<IPython.core.display.HTML object>"
            ]
          },
          "metadata": {},
          "output_type": "display_data"
        },
        {
          "data": {
            "text/html": [
              " View run at <a href='https://wandb.ai/kacper-pt119-warsaw-university-of-technology/DifferentConfigsForVectorizer_v2/runs/w06hcnlb' target=\"_blank\">https://wandb.ai/kacper-pt119-warsaw-university-of-technology/DifferentConfigsForVectorizer_v2/runs/w06hcnlb</a>"
            ],
            "text/plain": [
              "<IPython.core.display.HTML object>"
            ]
          },
          "metadata": {},
          "output_type": "display_data"
        },
        {
          "name": "stderr",
          "output_type": "stream",
          "text": [
            "100%|██████████| 204/204 [00:02<00:00, 73.90it/s]\n"
          ]
        },
        {
          "name": "stdout",
          "output_type": "stream",
          "text": [
            "(Epoch 1/[train]) Loss:\t1.555   Accuracy: 0.291   lr: 0.002\n"
          ]
        },
        {
          "name": "stderr",
          "output_type": "stream",
          "text": [
            "100%|██████████| 51/51 [00:00<00:00, 105.22it/s]\n"
          ]
        },
        {
          "name": "stdout",
          "output_type": "stream",
          "text": [
            "(Epoch 1/[val]) Loss:\t1.433   Accuracy: 0.391   lr: 0.002\n"
          ]
        },
        {
          "name": "stderr",
          "output_type": "stream",
          "text": [
            "100%|██████████| 204/204 [00:02<00:00, 74.59it/s]\n"
          ]
        },
        {
          "name": "stdout",
          "output_type": "stream",
          "text": [
            "(Epoch 2/[train]) Loss:\t1.395   Accuracy: 0.403   lr: 0.002\n"
          ]
        },
        {
          "name": "stderr",
          "output_type": "stream",
          "text": [
            "100%|██████████| 51/51 [00:00<00:00, 97.00it/s]\n"
          ]
        },
        {
          "name": "stdout",
          "output_type": "stream",
          "text": [
            "(Epoch 2/[val]) Loss:\t1.322   Accuracy: 0.449   lr: 0.002\n"
          ]
        },
        {
          "name": "stderr",
          "output_type": "stream",
          "text": [
            "100%|██████████| 204/204 [00:02<00:00, 82.81it/s]\n"
          ]
        },
        {
          "name": "stdout",
          "output_type": "stream",
          "text": [
            "(Epoch 3/[train]) Loss:\t1.302   Accuracy: 0.448   lr: 0.002\n"
          ]
        },
        {
          "name": "stderr",
          "output_type": "stream",
          "text": [
            "100%|██████████| 51/51 [00:00<00:00, 113.15it/s]\n"
          ]
        },
        {
          "name": "stdout",
          "output_type": "stream",
          "text": [
            "(Epoch 3/[val]) Loss:\t1.251   Accuracy: 0.480   lr: 0.002\n"
          ]
        },
        {
          "name": "stderr",
          "output_type": "stream",
          "text": [
            "100%|██████████| 204/204 [00:02<00:00, 85.04it/s]\n"
          ]
        },
        {
          "name": "stdout",
          "output_type": "stream",
          "text": [
            "(Epoch 4/[train]) Loss:\t1.233   Accuracy: 0.482   lr: 0.002\n"
          ]
        },
        {
          "name": "stderr",
          "output_type": "stream",
          "text": [
            "100%|██████████| 51/51 [00:00<00:00, 114.38it/s]\n"
          ]
        },
        {
          "name": "stdout",
          "output_type": "stream",
          "text": [
            "(Epoch 4/[val]) Loss:\t1.201   Accuracy: 0.497   lr: 0.002\n"
          ]
        },
        {
          "name": "stderr",
          "output_type": "stream",
          "text": [
            "100%|██████████| 204/204 [00:02<00:00, 83.65it/s]\n"
          ]
        },
        {
          "name": "stdout",
          "output_type": "stream",
          "text": [
            "(Epoch 5/[train]) Loss:\t1.183   Accuracy: 0.502   lr: 0.002\n"
          ]
        },
        {
          "name": "stderr",
          "output_type": "stream",
          "text": [
            "100%|██████████| 51/51 [00:00<00:00, 105.99it/s]\n"
          ]
        },
        {
          "name": "stdout",
          "output_type": "stream",
          "text": [
            "(Epoch 5/[val]) Loss:\t1.162   Accuracy: 0.513   lr: 0.002\n"
          ]
        },
        {
          "name": "stderr",
          "output_type": "stream",
          "text": [
            "100%|██████████| 204/204 [00:02<00:00, 84.84it/s]\n"
          ]
        },
        {
          "name": "stdout",
          "output_type": "stream",
          "text": [
            "(Epoch 6/[train]) Loss:\t1.146   Accuracy: 0.512   lr: 0.002\n"
          ]
        },
        {
          "name": "stderr",
          "output_type": "stream",
          "text": [
            "100%|██████████| 51/51 [00:00<00:00, 107.52it/s]\n"
          ]
        },
        {
          "name": "stdout",
          "output_type": "stream",
          "text": [
            "(Epoch 6/[val]) Loss:\t1.133   Accuracy: 0.518   lr: 0.002\n"
          ]
        },
        {
          "name": "stderr",
          "output_type": "stream",
          "text": [
            "100%|██████████| 204/204 [00:02<00:00, 71.71it/s]\n"
          ]
        },
        {
          "name": "stdout",
          "output_type": "stream",
          "text": [
            "(Epoch 7/[train]) Loss:\t1.111   Accuracy: 0.532   lr: 0.002\n"
          ]
        },
        {
          "name": "stderr",
          "output_type": "stream",
          "text": [
            "100%|██████████| 51/51 [00:00<00:00, 138.35it/s]\n"
          ]
        },
        {
          "name": "stdout",
          "output_type": "stream",
          "text": [
            "(Epoch 7/[val]) Loss:\t1.109   Accuracy: 0.526   lr: 0.002\n"
          ]
        },
        {
          "name": "stderr",
          "output_type": "stream",
          "text": [
            "100%|██████████| 204/204 [00:02<00:00, 78.75it/s]\n"
          ]
        },
        {
          "name": "stdout",
          "output_type": "stream",
          "text": [
            "(Epoch 8/[train]) Loss:\t1.085   Accuracy: 0.540   lr: 0.002\n"
          ]
        },
        {
          "name": "stderr",
          "output_type": "stream",
          "text": [
            "100%|██████████| 51/51 [00:00<00:00, 111.98it/s]\n"
          ]
        },
        {
          "name": "stdout",
          "output_type": "stream",
          "text": [
            "(Epoch 8/[val]) Loss:\t1.093   Accuracy: 0.531   lr: 0.002\n"
          ]
        },
        {
          "name": "stderr",
          "output_type": "stream",
          "text": [
            "100%|██████████| 204/204 [00:02<00:00, 80.63it/s]\n"
          ]
        },
        {
          "name": "stdout",
          "output_type": "stream",
          "text": [
            "(Epoch 9/[train]) Loss:\t1.061   Accuracy: 0.554   lr: 0.002\n"
          ]
        },
        {
          "name": "stderr",
          "output_type": "stream",
          "text": [
            "100%|██████████| 51/51 [00:00<00:00, 96.47it/s]\n"
          ]
        },
        {
          "name": "stdout",
          "output_type": "stream",
          "text": [
            "(Epoch 9/[val]) Loss:\t1.075   Accuracy: 0.538   lr: 0.002\n"
          ]
        },
        {
          "name": "stderr",
          "output_type": "stream",
          "text": [
            "100%|██████████| 204/204 [00:02<00:00, 83.09it/s]\n"
          ]
        },
        {
          "name": "stdout",
          "output_type": "stream",
          "text": [
            "(Epoch 10/[train]) Loss:\t1.037   Accuracy: 0.562   lr: 0.002\n"
          ]
        },
        {
          "name": "stderr",
          "output_type": "stream",
          "text": [
            "100%|██████████| 51/51 [00:00<00:00, 103.33it/s]\n"
          ]
        },
        {
          "name": "stdout",
          "output_type": "stream",
          "text": [
            "(Epoch 10/[val]) Loss:\t1.062   Accuracy: 0.543   lr: 0.002\n"
          ]
        },
        {
          "name": "stderr",
          "output_type": "stream",
          "text": [
            "100%|██████████| 204/204 [00:03<00:00, 59.59it/s]\n"
          ]
        },
        {
          "name": "stdout",
          "output_type": "stream",
          "text": [
            "(Epoch 11/[train]) Loss:\t1.020   Accuracy: 0.572   lr: 0.0018000000000000002\n"
          ]
        },
        {
          "name": "stderr",
          "output_type": "stream",
          "text": [
            "100%|██████████| 51/51 [00:00<00:00, 106.38it/s]\n"
          ]
        },
        {
          "name": "stdout",
          "output_type": "stream",
          "text": [
            "(Epoch 11/[val]) Loss:\t1.052   Accuracy: 0.544   lr: 0.0018000000000000002\n"
          ]
        },
        {
          "name": "stderr",
          "output_type": "stream",
          "text": [
            "100%|██████████| 204/204 [00:02<00:00, 78.82it/s]\n"
          ]
        },
        {
          "name": "stdout",
          "output_type": "stream",
          "text": [
            "(Epoch 12/[train]) Loss:\t1.004   Accuracy: 0.577   lr: 0.0018000000000000002\n"
          ]
        },
        {
          "name": "stderr",
          "output_type": "stream",
          "text": [
            "100%|██████████| 51/51 [00:00<00:00, 109.59it/s]\n"
          ]
        },
        {
          "name": "stdout",
          "output_type": "stream",
          "text": [
            "(Epoch 12/[val]) Loss:\t1.045   Accuracy: 0.548   lr: 0.0018000000000000002\n"
          ]
        },
        {
          "name": "stderr",
          "output_type": "stream",
          "text": [
            "100%|██████████| 204/204 [00:02<00:00, 87.52it/s]\n"
          ]
        },
        {
          "name": "stdout",
          "output_type": "stream",
          "text": [
            "(Epoch 13/[train]) Loss:\t0.990   Accuracy: 0.586   lr: 0.0018000000000000002\n"
          ]
        },
        {
          "name": "stderr",
          "output_type": "stream",
          "text": [
            "100%|██████████| 51/51 [00:00<00:00, 113.88it/s]\n"
          ]
        },
        {
          "name": "stdout",
          "output_type": "stream",
          "text": [
            "(Epoch 13/[val]) Loss:\t1.042   Accuracy: 0.549   lr: 0.0018000000000000002\n"
          ]
        },
        {
          "name": "stderr",
          "output_type": "stream",
          "text": [
            "100%|██████████| 204/204 [00:02<00:00, 88.38it/s]\n"
          ]
        },
        {
          "name": "stdout",
          "output_type": "stream",
          "text": [
            "(Epoch 14/[train]) Loss:\t0.978   Accuracy: 0.589   lr: 0.0018000000000000002\n"
          ]
        },
        {
          "name": "stderr",
          "output_type": "stream",
          "text": [
            "100%|██████████| 51/51 [00:00<00:00, 114.99it/s]\n"
          ]
        },
        {
          "name": "stdout",
          "output_type": "stream",
          "text": [
            "(Epoch 14/[val]) Loss:\t1.032   Accuracy: 0.554   lr: 0.0018000000000000002\n"
          ]
        },
        {
          "name": "stderr",
          "output_type": "stream",
          "text": [
            "100%|██████████| 204/204 [00:02<00:00, 91.32it/s]\n"
          ]
        },
        {
          "name": "stdout",
          "output_type": "stream",
          "text": [
            "(Epoch 15/[train]) Loss:\t0.966   Accuracy: 0.596   lr: 0.0018000000000000002\n"
          ]
        },
        {
          "name": "stderr",
          "output_type": "stream",
          "text": [
            "100%|██████████| 51/51 [00:00<00:00, 124.06it/s]\n"
          ]
        },
        {
          "name": "stdout",
          "output_type": "stream",
          "text": [
            "(Epoch 15/[val]) Loss:\t1.026   Accuracy: 0.557   lr: 0.0018000000000000002\n"
          ]
        },
        {
          "name": "stderr",
          "output_type": "stream",
          "text": [
            "100%|██████████| 204/204 [00:02<00:00, 96.14it/s]\n"
          ]
        },
        {
          "name": "stdout",
          "output_type": "stream",
          "text": [
            "(Epoch 16/[train]) Loss:\t0.954   Accuracy: 0.601   lr: 0.0018000000000000002\n"
          ]
        },
        {
          "name": "stderr",
          "output_type": "stream",
          "text": [
            "100%|██████████| 51/51 [00:00<00:00, 124.88it/s]\n"
          ]
        },
        {
          "name": "stdout",
          "output_type": "stream",
          "text": [
            "(Epoch 16/[val]) Loss:\t1.021   Accuracy: 0.559   lr: 0.0018000000000000002\n"
          ]
        },
        {
          "name": "stderr",
          "output_type": "stream",
          "text": [
            "100%|██████████| 204/204 [00:02<00:00, 89.04it/s]\n"
          ]
        },
        {
          "name": "stdout",
          "output_type": "stream",
          "text": [
            "(Epoch 17/[train]) Loss:\t0.939   Accuracy: 0.607   lr: 0.0018000000000000002\n"
          ]
        },
        {
          "name": "stderr",
          "output_type": "stream",
          "text": [
            "100%|██████████| 51/51 [00:00<00:00, 127.75it/s]\n"
          ]
        },
        {
          "name": "stdout",
          "output_type": "stream",
          "text": [
            "(Epoch 17/[val]) Loss:\t1.018   Accuracy: 0.560   lr: 0.0018000000000000002\n"
          ]
        },
        {
          "name": "stderr",
          "output_type": "stream",
          "text": [
            "100%|██████████| 204/204 [00:02<00:00, 95.62it/s]\n"
          ]
        },
        {
          "name": "stdout",
          "output_type": "stream",
          "text": [
            "(Epoch 18/[train]) Loss:\t0.928   Accuracy: 0.613   lr: 0.0018000000000000002\n"
          ]
        },
        {
          "name": "stderr",
          "output_type": "stream",
          "text": [
            "100%|██████████| 51/51 [00:00<00:00, 127.67it/s]\n"
          ]
        },
        {
          "name": "stdout",
          "output_type": "stream",
          "text": [
            "(Epoch 18/[val]) Loss:\t1.016   Accuracy: 0.561   lr: 0.0018000000000000002\n"
          ]
        },
        {
          "name": "stderr",
          "output_type": "stream",
          "text": [
            "100%|██████████| 204/204 [00:02<00:00, 93.85it/s]\n"
          ]
        },
        {
          "name": "stdout",
          "output_type": "stream",
          "text": [
            "(Epoch 19/[train]) Loss:\t0.918   Accuracy: 0.617   lr: 0.0018000000000000002\n"
          ]
        },
        {
          "name": "stderr",
          "output_type": "stream",
          "text": [
            "100%|██████████| 51/51 [00:00<00:00, 125.70it/s]\n"
          ]
        },
        {
          "name": "stdout",
          "output_type": "stream",
          "text": [
            "(Epoch 19/[val]) Loss:\t1.011   Accuracy: 0.563   lr: 0.0018000000000000002\n"
          ]
        },
        {
          "name": "stderr",
          "output_type": "stream",
          "text": [
            "100%|██████████| 204/204 [00:02<00:00, 95.66it/s]\n"
          ]
        },
        {
          "name": "stdout",
          "output_type": "stream",
          "text": [
            "(Epoch 20/[train]) Loss:\t0.905   Accuracy: 0.625   lr: 0.0018000000000000002\n"
          ]
        },
        {
          "name": "stderr",
          "output_type": "stream",
          "text": [
            "100%|██████████| 51/51 [00:00<00:00, 131.30it/s]\n"
          ]
        },
        {
          "name": "stdout",
          "output_type": "stream",
          "text": [
            "(Epoch 20/[val]) Loss:\t1.013   Accuracy: 0.560   lr: 0.0018000000000000002\n"
          ]
        },
        {
          "name": "stderr",
          "output_type": "stream",
          "text": [
            "100%|██████████| 204/204 [00:02<00:00, 95.70it/s]\n"
          ]
        },
        {
          "name": "stdout",
          "output_type": "stream",
          "text": [
            "(Epoch 21/[train]) Loss:\t0.896   Accuracy: 0.627   lr: 0.0016200000000000001\n"
          ]
        },
        {
          "name": "stderr",
          "output_type": "stream",
          "text": [
            "100%|██████████| 51/51 [00:00<00:00, 127.90it/s]\n"
          ]
        },
        {
          "name": "stdout",
          "output_type": "stream",
          "text": [
            "(Epoch 21/[val]) Loss:\t1.007   Accuracy: 0.566   lr: 0.0016200000000000001\n"
          ]
        },
        {
          "name": "stderr",
          "output_type": "stream",
          "text": [
            "100%|██████████| 204/204 [00:02<00:00, 96.13it/s]\n"
          ]
        },
        {
          "name": "stdout",
          "output_type": "stream",
          "text": [
            "(Epoch 22/[train]) Loss:\t0.885   Accuracy: 0.633   lr: 0.0016200000000000001\n"
          ]
        },
        {
          "name": "stderr",
          "output_type": "stream",
          "text": [
            "100%|██████████| 51/51 [00:00<00:00, 126.53it/s]\n"
          ]
        },
        {
          "name": "stdout",
          "output_type": "stream",
          "text": [
            "(Epoch 22/[val]) Loss:\t1.005   Accuracy: 0.566   lr: 0.0016200000000000001\n"
          ]
        },
        {
          "name": "stderr",
          "output_type": "stream",
          "text": [
            "100%|██████████| 204/204 [00:02<00:00, 93.47it/s]\n"
          ]
        },
        {
          "name": "stdout",
          "output_type": "stream",
          "text": [
            "(Epoch 23/[train]) Loss:\t0.876   Accuracy: 0.637   lr: 0.0016200000000000001\n"
          ]
        },
        {
          "name": "stderr",
          "output_type": "stream",
          "text": [
            "100%|██████████| 51/51 [00:00<00:00, 127.81it/s]\n"
          ]
        },
        {
          "name": "stdout",
          "output_type": "stream",
          "text": [
            "(Epoch 23/[val]) Loss:\t1.004   Accuracy: 0.565   lr: 0.0016200000000000001\n"
          ]
        },
        {
          "name": "stderr",
          "output_type": "stream",
          "text": [
            "100%|██████████| 204/204 [00:02<00:00, 94.71it/s]\n"
          ]
        },
        {
          "name": "stdout",
          "output_type": "stream",
          "text": [
            "(Epoch 24/[train]) Loss:\t0.867   Accuracy: 0.641   lr: 0.0016200000000000001\n"
          ]
        },
        {
          "name": "stderr",
          "output_type": "stream",
          "text": [
            "100%|██████████| 51/51 [00:00<00:00, 129.03it/s]\n"
          ]
        },
        {
          "name": "stdout",
          "output_type": "stream",
          "text": [
            "(Epoch 24/[val]) Loss:\t1.004   Accuracy: 0.565   lr: 0.0016200000000000001\n"
          ]
        },
        {
          "name": "stderr",
          "output_type": "stream",
          "text": [
            "100%|██████████| 204/204 [00:02<00:00, 92.99it/s]\n"
          ]
        },
        {
          "name": "stdout",
          "output_type": "stream",
          "text": [
            "(Epoch 25/[train]) Loss:\t0.857   Accuracy: 0.648   lr: 0.0016200000000000001\n"
          ]
        },
        {
          "name": "stderr",
          "output_type": "stream",
          "text": [
            "100%|██████████| 51/51 [00:00<00:00, 124.80it/s]\n"
          ]
        },
        {
          "name": "stdout",
          "output_type": "stream",
          "text": [
            "(Epoch 25/[val]) Loss:\t1.011   Accuracy: 0.557   lr: 0.0016200000000000001\n"
          ]
        },
        {
          "name": "stderr",
          "output_type": "stream",
          "text": [
            "100%|██████████| 204/204 [00:02<00:00, 93.99it/s]\n"
          ]
        },
        {
          "name": "stdout",
          "output_type": "stream",
          "text": [
            "(Epoch 26/[train]) Loss:\t0.849   Accuracy: 0.648   lr: 0.0016200000000000001\n"
          ]
        },
        {
          "name": "stderr",
          "output_type": "stream",
          "text": [
            "100%|██████████| 51/51 [00:00<00:00, 128.59it/s]\n"
          ]
        },
        {
          "name": "stdout",
          "output_type": "stream",
          "text": [
            "(Epoch 26/[val]) Loss:\t1.001   Accuracy: 0.566   lr: 0.0016200000000000001\n"
          ]
        },
        {
          "name": "stderr",
          "output_type": "stream",
          "text": [
            "100%|██████████| 204/204 [00:02<00:00, 88.93it/s]\n"
          ]
        },
        {
          "name": "stdout",
          "output_type": "stream",
          "text": [
            "(Epoch 27/[train]) Loss:\t0.841   Accuracy: 0.655   lr: 0.0016200000000000001\n"
          ]
        },
        {
          "name": "stderr",
          "output_type": "stream",
          "text": [
            "100%|██████████| 51/51 [00:00<00:00, 119.52it/s]\n"
          ]
        },
        {
          "name": "stdout",
          "output_type": "stream",
          "text": [
            "(Epoch 27/[val]) Loss:\t1.004   Accuracy: 0.566   lr: 0.0016200000000000001\n"
          ]
        },
        {
          "name": "stderr",
          "output_type": "stream",
          "text": [
            "100%|██████████| 204/204 [00:02<00:00, 93.53it/s]\n"
          ]
        },
        {
          "name": "stdout",
          "output_type": "stream",
          "text": [
            "(Epoch 28/[train]) Loss:\t0.827   Accuracy: 0.661   lr: 0.0016200000000000001\n"
          ]
        },
        {
          "name": "stderr",
          "output_type": "stream",
          "text": [
            "100%|██████████| 51/51 [00:00<00:00, 114.42it/s]\n"
          ]
        },
        {
          "name": "stdout",
          "output_type": "stream",
          "text": [
            "(Epoch 28/[val]) Loss:\t1.003   Accuracy: 0.563   lr: 0.0016200000000000001\n"
          ]
        },
        {
          "name": "stderr",
          "output_type": "stream",
          "text": [
            "100%|██████████| 204/204 [00:02<00:00, 91.60it/s]\n"
          ]
        },
        {
          "name": "stdout",
          "output_type": "stream",
          "text": [
            "(Epoch 29/[train]) Loss:\t0.819   Accuracy: 0.664   lr: 0.0016200000000000001\n"
          ]
        },
        {
          "name": "stderr",
          "output_type": "stream",
          "text": [
            "100%|██████████| 51/51 [00:00<00:00, 108.03it/s]\n"
          ]
        },
        {
          "name": "stdout",
          "output_type": "stream",
          "text": [
            "(Epoch 29/[val]) Loss:\t1.000   Accuracy: 0.564   lr: 0.0016200000000000001\n"
          ]
        },
        {
          "name": "stderr",
          "output_type": "stream",
          "text": [
            "100%|██████████| 204/204 [00:02<00:00, 82.12it/s]\n"
          ]
        },
        {
          "name": "stdout",
          "output_type": "stream",
          "text": [
            "(Epoch 30/[train]) Loss:\t0.812   Accuracy: 0.667   lr: 0.0016200000000000001\n"
          ]
        },
        {
          "name": "stderr",
          "output_type": "stream",
          "text": [
            "100%|██████████| 51/51 [00:00<00:00, 114.91it/s]\n"
          ]
        },
        {
          "name": "stdout",
          "output_type": "stream",
          "text": [
            "(Epoch 30/[val]) Loss:\t1.000   Accuracy: 0.566   lr: 0.0016200000000000001\n"
          ]
        },
        {
          "name": "stderr",
          "output_type": "stream",
          "text": [
            "100%|██████████| 204/204 [00:02<00:00, 78.74it/s]\n"
          ]
        },
        {
          "name": "stdout",
          "output_type": "stream",
          "text": [
            "(Epoch 31/[train]) Loss:\t0.801   Accuracy: 0.672   lr: 0.001458\n"
          ]
        },
        {
          "name": "stderr",
          "output_type": "stream",
          "text": [
            "100%|██████████| 51/51 [00:00<00:00, 103.83it/s]\n"
          ]
        },
        {
          "name": "stdout",
          "output_type": "stream",
          "text": [
            "(Epoch 31/[val]) Loss:\t1.000   Accuracy: 0.564   lr: 0.001458\n"
          ]
        },
        {
          "name": "stderr",
          "output_type": "stream",
          "text": [
            "100%|██████████| 204/204 [00:02<00:00, 83.65it/s]\n"
          ]
        },
        {
          "name": "stdout",
          "output_type": "stream",
          "text": [
            "(Epoch 32/[train]) Loss:\t0.794   Accuracy: 0.676   lr: 0.001458\n"
          ]
        },
        {
          "name": "stderr",
          "output_type": "stream",
          "text": [
            "100%|██████████| 51/51 [00:00<00:00, 98.75it/s]\n"
          ]
        },
        {
          "name": "stdout",
          "output_type": "stream",
          "text": [
            "(Epoch 32/[val]) Loss:\t1.001   Accuracy: 0.564   lr: 0.001458\n"
          ]
        },
        {
          "name": "stderr",
          "output_type": "stream",
          "text": [
            "100%|██████████| 204/204 [00:02<00:00, 79.25it/s]\n"
          ]
        },
        {
          "name": "stdout",
          "output_type": "stream",
          "text": [
            "(Epoch 33/[train]) Loss:\t0.785   Accuracy: 0.680   lr: 0.001458\n"
          ]
        },
        {
          "name": "stderr",
          "output_type": "stream",
          "text": [
            "100%|██████████| 51/51 [00:00<00:00, 110.01it/s]\n"
          ]
        },
        {
          "name": "stdout",
          "output_type": "stream",
          "text": [
            "(Epoch 33/[val]) Loss:\t1.003   Accuracy: 0.562   lr: 0.001458\n"
          ]
        },
        {
          "name": "stderr",
          "output_type": "stream",
          "text": [
            "100%|██████████| 204/204 [00:02<00:00, 76.63it/s]\n"
          ]
        },
        {
          "name": "stdout",
          "output_type": "stream",
          "text": [
            "(Epoch 34/[train]) Loss:\t0.780   Accuracy: 0.684   lr: 0.001458\n"
          ]
        },
        {
          "name": "stderr",
          "output_type": "stream",
          "text": [
            "100%|██████████| 51/51 [00:00<00:00, 68.21it/s]\n"
          ]
        },
        {
          "name": "stdout",
          "output_type": "stream",
          "text": [
            "(Epoch 34/[val]) Loss:\t1.004   Accuracy: 0.562   lr: 0.001458\n"
          ]
        },
        {
          "name": "stderr",
          "output_type": "stream",
          "text": [
            "100%|██████████| 204/204 [00:02<00:00, 74.28it/s]\n"
          ]
        },
        {
          "name": "stdout",
          "output_type": "stream",
          "text": [
            "(Epoch 35/[train]) Loss:\t0.772   Accuracy: 0.689   lr: 0.001458\n"
          ]
        },
        {
          "name": "stderr",
          "output_type": "stream",
          "text": [
            "100%|██████████| 51/51 [00:00<00:00, 117.30it/s]\n"
          ]
        },
        {
          "name": "stdout",
          "output_type": "stream",
          "text": [
            "(Epoch 35/[val]) Loss:\t1.014   Accuracy: 0.560   lr: 0.001458\n",
            "--------------------Early stopping--------------------\n",
            "New best model: 5_char_2-3gram with val_loss: 1.0000\n"
          ]
        },
        {
          "data": {
            "text/html": [],
            "text/plain": [
              "<IPython.core.display.HTML object>"
            ]
          },
          "metadata": {},
          "output_type": "display_data"
        },
        {
          "data": {
            "text/html": [
              "<br>    <style><br>        .wandb-row {<br>            display: flex;<br>            flex-direction: row;<br>            flex-wrap: wrap;<br>            justify-content: flex-start;<br>            width: 100%;<br>        }<br>        .wandb-col {<br>            display: flex;<br>            flex-direction: column;<br>            flex-basis: 100%;<br>            flex: 1;<br>            padding: 10px;<br>        }<br>    </style><br><div class=\"wandb-row\"><div class=\"wandb-col\"><h3>Run history:</h3><br/><table class=\"wandb\"><tr><td>train/accuracy</td><td>▁▃▄▄▅▅▅▅▆▆▆▆▆▆▆▆▇▇▇▇▇▇▇▇▇▇▇████████</td></tr><tr><td>train/loss</td><td>█▇▆▅▅▄▄▄▄▃▃▃▃▃▃▃▂▂▂▂▂▂▂▂▂▂▂▁▁▁▁▁▁▁▁</td></tr><tr><td>train/lr</td><td>██████████▅▅▅▅▅▅▅▅▅▅▃▃▃▃▃▃▃▃▃▃▁▁▁▁▁</td></tr><tr><td>val/accuracy</td><td>▁▃▅▅▆▆▆▇▇▇▇▇▇██████████████████████</td></tr><tr><td>val/loss</td><td>█▆▅▄▄▃▃▃▂▂▂▂▂▂▁▁▁▁▁▁▁▁▁▁▁▁▁▁▁▁▁▁▁▁▁</td></tr><tr><td>val/lr</td><td>██████████▅▅▅▅▅▅▅▅▅▅▃▃▃▃▃▃▃▃▃▃▁▁▁▁▁</td></tr></table><br/></div><div class=\"wandb-col\"><h3>Run summary:</h3><br/><table class=\"wandb\"><tr><td>train/accuracy</td><td>0.68927</td></tr><tr><td>train/loss</td><td>0.77231</td></tr><tr><td>train/lr</td><td>0.00146</td></tr><tr><td>val/accuracy</td><td>0.56023</td></tr><tr><td>val/loss</td><td>1.0145</td></tr><tr><td>val/lr</td><td>0.00146</td></tr></table><br/></div></div>"
            ],
            "text/plain": [
              "<IPython.core.display.HTML object>"
            ]
          },
          "metadata": {},
          "output_type": "display_data"
        },
        {
          "data": {
            "text/html": [
              " View run <strong style=\"color:#cdcd00\">5_char_2-3gram</strong> at: <a href='https://wandb.ai/kacper-pt119-warsaw-university-of-technology/DifferentConfigsForVectorizer_v2/runs/w06hcnlb' target=\"_blank\">https://wandb.ai/kacper-pt119-warsaw-university-of-technology/DifferentConfigsForVectorizer_v2/runs/w06hcnlb</a><br> View project at: <a href='https://wandb.ai/kacper-pt119-warsaw-university-of-technology/DifferentConfigsForVectorizer_v2' target=\"_blank\">https://wandb.ai/kacper-pt119-warsaw-university-of-technology/DifferentConfigsForVectorizer_v2</a><br>Synced 5 W&B file(s), 0 media file(s), 0 artifact file(s) and 0 other file(s)"
            ],
            "text/plain": [
              "<IPython.core.display.HTML object>"
            ]
          },
          "metadata": {},
          "output_type": "display_data"
        },
        {
          "data": {
            "text/html": [
              "Find logs at: <code>.\\wandb\\run-20251017_173946-w06hcnlb\\logs</code>"
            ],
            "text/plain": [
              "<IPython.core.display.HTML object>"
            ]
          },
          "metadata": {},
          "output_type": "display_data"
        },
        {
          "name": "stdout",
          "output_type": "stream",
          "text": [
            "\n",
            "============================================================\n",
            "BEST MODEL: 5_char_2-3gram\n",
            "Best validation loss: 1.0000\n",
            "Configuration: {'vocab_size': 5000, 'analyzer': 'char', 'ngram_range': (2, 3), 'name': '5_char_2-3gram'}\n",
            "============================================================\n",
            "\n"
          ]
        }
      ],
      "source": [
        "# Different TfidfVectorizer configs\n",
        "\n",
        "configs = [\n",
        "    {\"vocab_size\" : 10000,\"analyzer\": \"word\", \"ngram_range\": (1, 1), \"name\": \"10_words_1gram\"},\n",
        "    {\"vocab_size\" : 10000, \"analyzer\": \"word\", \"ngram_range\": (1, 2), \"name\": \"10_words_1-2gram\"},\n",
        "    {\"vocab_size\" : 5000,\"analyzer\": \"word\", \"ngram_range\": (1, 1), \"name\": \"5_words_1gram\"},\n",
        "    {\"vocab_size\" : 5000, \"analyzer\": \"word\", \"ngram_range\": (1, 2), \"name\": \"5_words_1-2gram\"},\n",
        "    {\"vocab_size\" : 10000, \"analyzer\": \"char\", \"ngram_range\": (2, 3), \"name\": \"10_char_2-3gram\"},\n",
        "    {\"vocab_size\" : 5000, \"analyzer\": \"char\", \"ngram_range\": (2, 3), \"name\": \"5_char_2-3gram\"}\n",
        "]\n",
        "num_epochs=40\n",
        "\n",
        "the_best_model_state = None\n",
        "the_best_model_config = None\n",
        "the_best_val_loss = float(\"inf\")\n",
        "for con in configs:\n",
        "    vectorizer = TfidfVectorizer(\n",
        "        max_features=con[\"vocab_size\"],\n",
        "        analyzer=con[\"analyzer\"],\n",
        "        ngram_range=con[\"ngram_range\"],\n",
        "        stop_words=\"english\" if con[\"analyzer\"] == \"word\" else None\n",
        "    )\n",
        "\n",
        "    train_tfidf_features = vectorizer.fit_transform(train_dataset[\"text\"])\n",
        "    val_tfidf_features = vectorizer.transform(val_dataset[\"text\"])\n",
        "    test_tfidf_features = vectorizer.transform(test_dataset[\"text\"])\n",
        "\n",
        "    datasets = {\n",
        "    \"train\": make_dataset(train_tfidf_features, train_dataset[\"label\"]),\n",
        "    \"val\": make_dataset(val_tfidf_features, val_dataset[\"label\"]),\n",
        "    \"test\": make_dataset(test_tfidf_features, test_dataset[\"label\"])\n",
        "    }\n",
        "\n",
        "    train_loader = DataLoader(datasets[\"train\"], shuffle=True, batch_size=256)\n",
        "    val_loader = DataLoader(datasets[\"val\"], shuffle=False, batch_size=256)\n",
        "    test_loader = DataLoader(datasets[\"test\"], shuffle=False, batch_size=256)\n",
        "\n",
        "    loaders = {\"train\" : train_loader,\n",
        "               \"val\": val_loader,\n",
        "               \"test\": test_loader}\n",
        "\n",
        "    model = MediumNet(con[\"vocab_size\"], 5)\n",
        "    model = model.to(device)\n",
        "    optimizer = torch.optim.SGD(model.parameters(), lr=2e-3, weight_decay=1e-4)\n",
        "    lr_scheduler = torch.optim.lr_scheduler.StepLR(optimizer, step_size=10, gamma=0.9)\n",
        "    run = wandb.init(\n",
        "        project=\"DifferentConfigsForVectorizer_v2\",\n",
        "        name=con[\"name\"],\n",
        "        config={\n",
        "            \"model\": con[\"name\"],\n",
        "            \"vocab_size\": con[\"vocab_size\"],\n",
        "            \"analyzer\": con[\"analyzer\"],\n",
        "            \"ngram\": con[\"ngram_range\"],\n",
        "            \"num_classes\": 5,\n",
        "            \"optimizer\": \"SGD\",\n",
        "            \"lr\": 2e-3,\n",
        "            \"weight_decay\": 1e-4,\n",
        "            \"scheduler\": \"StepLR\",\n",
        "            \"step\": 10,\n",
        "            \"gamma\": 0.9,\n",
        "            \"num_epochs\": num_epochs\n",
        "        }\n",
        "    )\n",
        "    train(model, loaders, criterion, optimizer, lr_scheduler, num_epochs, device)\n",
        "    \n",
        "    # Evaluate on validation set to get final validation loss\n",
        "    model.eval()\n",
        "    metric_loss = torchmetrics.aggregation.MeanMetric().to(device)\n",
        "    with torch.inference_mode():\n",
        "        for X_batch, target in loaders[\"val\"]:\n",
        "            X_batch, target = X_batch.to(device), target.to(device)\n",
        "            logits = model(X_batch)\n",
        "            loss = criterion(logits, target)\n",
        "            metric_loss(loss)\n",
        "    \n",
        "    final_val_loss = metric_loss.compute().item()\n",
        "    \n",
        "    if final_val_loss < the_best_val_loss:\n",
        "        the_best_val_loss = final_val_loss\n",
        "        the_best_model_config = con.copy()\n",
        "        print(f\"New best model: {con['name']} with val_loss: {final_val_loss:.4f}\")\n",
        "    \n",
        "    run.finish()\n",
        "\n",
        "    del train_tfidf_features, val_tfidf_features, test_tfidf_features\n",
        "    del datasets, train_loader, val_loader, test_loader, loaders\n",
        "    del model, optimizer, lr_scheduler, metric_loss\n",
        "    del vectorizer\n",
        "    \n",
        "    if torch.cuda.is_available():\n",
        "        torch.cuda.empty_cache()\n",
        "\n",
        "print(f\"\\n{'='*60}\")\n",
        "print(f\"BEST MODEL: {the_best_model_config['name']}\")\n",
        "print(f\"Best validation loss: {the_best_val_loss:.4f}\")\n",
        "print(f\"Configuration: {the_best_model_config}\")\n",
        "print(f\"{'='*60}\\n\")"
      ]
    }
  ],
  "metadata": {
    "accelerator": "GPU",
    "colab": {
      "gpuType": "T4",
      "provenance": [],
      "toc_visible": true
    },
    "kernelspec": {
      "display_name": "Python 3",
      "name": "python3"
    },
    "language_info": {
      "codemirror_mode": {
        "name": "ipython",
        "version": 3
      },
      "file_extension": ".py",
      "mimetype": "text/x-python",
      "name": "python",
      "nbconvert_exporter": "python",
      "pygments_lexer": "ipython3",
      "version": "3.12.8"
    }
  },
  "nbformat": 4,
  "nbformat_minor": 0
}
